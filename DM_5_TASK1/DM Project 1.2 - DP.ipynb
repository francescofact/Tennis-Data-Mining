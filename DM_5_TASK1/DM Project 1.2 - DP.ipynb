{
 "cells": [
  {
   "cell_type": "markdown",
   "id": "2b45d008-c60a-4ba0-8c10-7ddaf85e9483",
   "metadata": {},
   "source": [
    "# Data Mining Project 2021 - Data Preparation"
   ]
  },
  {
   "cell_type": "markdown",
   "id": "a38d7942-c29a-44cb-adc9-3300ab67e445",
   "metadata": {},
   "source": [
    "## Dataset Loading"
   ]
  },
  {
   "cell_type": "markdown",
   "id": "01631ccd-e62a-461b-b8be-81e530ff7409",
   "metadata": {},
   "source": [
    "Loading dataset exported by the Data Understanding phase:"
   ]
  },
  {
   "cell_type": "code",
   "execution_count": 2,
   "id": "f7caef7b-7416-4439-b4c8-120d4c0fb352",
   "metadata": {},
   "outputs": [],
   "source": [
    "%matplotlib inline\n",
    "import math\n",
    "import numpy as np\n",
    "import pandas as pd\n",
    "import scipy.stats as stats\n",
    "import matplotlib.pyplot as plt\n",
    "import re\n",
    "\n",
    "from collections import defaultdict\n",
    "from scipy.stats.stats import pearsonr\n",
    "\n",
    "pd.options.display.max_columns = None\n",
    "\n",
    "df = pd.read_csv('DU_matches.csv', sep=',', index_col=0)\n",
    "df_female = pd.read_csv('DU_female_players.csv', sep=',', index_col=False)\n",
    "df_male = pd.read_csv('DU_male_players.csv', sep=',', index_col=False)"
   ]
  },
  {
   "cell_type": "markdown",
   "id": "efb020b7-6044-4a58-834b-9508c5b4b003",
   "metadata": {},
   "source": [
    "### fix_based_on_tourney_id(column)"
   ]
  },
  {
   "cell_type": "markdown",
   "id": "dbfdafdb-5dad-4eac-8e7f-70f2177dc708",
   "metadata": {},
   "source": [
    "This function fixes NaN values specified in *column* with NON-NaN values of the same *column* in rows where tourney_id is equal. "
   ]
  },
  {
   "cell_type": "code",
   "execution_count": 3,
   "id": "4c9d6d73-2a76-4a5b-864c-7f909096f934",
   "metadata": {},
   "outputs": [],
   "source": [
    "def fix_based_on_tourney_id(column):\n",
    "    edited_rows = 0\n",
    "    \n",
    "    # take tourney_ids where column is null and tourney_id is defined\n",
    "    tourney_ids = list(df[(df[column].isnull()) & (df[\"tourney_id\"].notnull())][\"tourney_id\"].unique())\n",
    "    # if there are no rows with these constraints return\n",
    "    if (len(tourney_ids) == 1 and tourney_ids[0] == np.nan):\n",
    "        print(\"no ids with {} == NaN were found.\".format(column))\n",
    "        return edited_rows\n",
    "    \n",
    "    # for each tourney_id take the column value if there is at lesta NON null value\n",
    "    # and replace it in all the rows that have the same tourney_id and a column == NaN\n",
    "    for tourney_id in tourney_ids:\n",
    "        tourney_id_column = df[df[\"tourney_id\"] == tourney_id][column].unique()\n",
    "        if (len(tourney_id_column)!= 1):\n",
    "            edited_rows += df[(df['tourney_id'] == tourney_id) & (df[column].isnull())].shape[0]\n",
    "            df.loc[(df['tourney_id'] == tourney_id) & (df[column].isnull()), column] = tourney_id_column[0]\n",
    "            \n",
    "    return edited_rows"
   ]
  },
  {
   "cell_type": "markdown",
   "id": "61972d2a-fad8-4cd5-8470-2efbe24516ad",
   "metadata": {},
   "source": [
    "### fix_based_on_id(id_column, column)"
   ]
  },
  {
   "cell_type": "markdown",
   "id": "65ce8ade-2853-42a2-9fc6-0d4f00408223",
   "metadata": {},
   "source": [
    "This function fixes NaN values specified in *column* with NON-NaN values of the same *column* in rows where values in *column_id* is equal. "
   ]
  },
  {
   "cell_type": "code",
   "execution_count": 4,
   "id": "679b1779-7ce9-4e3f-adbc-f5b331bbb621",
   "metadata": {},
   "outputs": [],
   "source": [
    "def fix_based_on_id(column_id, column):\n",
    "    edited_rows = 0\n",
    "    \n",
    "    # take values of column_id where column is null and column_id is defined\n",
    "    column_id_values = list(df[(df[column].isnull()) & (df[column_id].notnull())][column_id].unique())\n",
    "    # if there are no rows with these constraints return\n",
    "    if (len(column_id_values) == 1 and column_id_values[0] == np.nan):\n",
    "        print(\"no {} with {} == NaN were found.\".format(column_id, column))\n",
    "        return edited_rows\n",
    "    \n",
    "    # for each tourney_id take the column value if there is at lesta NON null value\n",
    "    # and replace it in all the rows that have the same tourney_id and a column == NaN\n",
    "    for column_id_value in column_id_values:\n",
    "        column_value = df[df[column_id] == column_id_value][column].unique()\n",
    "        if (len(column_value)!= 1):\n",
    "            edited_rows += df[(df[column_id] == column_id_value) & (df[column].isnull())].shape[0]\n",
    "            df.loc[(df[column_id] == column_id_value) & (df[column].isnull()), column] = column_value[0]\n",
    "            \n",
    "    return edited_rows"
   ]
  },
  {
   "cell_type": "code",
   "execution_count": 5,
   "id": "c3e177a7-2c20-40f3-b92c-44e73cb85d65",
   "metadata": {},
   "outputs": [
    {
     "name": "stdout",
     "output_type": "stream",
     "text": [
      "<class 'pandas.core.frame.DataFrame'>\n",
      "Int64Index: 185814 entries, 0 to 186127\n",
      "Data columns (total 49 columns):\n",
      " #   Column              Non-Null Count   Dtype  \n",
      "---  ------              --------------   -----  \n",
      " 0   tourney_id          185759 non-null  object \n",
      " 1   tourney_name        185789 non-null  object \n",
      " 2   surface             185626 non-null  object \n",
      " 3   draw_size           185785 non-null  float64\n",
      " 4   tourney_level       185785 non-null  object \n",
      " 5   tourney_date        185786 non-null  float64\n",
      " 6   match_num           185787 non-null  float64\n",
      " 7   winner_id           185759 non-null  float64\n",
      " 8   winner_entry        25810 non-null   object \n",
      " 9   winner_name         185787 non-null  object \n",
      " 10  winner_hand         185768 non-null  object \n",
      " 11  winner_ht           49299 non-null   float64\n",
      " 12  winner_ioc          185785 non-null  object \n",
      " 13  winner_age          182961 non-null  float64\n",
      " 14  loser_id            185786 non-null  float64\n",
      " 15  loser_entry         44087 non-null   object \n",
      " 16  loser_name          185783 non-null  object \n",
      " 17  loser_hand          185716 non-null  object \n",
      " 18  loser_ht            38327 non-null   float64\n",
      " 19  loser_ioc           185788 non-null  object \n",
      " 20  loser_age           179277 non-null  float64\n",
      " 21  score               185621 non-null  object \n",
      " 22  best_of             185785 non-null  float64\n",
      " 23  round               185784 non-null  object \n",
      " 24  minutes             81353 non-null   float64\n",
      " 25  w_ace               82003 non-null   float64\n",
      " 26  w_df                82005 non-null   float64\n",
      " 27  w_svpt              82003 non-null   float64\n",
      " 28  w_1stIn             82003 non-null   float64\n",
      " 29  w_1stWon            82005 non-null   float64\n",
      " 30  w_2ndWon            82002 non-null   float64\n",
      " 31  w_SvGms             82004 non-null   float64\n",
      " 32  w_bpSaved           82008 non-null   float64\n",
      " 33  w_bpFaced           82005 non-null   float64\n",
      " 34  l_ace               82006 non-null   float64\n",
      " 35  l_df                82012 non-null   float64\n",
      " 36  l_svpt              82008 non-null   float64\n",
      " 37  l_1stIn             81997 non-null   float64\n",
      " 38  l_1stWon            82004 non-null   float64\n",
      " 39  l_2ndWon            82005 non-null   float64\n",
      " 40  l_SvGms             82011 non-null   float64\n",
      " 41  l_bpSaved           82004 non-null   float64\n",
      " 42  l_bpFaced           81999 non-null   float64\n",
      " 43  winner_rank         166412 non-null  float64\n",
      " 44  winner_rank_points  166394 non-null  float64\n",
      " 45  loser_rank          150555 non-null  float64\n",
      " 46  loser_rank_points   150538 non-null  float64\n",
      " 47  tourney_spectators  185787 non-null  float64\n",
      " 48  tourney_revenue     185788 non-null  float64\n",
      "dtypes: float64(35), object(14)\n",
      "memory usage: 70.9+ MB\n"
     ]
    }
   ],
   "source": [
    "df.info()"
   ]
  },
  {
   "cell_type": "markdown",
   "id": "0e5177c1-1585-4bcf-ae4c-67d482fe11dc",
   "metadata": {},
   "source": [
    "# Data Preparation"
   ]
  },
  {
   "cell_type": "markdown",
   "id": "b9d954ea-d6ea-44a4-8b4d-610b8adc0d79",
   "metadata": {},
   "source": [
    "The Data Preparation phase should prepare the data for further analysis. The main goal that we want to achieve in this section is to try to populate as much data as possible and to delete data rows which containes too many NaN values. \n",
    "\n",
    "Once the phase of data cleaning is completed we will create new features for our data set."
   ]
  },
  {
   "cell_type": "markdown",
   "id": "0e2bff62-1f19-4a2b-9457-44d8223cf01c",
   "metadata": {},
   "source": [
    "### tourney_id attribute\n",
    "We found 55 missing values, we try to fix them using other rows with the same tourney_name and tourney_date"
   ]
  },
  {
   "cell_type": "code",
   "execution_count": 6,
   "id": "46377f9d-f02c-4083-9d10-51b6f16b8b95",
   "metadata": {},
   "outputs": [
    {
     "data": {
      "text/plain": [
       "38"
      ]
     },
     "execution_count": 6,
     "metadata": {},
     "output_type": "execute_result"
    }
   ],
   "source": [
    "# get tourney_id from other rows that has same _name and _date\n",
    "fixable = df[(df[\"tourney_id\"].isnull()) & (df[\"tourney_name\"].notnull()) & (df[\"tourney_date\"].notnull())]\n",
    "for idx, elem in fixable.iterrows():\n",
    "    others = df[(df[\"tourney_id\"].notnull()) & (df[\"tourney_name\"]== elem[\"tourney_name\"]) & (df[\"tourney_date\"]==elem[\"tourney_date\"])][:1]\n",
    "    elem[\"tourney_id\"] = others[\"tourney_id\"].values[0]\n",
    "    df.loc[idx, 'tourney_id'] = others[\"tourney_id\"].values[0]\n",
    "\n",
    "df[\"tourney_id\"].isnull().values.sum()"
   ]
  },
  {
   "cell_type": "code",
   "execution_count": 7,
   "id": "0bed6403-9f9d-499c-bd68-f03a2ad2f8b5",
   "metadata": {},
   "outputs": [
    {
     "data": {
      "text/html": [
       "<div>\n",
       "<style scoped>\n",
       "    .dataframe tbody tr th:only-of-type {\n",
       "        vertical-align: middle;\n",
       "    }\n",
       "\n",
       "    .dataframe tbody tr th {\n",
       "        vertical-align: top;\n",
       "    }\n",
       "\n",
       "    .dataframe thead th {\n",
       "        text-align: right;\n",
       "    }\n",
       "</style>\n",
       "<table border=\"1\" class=\"dataframe\">\n",
       "  <thead>\n",
       "    <tr style=\"text-align: right;\">\n",
       "      <th></th>\n",
       "      <th>tourney_id</th>\n",
       "      <th>tourney_name</th>\n",
       "      <th>surface</th>\n",
       "      <th>draw_size</th>\n",
       "      <th>tourney_level</th>\n",
       "      <th>tourney_date</th>\n",
       "      <th>match_num</th>\n",
       "      <th>winner_id</th>\n",
       "      <th>winner_entry</th>\n",
       "      <th>winner_name</th>\n",
       "      <th>winner_hand</th>\n",
       "      <th>winner_ht</th>\n",
       "      <th>winner_ioc</th>\n",
       "      <th>winner_age</th>\n",
       "      <th>loser_id</th>\n",
       "      <th>loser_entry</th>\n",
       "      <th>loser_name</th>\n",
       "      <th>loser_hand</th>\n",
       "      <th>loser_ht</th>\n",
       "      <th>loser_ioc</th>\n",
       "      <th>loser_age</th>\n",
       "      <th>score</th>\n",
       "      <th>best_of</th>\n",
       "      <th>round</th>\n",
       "      <th>minutes</th>\n",
       "      <th>w_ace</th>\n",
       "      <th>w_df</th>\n",
       "      <th>w_svpt</th>\n",
       "      <th>w_1stIn</th>\n",
       "      <th>w_1stWon</th>\n",
       "      <th>w_2ndWon</th>\n",
       "      <th>w_SvGms</th>\n",
       "      <th>w_bpSaved</th>\n",
       "      <th>w_bpFaced</th>\n",
       "      <th>l_ace</th>\n",
       "      <th>l_df</th>\n",
       "      <th>l_svpt</th>\n",
       "      <th>l_1stIn</th>\n",
       "      <th>l_1stWon</th>\n",
       "      <th>l_2ndWon</th>\n",
       "      <th>l_SvGms</th>\n",
       "      <th>l_bpSaved</th>\n",
       "      <th>l_bpFaced</th>\n",
       "      <th>winner_rank</th>\n",
       "      <th>winner_rank_points</th>\n",
       "      <th>loser_rank</th>\n",
       "      <th>loser_rank_points</th>\n",
       "      <th>tourney_spectators</th>\n",
       "      <th>tourney_revenue</th>\n",
       "    </tr>\n",
       "  </thead>\n",
       "  <tbody>\n",
       "    <tr>\n",
       "      <th>12023</th>\n",
       "      <td>2017-1059</td>\n",
       "      <td>Taipei</td>\n",
       "      <td>Hard</td>\n",
       "      <td>32.0</td>\n",
       "      <td>C</td>\n",
       "      <td>20171113.0</td>\n",
       "      <td>270.0</td>\n",
       "      <td>205815.0</td>\n",
       "      <td>NaN</td>\n",
       "      <td>Eri Hozumi</td>\n",
       "      <td>R</td>\n",
       "      <td>NaN</td>\n",
       "      <td>JPN</td>\n",
       "      <td>23.737166</td>\n",
       "      <td>201516.0</td>\n",
       "      <td>NaN</td>\n",
       "      <td>Evgeniya Rodina</td>\n",
       "      <td>R</td>\n",
       "      <td>NaN</td>\n",
       "      <td>RUS</td>\n",
       "      <td>28.772074</td>\n",
       "      <td>7-6(2) 6-2</td>\n",
       "      <td>3.0</td>\n",
       "      <td>R32</td>\n",
       "      <td>91.0</td>\n",
       "      <td>3.0</td>\n",
       "      <td>0.0</td>\n",
       "      <td>65.0</td>\n",
       "      <td>45.0</td>\n",
       "      <td>27.0</td>\n",
       "      <td>8.0</td>\n",
       "      <td>10.0</td>\n",
       "      <td>1.0</td>\n",
       "      <td>5.0</td>\n",
       "      <td>3.0</td>\n",
       "      <td>3.0</td>\n",
       "      <td>83.0</td>\n",
       "      <td>53.0</td>\n",
       "      <td>28.0</td>\n",
       "      <td>9.0</td>\n",
       "      <td>10.0</td>\n",
       "      <td>5.0</td>\n",
       "      <td>11.0</td>\n",
       "      <td>173.0</td>\n",
       "      <td>339.0</td>\n",
       "      <td>86.0</td>\n",
       "      <td>752.0</td>\n",
       "      <td>3535.0</td>\n",
       "      <td>638954.72</td>\n",
       "    </tr>\n",
       "    <tr>\n",
       "      <th>12024</th>\n",
       "      <td>2017-1059</td>\n",
       "      <td>Taipei</td>\n",
       "      <td>Hard</td>\n",
       "      <td>32.0</td>\n",
       "      <td>C</td>\n",
       "      <td>20171113.0</td>\n",
       "      <td>271.0</td>\n",
       "      <td>211878.0</td>\n",
       "      <td>NaN</td>\n",
       "      <td>Lizette Cabrera</td>\n",
       "      <td>R</td>\n",
       "      <td>NaN</td>\n",
       "      <td>AUS</td>\n",
       "      <td>19.901437</td>\n",
       "      <td>201506.0</td>\n",
       "      <td>NaN</td>\n",
       "      <td>Sara Errani</td>\n",
       "      <td>R</td>\n",
       "      <td>164.0</td>\n",
       "      <td>ITA</td>\n",
       "      <td>30.543463</td>\n",
       "      <td>3-6 7-5 6-2</td>\n",
       "      <td>3.0</td>\n",
       "      <td>R32</td>\n",
       "      <td>127.0</td>\n",
       "      <td>1.0</td>\n",
       "      <td>7.0</td>\n",
       "      <td>94.0</td>\n",
       "      <td>55.0</td>\n",
       "      <td>35.0</td>\n",
       "      <td>19.0</td>\n",
       "      <td>14.0</td>\n",
       "      <td>7.0</td>\n",
       "      <td>11.0</td>\n",
       "      <td>0.0</td>\n",
       "      <td>0.0</td>\n",
       "      <td>104.0</td>\n",
       "      <td>86.0</td>\n",
       "      <td>48.0</td>\n",
       "      <td>5.0</td>\n",
       "      <td>15.0</td>\n",
       "      <td>7.0</td>\n",
       "      <td>13.0</td>\n",
       "      <td>139.0</td>\n",
       "      <td>415.0</td>\n",
       "      <td>145.0</td>\n",
       "      <td>399.0</td>\n",
       "      <td>3535.0</td>\n",
       "      <td>638954.72</td>\n",
       "    </tr>\n",
       "    <tr>\n",
       "      <th>12025</th>\n",
       "      <td>2017-1059</td>\n",
       "      <td>Taipei</td>\n",
       "      <td>Hard</td>\n",
       "      <td>32.0</td>\n",
       "      <td>C</td>\n",
       "      <td>20171113.0</td>\n",
       "      <td>272.0</td>\n",
       "      <td>201551.0</td>\n",
       "      <td>NaN</td>\n",
       "      <td>Arantxa Rus</td>\n",
       "      <td>L</td>\n",
       "      <td>180.0</td>\n",
       "      <td>NED</td>\n",
       "      <td>26.918549</td>\n",
       "      <td>203567.0</td>\n",
       "      <td>NaN</td>\n",
       "      <td>Ipek Soylu</td>\n",
       "      <td>R</td>\n",
       "      <td>NaN</td>\n",
       "      <td>TUR</td>\n",
       "      <td>21.579740</td>\n",
       "      <td>7-6(4) 7-5</td>\n",
       "      <td>3.0</td>\n",
       "      <td>R32</td>\n",
       "      <td>101.0</td>\n",
       "      <td>1.0</td>\n",
       "      <td>4.0</td>\n",
       "      <td>66.0</td>\n",
       "      <td>44.0</td>\n",
       "      <td>29.0</td>\n",
       "      <td>12.0</td>\n",
       "      <td>12.0</td>\n",
       "      <td>3.0</td>\n",
       "      <td>6.0</td>\n",
       "      <td>7.0</td>\n",
       "      <td>3.0</td>\n",
       "      <td>79.0</td>\n",
       "      <td>54.0</td>\n",
       "      <td>32.0</td>\n",
       "      <td>11.0</td>\n",
       "      <td>12.0</td>\n",
       "      <td>1.0</td>\n",
       "      <td>5.0</td>\n",
       "      <td>167.0</td>\n",
       "      <td>353.0</td>\n",
       "      <td>194.0</td>\n",
       "      <td>299.0</td>\n",
       "      <td>3535.0</td>\n",
       "      <td>638954.72</td>\n",
       "    </tr>\n",
       "    <tr>\n",
       "      <th>12026</th>\n",
       "      <td>2017-1059</td>\n",
       "      <td>Taipei</td>\n",
       "      <td>Hard</td>\n",
       "      <td>32.0</td>\n",
       "      <td>C</td>\n",
       "      <td>20171113.0</td>\n",
       "      <td>273.0</td>\n",
       "      <td>201554.0</td>\n",
       "      <td>Q</td>\n",
       "      <td>Vitalia Diatchenko</td>\n",
       "      <td>R</td>\n",
       "      <td>170.0</td>\n",
       "      <td>RUS</td>\n",
       "      <td>27.282683</td>\n",
       "      <td>201518.0</td>\n",
       "      <td>NaN</td>\n",
       "      <td>Yanina Wickmayer</td>\n",
       "      <td>R</td>\n",
       "      <td>182.0</td>\n",
       "      <td>BEL</td>\n",
       "      <td>28.065708</td>\n",
       "      <td>6-2 6-3</td>\n",
       "      <td>3.0</td>\n",
       "      <td>R32</td>\n",
       "      <td>74.0</td>\n",
       "      <td>4.0</td>\n",
       "      <td>5.0</td>\n",
       "      <td>69.0</td>\n",
       "      <td>38.0</td>\n",
       "      <td>25.0</td>\n",
       "      <td>15.0</td>\n",
       "      <td>9.0</td>\n",
       "      <td>7.0</td>\n",
       "      <td>9.0</td>\n",
       "      <td>6.0</td>\n",
       "      <td>1.0</td>\n",
       "      <td>52.0</td>\n",
       "      <td>36.0</td>\n",
       "      <td>22.0</td>\n",
       "      <td>3.0</td>\n",
       "      <td>8.0</td>\n",
       "      <td>3.0</td>\n",
       "      <td>8.0</td>\n",
       "      <td>176.0</td>\n",
       "      <td>335.0</td>\n",
       "      <td>113.0</td>\n",
       "      <td>561.0</td>\n",
       "      <td>3535.0</td>\n",
       "      <td>638954.72</td>\n",
       "    </tr>\n",
       "    <tr>\n",
       "      <th>12027</th>\n",
       "      <td>2017-1059</td>\n",
       "      <td>Taipei</td>\n",
       "      <td>Hard</td>\n",
       "      <td>32.0</td>\n",
       "      <td>C</td>\n",
       "      <td>20171113.0</td>\n",
       "      <td>274.0</td>\n",
       "      <td>211684.0</td>\n",
       "      <td>NaN</td>\n",
       "      <td>Magdalena Frech</td>\n",
       "      <td>R</td>\n",
       "      <td>NaN</td>\n",
       "      <td>POL</td>\n",
       "      <td>19.912389</td>\n",
       "      <td>202684.0</td>\n",
       "      <td>NaN</td>\n",
       "      <td>Lin Zhu</td>\n",
       "      <td>R</td>\n",
       "      <td>NaN</td>\n",
       "      <td>CHN</td>\n",
       "      <td>23.791923</td>\n",
       "      <td>6-4 7-5</td>\n",
       "      <td>3.0</td>\n",
       "      <td>R32</td>\n",
       "      <td>83.0</td>\n",
       "      <td>2.0</td>\n",
       "      <td>1.0</td>\n",
       "      <td>64.0</td>\n",
       "      <td>40.0</td>\n",
       "      <td>29.0</td>\n",
       "      <td>13.0</td>\n",
       "      <td>11.0</td>\n",
       "      <td>3.0</td>\n",
       "      <td>6.0</td>\n",
       "      <td>1.0</td>\n",
       "      <td>3.0</td>\n",
       "      <td>67.0</td>\n",
       "      <td>39.0</td>\n",
       "      <td>28.0</td>\n",
       "      <td>7.0</td>\n",
       "      <td>11.0</td>\n",
       "      <td>4.0</td>\n",
       "      <td>9.0</td>\n",
       "      <td>172.0</td>\n",
       "      <td>341.0</td>\n",
       "      <td>105.0</td>\n",
       "      <td>621.0</td>\n",
       "      <td>3535.0</td>\n",
       "      <td>638954.72</td>\n",
       "    </tr>\n",
       "    <tr>\n",
       "      <th>...</th>\n",
       "      <td>...</td>\n",
       "      <td>...</td>\n",
       "      <td>...</td>\n",
       "      <td>...</td>\n",
       "      <td>...</td>\n",
       "      <td>...</td>\n",
       "      <td>...</td>\n",
       "      <td>...</td>\n",
       "      <td>...</td>\n",
       "      <td>...</td>\n",
       "      <td>...</td>\n",
       "      <td>...</td>\n",
       "      <td>...</td>\n",
       "      <td>...</td>\n",
       "      <td>...</td>\n",
       "      <td>...</td>\n",
       "      <td>...</td>\n",
       "      <td>...</td>\n",
       "      <td>...</td>\n",
       "      <td>...</td>\n",
       "      <td>...</td>\n",
       "      <td>...</td>\n",
       "      <td>...</td>\n",
       "      <td>...</td>\n",
       "      <td>...</td>\n",
       "      <td>...</td>\n",
       "      <td>...</td>\n",
       "      <td>...</td>\n",
       "      <td>...</td>\n",
       "      <td>...</td>\n",
       "      <td>...</td>\n",
       "      <td>...</td>\n",
       "      <td>...</td>\n",
       "      <td>...</td>\n",
       "      <td>...</td>\n",
       "      <td>...</td>\n",
       "      <td>...</td>\n",
       "      <td>...</td>\n",
       "      <td>...</td>\n",
       "      <td>...</td>\n",
       "      <td>...</td>\n",
       "      <td>...</td>\n",
       "      <td>...</td>\n",
       "      <td>...</td>\n",
       "      <td>...</td>\n",
       "      <td>...</td>\n",
       "      <td>...</td>\n",
       "      <td>...</td>\n",
       "      <td>...</td>\n",
       "    </tr>\n",
       "    <tr>\n",
       "      <th>186122</th>\n",
       "      <td>NaN</td>\n",
       "      <td>NaN</td>\n",
       "      <td>NaN</td>\n",
       "      <td>32.0</td>\n",
       "      <td>C</td>\n",
       "      <td>20171113.0</td>\n",
       "      <td>NaN</td>\n",
       "      <td>NaN</td>\n",
       "      <td>NaN</td>\n",
       "      <td>Priscilla Hon</td>\n",
       "      <td>NaN</td>\n",
       "      <td>NaN</td>\n",
       "      <td>AUS</td>\n",
       "      <td>19.512663</td>\n",
       "      <td>212026.0</td>\n",
       "      <td>WC</td>\n",
       "      <td>Kwan Yau Ng</td>\n",
       "      <td>NaN</td>\n",
       "      <td>NaN</td>\n",
       "      <td>HKG</td>\n",
       "      <td>NaN</td>\n",
       "      <td>NaN</td>\n",
       "      <td>NaN</td>\n",
       "      <td>Q1</td>\n",
       "      <td>NaN</td>\n",
       "      <td>3.0</td>\n",
       "      <td>4.0</td>\n",
       "      <td>59.0</td>\n",
       "      <td>NaN</td>\n",
       "      <td>23.0</td>\n",
       "      <td>NaN</td>\n",
       "      <td>9.0</td>\n",
       "      <td>NaN</td>\n",
       "      <td>NaN</td>\n",
       "      <td>7.0</td>\n",
       "      <td>4.0</td>\n",
       "      <td>58.0</td>\n",
       "      <td>31.0</td>\n",
       "      <td>21.0</td>\n",
       "      <td>NaN</td>\n",
       "      <td>8.0</td>\n",
       "      <td>8.0</td>\n",
       "      <td>NaN</td>\n",
       "      <td>NaN</td>\n",
       "      <td>NaN</td>\n",
       "      <td>NaN</td>\n",
       "      <td>8.0</td>\n",
       "      <td>NaN</td>\n",
       "      <td>638954.72</td>\n",
       "    </tr>\n",
       "    <tr>\n",
       "      <th>186123</th>\n",
       "      <td>NaN</td>\n",
       "      <td>NaN</td>\n",
       "      <td>Hard</td>\n",
       "      <td>32.0</td>\n",
       "      <td>NaN</td>\n",
       "      <td>20171113.0</td>\n",
       "      <td>250.0</td>\n",
       "      <td>NaN</td>\n",
       "      <td>NaN</td>\n",
       "      <td>NaN</td>\n",
       "      <td>NaN</td>\n",
       "      <td>NaN</td>\n",
       "      <td>NaN</td>\n",
       "      <td>26.206708</td>\n",
       "      <td>206075.0</td>\n",
       "      <td>NaN</td>\n",
       "      <td>NaN</td>\n",
       "      <td>NaN</td>\n",
       "      <td>NaN</td>\n",
       "      <td>NaN</td>\n",
       "      <td>26.904860</td>\n",
       "      <td>3-6 6-2 6-3</td>\n",
       "      <td>NaN</td>\n",
       "      <td>NaN</td>\n",
       "      <td>NaN</td>\n",
       "      <td>NaN</td>\n",
       "      <td>1.0</td>\n",
       "      <td>NaN</td>\n",
       "      <td>49.0</td>\n",
       "      <td>38.0</td>\n",
       "      <td>16.0</td>\n",
       "      <td>NaN</td>\n",
       "      <td>7.0</td>\n",
       "      <td>NaN</td>\n",
       "      <td>1.0</td>\n",
       "      <td>3.0</td>\n",
       "      <td>93.0</td>\n",
       "      <td>NaN</td>\n",
       "      <td>NaN</td>\n",
       "      <td>NaN</td>\n",
       "      <td>NaN</td>\n",
       "      <td>7.0</td>\n",
       "      <td>11.0</td>\n",
       "      <td>NaN</td>\n",
       "      <td>322.0</td>\n",
       "      <td>280.0</td>\n",
       "      <td>183.0</td>\n",
       "      <td>NaN</td>\n",
       "      <td>NaN</td>\n",
       "    </tr>\n",
       "    <tr>\n",
       "      <th>186124</th>\n",
       "      <td>2017-1059</td>\n",
       "      <td>Taipei</td>\n",
       "      <td>NaN</td>\n",
       "      <td>32.0</td>\n",
       "      <td>C</td>\n",
       "      <td>20171113.0</td>\n",
       "      <td>NaN</td>\n",
       "      <td>NaN</td>\n",
       "      <td>NaN</td>\n",
       "      <td>Veronika Kudermetova</td>\n",
       "      <td>NaN</td>\n",
       "      <td>175.0</td>\n",
       "      <td>NaN</td>\n",
       "      <td>NaN</td>\n",
       "      <td>214562.0</td>\n",
       "      <td>WC</td>\n",
       "      <td>Ingrid Neel</td>\n",
       "      <td>NaN</td>\n",
       "      <td>NaN</td>\n",
       "      <td>USA</td>\n",
       "      <td>NaN</td>\n",
       "      <td>7-6(3) 6-2</td>\n",
       "      <td>NaN</td>\n",
       "      <td>NaN</td>\n",
       "      <td>71.0</td>\n",
       "      <td>10.0</td>\n",
       "      <td>8.0</td>\n",
       "      <td>63.0</td>\n",
       "      <td>NaN</td>\n",
       "      <td>32.0</td>\n",
       "      <td>NaN</td>\n",
       "      <td>10.0</td>\n",
       "      <td>2.0</td>\n",
       "      <td>5.0</td>\n",
       "      <td>NaN</td>\n",
       "      <td>NaN</td>\n",
       "      <td>68.0</td>\n",
       "      <td>NaN</td>\n",
       "      <td>NaN</td>\n",
       "      <td>NaN</td>\n",
       "      <td>NaN</td>\n",
       "      <td>NaN</td>\n",
       "      <td>NaN</td>\n",
       "      <td>255.0</td>\n",
       "      <td>217.0</td>\n",
       "      <td>704.0</td>\n",
       "      <td>NaN</td>\n",
       "      <td>NaN</td>\n",
       "      <td>NaN</td>\n",
       "    </tr>\n",
       "    <tr>\n",
       "      <th>186126</th>\n",
       "      <td>NaN</td>\n",
       "      <td>NaN</td>\n",
       "      <td>NaN</td>\n",
       "      <td>32.0</td>\n",
       "      <td>C</td>\n",
       "      <td>20171113.0</td>\n",
       "      <td>NaN</td>\n",
       "      <td>NaN</td>\n",
       "      <td>NaN</td>\n",
       "      <td>Vitalia Diatchenko</td>\n",
       "      <td>NaN</td>\n",
       "      <td>170.0</td>\n",
       "      <td>RUS</td>\n",
       "      <td>NaN</td>\n",
       "      <td>NaN</td>\n",
       "      <td>NaN</td>\n",
       "      <td>NaN</td>\n",
       "      <td>NaN</td>\n",
       "      <td>NaN</td>\n",
       "      <td>NaN</td>\n",
       "      <td>NaN</td>\n",
       "      <td>0-6 6-2 6-4</td>\n",
       "      <td>3.0</td>\n",
       "      <td>NaN</td>\n",
       "      <td>115.0</td>\n",
       "      <td>NaN</td>\n",
       "      <td>8.0</td>\n",
       "      <td>NaN</td>\n",
       "      <td>NaN</td>\n",
       "      <td>NaN</td>\n",
       "      <td>NaN</td>\n",
       "      <td>NaN</td>\n",
       "      <td>3.0</td>\n",
       "      <td>NaN</td>\n",
       "      <td>NaN</td>\n",
       "      <td>0.0</td>\n",
       "      <td>75.0</td>\n",
       "      <td>NaN</td>\n",
       "      <td>NaN</td>\n",
       "      <td>13.0</td>\n",
       "      <td>NaN</td>\n",
       "      <td>3.0</td>\n",
       "      <td>NaN</td>\n",
       "      <td>176.0</td>\n",
       "      <td>NaN</td>\n",
       "      <td>NaN</td>\n",
       "      <td>NaN</td>\n",
       "      <td>3535.0</td>\n",
       "      <td>NaN</td>\n",
       "    </tr>\n",
       "    <tr>\n",
       "      <th>186127</th>\n",
       "      <td>2017-1059</td>\n",
       "      <td>Taipei</td>\n",
       "      <td>Hard</td>\n",
       "      <td>32.0</td>\n",
       "      <td>C</td>\n",
       "      <td>20171113.0</td>\n",
       "      <td>NaN</td>\n",
       "      <td>NaN</td>\n",
       "      <td>NaN</td>\n",
       "      <td>Priscilla Hon</td>\n",
       "      <td>NaN</td>\n",
       "      <td>NaN</td>\n",
       "      <td>AUS</td>\n",
       "      <td>19.512663</td>\n",
       "      <td>NaN</td>\n",
       "      <td>NaN</td>\n",
       "      <td>NaN</td>\n",
       "      <td>NaN</td>\n",
       "      <td>NaN</td>\n",
       "      <td>USA</td>\n",
       "      <td>NaN</td>\n",
       "      <td>6-4 6-4</td>\n",
       "      <td>NaN</td>\n",
       "      <td>NaN</td>\n",
       "      <td>NaN</td>\n",
       "      <td>NaN</td>\n",
       "      <td>NaN</td>\n",
       "      <td>NaN</td>\n",
       "      <td>NaN</td>\n",
       "      <td>NaN</td>\n",
       "      <td>NaN</td>\n",
       "      <td>NaN</td>\n",
       "      <td>NaN</td>\n",
       "      <td>6.0</td>\n",
       "      <td>8.0</td>\n",
       "      <td>NaN</td>\n",
       "      <td>NaN</td>\n",
       "      <td>43.0</td>\n",
       "      <td>25.0</td>\n",
       "      <td>9.0</td>\n",
       "      <td>10.0</td>\n",
       "      <td>4.0</td>\n",
       "      <td>8.0</td>\n",
       "      <td>NaN</td>\n",
       "      <td>NaN</td>\n",
       "      <td>181.0</td>\n",
       "      <td>322.0</td>\n",
       "      <td>3535.0</td>\n",
       "      <td>638954.72</td>\n",
       "    </tr>\n",
       "  </tbody>\n",
       "</table>\n",
       "<p>713 rows × 49 columns</p>\n",
       "</div>"
      ],
      "text/plain": [
       "       tourney_id tourney_name surface  draw_size tourney_level  tourney_date  \\\n",
       "12023   2017-1059       Taipei    Hard       32.0             C    20171113.0   \n",
       "12024   2017-1059       Taipei    Hard       32.0             C    20171113.0   \n",
       "12025   2017-1059       Taipei    Hard       32.0             C    20171113.0   \n",
       "12026   2017-1059       Taipei    Hard       32.0             C    20171113.0   \n",
       "12027   2017-1059       Taipei    Hard       32.0             C    20171113.0   \n",
       "...           ...          ...     ...        ...           ...           ...   \n",
       "186122        NaN          NaN     NaN       32.0             C    20171113.0   \n",
       "186123        NaN          NaN    Hard       32.0           NaN    20171113.0   \n",
       "186124  2017-1059       Taipei     NaN       32.0             C    20171113.0   \n",
       "186126        NaN          NaN     NaN       32.0             C    20171113.0   \n",
       "186127  2017-1059       Taipei    Hard       32.0             C    20171113.0   \n",
       "\n",
       "        match_num  winner_id winner_entry           winner_name winner_hand  \\\n",
       "12023       270.0   205815.0          NaN            Eri Hozumi           R   \n",
       "12024       271.0   211878.0          NaN       Lizette Cabrera           R   \n",
       "12025       272.0   201551.0          NaN           Arantxa Rus           L   \n",
       "12026       273.0   201554.0            Q    Vitalia Diatchenko           R   \n",
       "12027       274.0   211684.0          NaN       Magdalena Frech           R   \n",
       "...           ...        ...          ...                   ...         ...   \n",
       "186122        NaN        NaN          NaN         Priscilla Hon         NaN   \n",
       "186123      250.0        NaN          NaN                   NaN         NaN   \n",
       "186124        NaN        NaN          NaN  Veronika Kudermetova         NaN   \n",
       "186126        NaN        NaN          NaN    Vitalia Diatchenko         NaN   \n",
       "186127        NaN        NaN          NaN         Priscilla Hon         NaN   \n",
       "\n",
       "        winner_ht winner_ioc  winner_age  loser_id loser_entry  \\\n",
       "12023         NaN        JPN   23.737166  201516.0         NaN   \n",
       "12024         NaN        AUS   19.901437  201506.0         NaN   \n",
       "12025       180.0        NED   26.918549  203567.0         NaN   \n",
       "12026       170.0        RUS   27.282683  201518.0         NaN   \n",
       "12027         NaN        POL   19.912389  202684.0         NaN   \n",
       "...           ...        ...         ...       ...         ...   \n",
       "186122        NaN        AUS   19.512663  212026.0          WC   \n",
       "186123        NaN        NaN   26.206708  206075.0         NaN   \n",
       "186124      175.0        NaN         NaN  214562.0          WC   \n",
       "186126      170.0        RUS         NaN       NaN         NaN   \n",
       "186127        NaN        AUS   19.512663       NaN         NaN   \n",
       "\n",
       "              loser_name loser_hand  loser_ht loser_ioc  loser_age  \\\n",
       "12023    Evgeniya Rodina          R       NaN       RUS  28.772074   \n",
       "12024        Sara Errani          R     164.0       ITA  30.543463   \n",
       "12025         Ipek Soylu          R       NaN       TUR  21.579740   \n",
       "12026   Yanina Wickmayer          R     182.0       BEL  28.065708   \n",
       "12027            Lin Zhu          R       NaN       CHN  23.791923   \n",
       "...                  ...        ...       ...       ...        ...   \n",
       "186122       Kwan Yau Ng        NaN       NaN       HKG        NaN   \n",
       "186123               NaN        NaN       NaN       NaN  26.904860   \n",
       "186124       Ingrid Neel        NaN       NaN       USA        NaN   \n",
       "186126               NaN        NaN       NaN       NaN        NaN   \n",
       "186127               NaN        NaN       NaN       USA        NaN   \n",
       "\n",
       "              score  best_of round  minutes  w_ace  w_df  w_svpt  w_1stIn  \\\n",
       "12023    7-6(2) 6-2      3.0   R32     91.0    3.0   0.0    65.0     45.0   \n",
       "12024   3-6 7-5 6-2      3.0   R32    127.0    1.0   7.0    94.0     55.0   \n",
       "12025    7-6(4) 7-5      3.0   R32    101.0    1.0   4.0    66.0     44.0   \n",
       "12026       6-2 6-3      3.0   R32     74.0    4.0   5.0    69.0     38.0   \n",
       "12027       6-4 7-5      3.0   R32     83.0    2.0   1.0    64.0     40.0   \n",
       "...             ...      ...   ...      ...    ...   ...     ...      ...   \n",
       "186122          NaN      NaN    Q1      NaN    3.0   4.0    59.0      NaN   \n",
       "186123  3-6 6-2 6-3      NaN   NaN      NaN    NaN   1.0     NaN     49.0   \n",
       "186124   7-6(3) 6-2      NaN   NaN     71.0   10.0   8.0    63.0      NaN   \n",
       "186126  0-6 6-2 6-4      3.0   NaN    115.0    NaN   8.0     NaN      NaN   \n",
       "186127      6-4 6-4      NaN   NaN      NaN    NaN   NaN     NaN      NaN   \n",
       "\n",
       "        w_1stWon  w_2ndWon  w_SvGms  w_bpSaved  w_bpFaced  l_ace  l_df  \\\n",
       "12023       27.0       8.0     10.0        1.0        5.0    3.0   3.0   \n",
       "12024       35.0      19.0     14.0        7.0       11.0    0.0   0.0   \n",
       "12025       29.0      12.0     12.0        3.0        6.0    7.0   3.0   \n",
       "12026       25.0      15.0      9.0        7.0        9.0    6.0   1.0   \n",
       "12027       29.0      13.0     11.0        3.0        6.0    1.0   3.0   \n",
       "...          ...       ...      ...        ...        ...    ...   ...   \n",
       "186122      23.0       NaN      9.0        NaN        NaN    7.0   4.0   \n",
       "186123      38.0      16.0      NaN        7.0        NaN    1.0   3.0   \n",
       "186124      32.0       NaN     10.0        2.0        5.0    NaN   NaN   \n",
       "186126       NaN       NaN      NaN        3.0        NaN    NaN   0.0   \n",
       "186127       NaN       NaN      NaN        NaN        6.0    8.0   NaN   \n",
       "\n",
       "        l_svpt  l_1stIn  l_1stWon  l_2ndWon  l_SvGms  l_bpSaved  l_bpFaced  \\\n",
       "12023     83.0     53.0      28.0       9.0     10.0        5.0       11.0   \n",
       "12024    104.0     86.0      48.0       5.0     15.0        7.0       13.0   \n",
       "12025     79.0     54.0      32.0      11.0     12.0        1.0        5.0   \n",
       "12026     52.0     36.0      22.0       3.0      8.0        3.0        8.0   \n",
       "12027     67.0     39.0      28.0       7.0     11.0        4.0        9.0   \n",
       "...        ...      ...       ...       ...      ...        ...        ...   \n",
       "186122    58.0     31.0      21.0       NaN      8.0        8.0        NaN   \n",
       "186123    93.0      NaN       NaN       NaN      NaN        7.0       11.0   \n",
       "186124    68.0      NaN       NaN       NaN      NaN        NaN        NaN   \n",
       "186126    75.0      NaN       NaN      13.0      NaN        3.0        NaN   \n",
       "186127     NaN     43.0      25.0       9.0     10.0        4.0        8.0   \n",
       "\n",
       "        winner_rank  winner_rank_points  loser_rank  loser_rank_points  \\\n",
       "12023         173.0               339.0        86.0              752.0   \n",
       "12024         139.0               415.0       145.0              399.0   \n",
       "12025         167.0               353.0       194.0              299.0   \n",
       "12026         176.0               335.0       113.0              561.0   \n",
       "12027         172.0               341.0       105.0              621.0   \n",
       "...             ...                 ...         ...                ...   \n",
       "186122          NaN                 NaN         NaN                8.0   \n",
       "186123          NaN               322.0       280.0              183.0   \n",
       "186124        255.0               217.0       704.0                NaN   \n",
       "186126        176.0                 NaN         NaN                NaN   \n",
       "186127          NaN                 NaN       181.0              322.0   \n",
       "\n",
       "        tourney_spectators  tourney_revenue  \n",
       "12023               3535.0        638954.72  \n",
       "12024               3535.0        638954.72  \n",
       "12025               3535.0        638954.72  \n",
       "12026               3535.0        638954.72  \n",
       "12027               3535.0        638954.72  \n",
       "...                    ...              ...  \n",
       "186122                 NaN        638954.72  \n",
       "186123                 NaN              NaN  \n",
       "186124                 NaN              NaN  \n",
       "186126              3535.0              NaN  \n",
       "186127              3535.0        638954.72  \n",
       "\n",
       "[713 rows x 49 columns]"
      ]
     },
     "execution_count": 7,
     "metadata": {},
     "output_type": "execute_result"
    }
   ],
   "source": [
    "df[(df[\"tourney_date\"]== 20171113.0 )]"
   ]
  },
  {
   "cell_type": "markdown",
   "id": "b875e481-1765-4de4-ad23-157f2e474513",
   "metadata": {},
   "source": [
    "Let's try to integrate also tourney_ravenue"
   ]
  },
  {
   "cell_type": "code",
   "execution_count": 8,
   "id": "04c8ce2e-1564-45f7-a801-930f37b84b24",
   "metadata": {},
   "outputs": [
    {
     "data": {
      "text/plain": [
       "27"
      ]
     },
     "execution_count": 8,
     "metadata": {},
     "output_type": "execute_result"
    }
   ],
   "source": [
    "# try to get tourney_id from other rows that has same revenue and (date or name)\n",
    "fixable = df[(df[\"tourney_id\"].isnull()) & (df[\"tourney_revenue\"].notnull()) & ((df[\"tourney_date\"].notnull()) | (df[\"tourney_name\"].notnull()))]\n",
    "tmp_df = df\n",
    "for idx, elem in fixable.iterrows():\n",
    "    others = df[(df[\"tourney_id\"].notnull()) & (df[\"tourney_date\"].notnull()) & (df[\"tourney_name\"].notnull()) & (df[\"tourney_revenue\"]==elem[\"tourney_revenue\"]) & ((df[\"tourney_date\"]==elem[\"tourney_date\"]) | (df[\"tourney_name\"] == elem[\"tourney_name\"]))][:1]\n",
    "    elem[\"tourney_id\"] = others[\"tourney_id\"].values[0]\n",
    "    if (math.isnan(elem[\"tourney_date\"])):\n",
    "        elem[\"tourney_date\"] = others[\"tourney_date\"].values[0] #fix also missing date\n",
    "    df.append(elem)\n",
    "\n",
    "    \n",
    "df = pd.concat([df, fixable]).drop_duplicates(keep=False)\n",
    "df[\"tourney_id\"].isnull().values.sum()"
   ]
  },
  {
   "cell_type": "markdown",
   "id": "5fc4a31b-c7e5-4ee4-8d2c-0804b8671ef8",
   "metadata": {},
   "source": [
    "Showing which are the rows with tourney_id = null"
   ]
  },
  {
   "cell_type": "code",
   "execution_count": 9,
   "id": "8b2d9eda-3dfc-401c-bd29-e521d4a5f3e0",
   "metadata": {
    "tags": []
   },
   "outputs": [
    {
     "data": {
      "text/html": [
       "<div>\n",
       "<style scoped>\n",
       "    .dataframe tbody tr th:only-of-type {\n",
       "        vertical-align: middle;\n",
       "    }\n",
       "\n",
       "    .dataframe tbody tr th {\n",
       "        vertical-align: top;\n",
       "    }\n",
       "\n",
       "    .dataframe thead th {\n",
       "        text-align: right;\n",
       "    }\n",
       "</style>\n",
       "<table border=\"1\" class=\"dataframe\">\n",
       "  <thead>\n",
       "    <tr style=\"text-align: right;\">\n",
       "      <th></th>\n",
       "      <th>tourney_id</th>\n",
       "      <th>tourney_name</th>\n",
       "      <th>surface</th>\n",
       "      <th>draw_size</th>\n",
       "      <th>tourney_level</th>\n",
       "      <th>tourney_date</th>\n",
       "      <th>match_num</th>\n",
       "      <th>winner_id</th>\n",
       "      <th>winner_entry</th>\n",
       "      <th>winner_name</th>\n",
       "      <th>winner_hand</th>\n",
       "      <th>winner_ht</th>\n",
       "      <th>winner_ioc</th>\n",
       "      <th>winner_age</th>\n",
       "      <th>loser_id</th>\n",
       "      <th>loser_entry</th>\n",
       "      <th>loser_name</th>\n",
       "      <th>loser_hand</th>\n",
       "      <th>loser_ht</th>\n",
       "      <th>loser_ioc</th>\n",
       "      <th>loser_age</th>\n",
       "      <th>score</th>\n",
       "      <th>best_of</th>\n",
       "      <th>round</th>\n",
       "      <th>minutes</th>\n",
       "      <th>w_ace</th>\n",
       "      <th>w_df</th>\n",
       "      <th>w_svpt</th>\n",
       "      <th>w_1stIn</th>\n",
       "      <th>w_1stWon</th>\n",
       "      <th>w_2ndWon</th>\n",
       "      <th>w_SvGms</th>\n",
       "      <th>w_bpSaved</th>\n",
       "      <th>w_bpFaced</th>\n",
       "      <th>l_ace</th>\n",
       "      <th>l_df</th>\n",
       "      <th>l_svpt</th>\n",
       "      <th>l_1stIn</th>\n",
       "      <th>l_1stWon</th>\n",
       "      <th>l_2ndWon</th>\n",
       "      <th>l_SvGms</th>\n",
       "      <th>l_bpSaved</th>\n",
       "      <th>l_bpFaced</th>\n",
       "      <th>winner_rank</th>\n",
       "      <th>winner_rank_points</th>\n",
       "      <th>loser_rank</th>\n",
       "      <th>loser_rank_points</th>\n",
       "      <th>tourney_spectators</th>\n",
       "      <th>tourney_revenue</th>\n",
       "    </tr>\n",
       "  </thead>\n",
       "  <tbody>\n",
       "    <tr>\n",
       "      <th>186075</th>\n",
       "      <td>NaN</td>\n",
       "      <td>NaN</td>\n",
       "      <td>NaN</td>\n",
       "      <td>32.0</td>\n",
       "      <td>NaN</td>\n",
       "      <td>NaN</td>\n",
       "      <td>272.0</td>\n",
       "      <td>NaN</td>\n",
       "      <td>NaN</td>\n",
       "      <td>NaN</td>\n",
       "      <td>NaN</td>\n",
       "      <td>NaN</td>\n",
       "      <td>NED</td>\n",
       "      <td>26.918549</td>\n",
       "      <td>203567.0</td>\n",
       "      <td>NaN</td>\n",
       "      <td>NaN</td>\n",
       "      <td>R</td>\n",
       "      <td>NaN</td>\n",
       "      <td>NaN</td>\n",
       "      <td>21.579740</td>\n",
       "      <td>7-6(4) 7-5</td>\n",
       "      <td>3.0</td>\n",
       "      <td>NaN</td>\n",
       "      <td>NaN</td>\n",
       "      <td>NaN</td>\n",
       "      <td>NaN</td>\n",
       "      <td>NaN</td>\n",
       "      <td>44.0</td>\n",
       "      <td>29.0</td>\n",
       "      <td>12.0</td>\n",
       "      <td>NaN</td>\n",
       "      <td>3.0</td>\n",
       "      <td>NaN</td>\n",
       "      <td>7.0</td>\n",
       "      <td>3.0</td>\n",
       "      <td>79.0</td>\n",
       "      <td>NaN</td>\n",
       "      <td>32.0</td>\n",
       "      <td>NaN</td>\n",
       "      <td>NaN</td>\n",
       "      <td>1.0</td>\n",
       "      <td>5.0</td>\n",
       "      <td>NaN</td>\n",
       "      <td>NaN</td>\n",
       "      <td>194.0</td>\n",
       "      <td>NaN</td>\n",
       "      <td>NaN</td>\n",
       "      <td>NaN</td>\n",
       "    </tr>\n",
       "    <tr>\n",
       "      <th>186077</th>\n",
       "      <td>NaN</td>\n",
       "      <td>NaN</td>\n",
       "      <td>NaN</td>\n",
       "      <td>NaN</td>\n",
       "      <td>NaN</td>\n",
       "      <td>NaN</td>\n",
       "      <td>274.0</td>\n",
       "      <td>NaN</td>\n",
       "      <td>NaN</td>\n",
       "      <td>Magdalena Frech</td>\n",
       "      <td>NaN</td>\n",
       "      <td>NaN</td>\n",
       "      <td>NaN</td>\n",
       "      <td>NaN</td>\n",
       "      <td>NaN</td>\n",
       "      <td>NaN</td>\n",
       "      <td>NaN</td>\n",
       "      <td>NaN</td>\n",
       "      <td>NaN</td>\n",
       "      <td>NaN</td>\n",
       "      <td>NaN</td>\n",
       "      <td>NaN</td>\n",
       "      <td>3.0</td>\n",
       "      <td>NaN</td>\n",
       "      <td>NaN</td>\n",
       "      <td>2.0</td>\n",
       "      <td>NaN</td>\n",
       "      <td>NaN</td>\n",
       "      <td>40.0</td>\n",
       "      <td>NaN</td>\n",
       "      <td>13.0</td>\n",
       "      <td>NaN</td>\n",
       "      <td>3.0</td>\n",
       "      <td>6.0</td>\n",
       "      <td>NaN</td>\n",
       "      <td>3.0</td>\n",
       "      <td>67.0</td>\n",
       "      <td>39.0</td>\n",
       "      <td>28.0</td>\n",
       "      <td>NaN</td>\n",
       "      <td>11.0</td>\n",
       "      <td>NaN</td>\n",
       "      <td>9.0</td>\n",
       "      <td>172.0</td>\n",
       "      <td>NaN</td>\n",
       "      <td>105.0</td>\n",
       "      <td>NaN</td>\n",
       "      <td>NaN</td>\n",
       "      <td>NaN</td>\n",
       "    </tr>\n",
       "    <tr>\n",
       "      <th>186079</th>\n",
       "      <td>NaN</td>\n",
       "      <td>NaN</td>\n",
       "      <td>Hard</td>\n",
       "      <td>NaN</td>\n",
       "      <td>NaN</td>\n",
       "      <td>NaN</td>\n",
       "      <td>276.0</td>\n",
       "      <td>NaN</td>\n",
       "      <td>NaN</td>\n",
       "      <td>NaN</td>\n",
       "      <td>R</td>\n",
       "      <td>189.0</td>\n",
       "      <td>NaN</td>\n",
       "      <td>NaN</td>\n",
       "      <td>NaN</td>\n",
       "      <td>NaN</td>\n",
       "      <td>Yafan Wang</td>\n",
       "      <td>R</td>\n",
       "      <td>NaN</td>\n",
       "      <td>CHN</td>\n",
       "      <td>NaN</td>\n",
       "      <td>6-7(4) 6-2 6-3</td>\n",
       "      <td>NaN</td>\n",
       "      <td>R32</td>\n",
       "      <td>NaN</td>\n",
       "      <td>NaN</td>\n",
       "      <td>NaN</td>\n",
       "      <td>NaN</td>\n",
       "      <td>NaN</td>\n",
       "      <td>NaN</td>\n",
       "      <td>NaN</td>\n",
       "      <td>15.0</td>\n",
       "      <td>NaN</td>\n",
       "      <td>NaN</td>\n",
       "      <td>NaN</td>\n",
       "      <td>NaN</td>\n",
       "      <td>89.0</td>\n",
       "      <td>57.0</td>\n",
       "      <td>37.0</td>\n",
       "      <td>14.0</td>\n",
       "      <td>14.0</td>\n",
       "      <td>NaN</td>\n",
       "      <td>12.0</td>\n",
       "      <td>122.0</td>\n",
       "      <td>501.0</td>\n",
       "      <td>174.0</td>\n",
       "      <td>NaN</td>\n",
       "      <td>3535.0</td>\n",
       "      <td>638954.72</td>\n",
       "    </tr>\n",
       "    <tr>\n",
       "      <th>186082</th>\n",
       "      <td>NaN</td>\n",
       "      <td>NaN</td>\n",
       "      <td>NaN</td>\n",
       "      <td>NaN</td>\n",
       "      <td>C</td>\n",
       "      <td>NaN</td>\n",
       "      <td>279.0</td>\n",
       "      <td>NaN</td>\n",
       "      <td>NaN</td>\n",
       "      <td>Jil Belen Teichmann</td>\n",
       "      <td>L</td>\n",
       "      <td>NaN</td>\n",
       "      <td>SUI</td>\n",
       "      <td>20.331280</td>\n",
       "      <td>210931.0</td>\n",
       "      <td>WC</td>\n",
       "      <td>Ching Wen Hsu</td>\n",
       "      <td>R</td>\n",
       "      <td>NaN</td>\n",
       "      <td>TPE</td>\n",
       "      <td>NaN</td>\n",
       "      <td>NaN</td>\n",
       "      <td>3.0</td>\n",
       "      <td>NaN</td>\n",
       "      <td>55.0</td>\n",
       "      <td>0.0</td>\n",
       "      <td>0.0</td>\n",
       "      <td>NaN</td>\n",
       "      <td>NaN</td>\n",
       "      <td>21.0</td>\n",
       "      <td>NaN</td>\n",
       "      <td>NaN</td>\n",
       "      <td>NaN</td>\n",
       "      <td>NaN</td>\n",
       "      <td>0.0</td>\n",
       "      <td>4.0</td>\n",
       "      <td>50.0</td>\n",
       "      <td>NaN</td>\n",
       "      <td>17.0</td>\n",
       "      <td>8.0</td>\n",
       "      <td>NaN</td>\n",
       "      <td>NaN</td>\n",
       "      <td>11.0</td>\n",
       "      <td>NaN</td>\n",
       "      <td>394.0</td>\n",
       "      <td>566.0</td>\n",
       "      <td>NaN</td>\n",
       "      <td>3535.0</td>\n",
       "      <td>NaN</td>\n",
       "    </tr>\n",
       "    <tr>\n",
       "      <th>186086</th>\n",
       "      <td>NaN</td>\n",
       "      <td>NaN</td>\n",
       "      <td>Hard</td>\n",
       "      <td>NaN</td>\n",
       "      <td>C</td>\n",
       "      <td>NaN</td>\n",
       "      <td>NaN</td>\n",
       "      <td>NaN</td>\n",
       "      <td>NaN</td>\n",
       "      <td>Marie Bouzkova</td>\n",
       "      <td>R</td>\n",
       "      <td>180.0</td>\n",
       "      <td>NaN</td>\n",
       "      <td>19.315537</td>\n",
       "      <td>201667.0</td>\n",
       "      <td>WC</td>\n",
       "      <td>NaN</td>\n",
       "      <td>R</td>\n",
       "      <td>NaN</td>\n",
       "      <td>NaN</td>\n",
       "      <td>28.043806</td>\n",
       "      <td>6-3 7-5</td>\n",
       "      <td>3.0</td>\n",
       "      <td>R32</td>\n",
       "      <td>NaN</td>\n",
       "      <td>2.0</td>\n",
       "      <td>NaN</td>\n",
       "      <td>67.0</td>\n",
       "      <td>51.0</td>\n",
       "      <td>NaN</td>\n",
       "      <td>NaN</td>\n",
       "      <td>11.0</td>\n",
       "      <td>2.0</td>\n",
       "      <td>5.0</td>\n",
       "      <td>NaN</td>\n",
       "      <td>2.0</td>\n",
       "      <td>60.0</td>\n",
       "      <td>NaN</td>\n",
       "      <td>20.0</td>\n",
       "      <td>11.0</td>\n",
       "      <td>NaN</td>\n",
       "      <td>2.0</td>\n",
       "      <td>NaN</td>\n",
       "      <td>182.0</td>\n",
       "      <td>320.0</td>\n",
       "      <td>333.0</td>\n",
       "      <td>NaN</td>\n",
       "      <td>3535.0</td>\n",
       "      <td>638954.72</td>\n",
       "    </tr>\n",
       "    <tr>\n",
       "      <th>186087</th>\n",
       "      <td>NaN</td>\n",
       "      <td>NaN</td>\n",
       "      <td>Hard</td>\n",
       "      <td>32.0</td>\n",
       "      <td>NaN</td>\n",
       "      <td>NaN</td>\n",
       "      <td>NaN</td>\n",
       "      <td>NaN</td>\n",
       "      <td>NaN</td>\n",
       "      <td>Viktorija Golubic</td>\n",
       "      <td>NaN</td>\n",
       "      <td>NaN</td>\n",
       "      <td>SUI</td>\n",
       "      <td>25.075975</td>\n",
       "      <td>202693.0</td>\n",
       "      <td>NaN</td>\n",
       "      <td>NaN</td>\n",
       "      <td>R</td>\n",
       "      <td>NaN</td>\n",
       "      <td>TPE</td>\n",
       "      <td>NaN</td>\n",
       "      <td>NaN</td>\n",
       "      <td>NaN</td>\n",
       "      <td>NaN</td>\n",
       "      <td>NaN</td>\n",
       "      <td>0.0</td>\n",
       "      <td>5.0</td>\n",
       "      <td>72.0</td>\n",
       "      <td>NaN</td>\n",
       "      <td>32.0</td>\n",
       "      <td>10.0</td>\n",
       "      <td>NaN</td>\n",
       "      <td>NaN</td>\n",
       "      <td>7.0</td>\n",
       "      <td>NaN</td>\n",
       "      <td>NaN</td>\n",
       "      <td>NaN</td>\n",
       "      <td>NaN</td>\n",
       "      <td>20.0</td>\n",
       "      <td>NaN</td>\n",
       "      <td>10.0</td>\n",
       "      <td>NaN</td>\n",
       "      <td>NaN</td>\n",
       "      <td>116.0</td>\n",
       "      <td>515.0</td>\n",
       "      <td>NaN</td>\n",
       "      <td>138.0</td>\n",
       "      <td>3535.0</td>\n",
       "      <td>NaN</td>\n",
       "    </tr>\n",
       "    <tr>\n",
       "      <th>186091</th>\n",
       "      <td>NaN</td>\n",
       "      <td>NaN</td>\n",
       "      <td>NaN</td>\n",
       "      <td>NaN</td>\n",
       "      <td>C</td>\n",
       "      <td>20171113.0</td>\n",
       "      <td>288.0</td>\n",
       "      <td>NaN</td>\n",
       "      <td>NaN</td>\n",
       "      <td>NaN</td>\n",
       "      <td>R</td>\n",
       "      <td>175.0</td>\n",
       "      <td>NaN</td>\n",
       "      <td>20.555784</td>\n",
       "      <td>211684.0</td>\n",
       "      <td>NaN</td>\n",
       "      <td>NaN</td>\n",
       "      <td>R</td>\n",
       "      <td>NaN</td>\n",
       "      <td>POL</td>\n",
       "      <td>19.912389</td>\n",
       "      <td>1-6 6-3 6-4</td>\n",
       "      <td>NaN</td>\n",
       "      <td>R16</td>\n",
       "      <td>NaN</td>\n",
       "      <td>NaN</td>\n",
       "      <td>5.0</td>\n",
       "      <td>NaN</td>\n",
       "      <td>NaN</td>\n",
       "      <td>NaN</td>\n",
       "      <td>12.0</td>\n",
       "      <td>NaN</td>\n",
       "      <td>NaN</td>\n",
       "      <td>9.0</td>\n",
       "      <td>NaN</td>\n",
       "      <td>NaN</td>\n",
       "      <td>NaN</td>\n",
       "      <td>NaN</td>\n",
       "      <td>NaN</td>\n",
       "      <td>11.0</td>\n",
       "      <td>NaN</td>\n",
       "      <td>5.0</td>\n",
       "      <td>11.0</td>\n",
       "      <td>255.0</td>\n",
       "      <td>217.0</td>\n",
       "      <td>172.0</td>\n",
       "      <td>NaN</td>\n",
       "      <td>3535.0</td>\n",
       "      <td>NaN</td>\n",
       "    </tr>\n",
       "    <tr>\n",
       "      <th>186093</th>\n",
       "      <td>NaN</td>\n",
       "      <td>Taipei</td>\n",
       "      <td>Hard</td>\n",
       "      <td>NaN</td>\n",
       "      <td>C</td>\n",
       "      <td>NaN</td>\n",
       "      <td>290.0</td>\n",
       "      <td>NaN</td>\n",
       "      <td>NaN</td>\n",
       "      <td>NaN</td>\n",
       "      <td>NaN</td>\n",
       "      <td>NaN</td>\n",
       "      <td>NaN</td>\n",
       "      <td>NaN</td>\n",
       "      <td>203552.0</td>\n",
       "      <td>NaN</td>\n",
       "      <td>Risa Ozaki</td>\n",
       "      <td>R</td>\n",
       "      <td>NaN</td>\n",
       "      <td>NaN</td>\n",
       "      <td>23.594798</td>\n",
       "      <td>6-4 6-2</td>\n",
       "      <td>3.0</td>\n",
       "      <td>R16</td>\n",
       "      <td>94.0</td>\n",
       "      <td>5.0</td>\n",
       "      <td>NaN</td>\n",
       "      <td>NaN</td>\n",
       "      <td>NaN</td>\n",
       "      <td>NaN</td>\n",
       "      <td>18.0</td>\n",
       "      <td>9.0</td>\n",
       "      <td>NaN</td>\n",
       "      <td>5.0</td>\n",
       "      <td>3.0</td>\n",
       "      <td>0.0</td>\n",
       "      <td>NaN</td>\n",
       "      <td>NaN</td>\n",
       "      <td>25.0</td>\n",
       "      <td>17.0</td>\n",
       "      <td>9.0</td>\n",
       "      <td>NaN</td>\n",
       "      <td>NaN</td>\n",
       "      <td>NaN</td>\n",
       "      <td>394.0</td>\n",
       "      <td>NaN</td>\n",
       "      <td>NaN</td>\n",
       "      <td>NaN</td>\n",
       "      <td>NaN</td>\n",
       "    </tr>\n",
       "    <tr>\n",
       "      <th>186094</th>\n",
       "      <td>NaN</td>\n",
       "      <td>Taipei</td>\n",
       "      <td>Hard</td>\n",
       "      <td>32.0</td>\n",
       "      <td>NaN</td>\n",
       "      <td>NaN</td>\n",
       "      <td>291.0</td>\n",
       "      <td>NaN</td>\n",
       "      <td>WC</td>\n",
       "      <td>Belinda Bencic</td>\n",
       "      <td>R</td>\n",
       "      <td>NaN</td>\n",
       "      <td>SUI</td>\n",
       "      <td>NaN</td>\n",
       "      <td>211880.0</td>\n",
       "      <td>Q</td>\n",
       "      <td>NaN</td>\n",
       "      <td>NaN</td>\n",
       "      <td>NaN</td>\n",
       "      <td>NaN</td>\n",
       "      <td>NaN</td>\n",
       "      <td>NaN</td>\n",
       "      <td>NaN</td>\n",
       "      <td>NaN</td>\n",
       "      <td>NaN</td>\n",
       "      <td>3.0</td>\n",
       "      <td>4.0</td>\n",
       "      <td>61.0</td>\n",
       "      <td>NaN</td>\n",
       "      <td>26.0</td>\n",
       "      <td>14.0</td>\n",
       "      <td>10.0</td>\n",
       "      <td>2.0</td>\n",
       "      <td>4.0</td>\n",
       "      <td>5.0</td>\n",
       "      <td>2.0</td>\n",
       "      <td>68.0</td>\n",
       "      <td>35.0</td>\n",
       "      <td>NaN</td>\n",
       "      <td>13.0</td>\n",
       "      <td>NaN</td>\n",
       "      <td>NaN</td>\n",
       "      <td>10.0</td>\n",
       "      <td>120.0</td>\n",
       "      <td>502.0</td>\n",
       "      <td>231.0</td>\n",
       "      <td>NaN</td>\n",
       "      <td>NaN</td>\n",
       "      <td>NaN</td>\n",
       "    </tr>\n",
       "    <tr>\n",
       "      <th>186096</th>\n",
       "      <td>NaN</td>\n",
       "      <td>NaN</td>\n",
       "      <td>NaN</td>\n",
       "      <td>NaN</td>\n",
       "      <td>NaN</td>\n",
       "      <td>NaN</td>\n",
       "      <td>NaN</td>\n",
       "      <td>NaN</td>\n",
       "      <td>NaN</td>\n",
       "      <td>NaN</td>\n",
       "      <td>R</td>\n",
       "      <td>NaN</td>\n",
       "      <td>SUI</td>\n",
       "      <td>NaN</td>\n",
       "      <td>214544.0</td>\n",
       "      <td>NaN</td>\n",
       "      <td>Aryna Sabalenka</td>\n",
       "      <td>R</td>\n",
       "      <td>182.0</td>\n",
       "      <td>BLR</td>\n",
       "      <td>NaN</td>\n",
       "      <td>7-5 6-3</td>\n",
       "      <td>NaN</td>\n",
       "      <td>R16</td>\n",
       "      <td>NaN</td>\n",
       "      <td>NaN</td>\n",
       "      <td>1.0</td>\n",
       "      <td>71.0</td>\n",
       "      <td>48.0</td>\n",
       "      <td>NaN</td>\n",
       "      <td>NaN</td>\n",
       "      <td>10.0</td>\n",
       "      <td>4.0</td>\n",
       "      <td>7.0</td>\n",
       "      <td>NaN</td>\n",
       "      <td>6.0</td>\n",
       "      <td>NaN</td>\n",
       "      <td>NaN</td>\n",
       "      <td>21.0</td>\n",
       "      <td>9.0</td>\n",
       "      <td>11.0</td>\n",
       "      <td>NaN</td>\n",
       "      <td>7.0</td>\n",
       "      <td>NaN</td>\n",
       "      <td>NaN</td>\n",
       "      <td>NaN</td>\n",
       "      <td>NaN</td>\n",
       "      <td>3535.0</td>\n",
       "      <td>638954.72</td>\n",
       "    </tr>\n",
       "    <tr>\n",
       "      <th>186098</th>\n",
       "      <td>NaN</td>\n",
       "      <td>Taipei</td>\n",
       "      <td>Hard</td>\n",
       "      <td>32.0</td>\n",
       "      <td>NaN</td>\n",
       "      <td>NaN</td>\n",
       "      <td>295.0</td>\n",
       "      <td>NaN</td>\n",
       "      <td>NaN</td>\n",
       "      <td>Naomi Broady</td>\n",
       "      <td>R</td>\n",
       "      <td>189.0</td>\n",
       "      <td>NaN</td>\n",
       "      <td>27.707050</td>\n",
       "      <td>206368.0</td>\n",
       "      <td>Q</td>\n",
       "      <td>NaN</td>\n",
       "      <td>R</td>\n",
       "      <td>NaN</td>\n",
       "      <td>RUS</td>\n",
       "      <td>NaN</td>\n",
       "      <td>NaN</td>\n",
       "      <td>NaN</td>\n",
       "      <td>QF</td>\n",
       "      <td>54.0</td>\n",
       "      <td>12.0</td>\n",
       "      <td>1.0</td>\n",
       "      <td>50.0</td>\n",
       "      <td>NaN</td>\n",
       "      <td>NaN</td>\n",
       "      <td>NaN</td>\n",
       "      <td>NaN</td>\n",
       "      <td>NaN</td>\n",
       "      <td>NaN</td>\n",
       "      <td>6.0</td>\n",
       "      <td>2.0</td>\n",
       "      <td>NaN</td>\n",
       "      <td>NaN</td>\n",
       "      <td>18.0</td>\n",
       "      <td>3.0</td>\n",
       "      <td>NaN</td>\n",
       "      <td>0.0</td>\n",
       "      <td>4.0</td>\n",
       "      <td>122.0</td>\n",
       "      <td>NaN</td>\n",
       "      <td>NaN</td>\n",
       "      <td>217.0</td>\n",
       "      <td>NaN</td>\n",
       "      <td>NaN</td>\n",
       "    </tr>\n",
       "    <tr>\n",
       "      <th>186101</th>\n",
       "      <td>NaN</td>\n",
       "      <td>NaN</td>\n",
       "      <td>Hard</td>\n",
       "      <td>32.0</td>\n",
       "      <td>C</td>\n",
       "      <td>NaN</td>\n",
       "      <td>NaN</td>\n",
       "      <td>NaN</td>\n",
       "      <td>NaN</td>\n",
       "      <td>NaN</td>\n",
       "      <td>NaN</td>\n",
       "      <td>NaN</td>\n",
       "      <td>NED</td>\n",
       "      <td>26.918549</td>\n",
       "      <td>201648.0</td>\n",
       "      <td>NaN</td>\n",
       "      <td>Naomi Broady</td>\n",
       "      <td>R</td>\n",
       "      <td>NaN</td>\n",
       "      <td>NaN</td>\n",
       "      <td>NaN</td>\n",
       "      <td>NaN</td>\n",
       "      <td>3.0</td>\n",
       "      <td>NaN</td>\n",
       "      <td>NaN</td>\n",
       "      <td>NaN</td>\n",
       "      <td>6.0</td>\n",
       "      <td>NaN</td>\n",
       "      <td>59.0</td>\n",
       "      <td>45.0</td>\n",
       "      <td>16.0</td>\n",
       "      <td>NaN</td>\n",
       "      <td>5.0</td>\n",
       "      <td>7.0</td>\n",
       "      <td>NaN</td>\n",
       "      <td>NaN</td>\n",
       "      <td>NaN</td>\n",
       "      <td>NaN</td>\n",
       "      <td>NaN</td>\n",
       "      <td>NaN</td>\n",
       "      <td>14.0</td>\n",
       "      <td>2.0</td>\n",
       "      <td>6.0</td>\n",
       "      <td>NaN</td>\n",
       "      <td>NaN</td>\n",
       "      <td>NaN</td>\n",
       "      <td>501.0</td>\n",
       "      <td>3535.0</td>\n",
       "      <td>NaN</td>\n",
       "    </tr>\n",
       "    <tr>\n",
       "      <th>186102</th>\n",
       "      <td>NaN</td>\n",
       "      <td>NaN</td>\n",
       "      <td>Hard</td>\n",
       "      <td>NaN</td>\n",
       "      <td>NaN</td>\n",
       "      <td>NaN</td>\n",
       "      <td>NaN</td>\n",
       "      <td>NaN</td>\n",
       "      <td>WC</td>\n",
       "      <td>Belinda Bencic</td>\n",
       "      <td>NaN</td>\n",
       "      <td>NaN</td>\n",
       "      <td>NaN</td>\n",
       "      <td>NaN</td>\n",
       "      <td>NaN</td>\n",
       "      <td>NaN</td>\n",
       "      <td>NaN</td>\n",
       "      <td>R</td>\n",
       "      <td>NaN</td>\n",
       "      <td>NaN</td>\n",
       "      <td>25.075975</td>\n",
       "      <td>6-2 6-4</td>\n",
       "      <td>NaN</td>\n",
       "      <td>NaN</td>\n",
       "      <td>NaN</td>\n",
       "      <td>NaN</td>\n",
       "      <td>NaN</td>\n",
       "      <td>NaN</td>\n",
       "      <td>38.0</td>\n",
       "      <td>30.0</td>\n",
       "      <td>7.0</td>\n",
       "      <td>NaN</td>\n",
       "      <td>2.0</td>\n",
       "      <td>3.0</td>\n",
       "      <td>NaN</td>\n",
       "      <td>3.0</td>\n",
       "      <td>65.0</td>\n",
       "      <td>NaN</td>\n",
       "      <td>22.0</td>\n",
       "      <td>NaN</td>\n",
       "      <td>NaN</td>\n",
       "      <td>4.0</td>\n",
       "      <td>NaN</td>\n",
       "      <td>120.0</td>\n",
       "      <td>502.0</td>\n",
       "      <td>116.0</td>\n",
       "      <td>515.0</td>\n",
       "      <td>3535.0</td>\n",
       "      <td>638954.72</td>\n",
       "    </tr>\n",
       "    <tr>\n",
       "      <th>186104</th>\n",
       "      <td>NaN</td>\n",
       "      <td>NaN</td>\n",
       "      <td>NaN</td>\n",
       "      <td>NaN</td>\n",
       "      <td>NaN</td>\n",
       "      <td>20171113.0</td>\n",
       "      <td>NaN</td>\n",
       "      <td>NaN</td>\n",
       "      <td>NaN</td>\n",
       "      <td>NaN</td>\n",
       "      <td>U</td>\n",
       "      <td>NaN</td>\n",
       "      <td>USA</td>\n",
       "      <td>19.411362</td>\n",
       "      <td>NaN</td>\n",
       "      <td>NaN</td>\n",
       "      <td>Carol Zhao</td>\n",
       "      <td>R</td>\n",
       "      <td>NaN</td>\n",
       "      <td>NaN</td>\n",
       "      <td>NaN</td>\n",
       "      <td>6-7(7) 7-6(6) 6-2</td>\n",
       "      <td>NaN</td>\n",
       "      <td>NaN</td>\n",
       "      <td>154.0</td>\n",
       "      <td>7.0</td>\n",
       "      <td>10.0</td>\n",
       "      <td>124.0</td>\n",
       "      <td>84.0</td>\n",
       "      <td>NaN</td>\n",
       "      <td>NaN</td>\n",
       "      <td>16.0</td>\n",
       "      <td>NaN</td>\n",
       "      <td>13.0</td>\n",
       "      <td>9.0</td>\n",
       "      <td>NaN</td>\n",
       "      <td>NaN</td>\n",
       "      <td>NaN</td>\n",
       "      <td>NaN</td>\n",
       "      <td>21.0</td>\n",
       "      <td>NaN</td>\n",
       "      <td>NaN</td>\n",
       "      <td>22.0</td>\n",
       "      <td>NaN</td>\n",
       "      <td>NaN</td>\n",
       "      <td>150.0</td>\n",
       "      <td>390.0</td>\n",
       "      <td>NaN</td>\n",
       "      <td>NaN</td>\n",
       "    </tr>\n",
       "    <tr>\n",
       "      <th>186106</th>\n",
       "      <td>NaN</td>\n",
       "      <td>NaN</td>\n",
       "      <td>Hard</td>\n",
       "      <td>32.0</td>\n",
       "      <td>C</td>\n",
       "      <td>NaN</td>\n",
       "      <td>245.0</td>\n",
       "      <td>NaN</td>\n",
       "      <td>NaN</td>\n",
       "      <td>Dalila Jakupovic</td>\n",
       "      <td>R</td>\n",
       "      <td>NaN</td>\n",
       "      <td>SLO</td>\n",
       "      <td>26.642026</td>\n",
       "      <td>NaN</td>\n",
       "      <td>NaN</td>\n",
       "      <td>NaN</td>\n",
       "      <td>U</td>\n",
       "      <td>NaN</td>\n",
       "      <td>MEX</td>\n",
       "      <td>NaN</td>\n",
       "      <td>6-2 6-3</td>\n",
       "      <td>3.0</td>\n",
       "      <td>NaN</td>\n",
       "      <td>69.0</td>\n",
       "      <td>0.0</td>\n",
       "      <td>NaN</td>\n",
       "      <td>NaN</td>\n",
       "      <td>NaN</td>\n",
       "      <td>19.0</td>\n",
       "      <td>NaN</td>\n",
       "      <td>9.0</td>\n",
       "      <td>NaN</td>\n",
       "      <td>NaN</td>\n",
       "      <td>NaN</td>\n",
       "      <td>3.0</td>\n",
       "      <td>NaN</td>\n",
       "      <td>NaN</td>\n",
       "      <td>19.0</td>\n",
       "      <td>NaN</td>\n",
       "      <td>8.0</td>\n",
       "      <td>5.0</td>\n",
       "      <td>NaN</td>\n",
       "      <td>NaN</td>\n",
       "      <td>228.0</td>\n",
       "      <td>NaN</td>\n",
       "      <td>204.0</td>\n",
       "      <td>3535.0</td>\n",
       "      <td>638954.72</td>\n",
       "    </tr>\n",
       "    <tr>\n",
       "      <th>186108</th>\n",
       "      <td>NaN</td>\n",
       "      <td>NaN</td>\n",
       "      <td>NaN</td>\n",
       "      <td>NaN</td>\n",
       "      <td>NaN</td>\n",
       "      <td>20171113.0</td>\n",
       "      <td>NaN</td>\n",
       "      <td>NaN</td>\n",
       "      <td>NaN</td>\n",
       "      <td>NaN</td>\n",
       "      <td>NaN</td>\n",
       "      <td>NaN</td>\n",
       "      <td>NaN</td>\n",
       "      <td>21.289528</td>\n",
       "      <td>NaN</td>\n",
       "      <td>NaN</td>\n",
       "      <td>NaN</td>\n",
       "      <td>NaN</td>\n",
       "      <td>NaN</td>\n",
       "      <td>KOR</td>\n",
       "      <td>25.355236</td>\n",
       "      <td>NaN</td>\n",
       "      <td>3.0</td>\n",
       "      <td>Q1</td>\n",
       "      <td>91.0</td>\n",
       "      <td>NaN</td>\n",
       "      <td>NaN</td>\n",
       "      <td>79.0</td>\n",
       "      <td>49.0</td>\n",
       "      <td>NaN</td>\n",
       "      <td>11.0</td>\n",
       "      <td>NaN</td>\n",
       "      <td>NaN</td>\n",
       "      <td>8.0</td>\n",
       "      <td>0.0</td>\n",
       "      <td>4.0</td>\n",
       "      <td>NaN</td>\n",
       "      <td>NaN</td>\n",
       "      <td>NaN</td>\n",
       "      <td>NaN</td>\n",
       "      <td>NaN</td>\n",
       "      <td>2.0</td>\n",
       "      <td>NaN</td>\n",
       "      <td>NaN</td>\n",
       "      <td>NaN</td>\n",
       "      <td>NaN</td>\n",
       "      <td>NaN</td>\n",
       "      <td>NaN</td>\n",
       "      <td>NaN</td>\n",
       "    </tr>\n",
       "    <tr>\n",
       "      <th>186109</th>\n",
       "      <td>NaN</td>\n",
       "      <td>NaN</td>\n",
       "      <td>Hard</td>\n",
       "      <td>32.0</td>\n",
       "      <td>NaN</td>\n",
       "      <td>NaN</td>\n",
       "      <td>248.0</td>\n",
       "      <td>NaN</td>\n",
       "      <td>NaN</td>\n",
       "      <td>Vitalia Diatchenko</td>\n",
       "      <td>NaN</td>\n",
       "      <td>NaN</td>\n",
       "      <td>RUS</td>\n",
       "      <td>27.282683</td>\n",
       "      <td>NaN</td>\n",
       "      <td>NaN</td>\n",
       "      <td>NaN</td>\n",
       "      <td>NaN</td>\n",
       "      <td>NaN</td>\n",
       "      <td>NaN</td>\n",
       "      <td>NaN</td>\n",
       "      <td>6-3 6-2</td>\n",
       "      <td>3.0</td>\n",
       "      <td>NaN</td>\n",
       "      <td>74.0</td>\n",
       "      <td>NaN</td>\n",
       "      <td>NaN</td>\n",
       "      <td>NaN</td>\n",
       "      <td>NaN</td>\n",
       "      <td>NaN</td>\n",
       "      <td>13.0</td>\n",
       "      <td>NaN</td>\n",
       "      <td>2.0</td>\n",
       "      <td>4.0</td>\n",
       "      <td>1.0</td>\n",
       "      <td>NaN</td>\n",
       "      <td>63.0</td>\n",
       "      <td>26.0</td>\n",
       "      <td>NaN</td>\n",
       "      <td>NaN</td>\n",
       "      <td>8.0</td>\n",
       "      <td>NaN</td>\n",
       "      <td>NaN</td>\n",
       "      <td>NaN</td>\n",
       "      <td>NaN</td>\n",
       "      <td>NaN</td>\n",
       "      <td>131.0</td>\n",
       "      <td>3535.0</td>\n",
       "      <td>638954.72</td>\n",
       "    </tr>\n",
       "    <tr>\n",
       "      <th>186110</th>\n",
       "      <td>NaN</td>\n",
       "      <td>Taipei</td>\n",
       "      <td>Hard</td>\n",
       "      <td>NaN</td>\n",
       "      <td>NaN</td>\n",
       "      <td>NaN</td>\n",
       "      <td>NaN</td>\n",
       "      <td>NaN</td>\n",
       "      <td>NaN</td>\n",
       "      <td>NaN</td>\n",
       "      <td>NaN</td>\n",
       "      <td>NaN</td>\n",
       "      <td>NaN</td>\n",
       "      <td>NaN</td>\n",
       "      <td>NaN</td>\n",
       "      <td>WC</td>\n",
       "      <td>NaN</td>\n",
       "      <td>U</td>\n",
       "      <td>NaN</td>\n",
       "      <td>NaN</td>\n",
       "      <td>20.731006</td>\n",
       "      <td>NaN</td>\n",
       "      <td>NaN</td>\n",
       "      <td>Q1</td>\n",
       "      <td>NaN</td>\n",
       "      <td>NaN</td>\n",
       "      <td>4.0</td>\n",
       "      <td>NaN</td>\n",
       "      <td>30.0</td>\n",
       "      <td>23.0</td>\n",
       "      <td>NaN</td>\n",
       "      <td>NaN</td>\n",
       "      <td>NaN</td>\n",
       "      <td>3.0</td>\n",
       "      <td>7.0</td>\n",
       "      <td>NaN</td>\n",
       "      <td>58.0</td>\n",
       "      <td>31.0</td>\n",
       "      <td>NaN</td>\n",
       "      <td>8.0</td>\n",
       "      <td>8.0</td>\n",
       "      <td>NaN</td>\n",
       "      <td>NaN</td>\n",
       "      <td>231.0</td>\n",
       "      <td>NaN</td>\n",
       "      <td>NaN</td>\n",
       "      <td>8.0</td>\n",
       "      <td>NaN</td>\n",
       "      <td>NaN</td>\n",
       "    </tr>\n",
       "    <tr>\n",
       "      <th>186112</th>\n",
       "      <td>NaN</td>\n",
       "      <td>Taipei</td>\n",
       "      <td>NaN</td>\n",
       "      <td>32.0</td>\n",
       "      <td>NaN</td>\n",
       "      <td>NaN</td>\n",
       "      <td>251.0</td>\n",
       "      <td>NaN</td>\n",
       "      <td>NaN</td>\n",
       "      <td>Veronika Kudermetova</td>\n",
       "      <td>R</td>\n",
       "      <td>NaN</td>\n",
       "      <td>RUS</td>\n",
       "      <td>20.555784</td>\n",
       "      <td>NaN</td>\n",
       "      <td>WC</td>\n",
       "      <td>NaN</td>\n",
       "      <td>NaN</td>\n",
       "      <td>NaN</td>\n",
       "      <td>USA</td>\n",
       "      <td>19.411362</td>\n",
       "      <td>NaN</td>\n",
       "      <td>NaN</td>\n",
       "      <td>NaN</td>\n",
       "      <td>71.0</td>\n",
       "      <td>10.0</td>\n",
       "      <td>NaN</td>\n",
       "      <td>63.0</td>\n",
       "      <td>NaN</td>\n",
       "      <td>32.0</td>\n",
       "      <td>7.0</td>\n",
       "      <td>10.0</td>\n",
       "      <td>NaN</td>\n",
       "      <td>5.0</td>\n",
       "      <td>0.0</td>\n",
       "      <td>NaN</td>\n",
       "      <td>NaN</td>\n",
       "      <td>NaN</td>\n",
       "      <td>27.0</td>\n",
       "      <td>7.0</td>\n",
       "      <td>NaN</td>\n",
       "      <td>NaN</td>\n",
       "      <td>NaN</td>\n",
       "      <td>NaN</td>\n",
       "      <td>NaN</td>\n",
       "      <td>NaN</td>\n",
       "      <td>27.0</td>\n",
       "      <td>3535.0</td>\n",
       "      <td>NaN</td>\n",
       "    </tr>\n",
       "    <tr>\n",
       "      <th>186115</th>\n",
       "      <td>NaN</td>\n",
       "      <td>Taipei</td>\n",
       "      <td>NaN</td>\n",
       "      <td>NaN</td>\n",
       "      <td>NaN</td>\n",
       "      <td>NaN</td>\n",
       "      <td>NaN</td>\n",
       "      <td>NaN</td>\n",
       "      <td>NaN</td>\n",
       "      <td>Priscilla Hon</td>\n",
       "      <td>R</td>\n",
       "      <td>NaN</td>\n",
       "      <td>AUS</td>\n",
       "      <td>19.512663</td>\n",
       "      <td>202614.0</td>\n",
       "      <td>NaN</td>\n",
       "      <td>Jacqueline Cako</td>\n",
       "      <td>NaN</td>\n",
       "      <td>NaN</td>\n",
       "      <td>NaN</td>\n",
       "      <td>NaN</td>\n",
       "      <td>6-4 6-4</td>\n",
       "      <td>3.0</td>\n",
       "      <td>NaN</td>\n",
       "      <td>78.0</td>\n",
       "      <td>NaN</td>\n",
       "      <td>2.0</td>\n",
       "      <td>64.0</td>\n",
       "      <td>NaN</td>\n",
       "      <td>NaN</td>\n",
       "      <td>NaN</td>\n",
       "      <td>10.0</td>\n",
       "      <td>4.0</td>\n",
       "      <td>NaN</td>\n",
       "      <td>NaN</td>\n",
       "      <td>NaN</td>\n",
       "      <td>63.0</td>\n",
       "      <td>43.0</td>\n",
       "      <td>25.0</td>\n",
       "      <td>9.0</td>\n",
       "      <td>10.0</td>\n",
       "      <td>NaN</td>\n",
       "      <td>NaN</td>\n",
       "      <td>NaN</td>\n",
       "      <td>243.0</td>\n",
       "      <td>181.0</td>\n",
       "      <td>322.0</td>\n",
       "      <td>NaN</td>\n",
       "      <td>NaN</td>\n",
       "    </tr>\n",
       "    <tr>\n",
       "      <th>186117</th>\n",
       "      <td>NaN</td>\n",
       "      <td>Taipei</td>\n",
       "      <td>NaN</td>\n",
       "      <td>32.0</td>\n",
       "      <td>C</td>\n",
       "      <td>NaN</td>\n",
       "      <td>NaN</td>\n",
       "      <td>NaN</td>\n",
       "      <td>NaN</td>\n",
       "      <td>NaN</td>\n",
       "      <td>NaN</td>\n",
       "      <td>175.0</td>\n",
       "      <td>NaN</td>\n",
       "      <td>NaN</td>\n",
       "      <td>203576.0</td>\n",
       "      <td>NaN</td>\n",
       "      <td>Kai Lin Zhang</td>\n",
       "      <td>NaN</td>\n",
       "      <td>NaN</td>\n",
       "      <td>CHN</td>\n",
       "      <td>27.791923</td>\n",
       "      <td>NaN</td>\n",
       "      <td>NaN</td>\n",
       "      <td>Q1</td>\n",
       "      <td>NaN</td>\n",
       "      <td>NaN</td>\n",
       "      <td>NaN</td>\n",
       "      <td>87.0</td>\n",
       "      <td>54.0</td>\n",
       "      <td>36.0</td>\n",
       "      <td>NaN</td>\n",
       "      <td>12.0</td>\n",
       "      <td>5.0</td>\n",
       "      <td>NaN</td>\n",
       "      <td>NaN</td>\n",
       "      <td>8.0</td>\n",
       "      <td>NaN</td>\n",
       "      <td>NaN</td>\n",
       "      <td>23.0</td>\n",
       "      <td>15.0</td>\n",
       "      <td>12.0</td>\n",
       "      <td>NaN</td>\n",
       "      <td>NaN</td>\n",
       "      <td>NaN</td>\n",
       "      <td>217.0</td>\n",
       "      <td>208.0</td>\n",
       "      <td>274.0</td>\n",
       "      <td>NaN</td>\n",
       "      <td>NaN</td>\n",
       "    </tr>\n",
       "    <tr>\n",
       "      <th>186119</th>\n",
       "      <td>NaN</td>\n",
       "      <td>NaN</td>\n",
       "      <td>NaN</td>\n",
       "      <td>NaN</td>\n",
       "      <td>C</td>\n",
       "      <td>NaN</td>\n",
       "      <td>246.0</td>\n",
       "      <td>NaN</td>\n",
       "      <td>NaN</td>\n",
       "      <td>Sabina Sharipova</td>\n",
       "      <td>R</td>\n",
       "      <td>NaN</td>\n",
       "      <td>UZB</td>\n",
       "      <td>23.192334</td>\n",
       "      <td>NaN</td>\n",
       "      <td>NaN</td>\n",
       "      <td>NaN</td>\n",
       "      <td>R</td>\n",
       "      <td>172.0</td>\n",
       "      <td>NaN</td>\n",
       "      <td>NaN</td>\n",
       "      <td>NaN</td>\n",
       "      <td>NaN</td>\n",
       "      <td>NaN</td>\n",
       "      <td>80.0</td>\n",
       "      <td>NaN</td>\n",
       "      <td>4.0</td>\n",
       "      <td>71.0</td>\n",
       "      <td>NaN</td>\n",
       "      <td>NaN</td>\n",
       "      <td>13.0</td>\n",
       "      <td>10.0</td>\n",
       "      <td>3.0</td>\n",
       "      <td>6.0</td>\n",
       "      <td>4.0</td>\n",
       "      <td>7.0</td>\n",
       "      <td>NaN</td>\n",
       "      <td>NaN</td>\n",
       "      <td>NaN</td>\n",
       "      <td>10.0</td>\n",
       "      <td>9.0</td>\n",
       "      <td>7.0</td>\n",
       "      <td>12.0</td>\n",
       "      <td>196.0</td>\n",
       "      <td>NaN</td>\n",
       "      <td>NaN</td>\n",
       "      <td>231.0</td>\n",
       "      <td>3535.0</td>\n",
       "      <td>638954.72</td>\n",
       "    </tr>\n",
       "    <tr>\n",
       "      <th>186120</th>\n",
       "      <td>NaN</td>\n",
       "      <td>NaN</td>\n",
       "      <td>Hard</td>\n",
       "      <td>NaN</td>\n",
       "      <td>NaN</td>\n",
       "      <td>NaN</td>\n",
       "      <td>NaN</td>\n",
       "      <td>NaN</td>\n",
       "      <td>NaN</td>\n",
       "      <td>NaN</td>\n",
       "      <td>R</td>\n",
       "      <td>NaN</td>\n",
       "      <td>NaN</td>\n",
       "      <td>21.289528</td>\n",
       "      <td>NaN</td>\n",
       "      <td>NaN</td>\n",
       "      <td>Na Lae Han</td>\n",
       "      <td>NaN</td>\n",
       "      <td>NaN</td>\n",
       "      <td>NaN</td>\n",
       "      <td>NaN</td>\n",
       "      <td>7-6(3) 6-3</td>\n",
       "      <td>NaN</td>\n",
       "      <td>NaN</td>\n",
       "      <td>91.0</td>\n",
       "      <td>NaN</td>\n",
       "      <td>NaN</td>\n",
       "      <td>79.0</td>\n",
       "      <td>NaN</td>\n",
       "      <td>34.0</td>\n",
       "      <td>11.0</td>\n",
       "      <td>NaN</td>\n",
       "      <td>4.0</td>\n",
       "      <td>NaN</td>\n",
       "      <td>NaN</td>\n",
       "      <td>4.0</td>\n",
       "      <td>NaN</td>\n",
       "      <td>41.0</td>\n",
       "      <td>NaN</td>\n",
       "      <td>9.0</td>\n",
       "      <td>NaN</td>\n",
       "      <td>2.0</td>\n",
       "      <td>NaN</td>\n",
       "      <td>230.0</td>\n",
       "      <td>NaN</td>\n",
       "      <td>250.0</td>\n",
       "      <td>221.0</td>\n",
       "      <td>NaN</td>\n",
       "      <td>NaN</td>\n",
       "    </tr>\n",
       "    <tr>\n",
       "      <th>186121</th>\n",
       "      <td>NaN</td>\n",
       "      <td>NaN</td>\n",
       "      <td>NaN</td>\n",
       "      <td>NaN</td>\n",
       "      <td>C</td>\n",
       "      <td>NaN</td>\n",
       "      <td>NaN</td>\n",
       "      <td>NaN</td>\n",
       "      <td>NaN</td>\n",
       "      <td>NaN</td>\n",
       "      <td>R</td>\n",
       "      <td>NaN</td>\n",
       "      <td>NaN</td>\n",
       "      <td>NaN</td>\n",
       "      <td>NaN</td>\n",
       "      <td>NaN</td>\n",
       "      <td>Vivian Heisen</td>\n",
       "      <td>NaN</td>\n",
       "      <td>NaN</td>\n",
       "      <td>GER</td>\n",
       "      <td>NaN</td>\n",
       "      <td>6-3 6-2</td>\n",
       "      <td>NaN</td>\n",
       "      <td>NaN</td>\n",
       "      <td>NaN</td>\n",
       "      <td>NaN</td>\n",
       "      <td>3.0</td>\n",
       "      <td>NaN</td>\n",
       "      <td>32.0</td>\n",
       "      <td>22.0</td>\n",
       "      <td>NaN</td>\n",
       "      <td>NaN</td>\n",
       "      <td>NaN</td>\n",
       "      <td>4.0</td>\n",
       "      <td>NaN</td>\n",
       "      <td>5.0</td>\n",
       "      <td>63.0</td>\n",
       "      <td>26.0</td>\n",
       "      <td>NaN</td>\n",
       "      <td>15.0</td>\n",
       "      <td>NaN</td>\n",
       "      <td>8.0</td>\n",
       "      <td>NaN</td>\n",
       "      <td>176.0</td>\n",
       "      <td>335.0</td>\n",
       "      <td>NaN</td>\n",
       "      <td>131.0</td>\n",
       "      <td>3535.0</td>\n",
       "      <td>638954.72</td>\n",
       "    </tr>\n",
       "    <tr>\n",
       "      <th>186123</th>\n",
       "      <td>NaN</td>\n",
       "      <td>NaN</td>\n",
       "      <td>Hard</td>\n",
       "      <td>32.0</td>\n",
       "      <td>NaN</td>\n",
       "      <td>20171113.0</td>\n",
       "      <td>250.0</td>\n",
       "      <td>NaN</td>\n",
       "      <td>NaN</td>\n",
       "      <td>NaN</td>\n",
       "      <td>NaN</td>\n",
       "      <td>NaN</td>\n",
       "      <td>NaN</td>\n",
       "      <td>26.206708</td>\n",
       "      <td>206075.0</td>\n",
       "      <td>NaN</td>\n",
       "      <td>NaN</td>\n",
       "      <td>NaN</td>\n",
       "      <td>NaN</td>\n",
       "      <td>NaN</td>\n",
       "      <td>26.904860</td>\n",
       "      <td>3-6 6-2 6-3</td>\n",
       "      <td>NaN</td>\n",
       "      <td>NaN</td>\n",
       "      <td>NaN</td>\n",
       "      <td>NaN</td>\n",
       "      <td>1.0</td>\n",
       "      <td>NaN</td>\n",
       "      <td>49.0</td>\n",
       "      <td>38.0</td>\n",
       "      <td>16.0</td>\n",
       "      <td>NaN</td>\n",
       "      <td>7.0</td>\n",
       "      <td>NaN</td>\n",
       "      <td>1.0</td>\n",
       "      <td>3.0</td>\n",
       "      <td>93.0</td>\n",
       "      <td>NaN</td>\n",
       "      <td>NaN</td>\n",
       "      <td>NaN</td>\n",
       "      <td>NaN</td>\n",
       "      <td>7.0</td>\n",
       "      <td>11.0</td>\n",
       "      <td>NaN</td>\n",
       "      <td>322.0</td>\n",
       "      <td>280.0</td>\n",
       "      <td>183.0</td>\n",
       "      <td>NaN</td>\n",
       "      <td>NaN</td>\n",
       "    </tr>\n",
       "    <tr>\n",
       "      <th>186125</th>\n",
       "      <td>NaN</td>\n",
       "      <td>NaN</td>\n",
       "      <td>NaN</td>\n",
       "      <td>NaN</td>\n",
       "      <td>C</td>\n",
       "      <td>NaN</td>\n",
       "      <td>NaN</td>\n",
       "      <td>NaN</td>\n",
       "      <td>NaN</td>\n",
       "      <td>Dalila Jakupovic</td>\n",
       "      <td>NaN</td>\n",
       "      <td>NaN</td>\n",
       "      <td>NaN</td>\n",
       "      <td>26.642026</td>\n",
       "      <td>201674.0</td>\n",
       "      <td>NaN</td>\n",
       "      <td>NaN</td>\n",
       "      <td>R</td>\n",
       "      <td>NaN</td>\n",
       "      <td>UZB</td>\n",
       "      <td>NaN</td>\n",
       "      <td>NaN</td>\n",
       "      <td>3.0</td>\n",
       "      <td>NaN</td>\n",
       "      <td>70.0</td>\n",
       "      <td>NaN</td>\n",
       "      <td>2.0</td>\n",
       "      <td>55.0</td>\n",
       "      <td>NaN</td>\n",
       "      <td>NaN</td>\n",
       "      <td>NaN</td>\n",
       "      <td>NaN</td>\n",
       "      <td>6.0</td>\n",
       "      <td>8.0</td>\n",
       "      <td>1.0</td>\n",
       "      <td>4.0</td>\n",
       "      <td>NaN</td>\n",
       "      <td>NaN</td>\n",
       "      <td>NaN</td>\n",
       "      <td>NaN</td>\n",
       "      <td>NaN</td>\n",
       "      <td>NaN</td>\n",
       "      <td>11.0</td>\n",
       "      <td>NaN</td>\n",
       "      <td>NaN</td>\n",
       "      <td>NaN</td>\n",
       "      <td>NaN</td>\n",
       "      <td>NaN</td>\n",
       "      <td>NaN</td>\n",
       "    </tr>\n",
       "    <tr>\n",
       "      <th>186126</th>\n",
       "      <td>NaN</td>\n",
       "      <td>NaN</td>\n",
       "      <td>NaN</td>\n",
       "      <td>32.0</td>\n",
       "      <td>C</td>\n",
       "      <td>20171113.0</td>\n",
       "      <td>NaN</td>\n",
       "      <td>NaN</td>\n",
       "      <td>NaN</td>\n",
       "      <td>Vitalia Diatchenko</td>\n",
       "      <td>NaN</td>\n",
       "      <td>170.0</td>\n",
       "      <td>RUS</td>\n",
       "      <td>NaN</td>\n",
       "      <td>NaN</td>\n",
       "      <td>NaN</td>\n",
       "      <td>NaN</td>\n",
       "      <td>NaN</td>\n",
       "      <td>NaN</td>\n",
       "      <td>NaN</td>\n",
       "      <td>NaN</td>\n",
       "      <td>0-6 6-2 6-4</td>\n",
       "      <td>3.0</td>\n",
       "      <td>NaN</td>\n",
       "      <td>115.0</td>\n",
       "      <td>NaN</td>\n",
       "      <td>8.0</td>\n",
       "      <td>NaN</td>\n",
       "      <td>NaN</td>\n",
       "      <td>NaN</td>\n",
       "      <td>NaN</td>\n",
       "      <td>NaN</td>\n",
       "      <td>3.0</td>\n",
       "      <td>NaN</td>\n",
       "      <td>NaN</td>\n",
       "      <td>0.0</td>\n",
       "      <td>75.0</td>\n",
       "      <td>NaN</td>\n",
       "      <td>NaN</td>\n",
       "      <td>13.0</td>\n",
       "      <td>NaN</td>\n",
       "      <td>3.0</td>\n",
       "      <td>NaN</td>\n",
       "      <td>176.0</td>\n",
       "      <td>NaN</td>\n",
       "      <td>NaN</td>\n",
       "      <td>NaN</td>\n",
       "      <td>3535.0</td>\n",
       "      <td>NaN</td>\n",
       "    </tr>\n",
       "  </tbody>\n",
       "</table>\n",
       "</div>"
      ],
      "text/plain": [
       "       tourney_id tourney_name surface  draw_size tourney_level  tourney_date  \\\n",
       "186075        NaN          NaN     NaN       32.0           NaN           NaN   \n",
       "186077        NaN          NaN     NaN        NaN           NaN           NaN   \n",
       "186079        NaN          NaN    Hard        NaN           NaN           NaN   \n",
       "186082        NaN          NaN     NaN        NaN             C           NaN   \n",
       "186086        NaN          NaN    Hard        NaN             C           NaN   \n",
       "186087        NaN          NaN    Hard       32.0           NaN           NaN   \n",
       "186091        NaN          NaN     NaN        NaN             C    20171113.0   \n",
       "186093        NaN       Taipei    Hard        NaN             C           NaN   \n",
       "186094        NaN       Taipei    Hard       32.0           NaN           NaN   \n",
       "186096        NaN          NaN     NaN        NaN           NaN           NaN   \n",
       "186098        NaN       Taipei    Hard       32.0           NaN           NaN   \n",
       "186101        NaN          NaN    Hard       32.0             C           NaN   \n",
       "186102        NaN          NaN    Hard        NaN           NaN           NaN   \n",
       "186104        NaN          NaN     NaN        NaN           NaN    20171113.0   \n",
       "186106        NaN          NaN    Hard       32.0             C           NaN   \n",
       "186108        NaN          NaN     NaN        NaN           NaN    20171113.0   \n",
       "186109        NaN          NaN    Hard       32.0           NaN           NaN   \n",
       "186110        NaN       Taipei    Hard        NaN           NaN           NaN   \n",
       "186112        NaN       Taipei     NaN       32.0           NaN           NaN   \n",
       "186115        NaN       Taipei     NaN        NaN           NaN           NaN   \n",
       "186117        NaN       Taipei     NaN       32.0             C           NaN   \n",
       "186119        NaN          NaN     NaN        NaN             C           NaN   \n",
       "186120        NaN          NaN    Hard        NaN           NaN           NaN   \n",
       "186121        NaN          NaN     NaN        NaN             C           NaN   \n",
       "186123        NaN          NaN    Hard       32.0           NaN    20171113.0   \n",
       "186125        NaN          NaN     NaN        NaN             C           NaN   \n",
       "186126        NaN          NaN     NaN       32.0             C    20171113.0   \n",
       "\n",
       "        match_num  winner_id winner_entry           winner_name winner_hand  \\\n",
       "186075      272.0        NaN          NaN                   NaN         NaN   \n",
       "186077      274.0        NaN          NaN       Magdalena Frech         NaN   \n",
       "186079      276.0        NaN          NaN                   NaN           R   \n",
       "186082      279.0        NaN          NaN   Jil Belen Teichmann           L   \n",
       "186086        NaN        NaN          NaN        Marie Bouzkova           R   \n",
       "186087        NaN        NaN          NaN     Viktorija Golubic         NaN   \n",
       "186091      288.0        NaN          NaN                   NaN           R   \n",
       "186093      290.0        NaN          NaN                   NaN         NaN   \n",
       "186094      291.0        NaN           WC        Belinda Bencic           R   \n",
       "186096        NaN        NaN          NaN                   NaN           R   \n",
       "186098      295.0        NaN          NaN          Naomi Broady           R   \n",
       "186101        NaN        NaN          NaN                   NaN         NaN   \n",
       "186102        NaN        NaN           WC        Belinda Bencic         NaN   \n",
       "186104        NaN        NaN          NaN                   NaN           U   \n",
       "186106      245.0        NaN          NaN      Dalila Jakupovic           R   \n",
       "186108        NaN        NaN          NaN                   NaN         NaN   \n",
       "186109      248.0        NaN          NaN    Vitalia Diatchenko         NaN   \n",
       "186110        NaN        NaN          NaN                   NaN         NaN   \n",
       "186112      251.0        NaN          NaN  Veronika Kudermetova           R   \n",
       "186115        NaN        NaN          NaN         Priscilla Hon           R   \n",
       "186117        NaN        NaN          NaN                   NaN         NaN   \n",
       "186119      246.0        NaN          NaN      Sabina Sharipova           R   \n",
       "186120        NaN        NaN          NaN                   NaN           R   \n",
       "186121        NaN        NaN          NaN                   NaN           R   \n",
       "186123      250.0        NaN          NaN                   NaN         NaN   \n",
       "186125        NaN        NaN          NaN      Dalila Jakupovic         NaN   \n",
       "186126        NaN        NaN          NaN    Vitalia Diatchenko         NaN   \n",
       "\n",
       "        winner_ht winner_ioc  winner_age  loser_id loser_entry  \\\n",
       "186075        NaN        NED   26.918549  203567.0         NaN   \n",
       "186077        NaN        NaN         NaN       NaN         NaN   \n",
       "186079      189.0        NaN         NaN       NaN         NaN   \n",
       "186082        NaN        SUI   20.331280  210931.0          WC   \n",
       "186086      180.0        NaN   19.315537  201667.0          WC   \n",
       "186087        NaN        SUI   25.075975  202693.0         NaN   \n",
       "186091      175.0        NaN   20.555784  211684.0         NaN   \n",
       "186093        NaN        NaN         NaN  203552.0         NaN   \n",
       "186094        NaN        SUI         NaN  211880.0           Q   \n",
       "186096        NaN        SUI         NaN  214544.0         NaN   \n",
       "186098      189.0        NaN   27.707050  206368.0           Q   \n",
       "186101        NaN        NED   26.918549  201648.0         NaN   \n",
       "186102        NaN        NaN         NaN       NaN         NaN   \n",
       "186104        NaN        USA   19.411362       NaN         NaN   \n",
       "186106        NaN        SLO   26.642026       NaN         NaN   \n",
       "186108        NaN        NaN   21.289528       NaN         NaN   \n",
       "186109        NaN        RUS   27.282683       NaN         NaN   \n",
       "186110        NaN        NaN         NaN       NaN          WC   \n",
       "186112        NaN        RUS   20.555784       NaN          WC   \n",
       "186115        NaN        AUS   19.512663  202614.0         NaN   \n",
       "186117      175.0        NaN         NaN  203576.0         NaN   \n",
       "186119        NaN        UZB   23.192334       NaN         NaN   \n",
       "186120        NaN        NaN   21.289528       NaN         NaN   \n",
       "186121        NaN        NaN         NaN       NaN         NaN   \n",
       "186123        NaN        NaN   26.206708  206075.0         NaN   \n",
       "186125        NaN        NaN   26.642026  201674.0         NaN   \n",
       "186126      170.0        RUS         NaN       NaN         NaN   \n",
       "\n",
       "             loser_name loser_hand  loser_ht loser_ioc  loser_age  \\\n",
       "186075              NaN          R       NaN       NaN  21.579740   \n",
       "186077              NaN        NaN       NaN       NaN        NaN   \n",
       "186079       Yafan Wang          R       NaN       CHN        NaN   \n",
       "186082    Ching Wen Hsu          R       NaN       TPE        NaN   \n",
       "186086              NaN          R       NaN       NaN  28.043806   \n",
       "186087              NaN          R       NaN       TPE        NaN   \n",
       "186091              NaN          R       NaN       POL  19.912389   \n",
       "186093       Risa Ozaki          R       NaN       NaN  23.594798   \n",
       "186094              NaN        NaN       NaN       NaN        NaN   \n",
       "186096  Aryna Sabalenka          R     182.0       BLR        NaN   \n",
       "186098              NaN          R       NaN       RUS        NaN   \n",
       "186101     Naomi Broady          R       NaN       NaN        NaN   \n",
       "186102              NaN          R       NaN       NaN  25.075975   \n",
       "186104       Carol Zhao          R       NaN       NaN        NaN   \n",
       "186106              NaN          U       NaN       MEX        NaN   \n",
       "186108              NaN        NaN       NaN       KOR  25.355236   \n",
       "186109              NaN        NaN       NaN       NaN        NaN   \n",
       "186110              NaN          U       NaN       NaN  20.731006   \n",
       "186112              NaN        NaN       NaN       USA  19.411362   \n",
       "186115  Jacqueline Cako        NaN       NaN       NaN        NaN   \n",
       "186117    Kai Lin Zhang        NaN       NaN       CHN  27.791923   \n",
       "186119              NaN          R     172.0       NaN        NaN   \n",
       "186120       Na Lae Han        NaN       NaN       NaN        NaN   \n",
       "186121    Vivian Heisen        NaN       NaN       GER        NaN   \n",
       "186123              NaN        NaN       NaN       NaN  26.904860   \n",
       "186125              NaN          R       NaN       UZB        NaN   \n",
       "186126              NaN        NaN       NaN       NaN        NaN   \n",
       "\n",
       "                    score  best_of round  minutes  w_ace  w_df  w_svpt  \\\n",
       "186075         7-6(4) 7-5      3.0   NaN      NaN    NaN   NaN     NaN   \n",
       "186077                NaN      3.0   NaN      NaN    2.0   NaN     NaN   \n",
       "186079     6-7(4) 6-2 6-3      NaN   R32      NaN    NaN   NaN     NaN   \n",
       "186082                NaN      3.0   NaN     55.0    0.0   0.0     NaN   \n",
       "186086            6-3 7-5      3.0   R32      NaN    2.0   NaN    67.0   \n",
       "186087                NaN      NaN   NaN      NaN    0.0   5.0    72.0   \n",
       "186091        1-6 6-3 6-4      NaN   R16      NaN    NaN   5.0     NaN   \n",
       "186093            6-4 6-2      3.0   R16     94.0    5.0   NaN     NaN   \n",
       "186094                NaN      NaN   NaN      NaN    3.0   4.0    61.0   \n",
       "186096            7-5 6-3      NaN   R16      NaN    NaN   1.0    71.0   \n",
       "186098                NaN      NaN    QF     54.0   12.0   1.0    50.0   \n",
       "186101                NaN      3.0   NaN      NaN    NaN   6.0     NaN   \n",
       "186102            6-2 6-4      NaN   NaN      NaN    NaN   NaN     NaN   \n",
       "186104  6-7(7) 7-6(6) 6-2      NaN   NaN    154.0    7.0  10.0   124.0   \n",
       "186106            6-2 6-3      3.0   NaN     69.0    0.0   NaN     NaN   \n",
       "186108                NaN      3.0    Q1     91.0    NaN   NaN    79.0   \n",
       "186109            6-3 6-2      3.0   NaN     74.0    NaN   NaN     NaN   \n",
       "186110                NaN      NaN    Q1      NaN    NaN   4.0     NaN   \n",
       "186112                NaN      NaN   NaN     71.0   10.0   NaN    63.0   \n",
       "186115            6-4 6-4      3.0   NaN     78.0    NaN   2.0    64.0   \n",
       "186117                NaN      NaN    Q1      NaN    NaN   NaN    87.0   \n",
       "186119                NaN      NaN   NaN     80.0    NaN   4.0    71.0   \n",
       "186120         7-6(3) 6-3      NaN   NaN     91.0    NaN   NaN    79.0   \n",
       "186121            6-3 6-2      NaN   NaN      NaN    NaN   3.0     NaN   \n",
       "186123        3-6 6-2 6-3      NaN   NaN      NaN    NaN   1.0     NaN   \n",
       "186125                NaN      3.0   NaN     70.0    NaN   2.0    55.0   \n",
       "186126        0-6 6-2 6-4      3.0   NaN    115.0    NaN   8.0     NaN   \n",
       "\n",
       "        w_1stIn  w_1stWon  w_2ndWon  w_SvGms  w_bpSaved  w_bpFaced  l_ace  \\\n",
       "186075     44.0      29.0      12.0      NaN        3.0        NaN    7.0   \n",
       "186077     40.0       NaN      13.0      NaN        3.0        6.0    NaN   \n",
       "186079      NaN       NaN       NaN     15.0        NaN        NaN    NaN   \n",
       "186082      NaN      21.0       NaN      NaN        NaN        NaN    0.0   \n",
       "186086     51.0       NaN       NaN     11.0        2.0        5.0    NaN   \n",
       "186087      NaN      32.0      10.0      NaN        NaN        7.0    NaN   \n",
       "186091      NaN       NaN      12.0      NaN        NaN        9.0    NaN   \n",
       "186093      NaN       NaN      18.0      9.0        NaN        5.0    3.0   \n",
       "186094      NaN      26.0      14.0     10.0        2.0        4.0    5.0   \n",
       "186096     48.0       NaN       NaN     10.0        4.0        7.0    NaN   \n",
       "186098      NaN       NaN       NaN      NaN        NaN        NaN    6.0   \n",
       "186101     59.0      45.0      16.0      NaN        5.0        7.0    NaN   \n",
       "186102     38.0      30.0       7.0      NaN        2.0        3.0    NaN   \n",
       "186104     84.0       NaN       NaN     16.0        NaN       13.0    9.0   \n",
       "186106      NaN      19.0       NaN      9.0        NaN        NaN    NaN   \n",
       "186108     49.0       NaN      11.0      NaN        NaN        8.0    0.0   \n",
       "186109      NaN       NaN      13.0      NaN        2.0        4.0    1.0   \n",
       "186110     30.0      23.0       NaN      NaN        NaN        3.0    7.0   \n",
       "186112      NaN      32.0       7.0     10.0        NaN        5.0    0.0   \n",
       "186115      NaN       NaN       NaN     10.0        4.0        NaN    NaN   \n",
       "186117     54.0      36.0       NaN     12.0        5.0        NaN    NaN   \n",
       "186119      NaN       NaN      13.0     10.0        3.0        6.0    4.0   \n",
       "186120      NaN      34.0      11.0      NaN        4.0        NaN    NaN   \n",
       "186121     32.0      22.0       NaN      NaN        NaN        4.0    NaN   \n",
       "186123     49.0      38.0      16.0      NaN        7.0        NaN    1.0   \n",
       "186125      NaN       NaN       NaN      NaN        6.0        8.0    1.0   \n",
       "186126      NaN       NaN       NaN      NaN        3.0        NaN    NaN   \n",
       "\n",
       "        l_df  l_svpt  l_1stIn  l_1stWon  l_2ndWon  l_SvGms  l_bpSaved  \\\n",
       "186075   3.0    79.0      NaN      32.0       NaN      NaN        1.0   \n",
       "186077   3.0    67.0     39.0      28.0       NaN     11.0        NaN   \n",
       "186079   NaN    89.0     57.0      37.0      14.0     14.0        NaN   \n",
       "186082   4.0    50.0      NaN      17.0       8.0      NaN        NaN   \n",
       "186086   2.0    60.0      NaN      20.0      11.0      NaN        2.0   \n",
       "186087   NaN     NaN      NaN      20.0       NaN     10.0        NaN   \n",
       "186091   NaN     NaN      NaN       NaN      11.0      NaN        5.0   \n",
       "186093   0.0     NaN      NaN      25.0      17.0      9.0        NaN   \n",
       "186094   2.0    68.0     35.0       NaN      13.0      NaN        NaN   \n",
       "186096   6.0     NaN      NaN      21.0       9.0     11.0        NaN   \n",
       "186098   2.0     NaN      NaN      18.0       3.0      NaN        0.0   \n",
       "186101   NaN     NaN      NaN       NaN       NaN     14.0        2.0   \n",
       "186102   3.0    65.0      NaN      22.0       NaN      NaN        4.0   \n",
       "186104   NaN     NaN      NaN       NaN      21.0      NaN        NaN   \n",
       "186106   3.0     NaN      NaN      19.0       NaN      8.0        5.0   \n",
       "186108   4.0     NaN      NaN       NaN       NaN      NaN        2.0   \n",
       "186109   NaN    63.0     26.0       NaN       NaN      8.0        NaN   \n",
       "186110   NaN    58.0     31.0       NaN       8.0      8.0        NaN   \n",
       "186112   NaN     NaN      NaN      27.0       7.0      NaN        NaN   \n",
       "186115   NaN    63.0     43.0      25.0       9.0     10.0        NaN   \n",
       "186117   8.0     NaN      NaN      23.0      15.0     12.0        NaN   \n",
       "186119   7.0     NaN      NaN       NaN      10.0      9.0        7.0   \n",
       "186120   4.0     NaN     41.0       NaN       9.0      NaN        2.0   \n",
       "186121   5.0    63.0     26.0       NaN      15.0      NaN        8.0   \n",
       "186123   3.0    93.0      NaN       NaN       NaN      NaN        7.0   \n",
       "186125   4.0     NaN      NaN       NaN       NaN      NaN        NaN   \n",
       "186126   0.0    75.0      NaN       NaN      13.0      NaN        3.0   \n",
       "\n",
       "        l_bpFaced  winner_rank  winner_rank_points  loser_rank  \\\n",
       "186075        5.0          NaN                 NaN       194.0   \n",
       "186077        9.0        172.0                 NaN       105.0   \n",
       "186079       12.0        122.0               501.0       174.0   \n",
       "186082       11.0          NaN               394.0       566.0   \n",
       "186086        NaN        182.0               320.0       333.0   \n",
       "186087        NaN        116.0               515.0         NaN   \n",
       "186091       11.0        255.0               217.0       172.0   \n",
       "186093        NaN          NaN               394.0         NaN   \n",
       "186094       10.0        120.0               502.0       231.0   \n",
       "186096        7.0          NaN                 NaN         NaN   \n",
       "186098        4.0        122.0                 NaN         NaN   \n",
       "186101        6.0          NaN                 NaN         NaN   \n",
       "186102        NaN        120.0               502.0       116.0   \n",
       "186104       22.0          NaN                 NaN       150.0   \n",
       "186106        NaN          NaN               228.0         NaN   \n",
       "186108        NaN          NaN                 NaN         NaN   \n",
       "186109        NaN          NaN                 NaN         NaN   \n",
       "186110        NaN        231.0                 NaN         NaN   \n",
       "186112        NaN          NaN                 NaN         NaN   \n",
       "186115        NaN          NaN               243.0       181.0   \n",
       "186117        NaN          NaN               217.0       208.0   \n",
       "186119       12.0        196.0                 NaN         NaN   \n",
       "186120        NaN        230.0                 NaN       250.0   \n",
       "186121        NaN        176.0               335.0         NaN   \n",
       "186123       11.0          NaN               322.0       280.0   \n",
       "186125       11.0          NaN                 NaN         NaN   \n",
       "186126        NaN        176.0                 NaN         NaN   \n",
       "\n",
       "        loser_rank_points  tourney_spectators  tourney_revenue  \n",
       "186075                NaN                 NaN              NaN  \n",
       "186077                NaN                 NaN              NaN  \n",
       "186079                NaN              3535.0        638954.72  \n",
       "186082                NaN              3535.0              NaN  \n",
       "186086                NaN              3535.0        638954.72  \n",
       "186087              138.0              3535.0              NaN  \n",
       "186091                NaN              3535.0              NaN  \n",
       "186093                NaN                 NaN              NaN  \n",
       "186094                NaN                 NaN              NaN  \n",
       "186096                NaN              3535.0        638954.72  \n",
       "186098              217.0                 NaN              NaN  \n",
       "186101              501.0              3535.0              NaN  \n",
       "186102              515.0              3535.0        638954.72  \n",
       "186104              390.0                 NaN              NaN  \n",
       "186106              204.0              3535.0        638954.72  \n",
       "186108                NaN                 NaN              NaN  \n",
       "186109              131.0              3535.0        638954.72  \n",
       "186110                8.0                 NaN              NaN  \n",
       "186112               27.0              3535.0              NaN  \n",
       "186115              322.0                 NaN              NaN  \n",
       "186117              274.0                 NaN              NaN  \n",
       "186119              231.0              3535.0        638954.72  \n",
       "186120              221.0                 NaN              NaN  \n",
       "186121              131.0              3535.0        638954.72  \n",
       "186123              183.0                 NaN              NaN  \n",
       "186125                NaN                 NaN              NaN  \n",
       "186126                NaN              3535.0              NaN  "
      ]
     },
     "execution_count": 9,
     "metadata": {},
     "output_type": "execute_result"
    }
   ],
   "source": [
    "df[(df[\"tourney_id\"].isnull())]"
   ]
  },
  {
   "cell_type": "markdown",
   "id": "4fe45dbb-0bcf-4a71-84f4-efbec9f01c28",
   "metadata": {},
   "source": [
    "**We can not infer with 100 % degree of certainity the tourney attributes in these 27 rows.\n",
    "We decided to keep them, even if many missing values are present, to make future analysis (i.e. winner_name is not null in all the rows so it can be used to incremente the number of won matches by that players.)**"
   ]
  },
  {
   "cell_type": "markdown",
   "id": "892b575b-22bd-4e2b-aada-39ddaab75a42",
   "metadata": {},
   "source": [
    "### Checking tourney_name"
   ]
  },
  {
   "cell_type": "code",
   "execution_count": 10,
   "id": "7e88966e-fc3f-4eca-b952-dbd52c076d36",
   "metadata": {
    "tags": []
   },
   "outputs": [
    {
     "data": {
      "text/plain": [
       "20"
      ]
     },
     "execution_count": 10,
     "metadata": {},
     "output_type": "execute_result"
    }
   ],
   "source": [
    "df[(df[\"tourney_name\"].isnull())].shape[0]"
   ]
  },
  {
   "cell_type": "markdown",
   "id": "20d0fb5a-d11b-42d9-aeb7-2129d9aeb261",
   "metadata": {},
   "source": [
    "Trying to find the tourney_name based on the tourney_id"
   ]
  },
  {
   "cell_type": "code",
   "execution_count": 11,
   "id": "23d5bea3-dbaf-4d84-9e23-810d43a40ba1",
   "metadata": {
    "tags": []
   },
   "outputs": [
    {
     "data": {
      "text/plain": [
       "0"
      ]
     },
     "execution_count": 11,
     "metadata": {},
     "output_type": "execute_result"
    }
   ],
   "source": [
    "rows = fix_based_on_id('tourney_id', 'tourney_name')\n",
    "rows"
   ]
  },
  {
   "cell_type": "markdown",
   "id": "ca4ea341-966d-441a-b052-d03712527ff0",
   "metadata": {},
   "source": [
    "Trying to find the tourney_name based on the tourney_date and revenue"
   ]
  },
  {
   "cell_type": "code",
   "execution_count": 12,
   "id": "789a1102-84a5-4535-9d91-06855edac14b",
   "metadata": {},
   "outputs": [
    {
     "data": {
      "text/html": [
       "<div>\n",
       "<style scoped>\n",
       "    .dataframe tbody tr th:only-of-type {\n",
       "        vertical-align: middle;\n",
       "    }\n",
       "\n",
       "    .dataframe tbody tr th {\n",
       "        vertical-align: top;\n",
       "    }\n",
       "\n",
       "    .dataframe thead th {\n",
       "        text-align: right;\n",
       "    }\n",
       "</style>\n",
       "<table border=\"1\" class=\"dataframe\">\n",
       "  <thead>\n",
       "    <tr style=\"text-align: right;\">\n",
       "      <th></th>\n",
       "      <th>tourney_id</th>\n",
       "      <th>tourney_name</th>\n",
       "      <th>surface</th>\n",
       "      <th>draw_size</th>\n",
       "      <th>tourney_level</th>\n",
       "      <th>tourney_date</th>\n",
       "      <th>match_num</th>\n",
       "      <th>winner_id</th>\n",
       "      <th>winner_entry</th>\n",
       "      <th>winner_name</th>\n",
       "      <th>winner_hand</th>\n",
       "      <th>winner_ht</th>\n",
       "      <th>winner_ioc</th>\n",
       "      <th>winner_age</th>\n",
       "      <th>loser_id</th>\n",
       "      <th>loser_entry</th>\n",
       "      <th>loser_name</th>\n",
       "      <th>loser_hand</th>\n",
       "      <th>loser_ht</th>\n",
       "      <th>loser_ioc</th>\n",
       "      <th>loser_age</th>\n",
       "      <th>score</th>\n",
       "      <th>best_of</th>\n",
       "      <th>round</th>\n",
       "      <th>minutes</th>\n",
       "      <th>w_ace</th>\n",
       "      <th>w_df</th>\n",
       "      <th>w_svpt</th>\n",
       "      <th>w_1stIn</th>\n",
       "      <th>w_1stWon</th>\n",
       "      <th>w_2ndWon</th>\n",
       "      <th>w_SvGms</th>\n",
       "      <th>w_bpSaved</th>\n",
       "      <th>w_bpFaced</th>\n",
       "      <th>l_ace</th>\n",
       "      <th>l_df</th>\n",
       "      <th>l_svpt</th>\n",
       "      <th>l_1stIn</th>\n",
       "      <th>l_1stWon</th>\n",
       "      <th>l_2ndWon</th>\n",
       "      <th>l_SvGms</th>\n",
       "      <th>l_bpSaved</th>\n",
       "      <th>l_bpFaced</th>\n",
       "      <th>winner_rank</th>\n",
       "      <th>winner_rank_points</th>\n",
       "      <th>loser_rank</th>\n",
       "      <th>loser_rank_points</th>\n",
       "      <th>tourney_spectators</th>\n",
       "      <th>tourney_revenue</th>\n",
       "    </tr>\n",
       "  </thead>\n",
       "  <tbody>\n",
       "  </tbody>\n",
       "</table>\n",
       "</div>"
      ],
      "text/plain": [
       "Empty DataFrame\n",
       "Columns: [tourney_id, tourney_name, surface, draw_size, tourney_level, tourney_date, match_num, winner_id, winner_entry, winner_name, winner_hand, winner_ht, winner_ioc, winner_age, loser_id, loser_entry, loser_name, loser_hand, loser_ht, loser_ioc, loser_age, score, best_of, round, minutes, w_ace, w_df, w_svpt, w_1stIn, w_1stWon, w_2ndWon, w_SvGms, w_bpSaved, w_bpFaced, l_ace, l_df, l_svpt, l_1stIn, l_1stWon, l_2ndWon, l_SvGms, l_bpSaved, l_bpFaced, winner_rank, winner_rank_points, loser_rank, loser_rank_points, tourney_spectators, tourney_revenue]\n",
       "Index: []"
      ]
     },
     "execution_count": 12,
     "metadata": {},
     "output_type": "execute_result"
    }
   ],
   "source": [
    "df[(df[\"tourney_name\"].isnull()) & (df[\"tourney_date\"].notnull()) & (df[\"tourney_revenue\"].notnull())]"
   ]
  },
  {
   "cell_type": "markdown",
   "id": "27fee9c7-5045-43ef-9b6e-feb4ce6ec3a6",
   "metadata": {},
   "source": [
    "There aren't enough information to replace the tourney_name."
   ]
  },
  {
   "cell_type": "markdown",
   "id": "0d38d7aa-02c5-4edc-b312-6f96e885da16",
   "metadata": {
    "tags": []
   },
   "source": [
    "### Checking tourney_date"
   ]
  },
  {
   "cell_type": "code",
   "execution_count": 13,
   "id": "76b59936-d210-45b3-972b-49b622884b39",
   "metadata": {
    "tags": []
   },
   "outputs": [
    {
     "data": {
      "text/plain": [
       "22"
      ]
     },
     "execution_count": 13,
     "metadata": {},
     "output_type": "execute_result"
    }
   ],
   "source": [
    "df[(df[\"tourney_date\"].isnull())].shape[0]"
   ]
  },
  {
   "cell_type": "markdown",
   "id": "48e85628-81c0-490c-a953-229d250a580c",
   "metadata": {},
   "source": [
    "Trying to find the tourney_date based on the tourney_id"
   ]
  },
  {
   "cell_type": "code",
   "execution_count": 14,
   "id": "851de996-d9fb-4090-8bda-dee05bf88f87",
   "metadata": {
    "tags": []
   },
   "outputs": [
    {
     "data": {
      "text/plain": [
       "0"
      ]
     },
     "execution_count": 14,
     "metadata": {},
     "output_type": "execute_result"
    }
   ],
   "source": [
    "rows = fix_based_on_id('tourney_id', 'tourney_date')\n",
    "rows"
   ]
  },
  {
   "cell_type": "markdown",
   "id": "017e4bbf-a5fa-4348-a0e0-d7b3d71d5482",
   "metadata": {},
   "source": [
    "Trying to find the tourney_date based on the tourney_name and tourney_revenue"
   ]
  },
  {
   "cell_type": "code",
   "execution_count": 15,
   "id": "3a3abaed-302d-416b-bcff-c1163dabaee5",
   "metadata": {
    "tags": []
   },
   "outputs": [
    {
     "data": {
      "text/html": [
       "<div>\n",
       "<style scoped>\n",
       "    .dataframe tbody tr th:only-of-type {\n",
       "        vertical-align: middle;\n",
       "    }\n",
       "\n",
       "    .dataframe tbody tr th {\n",
       "        vertical-align: top;\n",
       "    }\n",
       "\n",
       "    .dataframe thead th {\n",
       "        text-align: right;\n",
       "    }\n",
       "</style>\n",
       "<table border=\"1\" class=\"dataframe\">\n",
       "  <thead>\n",
       "    <tr style=\"text-align: right;\">\n",
       "      <th></th>\n",
       "      <th>tourney_id</th>\n",
       "      <th>tourney_name</th>\n",
       "      <th>surface</th>\n",
       "      <th>draw_size</th>\n",
       "      <th>tourney_level</th>\n",
       "      <th>tourney_date</th>\n",
       "      <th>match_num</th>\n",
       "      <th>winner_id</th>\n",
       "      <th>winner_entry</th>\n",
       "      <th>winner_name</th>\n",
       "      <th>winner_hand</th>\n",
       "      <th>winner_ht</th>\n",
       "      <th>winner_ioc</th>\n",
       "      <th>winner_age</th>\n",
       "      <th>loser_id</th>\n",
       "      <th>loser_entry</th>\n",
       "      <th>loser_name</th>\n",
       "      <th>loser_hand</th>\n",
       "      <th>loser_ht</th>\n",
       "      <th>loser_ioc</th>\n",
       "      <th>loser_age</th>\n",
       "      <th>score</th>\n",
       "      <th>best_of</th>\n",
       "      <th>round</th>\n",
       "      <th>minutes</th>\n",
       "      <th>w_ace</th>\n",
       "      <th>w_df</th>\n",
       "      <th>w_svpt</th>\n",
       "      <th>w_1stIn</th>\n",
       "      <th>w_1stWon</th>\n",
       "      <th>w_2ndWon</th>\n",
       "      <th>w_SvGms</th>\n",
       "      <th>w_bpSaved</th>\n",
       "      <th>w_bpFaced</th>\n",
       "      <th>l_ace</th>\n",
       "      <th>l_df</th>\n",
       "      <th>l_svpt</th>\n",
       "      <th>l_1stIn</th>\n",
       "      <th>l_1stWon</th>\n",
       "      <th>l_2ndWon</th>\n",
       "      <th>l_SvGms</th>\n",
       "      <th>l_bpSaved</th>\n",
       "      <th>l_bpFaced</th>\n",
       "      <th>winner_rank</th>\n",
       "      <th>winner_rank_points</th>\n",
       "      <th>loser_rank</th>\n",
       "      <th>loser_rank_points</th>\n",
       "      <th>tourney_spectators</th>\n",
       "      <th>tourney_revenue</th>\n",
       "    </tr>\n",
       "  </thead>\n",
       "  <tbody>\n",
       "  </tbody>\n",
       "</table>\n",
       "</div>"
      ],
      "text/plain": [
       "Empty DataFrame\n",
       "Columns: [tourney_id, tourney_name, surface, draw_size, tourney_level, tourney_date, match_num, winner_id, winner_entry, winner_name, winner_hand, winner_ht, winner_ioc, winner_age, loser_id, loser_entry, loser_name, loser_hand, loser_ht, loser_ioc, loser_age, score, best_of, round, minutes, w_ace, w_df, w_svpt, w_1stIn, w_1stWon, w_2ndWon, w_SvGms, w_bpSaved, w_bpFaced, l_ace, l_df, l_svpt, l_1stIn, l_1stWon, l_2ndWon, l_SvGms, l_bpSaved, l_bpFaced, winner_rank, winner_rank_points, loser_rank, loser_rank_points, tourney_spectators, tourney_revenue]\n",
       "Index: []"
      ]
     },
     "execution_count": 15,
     "metadata": {},
     "output_type": "execute_result"
    }
   ],
   "source": [
    "df[(df['tourney_date'].isnull()) & (df['tourney_name'].notnull()) & (df['tourney_revenue'].notnull())]"
   ]
  },
  {
   "cell_type": "markdown",
   "id": "0ce0f3e4-f694-4453-b568-5117b7e3c7b5",
   "metadata": {},
   "source": [
    "### Checking surface"
   ]
  },
  {
   "cell_type": "markdown",
   "id": "ce181f1a-2990-48d9-842e-f9f2563b12cb",
   "metadata": {},
   "source": [
    "Let's check if there is some rows with surface that is NaN and with tourney_id defined"
   ]
  },
  {
   "cell_type": "code",
   "execution_count": 16,
   "id": "ce4a8851-f3f7-4037-8ae0-563572db2c9e",
   "metadata": {
    "tags": []
   },
   "outputs": [
    {
     "data": {
      "text/plain": [
       "171"
      ]
     },
     "execution_count": 16,
     "metadata": {},
     "output_type": "execute_result"
    }
   ],
   "source": [
    "df[(df[\"surface\"].isnull()) & (df[\"tourney_id\"].notnull())].shape[0]"
   ]
  },
  {
   "cell_type": "code",
   "execution_count": 17,
   "id": "7a3820fd-a3c2-4ea7-b285-884fcb04173f",
   "metadata": {},
   "outputs": [
    {
     "data": {
      "text/plain": [
       "9"
      ]
     },
     "execution_count": 17,
     "metadata": {},
     "output_type": "execute_result"
    }
   ],
   "source": [
    "rows = fix_based_on_id('tourney_id', 'surface')\n",
    "rows"
   ]
  },
  {
   "cell_type": "markdown",
   "id": "833bb0e9-450f-42b8-829c-11b003ee5dad",
   "metadata": {},
   "source": [
    "9 rows fixed."
   ]
  },
  {
   "cell_type": "markdown",
   "id": "6f23e38b-b600-4ed6-a95c-597aae5644d2",
   "metadata": {},
   "source": [
    "### Checking draw_size"
   ]
  },
  {
   "cell_type": "markdown",
   "id": "c1190bfe-86b7-40c7-809f-c87b3c4f9d1c",
   "metadata": {},
   "source": [
    "Let's check if there is some rows with draw_size that is NaN and with tourney_id defined"
   ]
  },
  {
   "cell_type": "code",
   "execution_count": 18,
   "id": "b03cd311-5b56-44f3-80b3-db857264c583",
   "metadata": {
    "tags": []
   },
   "outputs": [
    {
     "data": {
      "text/plain": [
       "10"
      ]
     },
     "execution_count": 18,
     "metadata": {},
     "output_type": "execute_result"
    }
   ],
   "source": [
    "df[(df[\"draw_size\"].isnull()) & (df[\"tourney_id\"].notnull())].shape[0]"
   ]
  },
  {
   "cell_type": "code",
   "execution_count": 19,
   "id": "eb085d7c-e6a8-499b-9167-1e43937a3bd5",
   "metadata": {},
   "outputs": [
    {
     "data": {
      "text/plain": [
       "10"
      ]
     },
     "execution_count": 19,
     "metadata": {},
     "output_type": "execute_result"
    }
   ],
   "source": [
    "rows = fix_based_on_id('tourney_id', 'draw_size')\n",
    "rows"
   ]
  },
  {
   "cell_type": "markdown",
   "id": "fc5484aa-aab5-44f1-b3c7-54a08e38ec76",
   "metadata": {},
   "source": [
    "### Checking tourney_spectators"
   ]
  },
  {
   "cell_type": "markdown",
   "id": "9c8f116f-7881-4853-8706-1eae4c14f566",
   "metadata": {},
   "source": [
    "Checking if there are row in which there is the tourney_id bu not the tourney_spectators"
   ]
  },
  {
   "cell_type": "code",
   "execution_count": 20,
   "id": "7a9ad947-2f09-4a26-8b7a-425a9742d107",
   "metadata": {},
   "outputs": [
    {
     "data": {
      "text/plain": [
       "8"
      ]
     },
     "execution_count": 20,
     "metadata": {},
     "output_type": "execute_result"
    }
   ],
   "source": [
    "df[(df[\"tourney_spectators\"].isnull()) & (df[\"tourney_id\"].notnull())].shape[0]"
   ]
  },
  {
   "cell_type": "code",
   "execution_count": 21,
   "id": "419cc3af-cd96-41b9-a2fc-6f14cd51bc39",
   "metadata": {},
   "outputs": [
    {
     "data": {
      "text/plain": [
       "8"
      ]
     },
     "execution_count": 21,
     "metadata": {},
     "output_type": "execute_result"
    }
   ],
   "source": [
    "rows = fix_based_on_id('tourney_id', 'tourney_spectators')\n",
    "rows"
   ]
  },
  {
   "cell_type": "markdown",
   "id": "a233b1c0-2821-4f51-a146-f039a4d50976",
   "metadata": {},
   "source": [
    "Done"
   ]
  },
  {
   "cell_type": "markdown",
   "id": "be48bdda-ab80-4a75-aaad-a7542f611e64",
   "metadata": {},
   "source": [
    "### Checking tourney_revenue"
   ]
  },
  {
   "cell_type": "markdown",
   "id": "60bdce81-4d75-41d5-b4e5-66aa71f952db",
   "metadata": {},
   "source": [
    "Checking if there are row in which there is the tourney_id but not the tourney_revenue"
   ]
  },
  {
   "cell_type": "code",
   "execution_count": 22,
   "id": "d422e0c0-e999-4d01-bc40-0d3ef630650c",
   "metadata": {},
   "outputs": [
    {
     "data": {
      "text/plain": [
       "7"
      ]
     },
     "execution_count": 22,
     "metadata": {},
     "output_type": "execute_result"
    }
   ],
   "source": [
    "df[(df[\"tourney_revenue\"].isnull()) & (df[\"tourney_id\"].notnull())].shape[0]"
   ]
  },
  {
   "cell_type": "code",
   "execution_count": 23,
   "id": "d62d1ed8-7268-4b45-ac8f-0df551c31739",
   "metadata": {},
   "outputs": [
    {
     "data": {
      "text/plain": [
       "7"
      ]
     },
     "execution_count": 23,
     "metadata": {},
     "output_type": "execute_result"
    }
   ],
   "source": [
    "rows = fix_based_on_id('tourney_id', 'tourney_revenue')\n",
    "rows"
   ]
  },
  {
   "cell_type": "markdown",
   "id": "7d6f6d6f-3aa3-4c8a-9a6d-bf0bc2ba7304",
   "metadata": {},
   "source": [
    "Done"
   ]
  },
  {
   "cell_type": "markdown",
   "id": "a0dc7deb-71c2-4054-8237-24d55ab03f61",
   "metadata": {},
   "source": [
    "Before checking if winners and losers' attributes can be fixed through the winner or loser ids, I want to check that there is different winner/loser names with the same id."
   ]
  },
  {
   "cell_type": "code",
   "execution_count": 24,
   "id": "3828c392-a213-498e-9b12-d8211c88b267",
   "metadata": {},
   "outputs": [
    {
     "name": "stdout",
     "output_type": "stream",
     "text": [
      "=============== WINNERS ===============\n",
      "202434.0 ['Aleksandra Krunic' 'Ricardo Ortiz']\n",
      "202421.0 ['Alison Van Uytvanck' 'George Houghton']\n",
      "206173.0 ['Jannik Sinner' 'Beatrice Lombardo']\n",
      "202475.0 ['Philip Henning' 'Jasmina Tinjic']\n",
      "202426.0 ['Julia Boserup' 'Matt Halpin']\n",
      "202420.0 ['An Sophie Mestach' 'Aidan Mchugh']\n",
      "206091.0 ['Yolande Leacock' 'Yan Bondarevskiy']\n",
      "206171.0 ['Alice Bacquie' 'Barnaby Smith']\n",
      "206137.0 ['Oleksandra Piskun' 'Andrej Glvac']\n",
      "202359.0 ['Chin Wei Chan' 'Marvin Moeller']\n",
      "216569.0 ['Zeynep  Sena Sarioglan' 'Zeynep Sena Sarioglan']\n",
      "202349.0 ['Rushmi Chakravarthi' 'Kai Lemstra']\n",
      "208147.0 ['Alexandre Aubriot' 'Pamela Duran Vinueza']\n",
      "=============== LOSERS ===============\n",
      "202428.0 ['Kiki Bertens' 'Joao Pedro Alcantara']\n",
      "202434.0 ['Aleksandra Krunic' 'Ricardo Ortiz']\n",
      "202429.0 ['Camila Giorgi' 'David Lucas Ambrozic']\n",
      "202421.0 ['Alison Van Uytvanck' 'George Houghton']\n",
      "200033.0 ['Serena Williams' 'Kushaan Nath']\n",
      "202437.0 ['Anastasia Grymalska' 'Yang Liu']\n",
      "202440.0 ['Paula Ormaechea' 'Marco Miceli']\n",
      "202436.0 ['Reka Luca Jani' 'Zi Yang Cai']\n",
      "206173.0 ['Jannik Sinner' 'Beatrice Lombardo']\n",
      "202420.0 ['Aidan Mchugh' 'An Sophie Mestach']\n",
      "202443.0 ['Valeria Savinykh' 'Tobias Sonne']\n",
      "207990.0 ['Moritz Thiem' 'Marine Nizri Spiegel']\n",
      "202426.0 ['Julia Boserup' 'Matt Halpin']\n",
      "206000.0 ['Michel Saade' 'Kana Daniel']\n",
      "202359.0 ['Marvin Moeller' 'Chin Wei Chan']\n",
      "205842.0 ['Carla Lucero' 'Arthur Reymond']\n",
      "202277.0 ['Mariana Correa' 'Damien Wenger']\n",
      "202414.0 ['Catherine Harrison' 'Alexandre Rotsaert']\n",
      "205941.0 ['Ganna Poznikhirenko' 'Rishi Reddy']\n",
      "205984.0 ['Linda Prenkovic' 'Daniil Klimov']\n",
      "206430.0 ['Carolina Meligeni Rodrigues Alves' 'Andrea Del Federico']\n",
      "206091.0 ['Yolande Leacock' 'Yan Bondarevskiy']\n",
      "202433.0 ['Anna Giulia Remondina' 'Cong Tien Le']\n",
      "202447.0 ['Alexandra Mueller' 'Naru Shirafuji']\n",
      "206145.0 ['Diana Sumova' 'Thomas Wright']\n",
      "206003.0 ['Laura Schaeder' 'Chih Chi Huang']\n",
      "206403.0 ['Alona Fomina' 'Alena Fomina']\n",
      "206137.0 ['Oleksandra Piskun' 'Andrej Glvac']\n",
      "209866.0 ['Grace Leake' 'Karlis Ozolins']\n",
      "206171.0 ['Alice Bacquie' 'Barnaby Smith']\n",
      "206363.0 ['Anna Danilina' 'Alexander Wolfschmidt']\n",
      "206299.0 ['Sarah Adegoke' 'Max Benaim']\n",
      "206579.0 ['Sarah Tami Masi' 'Sean Van Rensburg']\n",
      "206426.0 ['Giulia Pairone' 'Mihailo Samardzija']\n",
      "206258.0 ['Dunja Stamenkovic' 'Saul Verdugo Vicente']\n",
      "216569.0 ['Zeynep  Sena Sarioglan' 'Zeynep Sena Sarioglan']\n",
      "202477.0 ['Dinah Pfizenmaier' 'Milan Radojkovic']\n",
      "206377.0 ['Emma Janssen' 'Michel Alexandre Fortin']\n",
      "208518.0 ['Ana Paula Saviole' 'Hazem Naw']\n",
      "202432.0 ['Hilda Melander' 'Nick Stachowiak']\n",
      "202349.0 ['Rushmi Chakravarthi' 'Kai Lemstra']\n",
      "206062.0 ['Adrija Runcha' 'Werapath Sirijariyaporn']\n",
      "202419.0 ['Barbara Luz' 'Justin Schlageter']\n",
      "208603.0 ['Amira Benaissa' 'Cleeve Harper']\n",
      "208147.0 ['Alexandre Aubriot' 'Pamela Duran Vinueza']\n",
      "206199.0 ['Kevin Cheruiyot' 'Ai Wen Zhu']\n",
      "205831.0 ['Ammar Alhogbani' 'Isabella Robbiani']\n",
      "202273.0 ['Anurag Nenwani' 'Liga Dekmeijere']\n"
     ]
    }
   ],
   "source": [
    "not_unique_winner_ids = []\n",
    "not_unique_loser_ids = []\n",
    "\n",
    "print (\"=============== WINNERS ===============\")\n",
    "for id in df['winner_id'].dropna().unique().tolist():\n",
    "    if len(df[df['winner_id'] == id]['winner_name'].dropna().unique().tolist()) > 1:\n",
    "        print (id, df[df['winner_id'] == id]['winner_name'].dropna().unique())\n",
    "        not_unique_winner_ids.append(id)\n",
    "        \n",
    "print (\"=============== LOSERS ===============\")\n",
    "for id in df['loser_id'].dropna().unique().tolist():\n",
    "    if len(df[df['loser_id'] == id]['loser_name'].dropna().unique().tolist()) > 1:\n",
    "        not_unique_loser_ids.append(id)\n",
    "        print (id, df[df['loser_id'] == id]['loser_name'].dropna().unique())"
   ]
  },
  {
   "cell_type": "markdown",
   "id": "7a034280-ce05-45a1-be74-3480835ffd1d",
   "metadata": {},
   "source": [
    "There are different players who have the same player_id. This is a problem in case we want to fix some missing values based on players ids. **We decided to use the name as unique identifier for the players.**"
   ]
  },
  {
   "cell_type": "markdown",
   "id": "c901859e-f407-4309-a62b-099260784add",
   "metadata": {},
   "source": [
    "### Checking winner_name and loser_name"
   ]
  },
  {
   "cell_type": "code",
   "execution_count": 25,
   "id": "3406a0b8-9b6d-49b5-a3b9-a7e75e0ab921",
   "metadata": {},
   "outputs": [
    {
     "data": {
      "text/plain": [
       "0"
      ]
     },
     "execution_count": 25,
     "metadata": {},
     "output_type": "execute_result"
    }
   ],
   "source": [
    "df[(df[\"winner_name\"].isnull()) & (df[\"winner_id\"].notnull())].shape[0]"
   ]
  },
  {
   "cell_type": "markdown",
   "id": "00afa0a4-505e-459e-9925-dba58d7d0bfa",
   "metadata": {},
   "source": [
    "There aren't enough information to replace the winner_name. (winner_id is NaN for each row in which winner_name is NaN)"
   ]
  },
  {
   "cell_type": "code",
   "execution_count": 26,
   "id": "16e26a67-41a4-4d4c-91a2-e4934b3ad66f",
   "metadata": {},
   "outputs": [
    {
     "data": {
      "text/plain": [
       "12"
      ]
     },
     "execution_count": 26,
     "metadata": {},
     "output_type": "execute_result"
    }
   ],
   "source": [
    "df[(df[\"loser_name\"].isnull()) & (df[\"loser_id\"].notnull())].shape[0]"
   ]
  },
  {
   "cell_type": "markdown",
   "id": "f0a57bf6-6a50-4aee-b32f-3610e3f1cd07",
   "metadata": {},
   "source": [
    "some loser_name maybe can be fixed. We need to consider that we have different players with same id so we need to figure out if a lsoer_id is only one name associated or not: is this is true we can replace the name."
   ]
  },
  {
   "cell_type": "code",
   "execution_count": 27,
   "id": "18bdfcb2-b875-4aec-8cf3-fe86ee452bc4",
   "metadata": {},
   "outputs": [],
   "source": [
    "loser_ids = list(df[(df['loser_name'].isnull()) & (df[\"loser_id\"].notnull())][\"loser_id\"].unique())\n",
    "for loser_id in loser_ids:\n",
    "    if loser_id in not_unique_loser_ids:\n",
    "        print (loser_id)"
   ]
  },
  {
   "cell_type": "markdown",
   "id": "e433a4c4-d385-444d-a2bf-d839925dd493",
   "metadata": {},
   "source": [
    "Ok we can fix all of this missing values."
   ]
  },
  {
   "cell_type": "code",
   "execution_count": 28,
   "id": "5c8c92b8-1c52-4fa5-9df2-e7e17e6b957e",
   "metadata": {},
   "outputs": [
    {
     "data": {
      "text/plain": [
       "12"
      ]
     },
     "execution_count": 28,
     "metadata": {},
     "output_type": "execute_result"
    }
   ],
   "source": [
    "rows = fix_based_on_id('loser_id', 'loser_name')\n",
    "rows"
   ]
  },
  {
   "cell_type": "markdown",
   "id": "c0e29329-9a1c-4602-8927-6792aa014a32",
   "metadata": {
    "tags": []
   },
   "source": [
    "All loser_name fixed."
   ]
  },
  {
   "cell_type": "markdown",
   "id": "514ddcd5-0645-49a6-9907-e69f4e81832e",
   "metadata": {},
   "source": [
    "#### Checking for alphanumeric codes in names"
   ]
  },
  {
   "cell_type": "code",
   "execution_count": 29,
   "id": "e94488a5-407e-4a98-88e1-65b0d83e49ca",
   "metadata": {},
   "outputs": [
    {
     "data": {
      "text/plain": [
       "array(['Alejandro Gomez Gb42', 'Ekaterina Makarova 1996',\n",
       "       'Alejandro Gomez Gb42', 'Michael Grant Gd13',\n",
       "       'Ekaterina Makarova 1996'], dtype='<U23')"
      ]
     },
     "execution_count": 29,
     "metadata": {},
     "output_type": "execute_result"
    }
   ],
   "source": [
    "regex = r'\\b\\s[a-zA-Z]*[0-9]+[a-zA-Z]*\\b\\s*' # this regex find all the word that has the code pattern\n",
    "findings = []\n",
    "\n",
    "not_null_winner = df[df[\"winner_name\"].notnull()]\n",
    "for elem in not_null_winner[\"winner_name\"].unique():\n",
    "    if bool(re.search(r'\\d', elem)):\n",
    "        findings.append(elem)\n",
    "\n",
    "not_null_loser = df[df[\"loser_name\"].notnull()]\n",
    "for elem in not_null_loser[\"loser_name\"].unique():\n",
    "    if bool(re.search(r'\\d', elem)):\n",
    "        findings.append(elem)\n",
    "\n",
    "del not_null_loser\n",
    "del not_null_winner\n",
    "np.array(findings) # pretty print"
   ]
  },
  {
   "cell_type": "markdown",
   "id": "cd864ff2-7f95-4a52-801c-d45eb2559ad0",
   "metadata": {},
   "source": [
    "Fixing them"
   ]
  },
  {
   "cell_type": "code",
   "execution_count": 30,
   "id": "e7cbf2fe-2a63-4129-b896-44e2a3ff85d3",
   "metadata": {},
   "outputs": [],
   "source": [
    "#removing codes from names with rege\n",
    "regex = r'(.*?)\\b\\s[a-zA-Z]*[0-9]+[a-zA-Z]*\\b\\s*'\n",
    "df[\"winner_name\"].replace(to_replace=regex, value=r\"\\1\", regex=True, inplace=True)\n",
    "df[\"loser_name\"].replace(to_replace=regex, value=r\"\\1\", regex=True, inplace=True)"
   ]
  },
  {
   "cell_type": "markdown",
   "id": "ee1d209e-b827-4d1f-9ae8-07f00cdb2d44",
   "metadata": {},
   "source": [
    "### Checking winner and loser IOC"
   ]
  },
  {
   "cell_type": "code",
   "execution_count": 31,
   "id": "3de21cd6-b695-466d-b3ab-08d891781a97",
   "metadata": {
    "tags": []
   },
   "outputs": [
    {
     "data": {
      "text/plain": [
       "0"
      ]
     },
     "execution_count": 31,
     "metadata": {},
     "output_type": "execute_result"
    }
   ],
   "source": [
    "df[(df[\"winner_ioc\"].isnull()) & (df[\"winner_id\"].notnull())].shape[0]"
   ]
  },
  {
   "cell_type": "markdown",
   "id": "4bfe9470-9592-4a27-b55b-f6d4297ee0f6",
   "metadata": {},
   "source": [
    "No winner_ioc can be fixed by using winner_id"
   ]
  },
  {
   "cell_type": "code",
   "execution_count": 32,
   "id": "e7219c5d-4a9b-4550-ae29-0ee2cac73221",
   "metadata": {},
   "outputs": [
    {
     "data": {
      "text/plain": [
       "11"
      ]
     },
     "execution_count": 32,
     "metadata": {},
     "output_type": "execute_result"
    }
   ],
   "source": [
    "df[(df[\"winner_ioc\"].isnull()) & (df[\"winner_name\"].notnull())].shape[0]"
   ]
  },
  {
   "cell_type": "markdown",
   "id": "73aaf1d4-c952-4421-8c39-67bee92d2d03",
   "metadata": {},
   "source": [
    "Maybe some winner ioc can be fixed by using winner_name. As we mentioned before, we are using winner_name as unique identifier of the players"
   ]
  },
  {
   "cell_type": "code",
   "execution_count": 33,
   "id": "1afc8870-f758-463a-a5a1-cf18c8fa27d6",
   "metadata": {},
   "outputs": [
    {
     "data": {
      "text/plain": [
       "11"
      ]
     },
     "execution_count": 33,
     "metadata": {},
     "output_type": "execute_result"
    }
   ],
   "source": [
    "rows = fix_based_on_id('winner_name', 'winner_ioc')\n",
    "rows"
   ]
  },
  {
   "cell_type": "markdown",
   "id": "666f92a2-5241-4631-97f1-0dd29111f343",
   "metadata": {},
   "source": [
    "Super! All the 11 rows have been fixed."
   ]
  },
  {
   "cell_type": "code",
   "execution_count": 34,
   "id": "00d19614-851a-4020-908e-e2bdfd2c6030",
   "metadata": {},
   "outputs": [
    {
     "data": {
      "text/plain": [
       "10"
      ]
     },
     "execution_count": 34,
     "metadata": {},
     "output_type": "execute_result"
    }
   ],
   "source": [
    "df[(df[\"loser_ioc\"].isnull()) & (df[\"loser_id\"].notnull())].shape[0]"
   ]
  },
  {
   "cell_type": "markdown",
   "id": "2ba9083f-65e4-4c9e-accd-880a445a1ff2",
   "metadata": {},
   "source": [
    "some loser_ioc maybe can be fixed. But we need to check that these ids are not the one that are not unique."
   ]
  },
  {
   "cell_type": "code",
   "execution_count": 35,
   "id": "61c1e942-f86b-425e-8056-d31d8affd4a4",
   "metadata": {},
   "outputs": [],
   "source": [
    "loser_ids = list(df[(df['loser_name'].isnull()) & (df[\"loser_id\"].notnull())][\"loser_id\"].unique())\n",
    "for loser_id in loser_ids:\n",
    "    if loser_id in not_unique_loser_ids:\n",
    "        print (loser_id)"
   ]
  },
  {
   "cell_type": "code",
   "execution_count": 36,
   "id": "19a881d6-5868-44e7-aa73-2bdb68b43703",
   "metadata": {},
   "outputs": [
    {
     "data": {
      "text/plain": [
       "10"
      ]
     },
     "execution_count": 36,
     "metadata": {},
     "output_type": "execute_result"
    }
   ],
   "source": [
    "rows = fix_based_on_id('loser_id', 'loser_ioc')\n",
    "rows"
   ]
  },
  {
   "cell_type": "markdown",
   "id": "f07847c8-d48e-4df1-9987-388c0948c5ad",
   "metadata": {},
   "source": [
    "Let's see if also by usign loser_name some loser_ioc can be fixed."
   ]
  },
  {
   "cell_type": "code",
   "execution_count": 37,
   "id": "07467d76-143e-43ca-a194-4e4f8284b4cf",
   "metadata": {},
   "outputs": [
    {
     "data": {
      "text/plain": [
       "3"
      ]
     },
     "execution_count": 37,
     "metadata": {},
     "output_type": "execute_result"
    }
   ],
   "source": [
    "df[(df[\"loser_ioc\"].isnull()) & (df[\"loser_name\"].notnull())].shape[0]"
   ]
  },
  {
   "cell_type": "code",
   "execution_count": 38,
   "id": "ad9961bd-dd4a-4d29-a969-114fdffc926a",
   "metadata": {},
   "outputs": [
    {
     "data": {
      "text/plain": [
       "3"
      ]
     },
     "execution_count": 38,
     "metadata": {},
     "output_type": "execute_result"
    }
   ],
   "source": [
    "rows = fix_based_on_id('loser_name', 'loser_ioc')\n",
    "rows"
   ]
  },
  {
   "cell_type": "markdown",
   "id": "2b70f2ce-9f96-4957-9f97-21b8d26b8c6e",
   "metadata": {},
   "source": [
    "### Checking winner and loser height"
   ]
  },
  {
   "cell_type": "code",
   "execution_count": 39,
   "id": "2da0dc71-8f92-48bf-b55e-eb7956f099df",
   "metadata": {},
   "outputs": [
    {
     "data": {
      "text/plain": [
       "winner_ht  winner_name      \n",
       "2.0        Kamilla Rakhimova    81\n",
       "145.0      Ilija Vucic           9\n",
       "dtype: int64"
      ]
     },
     "execution_count": 39,
     "metadata": {},
     "output_type": "execute_result"
    }
   ],
   "source": [
    "df[df['winner_ht'] < 150][[\"winner_ht\", \"winner_name\"]].value_counts()"
   ]
  },
  {
   "cell_type": "markdown",
   "id": "012f1afc-d474-4031-bb7d-fda815e7ed27",
   "metadata": {},
   "source": [
    "Fix these two through data integration:\n",
    "- Ilija Vucic 188.0 (https://www.sofascore.com/team/tennis/vucic-ilija/79519)\n",
    "- Kamilla Rakhimova 174.0 (Google)"
   ]
  },
  {
   "cell_type": "code",
   "execution_count": 40,
   "id": "5fecd007-9d71-443f-92e3-3cb3b479eb89",
   "metadata": {},
   "outputs": [],
   "source": [
    "df.loc[df['winner_name']== 'Ilija Vucic', 'winner_ht'] = 188.0\n",
    "df.loc[df['loser_name']== 'Ilija Vucic', 'loser_ht'] = 188.0\n",
    "\n",
    "df.loc[df['winner_name']== 'Kamilla Rakhimova', 'winner_ht'] = 174.0\n",
    "df.loc[df['loser_name']== 'Kamilla Rakhimova', 'loser_ht'] = 174.0"
   ]
  },
  {
   "cell_type": "markdown",
   "id": "67490d76-9b1e-461f-85ab-f17704c32818",
   "metadata": {},
   "source": [
    "Checking if there are some players who have not height in all their matches rows."
   ]
  },
  {
   "cell_type": "code",
   "execution_count": 41,
   "id": "e9fdcb63-f74f-4860-b58c-493aaba63057",
   "metadata": {},
   "outputs": [
    {
     "data": {
      "text/plain": [
       "10103"
      ]
     },
     "execution_count": 41,
     "metadata": {},
     "output_type": "execute_result"
    }
   ],
   "source": [
    "names = pd.concat([df['winner_name'], df['loser_name']]).dropna().unique().tolist()\n",
    "len(names)"
   ]
  },
  {
   "cell_type": "markdown",
   "id": "01a9b8e0-9954-450b-9f33-171842d122fc",
   "metadata": {},
   "source": [
    "Of these 10104 unique names only 541 have the heights. \n",
    "\n",
    "**They are very fews and we do not think they are enough to create meaningfull statistical features. For this reason we thing that we can not replace missing values through statistical features like mean or mode.** "
   ]
  },
  {
   "cell_type": "markdown",
   "id": "b7244fb8-b89e-4398-a4d0-73aff11c5ad4",
   "metadata": {},
   "source": [
    "### Checking winner and loser age"
   ]
  },
  {
   "cell_type": "code",
   "execution_count": 42,
   "id": "a4a04639-e8f2-49e6-853a-c0d9aa3baf7b",
   "metadata": {},
   "outputs": [
    {
     "data": {
      "text/html": [
       "<div>\n",
       "<style scoped>\n",
       "    .dataframe tbody tr th:only-of-type {\n",
       "        vertical-align: middle;\n",
       "    }\n",
       "\n",
       "    .dataframe tbody tr th {\n",
       "        vertical-align: top;\n",
       "    }\n",
       "\n",
       "    .dataframe thead th {\n",
       "        text-align: right;\n",
       "    }\n",
       "</style>\n",
       "<table border=\"1\" class=\"dataframe\">\n",
       "  <thead>\n",
       "    <tr style=\"text-align: right;\">\n",
       "      <th></th>\n",
       "      <th>winner_age</th>\n",
       "      <th>winner_name</th>\n",
       "      <th>tourney_date</th>\n",
       "    </tr>\n",
       "  </thead>\n",
       "  <tbody>\n",
       "    <tr>\n",
       "      <th>0</th>\n",
       "      <td>95.0</td>\n",
       "      <td>Kei Nishikori</td>\n",
       "      <td>20181231.0</td>\n",
       "    </tr>\n",
       "    <tr>\n",
       "      <th>322</th>\n",
       "      <td>95.0</td>\n",
       "      <td>Daniil Medvedev</td>\n",
       "      <td>20190114.0</td>\n",
       "    </tr>\n",
       "  </tbody>\n",
       "</table>\n",
       "</div>"
      ],
      "text/plain": [
       "     winner_age      winner_name  tourney_date\n",
       "0          95.0    Kei Nishikori    20181231.0\n",
       "322        95.0  Daniil Medvedev    20190114.0"
      ]
     },
     "execution_count": 42,
     "metadata": {},
     "output_type": "execute_result"
    }
   ],
   "source": [
    "df[df['winner_age'] > 65][[\"winner_age\", \"winner_name\", \"tourney_date\"]]"
   ]
  },
  {
   "cell_type": "markdown",
   "id": "2b8f6e15-6d31-4d18-be62-6a67b8c5b8d9",
   "metadata": {},
   "source": [
    "We decided to replace these wrong values by using data integration:\n",
    "- Kei Nishikori date of birth: 29/12/1989 \n",
    "- Daniil Medvedev date of birth: 11/02/1996 "
   ]
  },
  {
   "cell_type": "code",
   "execution_count": 43,
   "id": "7b927b33-9a19-449a-a11e-619498631682",
   "metadata": {},
   "outputs": [],
   "source": [
    "df.loc[(df['winner_name'] == 'Kei Nishikori'), 'winner_age'] = 29\n",
    "df.loc[(df['winner_name'] == 'Daniil Medvedev'), 'winner_age'] = 22"
   ]
  },
  {
   "cell_type": "code",
   "execution_count": 44,
   "id": "61b4159b-3a7e-4110-868e-65b778f3500a",
   "metadata": {},
   "outputs": [
    {
     "data": {
      "text/html": [
       "<div>\n",
       "<style scoped>\n",
       "    .dataframe tbody tr th:only-of-type {\n",
       "        vertical-align: middle;\n",
       "    }\n",
       "\n",
       "    .dataframe tbody tr th {\n",
       "        vertical-align: top;\n",
       "    }\n",
       "\n",
       "    .dataframe thead th {\n",
       "        text-align: right;\n",
       "    }\n",
       "</style>\n",
       "<table border=\"1\" class=\"dataframe\">\n",
       "  <thead>\n",
       "    <tr style=\"text-align: right;\">\n",
       "      <th></th>\n",
       "      <th>loser_age</th>\n",
       "      <th>loser_name</th>\n",
       "      <th>tourney_date</th>\n",
       "    </tr>\n",
       "  </thead>\n",
       "  <tbody>\n",
       "    <tr>\n",
       "      <th>176662</th>\n",
       "      <td>74.294319</td>\n",
       "      <td>Gail Falkenberg</td>\n",
       "      <td>20210503.0</td>\n",
       "    </tr>\n",
       "    <tr>\n",
       "      <th>176943</th>\n",
       "      <td>74.485969</td>\n",
       "      <td>Gail Falkenberg</td>\n",
       "      <td>20210712.0</td>\n",
       "    </tr>\n",
       "  </tbody>\n",
       "</table>\n",
       "</div>"
      ],
      "text/plain": [
       "        loser_age       loser_name  tourney_date\n",
       "176662  74.294319  Gail Falkenberg    20210503.0\n",
       "176943  74.485969  Gail Falkenberg    20210712.0"
      ]
     },
     "execution_count": 44,
     "metadata": {},
     "output_type": "execute_result"
    }
   ],
   "source": [
    "df[df['loser_age'] > 65][[\"loser_age\", \"loser_name\", \"tourney_date\"]]"
   ]
  },
  {
   "cell_type": "markdown",
   "id": "ee277007-82cd-4714-94c3-6a47ab561d56",
   "metadata": {},
   "source": [
    "Gail Falkenberg is 74 years old. Data is correct."
   ]
  },
  {
   "cell_type": "markdown",
   "id": "34c15684-7b69-494d-9e17-f39cf52b6f88",
   "metadata": {},
   "source": [
    "### Checking male and female dataset"
   ]
  },
  {
   "cell_type": "markdown",
   "id": "5e01b75d-67ba-4f79-9078-b87a99516bd2",
   "metadata": {},
   "source": [
    "Let's see if we have some codes in the names"
   ]
  },
  {
   "cell_type": "code",
   "execution_count": 45,
   "id": "474995c4-17e3-4457-942e-fa5df0f88c4f",
   "metadata": {},
   "outputs": [
    {
     "data": {
      "text/plain": [
       "array(['Garcia G003', 'Gonzalez G162', 'Casey C100', 'Phillips P239',\n",
       "       'Jonsson J092', 'Gutierrez G230', 'Lindholm L174',\n",
       "       'Turturici T225', 'Brown B395', 'Robinson R261',\n",
       "       'Strengberger S597', 'Parun P991', 'Gonzalez G419',\n",
       "       'Phillips Pd13', 'Deleuran Skjold Db37', 'Gomez Gb42',\n",
       "       'Kocyla Kd20', 'Weise W055', 'Ukon U004', 'Perez P114',\n",
       "       'Pueski P199', 'Pueski P223', 'Robinson R263', 'Wright W096',\n",
       "       'Parun P071', 'Khalfan K735', 'Moore2', 'Smith 2', 'Day 3D',\n",
       "       'Symington 3D', 'Post 3Rd', 'Leroy 2', 'Bergevi Bl61',\n",
       "       'Grant Gd13', 'Hernandez Hb01', 'Perez P727', 'Lloyd L770',\n",
       "       'Kovacs Kb22', 'Fernandes F729', 'Lindstrom2', 'Ul Haq H325',\n",
       "       'Ukon U033', 'Ul Haq U022', 'Goransson G423', 'Antelo A325',\n",
       "       'Roman R410', 'Machkamov M741', 'Williams W303', 'Robert Rb04',\n",
       "       'Fernandez F929', 'Hassan Hb88', 'Reyes Rc60', '1'], dtype='<U20')"
      ]
     },
     "execution_count": 45,
     "metadata": {},
     "output_type": "execute_result"
    }
   ],
   "source": [
    "#find codes in names with regex\n",
    "regex = r'\\b\\s[a-zA-Z]*[0-9]+[a-zA-Z]*\\b\\s*' # this regex find all the word that has the code pattern\n",
    "findings = []\n",
    "\n",
    "df_male = df_male[(df_male[\"name\"].notnull()) & (df_male[\"surname\"].notnull())]\n",
    "for elem in df_male[\"name\"]:\n",
    "    if bool(re.search(r'\\d', elem)):\n",
    "        findings.append(elem)\n",
    "        \n",
    "for elem in df_male[\"surname\"]:\n",
    "    if bool(re.search(r'\\d', elem)):\n",
    "        findings.append(elem)\n",
    "        \n",
    "np.array(findings) #to print it better"
   ]
  },
  {
   "cell_type": "code",
   "execution_count": 46,
   "id": "829fdd36-de51-4b7c-80bf-11eace18b074",
   "metadata": {},
   "outputs": [],
   "source": [
    "#removing codes from names with rege\n",
    "regex = r'(.*?)\\b\\s[a-zA-Z]*[0-9]+[a-zA-Z]*\\b\\s*'\n",
    "df_male[\"surname\"].replace(to_replace=regex, value=r\"\\1\", regex=True, inplace=True)\n",
    "#some has just a number at the end\n",
    "regex = r'(.*?)\\s*[0-9]+\\s*'\n",
    "df_male[\"surname\"].replace(to_replace=regex, value=r\"\\1\", regex=True, inplace=True)"
   ]
  },
  {
   "cell_type": "markdown",
   "id": "aabc4bcf-586d-44e7-85ee-83b5ed8a0e93",
   "metadata": {},
   "source": [
    "Fixed. Let's do this with females"
   ]
  },
  {
   "cell_type": "code",
   "execution_count": 47,
   "id": "9ca757b0-059c-43ee-ac6a-47a27b74be76",
   "metadata": {},
   "outputs": [
    {
     "data": {
      "text/plain": [
       "array(['Makarova 1996'], dtype='<U13')"
      ]
     },
     "execution_count": 47,
     "metadata": {},
     "output_type": "execute_result"
    }
   ],
   "source": [
    "#find codes in names with regex\n",
    "regex = r'\\b\\s[a-zA-Z]*[0-9]+[a-zA-Z]*\\b\\s*' # this regex find all the word that has the code pattern\n",
    "findings = []\n",
    "\n",
    "df_female = df_female[(df_female[\"name\"].notnull()) & (df_female[\"surname\"].notnull())]\n",
    "for elem in df_female[\"name\"]:\n",
    "    if bool(re.search(r'\\d', elem)):\n",
    "        findings.append(elem)\n",
    "        \n",
    "for elem in df_female[\"surname\"]:\n",
    "    if bool(re.search(r'\\d', elem)):\n",
    "        findings.append(elem)\n",
    "        \n",
    "np.array(findings) #to print it better"
   ]
  },
  {
   "cell_type": "code",
   "execution_count": 48,
   "id": "0458a7e9-c362-4bbf-adf3-cdf8d5525c5b",
   "metadata": {},
   "outputs": [],
   "source": [
    "#removing numbers at the end\n",
    "regex = r'(.*?)\\s*[0-9]+\\s*'\n",
    "df_female[\"surname\"].replace(to_replace=regex, value=r\"\\1\", regex=True, inplace=True)"
   ]
  },
  {
   "cell_type": "markdown",
   "id": "b200d1a3-f64e-4bcc-84b4-356c3ebd5365",
   "metadata": {},
   "source": [
    "#### Removing Mr/Mrs from names"
   ]
  },
  {
   "cell_type": "code",
   "execution_count": 49,
   "id": "2344f7cf-8792-4099-a219-7cb839a59a1a",
   "metadata": {},
   "outputs": [],
   "source": [
    "#removing Mrs\n",
    "regex = r'(\\s*Mrs\\s*)(.*)'\n",
    "df_female[\"name\"].replace(to_replace=regex, value=r\"\\1\", regex=True, inplace=True)\n",
    "df_female[\"surname\"].replace(to_replace=regex, value=r\"\\1\", regex=True, inplace=True)\n",
    "\n",
    "#removing Mr\n",
    "regex = r'(\\s*Mr\\s*)(.*)'\n",
    "df_male[\"name\"].replace(to_replace=regex, value=r\"\\1\", regex=True, inplace=True)\n",
    "df_male[\"surname\"].replace(to_replace=regex, value=r\"\\1\", regex=True, inplace=True)"
   ]
  },
  {
   "cell_type": "markdown",
   "id": "5957cc8c-ffb1-4df8-98ac-00a1cd8a0369",
   "metadata": {},
   "source": [
    "#### Checking if we can recover some shortned names/surnames for females and males"
   ]
  },
  {
   "cell_type": "code",
   "execution_count": 50,
   "id": "ef9b0f1d-ac96-4f8a-b732-a5b139f9021a",
   "metadata": {},
   "outputs": [
    {
     "data": {
      "text/html": [
       "<div>\n",
       "<style scoped>\n",
       "    .dataframe tbody tr th:only-of-type {\n",
       "        vertical-align: middle;\n",
       "    }\n",
       "\n",
       "    .dataframe tbody tr th {\n",
       "        vertical-align: top;\n",
       "    }\n",
       "\n",
       "    .dataframe thead th {\n",
       "        text-align: right;\n",
       "    }\n",
       "</style>\n",
       "<table border=\"1\" class=\"dataframe\">\n",
       "  <thead>\n",
       "    <tr style=\"text-align: right;\">\n",
       "      <th></th>\n",
       "      <th>Unnamed: 0</th>\n",
       "      <th>name</th>\n",
       "      <th>surname</th>\n",
       "    </tr>\n",
       "  </thead>\n",
       "  <tbody>\n",
       "    <tr>\n",
       "      <th>137</th>\n",
       "      <td>138</td>\n",
       "      <td>L</td>\n",
       "      <td>Griffiths</td>\n",
       "    </tr>\n",
       "    <tr>\n",
       "      <th>182</th>\n",
       "      <td>183</td>\n",
       "      <td>E</td>\n",
       "      <td>Staples</td>\n",
       "    </tr>\n",
       "    <tr>\n",
       "      <th>206</th>\n",
       "      <td>207</td>\n",
       "      <td>L</td>\n",
       "      <td>Cameron</td>\n",
       "    </tr>\n",
       "    <tr>\n",
       "      <th>3600</th>\n",
       "      <td>3601</td>\n",
       "      <td>G</td>\n",
       "      <td>Wilson</td>\n",
       "    </tr>\n",
       "    <tr>\n",
       "      <th>3659</th>\n",
       "      <td>3660</td>\n",
       "      <td>J</td>\n",
       "      <td>Tobin</td>\n",
       "    </tr>\n",
       "    <tr>\n",
       "      <th>...</th>\n",
       "      <td>...</td>\n",
       "      <td>...</td>\n",
       "      <td>...</td>\n",
       "    </tr>\n",
       "    <tr>\n",
       "      <th>45589</th>\n",
       "      <td>46100</td>\n",
       "      <td>M</td>\n",
       "      <td>Kiss</td>\n",
       "    </tr>\n",
       "    <tr>\n",
       "      <th>45604</th>\n",
       "      <td>46115</td>\n",
       "      <td>C</td>\n",
       "      <td>Bushell</td>\n",
       "    </tr>\n",
       "    <tr>\n",
       "      <th>45605</th>\n",
       "      <td>46116</td>\n",
       "      <td>E</td>\n",
       "      <td>Bushell</td>\n",
       "    </tr>\n",
       "    <tr>\n",
       "      <th>45648</th>\n",
       "      <td>46160</td>\n",
       "      <td>B</td>\n",
       "      <td>Wallis</td>\n",
       "    </tr>\n",
       "    <tr>\n",
       "      <th>45652</th>\n",
       "      <td>46164</td>\n",
       "      <td>M</td>\n",
       "      <td>Leslie</td>\n",
       "    </tr>\n",
       "  </tbody>\n",
       "</table>\n",
       "<p>3725 rows × 3 columns</p>\n",
       "</div>"
      ],
      "text/plain": [
       "       Unnamed: 0 name    surname\n",
       "137           138    L  Griffiths\n",
       "182           183    E    Staples\n",
       "206           207    L    Cameron\n",
       "3600         3601    G     Wilson\n",
       "3659         3660    J      Tobin\n",
       "...           ...  ...        ...\n",
       "45589       46100    M       Kiss\n",
       "45604       46115    C    Bushell\n",
       "45605       46116    E    Bushell\n",
       "45648       46160    B     Wallis\n",
       "45652       46164    M     Leslie\n",
       "\n",
       "[3725 rows x 3 columns]"
      ]
     },
     "execution_count": 50,
     "metadata": {},
     "output_type": "execute_result"
    }
   ],
   "source": [
    "single_letter_f = df_female[(df_female[\"name\"].notnull()) & (df_female[\"surname\"].notnull()) & ((df_female[\"name\"].str.len() == 1) | (df_female[\"surname\"].str.len() == 1))]\n",
    "single_letter_f"
   ]
  },
  {
   "cell_type": "code",
   "execution_count": 51,
   "id": "99b6fefb-4e98-45b1-bdc3-3126eb45764c",
   "metadata": {
    "tags": []
   },
   "outputs": [
    {
     "name": "stdout",
     "output_type": "stream",
     "text": [
      "Done\n"
     ]
    }
   ],
   "source": [
    "#try to find duplicates (es. name is with 1 letter but exists other row with full name)\n",
    "for idx, elem in single_letter_f.iterrows():\n",
    "    others = df_female[(df_female[\"name\"][0]==elem[\"name\"]) & (df_female[\"surname\"]==elem[\"surname\"])]\n",
    "    if len(others)>0:\n",
    "        print(elem[\"name\"] + \" \" + elem[\"surname\"])\n",
    "    others = df_female[(df_female[\"name\"]==elem[\"name\"]) & (df_female[\"surname\"][0]==elem[\"surname\"])]\n",
    "    if len(others)>0:\n",
    "        print(elem[\"name\"] + \" \" + elem[\"surname\"])\n",
    "print(\"Done\")"
   ]
  },
  {
   "cell_type": "markdown",
   "id": "fe2b68f2-93d8-4b90-93e2-9d5db6278d0e",
   "metadata": {
    "tags": []
   },
   "source": [
    "ok, no duplicates with name. Let's do it for males"
   ]
  },
  {
   "cell_type": "code",
   "execution_count": 52,
   "id": "5594d630-d6eb-4060-9780-3ac1940d9c94",
   "metadata": {},
   "outputs": [
    {
     "data": {
      "text/html": [
       "<div>\n",
       "<style scoped>\n",
       "    .dataframe tbody tr th:only-of-type {\n",
       "        vertical-align: middle;\n",
       "    }\n",
       "\n",
       "    .dataframe tbody tr th {\n",
       "        vertical-align: top;\n",
       "    }\n",
       "\n",
       "    .dataframe thead th {\n",
       "        text-align: right;\n",
       "    }\n",
       "</style>\n",
       "<table border=\"1\" class=\"dataframe\">\n",
       "  <thead>\n",
       "    <tr style=\"text-align: right;\">\n",
       "      <th></th>\n",
       "      <th>Unnamed: 0</th>\n",
       "      <th>name</th>\n",
       "      <th>surname</th>\n",
       "    </tr>\n",
       "  </thead>\n",
       "  <tbody>\n",
       "    <tr>\n",
       "      <th>4705</th>\n",
       "      <td>4707</td>\n",
       "      <td>G</td>\n",
       "      <td>Jones</td>\n",
       "    </tr>\n",
       "    <tr>\n",
       "      <th>6417</th>\n",
       "      <td>6419</td>\n",
       "      <td>A</td>\n",
       "      <td>Benson</td>\n",
       "    </tr>\n",
       "    <tr>\n",
       "      <th>6418</th>\n",
       "      <td>6420</td>\n",
       "      <td>A</td>\n",
       "      <td>Escofet</td>\n",
       "    </tr>\n",
       "    <tr>\n",
       "      <th>6419</th>\n",
       "      <td>6421</td>\n",
       "      <td>A</td>\n",
       "      <td>Hall</td>\n",
       "    </tr>\n",
       "    <tr>\n",
       "      <th>6420</th>\n",
       "      <td>6422</td>\n",
       "      <td>A</td>\n",
       "      <td>Noffat</td>\n",
       "    </tr>\n",
       "    <tr>\n",
       "      <th>...</th>\n",
       "      <td>...</td>\n",
       "      <td>...</td>\n",
       "      <td>...</td>\n",
       "    </tr>\n",
       "    <tr>\n",
       "      <th>54355</th>\n",
       "      <td>54873</td>\n",
       "      <td>N</td>\n",
       "      <td>Gillasby</td>\n",
       "    </tr>\n",
       "    <tr>\n",
       "      <th>54356</th>\n",
       "      <td>54874</td>\n",
       "      <td>J</td>\n",
       "      <td>Frederick</td>\n",
       "    </tr>\n",
       "    <tr>\n",
       "      <th>54357</th>\n",
       "      <td>54875</td>\n",
       "      <td>J</td>\n",
       "      <td>Fannin</td>\n",
       "    </tr>\n",
       "    <tr>\n",
       "      <th>54358</th>\n",
       "      <td>54876</td>\n",
       "      <td>C</td>\n",
       "      <td>Whittle</td>\n",
       "    </tr>\n",
       "    <tr>\n",
       "      <th>54359</th>\n",
       "      <td>54877</td>\n",
       "      <td>P</td>\n",
       "      <td>Finn</td>\n",
       "    </tr>\n",
       "  </tbody>\n",
       "</table>\n",
       "<p>1008 rows × 3 columns</p>\n",
       "</div>"
      ],
      "text/plain": [
       "       Unnamed: 0 name    surname\n",
       "4705         4707    G      Jones\n",
       "6417         6419    A     Benson\n",
       "6418         6420    A    Escofet\n",
       "6419         6421    A       Hall\n",
       "6420         6422    A     Noffat\n",
       "...           ...  ...        ...\n",
       "54355       54873    N   Gillasby\n",
       "54356       54874    J  Frederick\n",
       "54357       54875    J     Fannin\n",
       "54358       54876    C    Whittle\n",
       "54359       54877    P       Finn\n",
       "\n",
       "[1008 rows x 3 columns]"
      ]
     },
     "execution_count": 52,
     "metadata": {},
     "output_type": "execute_result"
    }
   ],
   "source": [
    "single_letter_m = df_male[(df_male[\"name\"].notnull()) & (df_male[\"surname\"].notnull()) & ((df_male[\"name\"].str.len() == 1) | (df_male[\"surname\"].str.len() == 1))]\n",
    "single_letter_m"
   ]
  },
  {
   "cell_type": "code",
   "execution_count": 53,
   "id": "fb901390-8c6b-43b5-9f10-36eee14731e7",
   "metadata": {},
   "outputs": [
    {
     "name": "stdout",
     "output_type": "stream",
     "text": [
      "Done\n"
     ]
    }
   ],
   "source": [
    "#try to find duplicates (es. name is with 1 letter but exists other row with full name)\n",
    "for idx, elem in single_letter_m.iterrows():\n",
    "    others = df_male[(df_male[\"name\"][0]==elem[\"name\"]) & (df_male[\"surname\"]==elem[\"surname\"])]\n",
    "    if len(others)>0:\n",
    "        print(elem[\"name\"] + \" \" + elem[\"surname\"])\n",
    "    others = df_male[(df_male[\"name\"]==elem[\"name\"]) & (df_male[\"surname\"][0]==elem[\"surname\"])]\n",
    "    if len(others)>0:\n",
    "        print(elem[\"name\"] + \" \" + elem[\"surname\"])\n",
    "print(\"Done\")"
   ]
  },
  {
   "cell_type": "markdown",
   "id": "cb27f73e-7d36-46ac-bed3-005be3c71800",
   "metadata": {},
   "source": [
    "ok, no duplicates with name"
   ]
  },
  {
   "cell_type": "markdown",
   "id": "ddb25ca8-7342-43ff-8eed-71a35919181c",
   "metadata": {},
   "source": [
    "### Removing useless rows"
   ]
  },
  {
   "cell_type": "markdown",
   "id": "fe59c256-e214-4223-bbec-0a773e154872",
   "metadata": {},
   "source": [
    "All the rows in which neither winner_name and loseer_name are defined can be droped in our opinion. We want to create players profiles and rows in which this two attributes ar NaN are useless."
   ]
  },
  {
   "cell_type": "code",
   "execution_count": 54,
   "id": "d71ec39b-46c5-42ae-8f8c-28972c37b9c7",
   "metadata": {},
   "outputs": [
    {
     "data": {
      "text/html": [
       "<div>\n",
       "<style scoped>\n",
       "    .dataframe tbody tr th:only-of-type {\n",
       "        vertical-align: middle;\n",
       "    }\n",
       "\n",
       "    .dataframe tbody tr th {\n",
       "        vertical-align: top;\n",
       "    }\n",
       "\n",
       "    .dataframe thead th {\n",
       "        text-align: right;\n",
       "    }\n",
       "</style>\n",
       "<table border=\"1\" class=\"dataframe\">\n",
       "  <thead>\n",
       "    <tr style=\"text-align: right;\">\n",
       "      <th></th>\n",
       "      <th>tourney_id</th>\n",
       "      <th>tourney_name</th>\n",
       "      <th>surface</th>\n",
       "      <th>draw_size</th>\n",
       "      <th>tourney_level</th>\n",
       "      <th>tourney_date</th>\n",
       "      <th>match_num</th>\n",
       "      <th>winner_id</th>\n",
       "      <th>winner_entry</th>\n",
       "      <th>winner_name</th>\n",
       "      <th>winner_hand</th>\n",
       "      <th>winner_ht</th>\n",
       "      <th>winner_ioc</th>\n",
       "      <th>winner_age</th>\n",
       "      <th>loser_id</th>\n",
       "      <th>loser_entry</th>\n",
       "      <th>loser_name</th>\n",
       "      <th>loser_hand</th>\n",
       "      <th>loser_ht</th>\n",
       "      <th>loser_ioc</th>\n",
       "      <th>loser_age</th>\n",
       "      <th>score</th>\n",
       "      <th>best_of</th>\n",
       "      <th>round</th>\n",
       "      <th>minutes</th>\n",
       "      <th>w_ace</th>\n",
       "      <th>w_df</th>\n",
       "      <th>w_svpt</th>\n",
       "      <th>w_1stIn</th>\n",
       "      <th>w_1stWon</th>\n",
       "      <th>w_2ndWon</th>\n",
       "      <th>w_SvGms</th>\n",
       "      <th>w_bpSaved</th>\n",
       "      <th>w_bpFaced</th>\n",
       "      <th>l_ace</th>\n",
       "      <th>l_df</th>\n",
       "      <th>l_svpt</th>\n",
       "      <th>l_1stIn</th>\n",
       "      <th>l_1stWon</th>\n",
       "      <th>l_2ndWon</th>\n",
       "      <th>l_SvGms</th>\n",
       "      <th>l_bpSaved</th>\n",
       "      <th>l_bpFaced</th>\n",
       "      <th>winner_rank</th>\n",
       "      <th>winner_rank_points</th>\n",
       "      <th>loser_rank</th>\n",
       "      <th>loser_rank_points</th>\n",
       "      <th>tourney_spectators</th>\n",
       "      <th>tourney_revenue</th>\n",
       "    </tr>\n",
       "  </thead>\n",
       "  <tbody>\n",
       "    <tr>\n",
       "      <th>186073</th>\n",
       "      <td>2017-1059</td>\n",
       "      <td>Taipei</td>\n",
       "      <td>Hard</td>\n",
       "      <td>32.0</td>\n",
       "      <td>NaN</td>\n",
       "      <td>20171113.0</td>\n",
       "      <td>270.0</td>\n",
       "      <td>NaN</td>\n",
       "      <td>NaN</td>\n",
       "      <td>NaN</td>\n",
       "      <td>R</td>\n",
       "      <td>NaN</td>\n",
       "      <td>JPN</td>\n",
       "      <td>23.737166</td>\n",
       "      <td>NaN</td>\n",
       "      <td>NaN</td>\n",
       "      <td>NaN</td>\n",
       "      <td>NaN</td>\n",
       "      <td>NaN</td>\n",
       "      <td>NaN</td>\n",
       "      <td>NaN</td>\n",
       "      <td>NaN</td>\n",
       "      <td>3.0</td>\n",
       "      <td>R32</td>\n",
       "      <td>NaN</td>\n",
       "      <td>3.0</td>\n",
       "      <td>0.0</td>\n",
       "      <td>65.0</td>\n",
       "      <td>45.0</td>\n",
       "      <td>27.0</td>\n",
       "      <td>8.0</td>\n",
       "      <td>NaN</td>\n",
       "      <td>NaN</td>\n",
       "      <td>5.0</td>\n",
       "      <td>NaN</td>\n",
       "      <td>3.0</td>\n",
       "      <td>NaN</td>\n",
       "      <td>53.0</td>\n",
       "      <td>NaN</td>\n",
       "      <td>NaN</td>\n",
       "      <td>NaN</td>\n",
       "      <td>NaN</td>\n",
       "      <td>NaN</td>\n",
       "      <td>173.0</td>\n",
       "      <td>NaN</td>\n",
       "      <td>86.0</td>\n",
       "      <td>NaN</td>\n",
       "      <td>3535.0</td>\n",
       "      <td>638954.72</td>\n",
       "    </tr>\n",
       "    <tr>\n",
       "      <th>186108</th>\n",
       "      <td>NaN</td>\n",
       "      <td>NaN</td>\n",
       "      <td>NaN</td>\n",
       "      <td>NaN</td>\n",
       "      <td>NaN</td>\n",
       "      <td>20171113.0</td>\n",
       "      <td>NaN</td>\n",
       "      <td>NaN</td>\n",
       "      <td>NaN</td>\n",
       "      <td>NaN</td>\n",
       "      <td>NaN</td>\n",
       "      <td>NaN</td>\n",
       "      <td>NaN</td>\n",
       "      <td>21.289528</td>\n",
       "      <td>NaN</td>\n",
       "      <td>NaN</td>\n",
       "      <td>NaN</td>\n",
       "      <td>NaN</td>\n",
       "      <td>NaN</td>\n",
       "      <td>KOR</td>\n",
       "      <td>25.355236</td>\n",
       "      <td>NaN</td>\n",
       "      <td>3.0</td>\n",
       "      <td>Q1</td>\n",
       "      <td>91.0</td>\n",
       "      <td>NaN</td>\n",
       "      <td>NaN</td>\n",
       "      <td>79.0</td>\n",
       "      <td>49.0</td>\n",
       "      <td>NaN</td>\n",
       "      <td>11.0</td>\n",
       "      <td>NaN</td>\n",
       "      <td>NaN</td>\n",
       "      <td>8.0</td>\n",
       "      <td>0.0</td>\n",
       "      <td>4.0</td>\n",
       "      <td>NaN</td>\n",
       "      <td>NaN</td>\n",
       "      <td>NaN</td>\n",
       "      <td>NaN</td>\n",
       "      <td>NaN</td>\n",
       "      <td>2.0</td>\n",
       "      <td>NaN</td>\n",
       "      <td>NaN</td>\n",
       "      <td>NaN</td>\n",
       "      <td>NaN</td>\n",
       "      <td>NaN</td>\n",
       "      <td>NaN</td>\n",
       "      <td>NaN</td>\n",
       "    </tr>\n",
       "    <tr>\n",
       "      <th>186110</th>\n",
       "      <td>NaN</td>\n",
       "      <td>Taipei</td>\n",
       "      <td>Hard</td>\n",
       "      <td>NaN</td>\n",
       "      <td>NaN</td>\n",
       "      <td>NaN</td>\n",
       "      <td>NaN</td>\n",
       "      <td>NaN</td>\n",
       "      <td>NaN</td>\n",
       "      <td>NaN</td>\n",
       "      <td>NaN</td>\n",
       "      <td>NaN</td>\n",
       "      <td>NaN</td>\n",
       "      <td>NaN</td>\n",
       "      <td>NaN</td>\n",
       "      <td>WC</td>\n",
       "      <td>NaN</td>\n",
       "      <td>U</td>\n",
       "      <td>NaN</td>\n",
       "      <td>NaN</td>\n",
       "      <td>20.731006</td>\n",
       "      <td>NaN</td>\n",
       "      <td>NaN</td>\n",
       "      <td>Q1</td>\n",
       "      <td>NaN</td>\n",
       "      <td>NaN</td>\n",
       "      <td>4.0</td>\n",
       "      <td>NaN</td>\n",
       "      <td>30.0</td>\n",
       "      <td>23.0</td>\n",
       "      <td>NaN</td>\n",
       "      <td>NaN</td>\n",
       "      <td>NaN</td>\n",
       "      <td>3.0</td>\n",
       "      <td>7.0</td>\n",
       "      <td>NaN</td>\n",
       "      <td>58.0</td>\n",
       "      <td>31.0</td>\n",
       "      <td>NaN</td>\n",
       "      <td>8.0</td>\n",
       "      <td>8.0</td>\n",
       "      <td>NaN</td>\n",
       "      <td>NaN</td>\n",
       "      <td>231.0</td>\n",
       "      <td>NaN</td>\n",
       "      <td>NaN</td>\n",
       "      <td>8.0</td>\n",
       "      <td>NaN</td>\n",
       "      <td>NaN</td>\n",
       "    </tr>\n",
       "    <tr>\n",
       "      <th>186113</th>\n",
       "      <td>2017-1059</td>\n",
       "      <td>Taipei</td>\n",
       "      <td>Hard</td>\n",
       "      <td>32.0</td>\n",
       "      <td>NaN</td>\n",
       "      <td>20171113.0</td>\n",
       "      <td>NaN</td>\n",
       "      <td>NaN</td>\n",
       "      <td>NaN</td>\n",
       "      <td>NaN</td>\n",
       "      <td>R</td>\n",
       "      <td>NaN</td>\n",
       "      <td>NaN</td>\n",
       "      <td>26.642026</td>\n",
       "      <td>NaN</td>\n",
       "      <td>NaN</td>\n",
       "      <td>NaN</td>\n",
       "      <td>R</td>\n",
       "      <td>NaN</td>\n",
       "      <td>NaN</td>\n",
       "      <td>23.192334</td>\n",
       "      <td>NaN</td>\n",
       "      <td>3.0</td>\n",
       "      <td>NaN</td>\n",
       "      <td>70.0</td>\n",
       "      <td>NaN</td>\n",
       "      <td>NaN</td>\n",
       "      <td>NaN</td>\n",
       "      <td>NaN</td>\n",
       "      <td>NaN</td>\n",
       "      <td>14.0</td>\n",
       "      <td>8.0</td>\n",
       "      <td>NaN</td>\n",
       "      <td>NaN</td>\n",
       "      <td>1.0</td>\n",
       "      <td>NaN</td>\n",
       "      <td>50.0</td>\n",
       "      <td>31.0</td>\n",
       "      <td>15.0</td>\n",
       "      <td>NaN</td>\n",
       "      <td>8.0</td>\n",
       "      <td>5.0</td>\n",
       "      <td>11.0</td>\n",
       "      <td>NaN</td>\n",
       "      <td>228.0</td>\n",
       "      <td>196.0</td>\n",
       "      <td>299.0</td>\n",
       "      <td>3535.0</td>\n",
       "      <td>638954.72</td>\n",
       "    </tr>\n",
       "  </tbody>\n",
       "</table>\n",
       "</div>"
      ],
      "text/plain": [
       "       tourney_id tourney_name surface  draw_size tourney_level  tourney_date  \\\n",
       "186073  2017-1059       Taipei    Hard       32.0           NaN    20171113.0   \n",
       "186108        NaN          NaN     NaN        NaN           NaN    20171113.0   \n",
       "186110        NaN       Taipei    Hard        NaN           NaN           NaN   \n",
       "186113  2017-1059       Taipei    Hard       32.0           NaN    20171113.0   \n",
       "\n",
       "        match_num  winner_id winner_entry winner_name winner_hand  winner_ht  \\\n",
       "186073      270.0        NaN          NaN         NaN           R        NaN   \n",
       "186108        NaN        NaN          NaN         NaN         NaN        NaN   \n",
       "186110        NaN        NaN          NaN         NaN         NaN        NaN   \n",
       "186113        NaN        NaN          NaN         NaN           R        NaN   \n",
       "\n",
       "       winner_ioc  winner_age  loser_id loser_entry loser_name loser_hand  \\\n",
       "186073        JPN   23.737166       NaN         NaN        NaN        NaN   \n",
       "186108        NaN   21.289528       NaN         NaN        NaN        NaN   \n",
       "186110        NaN         NaN       NaN          WC        NaN          U   \n",
       "186113        NaN   26.642026       NaN         NaN        NaN          R   \n",
       "\n",
       "        loser_ht loser_ioc  loser_age score  best_of round  minutes  w_ace  \\\n",
       "186073       NaN       NaN        NaN   NaN      3.0   R32      NaN    3.0   \n",
       "186108       NaN       KOR  25.355236   NaN      3.0    Q1     91.0    NaN   \n",
       "186110       NaN       NaN  20.731006   NaN      NaN    Q1      NaN    NaN   \n",
       "186113       NaN       NaN  23.192334   NaN      3.0   NaN     70.0    NaN   \n",
       "\n",
       "        w_df  w_svpt  w_1stIn  w_1stWon  w_2ndWon  w_SvGms  w_bpSaved  \\\n",
       "186073   0.0    65.0     45.0      27.0       8.0      NaN        NaN   \n",
       "186108   NaN    79.0     49.0       NaN      11.0      NaN        NaN   \n",
       "186110   4.0     NaN     30.0      23.0       NaN      NaN        NaN   \n",
       "186113   NaN     NaN      NaN       NaN      14.0      8.0        NaN   \n",
       "\n",
       "        w_bpFaced  l_ace  l_df  l_svpt  l_1stIn  l_1stWon  l_2ndWon  l_SvGms  \\\n",
       "186073        5.0    NaN   3.0     NaN     53.0       NaN       NaN      NaN   \n",
       "186108        8.0    0.0   4.0     NaN      NaN       NaN       NaN      NaN   \n",
       "186110        3.0    7.0   NaN    58.0     31.0       NaN       8.0      8.0   \n",
       "186113        NaN    1.0   NaN    50.0     31.0      15.0       NaN      8.0   \n",
       "\n",
       "        l_bpSaved  l_bpFaced  winner_rank  winner_rank_points  loser_rank  \\\n",
       "186073        NaN        NaN        173.0                 NaN        86.0   \n",
       "186108        2.0        NaN          NaN                 NaN         NaN   \n",
       "186110        NaN        NaN        231.0                 NaN         NaN   \n",
       "186113        5.0       11.0          NaN               228.0       196.0   \n",
       "\n",
       "        loser_rank_points  tourney_spectators  tourney_revenue  \n",
       "186073                NaN              3535.0        638954.72  \n",
       "186108                NaN                 NaN              NaN  \n",
       "186110                8.0                 NaN              NaN  \n",
       "186113              299.0              3535.0        638954.72  "
      ]
     },
     "execution_count": 54,
     "metadata": {},
     "output_type": "execute_result"
    }
   ],
   "source": [
    "df[df[\"winner_name\"].isnull() & df[\"loser_name\"].isnull()]"
   ]
  },
  {
   "cell_type": "code",
   "execution_count": 55,
   "id": "34eeba71-251a-49a9-8448-c14d82595e3c",
   "metadata": {},
   "outputs": [],
   "source": [
    "df.drop(df[df[\"winner_name\"].isnull() & df[\"loser_name\"].isnull()].index, inplace=True)"
   ]
  },
  {
   "cell_type": "markdown",
   "id": "a1935a3a-5eb7-4705-bfe2-499038e9568a",
   "metadata": {},
   "source": [
    "## New features creation"
   ]
  },
  {
   "cell_type": "markdown",
   "id": "379e1cf3-ee5f-430f-a6c7-34c2f745801b",
   "metadata": {
    "tags": []
   },
   "source": [
    "### Creating GENDER feature in matches"
   ]
  },
  {
   "cell_type": "markdown",
   "id": "06f23203-bc3b-468e-8cbf-69171b170006",
   "metadata": {},
   "source": [
    "Let's start creating FULLNAME and GENDER in male/female datasets"
   ]
  },
  {
   "cell_type": "code",
   "execution_count": 56,
   "id": "bfb67e18-20e7-4c48-845c-a0c0b280bcb6",
   "metadata": {},
   "outputs": [
    {
     "name": "stdout",
     "output_type": "stream",
     "text": [
      "Fullname and Gender features created!\n"
     ]
    }
   ],
   "source": [
    "# add fullname and gender feature to male and female and genders to matches df\n",
    "df_male[\"fullname\"] = df_male[\"name\"] + \" \" + df_male[\"surname\"]\n",
    "df_male[\"gender\"] = \"M\"\n",
    "df_female[\"fullname\"] = df_female[\"name\"] + \" \" + df_female[\"surname\"]\n",
    "df_female[\"gender\"] = \"F\"\n",
    "print(\"Fullname and Gender features created!\")"
   ]
  },
  {
   "cell_type": "markdown",
   "id": "27583722-419f-4e3b-a615-03e992348d0c",
   "metadata": {},
   "source": [
    "Merging the two datasets to have a players dataset"
   ]
  },
  {
   "cell_type": "code",
   "execution_count": 57,
   "id": "26f62f59-8e98-48cc-a345-6504dbbbd9dd",
   "metadata": {},
   "outputs": [],
   "source": [
    "# creating players dataset\n",
    "df_players = pd.concat([df_male, df_female])\n",
    "df_players.drop(columns=[\"name\", \"surname\", \"Unnamed: 0\"], inplace=True)\n",
    "df_players.drop_duplicates(inplace=True)\n",
    "df_players = df_players[df_players[\"fullname\"].notnull()]"
   ]
  },
  {
   "cell_type": "markdown",
   "id": "ef266e36-8e62-4cb9-943e-319129895074",
   "metadata": {},
   "source": [
    "Checking if we have some player that are both M and F "
   ]
  },
  {
   "cell_type": "code",
   "execution_count": 58,
   "id": "bcf25d9f-ab27-48cb-b2a4-9210f76168da",
   "metadata": {},
   "outputs": [
    {
     "data": {
      "text/plain": [
       "64"
      ]
     },
     "execution_count": 58,
     "metadata": {},
     "output_type": "execute_result"
    }
   ],
   "source": [
    "# checking non-binary\n",
    "dropped = df_players.drop(columns=\"gender\")\n",
    "mask = dropped.duplicated(subset=['fullname'])\n",
    "nonbinary = dropped.loc[mask]\n",
    "nonbinary.shape[0]"
   ]
  },
  {
   "cell_type": "markdown",
   "id": "5add1622-e956-4c14-8550-7a6602f8d06e",
   "metadata": {},
   "source": [
    "64 players are both M and F. We need to find their real gender."
   ]
  },
  {
   "cell_type": "code",
   "execution_count": 59,
   "id": "b586ccce-8742-45c5-8895-2135406d9adb",
   "metadata": {},
   "outputs": [
    {
     "name": "stderr",
     "output_type": "stream",
     "text": [
      "/usr/lib/python3.9/site-packages/pandas/core/indexing.py:1684: SettingWithCopyWarning: \n",
      "A value is trying to be set on a copy of a slice from a DataFrame.\n",
      "Try using .loc[row_indexer,col_indexer] = value instead\n",
      "\n",
      "See the caveats in the documentation: https://pandas.pydata.org/pandas-docs/stable/user_guide/indexing.html#returning-a-view-versus-a-copy\n",
      "  self.obj[key] = infer_fill_value(value)\n",
      "/usr/lib/python3.9/site-packages/pandas/core/indexing.py:1817: SettingWithCopyWarning: \n",
      "A value is trying to be set on a copy of a slice from a DataFrame.\n",
      "Try using .loc[row_indexer,col_indexer] = value instead\n",
      "\n",
      "See the caveats in the documentation: https://pandas.pydata.org/pandas-docs/stable/user_guide/indexing.html#returning-a-view-versus-a-copy\n",
      "  self._setitem_single_column(loc, value, pi)\n"
     ]
    }
   ],
   "source": [
    "# remove non binary players from df_players\n",
    "defined_players = df_players.loc[~mask]\n",
    "for elem in nonbinary[\"fullname\"].values:\n",
    "    defined_players = defined_players[defined_players[\"fullname\"] != elem]\n",
    "\n",
    "# merging with matches to try getting the gender from opponent\n",
    "df = pd.merge(df, defined_players, how=\"left\", left_on=\"winner_name\", right_on=\"fullname\")\n",
    "df.rename(columns={\"fullname\":\"fullname_w\", \"gender\": \"gender_w\"}, inplace=True)\n",
    "df = pd.merge(df, defined_players, how=\"left\", left_on=\"loser_name\", right_on=\"fullname\")\n",
    "df.rename(columns={\"fullname\":\"fullname_l\", \"gender\": \"gender_l\"}, inplace=True)\n",
    "\n",
    "#Fixing non-binary rows in df_player\n",
    "done = (df[\"gender_w\"].notnull() | df[\"gender_l\"].notnull())\n",
    "for elem in nonbinary[\"fullname\"].values:\n",
    "    fixable = df[done & (df[\"winner_name\"] == elem)]\n",
    "    if len(fixable)>0:\n",
    "        choice = fixable[\"gender_w\"].value_counts()\n",
    "        if len(choice) > 0: #nice, we have found the right gender (the only one or the more frequent)\n",
    "            nonbinary.loc[nonbinary[\"fullname\"] == elem, \"gender\"] = fixable.iloc[0][\"gender_w\"]\n",
    "        else: #no match, let's try with losers\n",
    "            choice = fixable[\"gender_l\"].value_counts()\n",
    "            if len(choice) > 0: #nice, we have found the right gender (the only one or the more frequent)\n",
    "                nonbinary.loc[nonbinary[\"fullname\"] == elem, \"gender\"] = fixable.iloc[0][\"gender_l\"]\n",
    "\n",
    "df_players = pd.concat([defined_players, nonbinary[nonbinary[\"gender\"].notnull()]])\n",
    "\n",
    "#cleaning df\n",
    "df.drop(columns=[\"fullname_w\", \"fullname_l\"], inplace=True)"
   ]
  },
  {
   "cell_type": "markdown",
   "id": "b12fab60-f021-4450-95df-ad85e2e2bdb1",
   "metadata": {},
   "source": [
    "**This warning is a false positive and the code works as intended!**"
   ]
  },
  {
   "cell_type": "markdown",
   "id": "0ff7740a-7c6f-40b0-88a3-cc9664d78389",
   "metadata": {},
   "source": [
    "Checking if there are match with different genders opponents"
   ]
  },
  {
   "cell_type": "code",
   "execution_count": 60,
   "id": "d7c51050-3234-43cd-a96d-db1be07376f9",
   "metadata": {},
   "outputs": [
    {
     "data": {
      "text/html": [
       "<div>\n",
       "<style scoped>\n",
       "    .dataframe tbody tr th:only-of-type {\n",
       "        vertical-align: middle;\n",
       "    }\n",
       "\n",
       "    .dataframe tbody tr th {\n",
       "        vertical-align: top;\n",
       "    }\n",
       "\n",
       "    .dataframe thead th {\n",
       "        text-align: right;\n",
       "    }\n",
       "</style>\n",
       "<table border=\"1\" class=\"dataframe\">\n",
       "  <thead>\n",
       "    <tr style=\"text-align: right;\">\n",
       "      <th></th>\n",
       "      <th>tourney_id</th>\n",
       "      <th>tourney_name</th>\n",
       "      <th>surface</th>\n",
       "      <th>draw_size</th>\n",
       "      <th>tourney_level</th>\n",
       "      <th>tourney_date</th>\n",
       "      <th>match_num</th>\n",
       "      <th>winner_id</th>\n",
       "      <th>winner_entry</th>\n",
       "      <th>winner_name</th>\n",
       "      <th>winner_hand</th>\n",
       "      <th>winner_ht</th>\n",
       "      <th>winner_ioc</th>\n",
       "      <th>winner_age</th>\n",
       "      <th>loser_id</th>\n",
       "      <th>loser_entry</th>\n",
       "      <th>loser_name</th>\n",
       "      <th>loser_hand</th>\n",
       "      <th>loser_ht</th>\n",
       "      <th>loser_ioc</th>\n",
       "      <th>loser_age</th>\n",
       "      <th>score</th>\n",
       "      <th>best_of</th>\n",
       "      <th>round</th>\n",
       "      <th>minutes</th>\n",
       "      <th>w_ace</th>\n",
       "      <th>w_df</th>\n",
       "      <th>w_svpt</th>\n",
       "      <th>w_1stIn</th>\n",
       "      <th>w_1stWon</th>\n",
       "      <th>w_2ndWon</th>\n",
       "      <th>w_SvGms</th>\n",
       "      <th>w_bpSaved</th>\n",
       "      <th>w_bpFaced</th>\n",
       "      <th>l_ace</th>\n",
       "      <th>l_df</th>\n",
       "      <th>l_svpt</th>\n",
       "      <th>l_1stIn</th>\n",
       "      <th>l_1stWon</th>\n",
       "      <th>l_2ndWon</th>\n",
       "      <th>l_SvGms</th>\n",
       "      <th>l_bpSaved</th>\n",
       "      <th>l_bpFaced</th>\n",
       "      <th>winner_rank</th>\n",
       "      <th>winner_rank_points</th>\n",
       "      <th>loser_rank</th>\n",
       "      <th>loser_rank_points</th>\n",
       "      <th>tourney_spectators</th>\n",
       "      <th>tourney_revenue</th>\n",
       "      <th>gender_w</th>\n",
       "      <th>gender_l</th>\n",
       "    </tr>\n",
       "  </thead>\n",
       "  <tbody>\n",
       "  </tbody>\n",
       "</table>\n",
       "</div>"
      ],
      "text/plain": [
       "Empty DataFrame\n",
       "Columns: [tourney_id, tourney_name, surface, draw_size, tourney_level, tourney_date, match_num, winner_id, winner_entry, winner_name, winner_hand, winner_ht, winner_ioc, winner_age, loser_id, loser_entry, loser_name, loser_hand, loser_ht, loser_ioc, loser_age, score, best_of, round, minutes, w_ace, w_df, w_svpt, w_1stIn, w_1stWon, w_2ndWon, w_SvGms, w_bpSaved, w_bpFaced, l_ace, l_df, l_svpt, l_1stIn, l_1stWon, l_2ndWon, l_SvGms, l_bpSaved, l_bpFaced, winner_rank, winner_rank_points, loser_rank, loser_rank_points, tourney_spectators, tourney_revenue, gender_w, gender_l]\n",
       "Index: []"
      ]
     },
     "execution_count": 60,
     "metadata": {},
     "output_type": "execute_result"
    }
   ],
   "source": [
    "df[(df[\"gender_w\"] != df[\"gender_l\"]) & (df[\"gender_w\"].notnull()) & (df[\"gender_l\"].notnull()) ]"
   ]
  },
  {
   "cell_type": "markdown",
   "id": "9de34162-29d2-4b19-b1a1-fb7b9dbeca91",
   "metadata": {},
   "source": [
    "Perfect."
   ]
  },
  {
   "cell_type": "markdown",
   "id": "901c775b-7118-4856-920a-0fa7a23a1bbf",
   "metadata": {},
   "source": [
    "### Creating SEASON feature"
   ]
  },
  {
   "cell_type": "code",
   "execution_count": 61,
   "id": "9690f87f-3b25-40c1-a083-0a21d7d6301b",
   "metadata": {},
   "outputs": [
    {
     "name": "stderr",
     "output_type": "stream",
     "text": [
      "/usr/lib/python3.9/site-packages/pandas/core/series.py:2136: SettingWithCopyWarning: \n",
      "A value is trying to be set on a copy of a slice from a DataFrame\n",
      "\n",
      "See the caveats in the documentation: https://pandas.pydata.org/pandas-docs/stable/user_guide/indexing.html#returning-a-view-versus-a-copy\n",
      "  self._update_inplace(result)\n"
     ]
    },
    {
     "name": "stdout",
     "output_type": "stream",
     "text": [
      "Progress: 184059/185799\r"
     ]
    }
   ],
   "source": [
    "tot_str = str(df.shape[0])\n",
    "all_dates = df[df[\"tourney_date\"].notnull()][\"tourney_date\"]\n",
    "all_dates.drop_duplicates(inplace=True)\n",
    "\n",
    "for idx, elem in all_dates.iteritems():\n",
    "    month = int(str(elem)[4:6])\n",
    "    if (month >= 10 or month <= 3):\n",
    "        month = \"Winter\"\n",
    "    else:\n",
    "        month = \"Summer\"\n",
    "    df.loc[df[\"tourney_date\"] == elem, \"season\"] = month\n",
    "    print('Progress: '+ str(idx)+\"/\"+tot_str, end='\\r')"
   ]
  },
  {
   "cell_type": "markdown",
   "id": "17733f23-5acb-44b2-934b-c49ee3615cb6",
   "metadata": {},
   "source": [
    "**This warning is a false positive and the code works as intended!**"
   ]
  },
  {
   "cell_type": "markdown",
   "id": "604dffe0-79dc-432a-b14b-1661b194e0a6",
   "metadata": {},
   "source": [
    "### Gender and Fullnames fixing"
   ]
  },
  {
   "cell_type": "markdown",
   "id": "899792dc-0701-4ee1-b98e-1a1c4b40d843",
   "metadata": {},
   "source": [
    "In this section we will try to fix all the names that didn't match, players that do not have a gender."
   ]
  },
  {
   "cell_type": "code",
   "execution_count": 62,
   "id": "16d58761-870a-4198-b6cf-65459b5a1242",
   "metadata": {
    "tags": []
   },
   "outputs": [],
   "source": [
    "no_gender = df[df[\"gender_w\"].isnull()][\"winner_name\"].value_counts().to_dict()"
   ]
  },
  {
   "cell_type": "code",
   "execution_count": 63,
   "id": "775f191b-f056-498f-a934-fe170750cd50",
   "metadata": {},
   "outputs": [],
   "source": [
    "gender_tofind = []\n",
    "for fullname in no_gender:\n",
    "    gender_tofind.append(fullname)"
   ]
  },
  {
   "cell_type": "code",
   "execution_count": 64,
   "id": "d43e49d8-c9e8-4dd3-b687-50ff31ecdf76",
   "metadata": {},
   "outputs": [],
   "source": [
    "gender_tofind.sort()"
   ]
  },
  {
   "cell_type": "code",
   "execution_count": 65,
   "id": "9d9e1d1a-5956-4309-aef8-bfb5e2ff1538",
   "metadata": {},
   "outputs": [
    {
     "data": {
      "text/plain": [
       "['Alexandar Lazov',\n",
       " 'Alona Fomina',\n",
       " 'Andres Artunedo Martinavarro',\n",
       " 'Antoine Hoang',\n",
       " 'Austin Smith',\n",
       " 'Ben Patael',\n",
       " 'Botic van de Zandschulp',\n",
       " \"Christopher O'Connell\",\n",
       " 'Cristian Garin',\n",
       " 'Daniel Elahi Galan',\n",
       " 'Daniel Munoz de la Nava',\n",
       " \"David O'Hare\",\n",
       " 'Di Zhao',\n",
       " 'Diego Schwartzman',\n",
       " 'Evgenii Tiurnev',\n",
       " 'Frances Tiafoe',\n",
       " 'Franko Skugor',\n",
       " 'Holger Rune',\n",
       " 'J.J. Wolf',\n",
       " 'Jo-Wilfried Tsonga',\n",
       " 'Joao Menezes',\n",
       " 'Jonathan Mridha',\n",
       " 'Juan Martin del Potro',\n",
       " 'Juan Pablo Varillas',\n",
       " 'Jurabek Karimov',\n",
       " 'Khumoun Sultanov',\n",
       " 'Kuan Yi Lee',\n",
       " 'Lloyd Harris',\n",
       " 'Mackenzie McDonald',\n",
       " 'Pedro Martinez',\n",
       " 'Sam Groth',\n",
       " 'Stan Wawrinka',\n",
       " 'Taylor Fritz',\n",
       " 'Yi Liu',\n",
       " 'Zeynep  Sena Sarioglan',\n",
       " 'Ziyu Zhang']"
      ]
     },
     "execution_count": 65,
     "metadata": {},
     "output_type": "execute_result"
    }
   ],
   "source": [
    "gender_tofind"
   ]
  },
  {
   "cell_type": "code",
   "execution_count": 66,
   "id": "52cd874b-0fd3-471b-81c2-6ce587f72f41",
   "metadata": {},
   "outputs": [],
   "source": [
    "def replace_gender(name, gender):\n",
    "    df.loc[df[\"loser_name\"] == name, \"gender_l\"] = gender\n",
    "    df.loc[df[\"winner_name\"] == name, \"gender_w\"] = gender"
   ]
  },
  {
   "cell_type": "code",
   "execution_count": 67,
   "id": "3d772cd3-ff65-4842-a1e2-26c6a7a65882",
   "metadata": {},
   "outputs": [],
   "source": [
    "def replace_name(old_name, name, gender):\n",
    "    df.loc[df[\"loser_name\"] == old_name, \"gender_l\"] = gender\n",
    "    df.loc[df[\"winner_name\"] == old_name, \"gender_w\"] = gender\n",
    "    df.loc[df[\"winner_name\"] == old_name, \"winner_name\"] = name\n",
    "    df.loc[df[\"loser_name\"] == old_name, \"loser_name\"] = name"
   ]
  },
  {
   "cell_type": "code",
   "execution_count": 68,
   "id": "d4d4a5e8-25cb-408f-890b-852036e519e4",
   "metadata": {
    "tags": []
   },
   "outputs": [
    {
     "data": {
      "text/html": [
       "<div>\n",
       "<style scoped>\n",
       "    .dataframe tbody tr th:only-of-type {\n",
       "        vertical-align: middle;\n",
       "    }\n",
       "\n",
       "    .dataframe tbody tr th {\n",
       "        vertical-align: top;\n",
       "    }\n",
       "\n",
       "    .dataframe thead th {\n",
       "        text-align: right;\n",
       "    }\n",
       "</style>\n",
       "<table border=\"1\" class=\"dataframe\">\n",
       "  <thead>\n",
       "    <tr style=\"text-align: right;\">\n",
       "      <th></th>\n",
       "      <th>Unnamed: 0</th>\n",
       "      <th>name</th>\n",
       "      <th>surname</th>\n",
       "      <th>fullname</th>\n",
       "      <th>gender</th>\n",
       "    </tr>\n",
       "  </thead>\n",
       "  <tbody>\n",
       "    <tr>\n",
       "      <th>24128</th>\n",
       "      <td>24283</td>\n",
       "      <td>Alexandar</td>\n",
       "      <td>Kasarov</td>\n",
       "      <td>Alexandar Kasarov</td>\n",
       "      <td>M</td>\n",
       "    </tr>\n",
       "    <tr>\n",
       "      <th>45022</th>\n",
       "      <td>45281</td>\n",
       "      <td>Alexandar</td>\n",
       "      <td>Lazarov</td>\n",
       "      <td>Alexandar Lazarov</td>\n",
       "      <td>M</td>\n",
       "    </tr>\n",
       "    <tr>\n",
       "      <th>51690</th>\n",
       "      <td>52159</td>\n",
       "      <td>Alexandar</td>\n",
       "      <td>Yordanov</td>\n",
       "      <td>Alexandar Yordanov</td>\n",
       "      <td>M</td>\n",
       "    </tr>\n",
       "  </tbody>\n",
       "</table>\n",
       "</div>"
      ],
      "text/plain": [
       "       Unnamed: 0       name   surname            fullname gender\n",
       "24128       24283  Alexandar   Kasarov   Alexandar Kasarov      M\n",
       "45022       45281  Alexandar   Lazarov   Alexandar Lazarov      M\n",
       "51690       52159  Alexandar  Yordanov  Alexandar Yordanov      M"
      ]
     },
     "execution_count": 68,
     "metadata": {},
     "output_type": "execute_result"
    }
   ],
   "source": [
    "# Alexandar Lazov\n",
    "df_male[df_male[\"name\"] == \"Alexandar\"]"
   ]
  },
  {
   "cell_type": "markdown",
   "id": "05820c42-764b-40e6-b85f-1053ea7b63ff",
   "metadata": {},
   "source": [
    "name 'Alexandar Lazov' is probably a wrong value into the matches dataset, the correct name is 'Alexandar Lazarov'"
   ]
  },
  {
   "cell_type": "code",
   "execution_count": 69,
   "id": "278dd1b9-b79d-422d-9da2-830a7fe15ce8",
   "metadata": {},
   "outputs": [],
   "source": [
    "replace_name(\"Alexandar Lazov\",\"Alexandar Lazarov\",\"M\")"
   ]
  },
  {
   "cell_type": "code",
   "execution_count": 70,
   "id": "10523e47-8edc-4709-a819-821cc973a676",
   "metadata": {},
   "outputs": [
    {
     "data": {
      "text/plain": [
       "Unnamed: 0  name   surname  fullname      gender\n",
       "6404        Alena  Fomina   Alena Fomina  F         1\n",
       "dtype: int64"
      ]
     },
     "execution_count": 70,
     "metadata": {},
     "output_type": "execute_result"
    }
   ],
   "source": [
    "# Alona Fomina\n",
    "df_female[df_female[\"surname\"] == \"Fomina\"].value_counts()"
   ]
  },
  {
   "cell_type": "markdown",
   "id": "134b8657-9055-42dd-ab00-893640550d90",
   "metadata": {},
   "source": [
    "name 'Alona Fomina' is probably a wrong value into the matches dataset, the correct name is 'Alena Fomina'"
   ]
  },
  {
   "cell_type": "code",
   "execution_count": 71,
   "id": "ca51bbd6-8a64-4872-92c3-8481f9ca6373",
   "metadata": {},
   "outputs": [],
   "source": [
    "# Alena Fomina\n",
    "replace_name(\"Alona Fomina\",\"Alena Fomina\",\"F\")"
   ]
  },
  {
   "cell_type": "code",
   "execution_count": 72,
   "id": "fb259236-8068-4cb0-913b-e5e1fd6e52ca",
   "metadata": {},
   "outputs": [],
   "source": [
    "# 'Antoine Hoang',"
   ]
  },
  {
   "cell_type": "code",
   "execution_count": 73,
   "id": "04ef2a6a-f033-4e64-a746-0bdf0ac814a2",
   "metadata": {},
   "outputs": [],
   "source": [
    "replace_gender(\"Antoine Hoang\",\"M\")"
   ]
  },
  {
   "cell_type": "markdown",
   "id": "e68b214e-ec47-421b-92b2-4d3cac611168",
   "metadata": {},
   "source": [
    "'Andres Artunedo Martinavarro' is not into the players dataset"
   ]
  },
  {
   "cell_type": "code",
   "execution_count": 74,
   "id": "60ee1733-9f7a-4b2f-88fe-697393f836c7",
   "metadata": {},
   "outputs": [],
   "source": [
    "replace_gender(\"Andres Artunedo Martinavarro\",\"M\")"
   ]
  },
  {
   "cell_type": "code",
   "execution_count": 75,
   "id": "6b09973a-2230-46f9-9c55-46ccf6bd9f53",
   "metadata": {},
   "outputs": [
    {
     "data": {
      "text/plain": [
       "Unnamed: 0  name       surname  fullname         gender\n",
       "125         Stan       Smith    Stan Smith       M         1\n",
       "41720       Alexandre  Smith    Alexandre Smith  M         1\n",
       "41592       Lewis      Smith    Lewis Smith      M         1\n",
       "40722       Zachery    Smith    Zachery Smith    M         1\n",
       "40058       Trevor     Smith    Trevor Smith     M         1\n",
       "                                                          ..\n",
       "12395       Douglas    Smith    Douglas Smith    M         1\n",
       "12240       Wilfred H  Smith    Wilfred H Smith  M         1\n",
       "12151       A          Smith    A Smith          M         1\n",
       "12022       J          Smith    J Smith          M         1\n",
       "54815       Barry      Smith    Barry Smith      M         1\n",
       "Length: 115, dtype: int64"
      ]
     },
     "execution_count": 75,
     "metadata": {},
     "output_type": "execute_result"
    }
   ],
   "source": [
    "# Austin Smith\n",
    "df_male[df_male[\"surname\"]== \"Smith\"].value_counts()"
   ]
  },
  {
   "cell_type": "markdown",
   "id": "3f833c58-5af9-417d-a381-5f84e3f7cfe7",
   "metadata": {},
   "source": [
    "there is an A Smith, probably is Austin Smith"
   ]
  },
  {
   "cell_type": "code",
   "execution_count": 76,
   "id": "a21209ca-7c36-47e1-a4ad-df81add1d08f",
   "metadata": {},
   "outputs": [],
   "source": [
    "replace_gender(\"Austin Smith\",\"M\")"
   ]
  },
  {
   "cell_type": "code",
   "execution_count": 77,
   "id": "e13165a6-949a-42a5-830e-c39c0d7f782f",
   "metadata": {},
   "outputs": [
    {
     "data": {
      "text/plain": [
       "{'Unnamed: 0': {}, 'name': {}, 'surname': {}, 'fullname': {}, 'gender': {}}"
      ]
     },
     "execution_count": 77,
     "metadata": {},
     "output_type": "execute_result"
    }
   ],
   "source": [
    "#Ben Patael\n",
    "df_male[df_male[\"surname\"] == \"Patael\"].to_dict()\n",
    "# esiste un Ben Patael ma non è nel dataset dei players"
   ]
  },
  {
   "cell_type": "code",
   "execution_count": 78,
   "id": "2f77d05b-f49c-4fc8-9131-76ad3a7c3adb",
   "metadata": {},
   "outputs": [],
   "source": [
    "replace_gender(\"Ben Patael\",\"M\")"
   ]
  },
  {
   "cell_type": "code",
   "execution_count": 79,
   "id": "3697bbc9-9447-482d-8ea6-7cfb3ecef0a5",
   "metadata": {
    "tags": []
   },
   "outputs": [
    {
     "data": {
      "text/html": [
       "<div>\n",
       "<style scoped>\n",
       "    .dataframe tbody tr th:only-of-type {\n",
       "        vertical-align: middle;\n",
       "    }\n",
       "\n",
       "    .dataframe tbody tr th {\n",
       "        vertical-align: top;\n",
       "    }\n",
       "\n",
       "    .dataframe thead th {\n",
       "        text-align: right;\n",
       "    }\n",
       "</style>\n",
       "<table border=\"1\" class=\"dataframe\">\n",
       "  <thead>\n",
       "    <tr style=\"text-align: right;\">\n",
       "      <th></th>\n",
       "      <th>Unnamed: 0</th>\n",
       "      <th>name</th>\n",
       "      <th>surname</th>\n",
       "      <th>fullname</th>\n",
       "      <th>gender</th>\n",
       "    </tr>\n",
       "  </thead>\n",
       "  <tbody>\n",
       "    <tr>\n",
       "      <th>22136</th>\n",
       "      <td>22282</td>\n",
       "      <td>Botic</td>\n",
       "      <td>Van De Zandschulp</td>\n",
       "      <td>Botic Van De Zandschulp</td>\n",
       "      <td>M</td>\n",
       "    </tr>\n",
       "  </tbody>\n",
       "</table>\n",
       "</div>"
      ],
      "text/plain": [
       "       Unnamed: 0   name            surname                 fullname gender\n",
       "22136       22282  Botic  Van De Zandschulp  Botic Van De Zandschulp      M"
      ]
     },
     "execution_count": 79,
     "metadata": {},
     "output_type": "execute_result"
    }
   ],
   "source": [
    "# Botic van de Zandschulp'\n",
    "df_male[df_male[\"name\"] == \"Botic\"]"
   ]
  },
  {
   "cell_type": "code",
   "execution_count": 80,
   "id": "e0144f07-0781-4de5-8323-ce83525c2946",
   "metadata": {},
   "outputs": [],
   "source": [
    "replace_gender(\"Botic van de Zandschulp\",\"M\")"
   ]
  },
  {
   "cell_type": "code",
   "execution_count": 81,
   "id": "c30d5ad2-2607-43bc-9461-047f0cabedd7",
   "metadata": {
    "tags": []
   },
   "outputs": [
    {
     "data": {
      "text/plain": [
       "Unnamed: 0  name         surname   fullname              gender\n",
       "6316        Christopher  Oconnell  Christopher Oconnell  M         1\n",
       "15446       George J     Oconnell  George J Oconnell     M         1\n",
       "19685       David        Oconnell  David Oconnell        M         1\n",
       "37819       William      Oconnell  William Oconnell      M         1\n",
       "50779       Fergus       Oconnell  Fergus Oconnell       M         1\n",
       "51770       Benjamin     Oconnell  Benjamin Oconnell     M         1\n",
       "dtype: int64"
      ]
     },
     "execution_count": 81,
     "metadata": {},
     "output_type": "execute_result"
    }
   ],
   "source": [
    "# Christopher O'Connell\n",
    "df_male[df_male[\"surname\"] == \"Oconnell\"].value_counts()"
   ]
  },
  {
   "cell_type": "markdown",
   "id": "6cbb9951-d0fb-4df6-bc1d-44c7d1a1c41f",
   "metadata": {},
   "source": [
    "Christopher  Oconnell  is written in a wrong way, is the same person. The correct fullname is Christopher O'Connell (the wrong value is into the male players dataset)"
   ]
  },
  {
   "cell_type": "code",
   "execution_count": 82,
   "id": "c99744d9-d17d-4eaa-aa49-bb44cc8a284b",
   "metadata": {},
   "outputs": [],
   "source": [
    "replace_gender(\"Christopher O'Connell\",\"M\")"
   ]
  },
  {
   "cell_type": "code",
   "execution_count": 83,
   "id": "f93b407c-e2c9-4386-9fe8-0556f5ddde06",
   "metadata": {},
   "outputs": [
    {
     "data": {
      "text/html": [
       "<div>\n",
       "<style scoped>\n",
       "    .dataframe tbody tr th:only-of-type {\n",
       "        vertical-align: middle;\n",
       "    }\n",
       "\n",
       "    .dataframe tbody tr th {\n",
       "        vertical-align: top;\n",
       "    }\n",
       "\n",
       "    .dataframe thead th {\n",
       "        text-align: right;\n",
       "    }\n",
       "</style>\n",
       "<table border=\"1\" class=\"dataframe\">\n",
       "  <thead>\n",
       "    <tr style=\"text-align: right;\">\n",
       "      <th></th>\n",
       "      <th>Unnamed: 0</th>\n",
       "      <th>name</th>\n",
       "      <th>surname</th>\n",
       "      <th>fullname</th>\n",
       "      <th>gender</th>\n",
       "    </tr>\n",
       "  </thead>\n",
       "  <tbody>\n",
       "    <tr>\n",
       "      <th>6409</th>\n",
       "      <td>6411</td>\n",
       "      <td>Christian</td>\n",
       "      <td>Garin</td>\n",
       "      <td>Christian Garin</td>\n",
       "      <td>M</td>\n",
       "    </tr>\n",
       "  </tbody>\n",
       "</table>\n",
       "</div>"
      ],
      "text/plain": [
       "      Unnamed: 0       name surname         fullname gender\n",
       "6409        6411  Christian   Garin  Christian Garin      M"
      ]
     },
     "execution_count": 83,
     "metadata": {},
     "output_type": "execute_result"
    }
   ],
   "source": [
    "# Cristian Garin\n",
    "df_male[df_male[\"surname\"] == \"Garin\"]"
   ]
  },
  {
   "cell_type": "markdown",
   "id": "b18a49c3-2a3f-4c78-bf7e-a4b4d3b7487d",
   "metadata": {},
   "source": [
    "The correct fullname is Cristian Garin, not Christian Garin (is wrong into the male players dataset)"
   ]
  },
  {
   "cell_type": "code",
   "execution_count": 84,
   "id": "319e016e-118d-4f0c-94db-38bdac0a537e",
   "metadata": {},
   "outputs": [],
   "source": [
    "replace_gender(\"Cristian Garin\",\"M\")"
   ]
  },
  {
   "cell_type": "code",
   "execution_count": 85,
   "id": "86bdd652-c8dd-4381-8b2d-ce5e20cde5ed",
   "metadata": {},
   "outputs": [],
   "source": [
    "# Daniel Elahi Galan\n",
    "p = df_male[df_male[\"name\"] == \"Daniel\"][\"surname\"].value_counts().to_dict()"
   ]
  },
  {
   "cell_type": "markdown",
   "id": "6d329570-5240-4577-b8f7-29670de6e2e9",
   "metadata": {},
   "source": [
    "No found... need to integrate and insert the gender"
   ]
  },
  {
   "cell_type": "code",
   "execution_count": 86,
   "id": "20e8546d-a627-4ef4-af9d-124aefe855b1",
   "metadata": {},
   "outputs": [],
   "source": [
    "replace_gender(\"Daniel Elahi Galan\",\"M\")"
   ]
  },
  {
   "cell_type": "code",
   "execution_count": 87,
   "id": "dc2ab76f-bbf1-41ab-9aad-8757c8bc6711",
   "metadata": {},
   "outputs": [
    {
     "data": {
      "text/html": [
       "<div>\n",
       "<style scoped>\n",
       "    .dataframe tbody tr th:only-of-type {\n",
       "        vertical-align: middle;\n",
       "    }\n",
       "\n",
       "    .dataframe tbody tr th {\n",
       "        vertical-align: top;\n",
       "    }\n",
       "\n",
       "    .dataframe thead th {\n",
       "        text-align: right;\n",
       "    }\n",
       "</style>\n",
       "<table border=\"1\" class=\"dataframe\">\n",
       "  <thead>\n",
       "    <tr style=\"text-align: right;\">\n",
       "      <th></th>\n",
       "      <th>Unnamed: 0</th>\n",
       "      <th>name</th>\n",
       "      <th>surname</th>\n",
       "      <th>fullname</th>\n",
       "      <th>gender</th>\n",
       "    </tr>\n",
       "  </thead>\n",
       "  <tbody>\n",
       "    <tr>\n",
       "      <th>3923</th>\n",
       "      <td>3925</td>\n",
       "      <td>Daniel</td>\n",
       "      <td>Munoz De La Nava</td>\n",
       "      <td>Daniel Munoz De La Nava</td>\n",
       "      <td>M</td>\n",
       "    </tr>\n",
       "  </tbody>\n",
       "</table>\n",
       "</div>"
      ],
      "text/plain": [
       "      Unnamed: 0    name           surname                 fullname gender\n",
       "3923        3925  Daniel  Munoz De La Nava  Daniel Munoz De La Nava      M"
      ]
     },
     "execution_count": 87,
     "metadata": {},
     "output_type": "execute_result"
    }
   ],
   "source": [
    "# Daniel Munoz de la Nava \n",
    "df_male[df_male[\"surname\"] == \"Munoz De La Nava\"]"
   ]
  },
  {
   "cell_type": "markdown",
   "id": "2b5f5ced-8484-4239-84d2-3a1cfc0701be",
   "metadata": {},
   "source": [
    "found, but the fullname into the matches dataset doesn't has capital letter --> need to fix dataset matches"
   ]
  },
  {
   "cell_type": "code",
   "execution_count": 88,
   "id": "b2a7d1c2-eeb4-4729-87ce-6d71a0738262",
   "metadata": {},
   "outputs": [],
   "source": [
    "replace_gender(\"Daniel Munoz de la Nava\",\"M\")"
   ]
  },
  {
   "cell_type": "code",
   "execution_count": 89,
   "id": "ac9e1984-b917-4a4d-9b9c-5c08890b5ba0",
   "metadata": {},
   "outputs": [
    {
     "data": {
      "text/html": [
       "<div>\n",
       "<style scoped>\n",
       "    .dataframe tbody tr th:only-of-type {\n",
       "        vertical-align: middle;\n",
       "    }\n",
       "\n",
       "    .dataframe tbody tr th {\n",
       "        vertical-align: top;\n",
       "    }\n",
       "\n",
       "    .dataframe thead th {\n",
       "        text-align: right;\n",
       "    }\n",
       "</style>\n",
       "<table border=\"1\" class=\"dataframe\">\n",
       "  <thead>\n",
       "    <tr style=\"text-align: right;\">\n",
       "      <th></th>\n",
       "      <th>Unnamed: 0</th>\n",
       "      <th>name</th>\n",
       "      <th>surname</th>\n",
       "      <th>fullname</th>\n",
       "      <th>gender</th>\n",
       "    </tr>\n",
       "  </thead>\n",
       "  <tbody>\n",
       "    <tr>\n",
       "      <th>10449</th>\n",
       "      <td>10459</td>\n",
       "      <td>David</td>\n",
       "      <td>Ohare</td>\n",
       "      <td>David Ohare</td>\n",
       "      <td>M</td>\n",
       "    </tr>\n",
       "  </tbody>\n",
       "</table>\n",
       "</div>"
      ],
      "text/plain": [
       "       Unnamed: 0   name surname     fullname gender\n",
       "10449       10459  David   Ohare  David Ohare      M"
      ]
     },
     "execution_count": 89,
     "metadata": {},
     "output_type": "execute_result"
    }
   ],
   "source": [
    "#  \"David O'Hare\",\n",
    "df_male[df_male[\"surname\"] == \"Ohare\"]"
   ]
  },
  {
   "cell_type": "markdown",
   "id": "618910d1-aef9-4e67-ab5a-890332567996",
   "metadata": {},
   "source": [
    "the surname into the players dataset is wrong, should be O'Hare"
   ]
  },
  {
   "cell_type": "code",
   "execution_count": 90,
   "id": "4282f9ed-3e25-4dc1-81d9-2bd8e5353a7d",
   "metadata": {},
   "outputs": [],
   "source": [
    "replace_gender(\"David O'Hare\",\"M\")"
   ]
  },
  {
   "cell_type": "code",
   "execution_count": 91,
   "id": "d955df7c-a24f-4a22-bd3d-9f4d4b0fe058",
   "metadata": {},
   "outputs": [
    {
     "data": {
      "text/plain": [
       "fullname  gender\n",
       "Di Zhao   F         1\n",
       "dtype: int64"
      ]
     },
     "execution_count": 91,
     "metadata": {},
     "output_type": "execute_result"
    }
   ],
   "source": [
    "# Di Zhao\n",
    "df_players[df_players[\"fullname\"] == \"Di Zhao\"].value_counts()"
   ]
  },
  {
   "cell_type": "code",
   "execution_count": 92,
   "id": "5ec33263-762c-4929-bee0-902ef13fb937",
   "metadata": {},
   "outputs": [],
   "source": [
    "replace_gender(\"Di Zhao\",\"F\")"
   ]
  },
  {
   "cell_type": "code",
   "execution_count": 93,
   "id": "6bd32496-3715-4ce7-a6e7-536951091076",
   "metadata": {},
   "outputs": [
    {
     "data": {
      "text/plain": [
       "Unnamed: 0  name             surname      fullname                     gender\n",
       "6028        Diego Sebastian  Schwartzman  Diego Sebastian Schwartzman  M         1\n",
       "dtype: int64"
      ]
     },
     "execution_count": 93,
     "metadata": {},
     "output_type": "execute_result"
    }
   ],
   "source": [
    "# Diego Schwartzman\n",
    "df_male[df_male[\"surname\"] == \"Schwartzman\"].value_counts()\n"
   ]
  },
  {
   "cell_type": "markdown",
   "id": "4be2591c-c009-40be-8401-4929ed2386d2",
   "metadata": {},
   "source": [
    "real name is Diego Sebastian Schwartzman, need to fix the dataset matches with the right fullname"
   ]
  },
  {
   "cell_type": "code",
   "execution_count": 94,
   "id": "9044dc6a-e5a9-43ef-a559-bbfe1c7ffa72",
   "metadata": {},
   "outputs": [],
   "source": [
    "replace_name(\"Diego Schwartzman\",\"Diego Sebastian Schwartzman\",\"M\")"
   ]
  },
  {
   "cell_type": "code",
   "execution_count": 95,
   "id": "c2129037-4800-48df-a9c1-c480eabf307a",
   "metadata": {},
   "outputs": [
    {
     "data": {
      "text/html": [
       "<div>\n",
       "<style scoped>\n",
       "    .dataframe tbody tr th:only-of-type {\n",
       "        vertical-align: middle;\n",
       "    }\n",
       "\n",
       "    .dataframe tbody tr th {\n",
       "        vertical-align: top;\n",
       "    }\n",
       "\n",
       "    .dataframe thead th {\n",
       "        text-align: right;\n",
       "    }\n",
       "</style>\n",
       "<table border=\"1\" class=\"dataframe\">\n",
       "  <thead>\n",
       "    <tr style=\"text-align: right;\">\n",
       "      <th></th>\n",
       "      <th>Unnamed: 0</th>\n",
       "      <th>name</th>\n",
       "      <th>surname</th>\n",
       "      <th>fullname</th>\n",
       "      <th>gender</th>\n",
       "    </tr>\n",
       "  </thead>\n",
       "  <tbody>\n",
       "  </tbody>\n",
       "</table>\n",
       "</div>"
      ],
      "text/plain": [
       "Empty DataFrame\n",
       "Columns: [Unnamed: 0, name, surname, fullname, gender]\n",
       "Index: []"
      ]
     },
     "execution_count": 95,
     "metadata": {},
     "output_type": "execute_result"
    }
   ],
   "source": [
    " # 'Evgenii Tiurnev',\n",
    "a = df_male[df_male[\"name\"] == \"Evgenii\"]\n",
    "b = df_male[df_male[\"surname\"] == \"Tiurnev\"]\n",
    "a\n",
    "b"
   ]
  },
  {
   "cell_type": "markdown",
   "id": "7b871542-874c-48cd-8fa3-db14ab7323e4",
   "metadata": {},
   "source": [
    "is not into the players dataset, maybe we could do data integration"
   ]
  },
  {
   "cell_type": "code",
   "execution_count": 96,
   "id": "934d8338-a91b-4291-9405-112e44bf6673",
   "metadata": {},
   "outputs": [],
   "source": [
    "replace_gender(\"Evgenii Tiurnev\",\"M\")"
   ]
  },
  {
   "cell_type": "code",
   "execution_count": 97,
   "id": "eae3a068-81d9-4bd2-b912-3d4886c6716b",
   "metadata": {},
   "outputs": [
    {
     "data": {
      "text/html": [
       "<div>\n",
       "<style scoped>\n",
       "    .dataframe tbody tr th:only-of-type {\n",
       "        vertical-align: middle;\n",
       "    }\n",
       "\n",
       "    .dataframe tbody tr th {\n",
       "        vertical-align: top;\n",
       "    }\n",
       "\n",
       "    .dataframe thead th {\n",
       "        text-align: right;\n",
       "    }\n",
       "</style>\n",
       "<table border=\"1\" class=\"dataframe\">\n",
       "  <thead>\n",
       "    <tr style=\"text-align: right;\">\n",
       "      <th></th>\n",
       "      <th>Unnamed: 0</th>\n",
       "      <th>name</th>\n",
       "      <th>surname</th>\n",
       "      <th>fullname</th>\n",
       "      <th>gender</th>\n",
       "    </tr>\n",
       "  </thead>\n",
       "  <tbody>\n",
       "    <tr>\n",
       "      <th>26005</th>\n",
       "      <td>26191</td>\n",
       "      <td>Francis</td>\n",
       "      <td>Tiafoe</td>\n",
       "      <td>Francis Tiafoe</td>\n",
       "      <td>M</td>\n",
       "    </tr>\n",
       "  </tbody>\n",
       "</table>\n",
       "</div>"
      ],
      "text/plain": [
       "       Unnamed: 0     name surname        fullname gender\n",
       "26005       26191  Francis  Tiafoe  Francis Tiafoe      M"
      ]
     },
     "execution_count": 97,
     "metadata": {},
     "output_type": "execute_result"
    }
   ],
   "source": [
    "# Frances Tiafoe\n",
    "df_male[df_male[\"surname\"] == \"Tiafoe\"]"
   ]
  },
  {
   "cell_type": "markdown",
   "id": "6ee9eb29-fb09-4104-9065-841f4a8ed3b5",
   "metadata": {},
   "source": [
    "correct name is Frances Tiafoe, need to fix the players dataset"
   ]
  },
  {
   "cell_type": "code",
   "execution_count": 98,
   "id": "23e077a8-2a91-4d1d-85c4-6ffdb58e04dd",
   "metadata": {},
   "outputs": [],
   "source": [
    "replace_gender(\"Frances Tiafoe\",\"M\")"
   ]
  },
  {
   "cell_type": "code",
   "execution_count": 99,
   "id": "73c2c44c-6491-441e-9c95-257efe1dc92f",
   "metadata": {},
   "outputs": [
    {
     "data": {
      "text/html": [
       "<div>\n",
       "<style scoped>\n",
       "    .dataframe tbody tr th:only-of-type {\n",
       "        vertical-align: middle;\n",
       "    }\n",
       "\n",
       "    .dataframe tbody tr th {\n",
       "        vertical-align: top;\n",
       "    }\n",
       "\n",
       "    .dataframe thead th {\n",
       "        text-align: right;\n",
       "    }\n",
       "</style>\n",
       "<table border=\"1\" class=\"dataframe\">\n",
       "  <thead>\n",
       "    <tr style=\"text-align: right;\">\n",
       "      <th></th>\n",
       "      <th>Unnamed: 0</th>\n",
       "      <th>name</th>\n",
       "      <th>surname</th>\n",
       "      <th>fullname</th>\n",
       "      <th>gender</th>\n",
       "    </tr>\n",
       "  </thead>\n",
       "  <tbody>\n",
       "    <tr>\n",
       "      <th>5006</th>\n",
       "      <td>5008</td>\n",
       "      <td>Franco</td>\n",
       "      <td>Skugor</td>\n",
       "      <td>Franco Skugor</td>\n",
       "      <td>M</td>\n",
       "    </tr>\n",
       "  </tbody>\n",
       "</table>\n",
       "</div>"
      ],
      "text/plain": [
       "      Unnamed: 0    name surname       fullname gender\n",
       "5006        5008  Franco  Skugor  Franco Skugor      M"
      ]
     },
     "execution_count": 99,
     "metadata": {},
     "output_type": "execute_result"
    }
   ],
   "source": [
    "# 'Franko Skugor'\n",
    "df_male[df_male[\"surname\"] == \"Skugor\"]"
   ]
  },
  {
   "cell_type": "markdown",
   "id": "393b9832-b3cd-4513-8572-6ccfe6351499",
   "metadata": {},
   "source": [
    "correct name is Franko Skugor, need to fix the matches dataset"
   ]
  },
  {
   "cell_type": "code",
   "execution_count": 100,
   "id": "9b95bafc-d6f0-4536-bbf8-c7ff29192a27",
   "metadata": {},
   "outputs": [],
   "source": [
    "replace_gender(\"Franko Skugor\",\"M\")"
   ]
  },
  {
   "cell_type": "code",
   "execution_count": 101,
   "id": "ae55b2ad-82f3-42f2-86b8-ea6f5398172b",
   "metadata": {},
   "outputs": [
    {
     "data": {
      "text/html": [
       "<div>\n",
       "<style scoped>\n",
       "    .dataframe tbody tr th:only-of-type {\n",
       "        vertical-align: middle;\n",
       "    }\n",
       "\n",
       "    .dataframe tbody tr th {\n",
       "        vertical-align: top;\n",
       "    }\n",
       "\n",
       "    .dataframe thead th {\n",
       "        text-align: right;\n",
       "    }\n",
       "</style>\n",
       "<table border=\"1\" class=\"dataframe\">\n",
       "  <thead>\n",
       "    <tr style=\"text-align: right;\">\n",
       "      <th></th>\n",
       "      <th>Unnamed: 0</th>\n",
       "      <th>name</th>\n",
       "      <th>surname</th>\n",
       "      <th>fullname</th>\n",
       "      <th>gender</th>\n",
       "    </tr>\n",
       "  </thead>\n",
       "  <tbody>\n",
       "    <tr>\n",
       "      <th>52591</th>\n",
       "      <td>53063</td>\n",
       "      <td>Holger Vitus Nodskov</td>\n",
       "      <td>Rune</td>\n",
       "      <td>Holger Vitus Nodskov Rune</td>\n",
       "      <td>M</td>\n",
       "    </tr>\n",
       "  </tbody>\n",
       "</table>\n",
       "</div>"
      ],
      "text/plain": [
       "       Unnamed: 0                  name surname                   fullname  \\\n",
       "52591       53063  Holger Vitus Nodskov    Rune  Holger Vitus Nodskov Rune   \n",
       "\n",
       "      gender  \n",
       "52591      M  "
      ]
     },
     "execution_count": 101,
     "metadata": {},
     "output_type": "execute_result"
    }
   ],
   "source": [
    "# 'Holger Rune'\n",
    "df_male[df_male[\"surname\"] == \"Rune\"]"
   ]
  },
  {
   "cell_type": "markdown",
   "id": "f8ef4581-41df-47cd-8341-c84eecc5c343",
   "metadata": {},
   "source": [
    "the correct fullname is Holger Nodskov, need to fix the players dataset"
   ]
  },
  {
   "cell_type": "code",
   "execution_count": 102,
   "id": "dce092da-a33e-442e-8799-d6d3925c8865",
   "metadata": {},
   "outputs": [],
   "source": [
    "replace_gender(\"Holger Rune\",\"M\")"
   ]
  },
  {
   "cell_type": "code",
   "execution_count": 103,
   "id": "f9366656-588e-40e3-ac33-f34510a9f30a",
   "metadata": {},
   "outputs": [
    {
     "data": {
      "text/plain": [
       "Unnamed: 0  name          surname  fullname           gender\n",
       "1191        Mike          Wolf     Mike Wolf          M         1\n",
       "5338        Matthias      Wolf     Matthias Wolf      M         1\n",
       "9389        Jeff          Wolf     Jeff Wolf          M         1\n",
       "15444       Harry F       Wolf     Harry F Wolf       M         1\n",
       "23507       Michael       Wolf     Michael Wolf       M         1\n",
       "24947       David         Wolf     David Wolf         M         1\n",
       "30930       Sebastian     Wolf     Sebastian Wolf     M         1\n",
       "45704       Jeffrey John  Wolf     Jeffrey John Wolf  M         1\n",
       "dtype: int64"
      ]
     },
     "execution_count": 103,
     "metadata": {},
     "output_type": "execute_result"
    }
   ],
   "source": [
    "# J.J. Wolf\n",
    "df_male[df_male[\"surname\"] == \"Wolf\"].value_counts()"
   ]
  },
  {
   "cell_type": "markdown",
   "id": "4f2ea4af-c1db-4806-b084-cff5b5c50798",
   "metadata": {},
   "source": [
    "the correct name is Jeffrey John, need to fix the matches dataset "
   ]
  },
  {
   "cell_type": "code",
   "execution_count": 104,
   "id": "4c5f861b-47d9-4ab3-bcb8-d7327bb5a956",
   "metadata": {},
   "outputs": [],
   "source": [
    "replace_name(\"J.J. Wolf\",\"Jeffrey John Wolf\",\"M\")"
   ]
  },
  {
   "cell_type": "code",
   "execution_count": 105,
   "id": "3ebb1c04-e798-49b0-b881-643fb472f75a",
   "metadata": {},
   "outputs": [
    {
     "data": {
      "text/plain": [
       "Unnamed: 0  name         surname  fullname            gender\n",
       "4540        Jo Wilfried  Tsonga   Jo Wilfried Tsonga  M         1\n",
       "dtype: int64"
      ]
     },
     "execution_count": 105,
     "metadata": {},
     "output_type": "execute_result"
    }
   ],
   "source": [
    "# Jo-Wilfried Tsonga\n",
    "df_male[df_male[\"surname\"] == \"Tsonga\"].value_counts()"
   ]
  },
  {
   "cell_type": "markdown",
   "id": "63b0e0ae-b1e0-4260-8e15-4710be63f1f1",
   "metadata": {},
   "source": [
    "need to decide if we want to drop the \"-\""
   ]
  },
  {
   "cell_type": "code",
   "execution_count": 106,
   "id": "c7e42c5a-d233-452a-a351-cc50ddff4b32",
   "metadata": {},
   "outputs": [],
   "source": [
    "replace_gender(\"Jo-Wilfried Tsonga\",\"M\")"
   ]
  },
  {
   "cell_type": "code",
   "execution_count": 107,
   "id": "3c449a76-bafa-4368-9f6d-61bce8833b55",
   "metadata": {},
   "outputs": [
    {
     "data": {
      "text/plain": [
       "Unnamed: 0  name     surname  fullname         gender\n",
       "948         Mauro    Menezes  Mauro Menezes    M         1\n",
       "28581       Gustavo  Menezes  Gustavo Menezes  M         1\n",
       "dtype: int64"
      ]
     },
     "execution_count": 107,
     "metadata": {},
     "output_type": "execute_result"
    }
   ],
   "source": [
    "# Joao Menezes\n",
    "df_male[df_male[\"surname\"] == \"Menezes\"].value_counts()"
   ]
  },
  {
   "cell_type": "markdown",
   "id": "e746c1d9-ad83-49a9-ba65-c3ec0a75bed0",
   "metadata": {},
   "source": [
    "the player exist but is not into the male players dataset, maybe we could do integration"
   ]
  },
  {
   "cell_type": "code",
   "execution_count": 108,
   "id": "da93f57a-3007-490c-94de-ac53766e16ee",
   "metadata": {},
   "outputs": [],
   "source": [
    "replace_gender(\"Joao Menezes\",\"M\")"
   ]
  },
  {
   "cell_type": "code",
   "execution_count": 109,
   "id": "8472827e-e443-4db3-9810-e3f93a0c4273",
   "metadata": {},
   "outputs": [
    {
     "data": {
      "text/plain": [
       "Unnamed: 0  name  surname            fullname                gender\n",
       "63          Juan  Gisbert            Juan Gisbert            M         1\n",
       "39356       Juan  Orendain           Juan Orendain           M         1\n",
       "37731       Juan  Jorgui             Juan Jorgui             M         1\n",
       "37835       Juan  Barrera            Juan Barrera            M         1\n",
       "38111       Juan  Moreiras           Juan Moreiras           M         1\n",
       "                                                                      ..\n",
       "14848       Juan  Aguirre            Juan Aguirre            M         1\n",
       "14743       Juan  Weiss              Juan Weiss              M         1\n",
       "11683       Juan  Berrido Fernandez  Juan Berrido Fernandez  M         1\n",
       "11514       Juan  Mejia              Juan Mejia              M         1\n",
       "54770       Juan  Carlos Arroyo      Juan Carlos Arroyo      M         1\n",
       "Length: 136, dtype: int64"
      ]
     },
     "execution_count": 109,
     "metadata": {},
     "output_type": "execute_result"
    }
   ],
   "source": [
    "# 'Juan Martin del Potro'\n",
    "df_male[df_male[\"name\"] == \"Juan\"].value_counts()"
   ]
  },
  {
   "cell_type": "markdown",
   "id": "74a779e0-9031-4806-b6a6-45dd98454fa8",
   "metadata": {},
   "source": [
    "there is a Juan Martin, but the correct fullname is \"Juan Martin del Potro\",  need to fix the male players dataset"
   ]
  },
  {
   "cell_type": "code",
   "execution_count": 110,
   "id": "0c4ebbbc-aad3-4344-b42b-d40f5675d7f9",
   "metadata": {},
   "outputs": [],
   "source": [
    "replace_gender(\"Juan Martin del Potro\",\"M\")"
   ]
  },
  {
   "cell_type": "code",
   "execution_count": 111,
   "id": "52a05e32-62a1-4a53-9780-a9c3d03a1d26",
   "metadata": {},
   "outputs": [
    {
     "name": "stdout",
     "output_type": "stream",
     "text": [
      "['Gisbert' 'Nunez' 'Farrow' 'Avendano' 'Aguilera' 'Pino' 'Rios' 'Lavalle'\n",
      " 'Olivert' 'Garat' 'Gisbert Jr' 'Balcells' 'Morgenstern' 'Camilo Gamboa'\n",
      " 'Giner' 'Ferrer' 'Monaco' 'De Armas' 'Beaus Barquin' 'Vazquez Valenzuela'\n",
      " 'Lizariturry' 'Fiesta' 'Boyanovich' 'Jimenez' 'Martin Bra' 'Rivera'\n",
      " 'Couder' 'Diaz' 'Hernandez' 'Herrera' 'Leal' 'Ajuanqa' 'Torralbo'\n",
      " 'Barragan' 'Jurado' 'Lopez Vico' 'Mejia' 'Berrido Fernandez' 'Weiss'\n",
      " 'Aguirre' 'Notz' 'Arredondo' 'Perianez Llopis' 'Torres Palacios'\n",
      " 'Pardo Moran' 'Alfaro' 'Bolona' 'Fernandez' 'Rodriguez' 'Obeid' 'Rocha'\n",
      " 'Reitz' 'Montes' 'Lomba Diego' 'Gavilan Puerto' 'Ayala'\n",
      " 'Barrio Gutierrez' 'Ordonez' 'De Beer' 'Guerrero' 'Sanchez Silva'\n",
      " 'Martin Adalia' 'Lovado' 'Escobar' 'Millanao' 'Fornell' 'Borras Meijides'\n",
      " 'England' 'Duke' 'Osete Moreno' 'Centella Perez' 'Carranza Novoa' 'Erro'\n",
      " 'Espinel' 'Borba' 'Ortiz Couder' 'Rivadeneira' 'Espinosa' 'Delvalle'\n",
      " 'Madrid Segarra' 'Rivera Cabeo' 'Riviere Lemmel' 'Borras Meijide'\n",
      " 'Gonzalez Sanchez' 'Reys' 'Farah' 'Molfino De La Rosa' 'Jorgui' 'Barrera'\n",
      " 'Moreiras' 'Lopez Isasi' 'Quiroga' 'Arenas' 'Orendain'\n",
      " 'Gutierrez De Rozas' 'Suarez' 'Garcia Salvador' 'Correa' 'Valls Vidal'\n",
      " 'Ozon Llacer' 'Martinez' 'Arancibia' 'Mallqui' 'Jaysingh' 'Soto' 'Pardo'\n",
      " 'Mercedes' 'Todero' 'Paz Marchena' 'Cardell Martinez' 'Cabrera' 'Balda'\n",
      " 'Baquerizo' 'Lugo' 'Aranda' 'Barrio' 'Lencina' 'Mendonca' 'Guzman'\n",
      " 'Pardi' 'Borras ' 'Torralbo Olmo' 'Navarro' 'Pons' 'Abuchaibe'\n",
      " 'Martin (Bra)' 'Martin Diaz' 'Martinez Becerra' 'Gutierrez' 'Hesayne'\n",
      " 'Platero Avello' 'Granell Heredero' 'Marin' 'Martin' 'Sengariz Carral'\n",
      " 'Carlos Arroyo']\n"
     ]
    }
   ],
   "source": [
    "# 'Juan Pablo Varillas'\n",
    "print(df_male[df_male[\"name\"] == \"Juan\"][\"surname\"].unique())"
   ]
  },
  {
   "cell_type": "markdown",
   "id": "be4861f8-58ba-463d-b5f6-508fc6436c4d",
   "metadata": {},
   "source": [
    "he is not into the male players dataset, but he exists in reality, we cloud do data integrartion "
   ]
  },
  {
   "cell_type": "code",
   "execution_count": 112,
   "id": "464c1911-30ef-4715-a0d8-bd4c0821b462",
   "metadata": {},
   "outputs": [],
   "source": [
    "replace_gender(\"Juan Pablo Varillas\",\"M\")"
   ]
  },
  {
   "cell_type": "code",
   "execution_count": 113,
   "id": "48fe02e8-3812-4c83-8139-84875a894692",
   "metadata": {},
   "outputs": [
    {
     "data": {
      "text/plain": [
       "Unnamed: 0  name      surname  fullname          gender\n",
       "27284       Djurabek  Karimov  Djurabek Karimov  M         1\n",
       "29963       Ravil     Karimov  Ravil Karimov     M         1\n",
       "40756       Eugene    Karimov  Eugene Karimov    M         1\n",
       "52327       Adil      Karimov  Adil Karimov      M         1\n",
       "53486       Iskandar  Karimov  Iskandar Karimov  M         1\n",
       "dtype: int64"
      ]
     },
     "execution_count": 113,
     "metadata": {},
     "output_type": "execute_result"
    }
   ],
   "source": [
    "# Jurabek Karimov\n",
    "df_male[df_male[\"surname\"] == \"Karimov\"].value_counts()"
   ]
  },
  {
   "cell_type": "markdown",
   "id": "b3e7f8b6-89e9-47dc-843e-22f5bf876401",
   "metadata": {},
   "source": [
    "the correct fullname is  Jurabek Karimov, need to fix the male players dataset"
   ]
  },
  {
   "cell_type": "code",
   "execution_count": 114,
   "id": "402639e2-888a-4522-a715-147a0fe9e0fe",
   "metadata": {},
   "outputs": [],
   "source": [
    "replace_gender(\"Jurabek Karimov\",\"M\")"
   ]
  },
  {
   "cell_type": "code",
   "execution_count": 115,
   "id": "00ee58ac-e723-41c6-9fcf-50e135a3e6b7",
   "metadata": {},
   "outputs": [
    {
     "data": {
      "text/plain": [
       "Unnamed: 0  name      surname   fullname           gender\n",
       "26923       Khumoyun  Sultanov  Khumoyun Sultanov  M         1\n",
       "dtype: int64"
      ]
     },
     "execution_count": 115,
     "metadata": {},
     "output_type": "execute_result"
    }
   ],
   "source": [
    "# Khumoun Sultanov\n",
    "df_male[df_male[\"surname\"] == \"Sultanov\"].value_counts()"
   ]
  },
  {
   "cell_type": "markdown",
   "id": "2109aece-c4ac-40b2-a4ac-ac451164755f",
   "metadata": {},
   "source": [
    "the correct fullname is Khumoyun  Sultanov, need to fix the matches dataset"
   ]
  },
  {
   "cell_type": "code",
   "execution_count": 116,
   "id": "865fa735-4e65-441d-8f00-247a7b82824f",
   "metadata": {},
   "outputs": [],
   "source": [
    "replace_name(\"Khumoun Sultanov\",\"Khumoyun Sultanov\",\"M\")"
   ]
  },
  {
   "cell_type": "code",
   "execution_count": 117,
   "id": "62094d18-6ec7-412d-9c57-cdc5b93c6a3e",
   "metadata": {},
   "outputs": [
    {
     "data": {
      "text/plain": [
       "Unnamed: 0  name  surname  fullname  gender\n",
       "6161        Kuan  Lee      Kuan Lee  M         1\n",
       "dtype: int64"
      ]
     },
     "execution_count": 117,
     "metadata": {},
     "output_type": "execute_result"
    }
   ],
   "source": [
    "# Kuan Yi Lee \n",
    "df_male[df_male[\"name\"] == \"Kuan\"].value_counts()"
   ]
  },
  {
   "cell_type": "markdown",
   "id": "fb420e4e-d730-4a46-a14e-16dd245bdc53",
   "metadata": {},
   "source": [
    "the correct fullname is Kuan-yi Lee, need to fix the male players dataset"
   ]
  },
  {
   "cell_type": "code",
   "execution_count": 118,
   "id": "a1b8913d-048b-401b-a790-ed1d26984bfd",
   "metadata": {},
   "outputs": [],
   "source": [
    "replace_gender(\"Kuan Yi Lee\",\"M\")"
   ]
  },
  {
   "cell_type": "code",
   "execution_count": 119,
   "id": "2fe95c93-6cca-418b-a03b-8f250bd84e39",
   "metadata": {},
   "outputs": [
    {
     "data": {
      "text/plain": [
       "Unnamed: 0  name   surname        fullname             gender\n",
       "564         Lloyd  Bourne         Lloyd Bourne         M         1\n",
       "6251        Lloyd  Glasspool      Lloyd Glasspool      M         1\n",
       "15013       Lloyd  Moglen         Lloyd Moglen         M         1\n",
       "15518       Lloyd  Nordstrom      Lloyd Nordstrom      M         1\n",
       "16508       Lloyd  Hartel         Lloyd Hartel         M         1\n",
       "24147       Lloyd  Segal          Lloyd Segal          M         1\n",
       "34116       Lloyd  Bruce Burgess  Lloyd Bruce Burgess  M         1\n",
       "42065       Lloyd  Bartis         Lloyd Bartis         M         1\n",
       "dtype: int64"
      ]
     },
     "execution_count": 119,
     "metadata": {},
     "output_type": "execute_result"
    }
   ],
   "source": [
    "# Lloyd Harris\n",
    "df_male[df_male[\"name\"] == \"Lloyd\"].value_counts()"
   ]
  },
  {
   "cell_type": "code",
   "execution_count": null,
   "id": "e268cb18",
   "metadata": {},
   "outputs": [],
   "source": [
    "replace_gender(\"Yang Liu\",\"M\")"
   ]
  },
  {
   "cell_type": "code",
   "execution_count": 120,
   "id": "a32250e3-c3b7-4123-9cf8-b1d0cfe7e691",
   "metadata": {},
   "outputs": [
    {
     "data": {
      "text/plain": [
       "Unnamed: 0  name                   surname  fullname                      gender\n",
       "290         Ian                    Harris   Ian Harris                    M         1\n",
       "1934        David                  Harris   David Harris                  M         1\n",
       "48914       Brian                  Harris   Brian Harris                  M         1\n",
       "47655       G                      Harris   G Harris                      M         1\n",
       "44734       Lloyd George Muirhead  Harris   Lloyd George Muirhead Harris  M         1\n",
       "42466       Glenford               Harris   Glenford Harris               M         1\n",
       "39508       Martyn                 Harris   Martyn Harris                 M         1\n",
       "39046       Dean                   Harris   Dean Harris                   M         1\n",
       "37107       Jason                  Harris   Jason Harris                  M         1\n",
       "34244       Patrick                Harris   Patrick Harris                M         1\n",
       "32061       Christian              Harris   Christian Harris              M         1\n",
       "28981       Nick                   Harris   Nick Harris                   M         1\n",
       "28662       Chris                  Harris   Chris Harris                  M         1\n",
       "26113       Billy                  Harris   Billy Harris                  M         1\n",
       "25221       Trey                   Harris   Trey Harris                   M         1\n",
       "17362       Phillip                Harris   Phillip Harris                M         1\n",
       "16543       Bs                     Harris   Bs Harris                     M         1\n",
       "15818       Fh                     Harris   Fh Harris                     M         1\n",
       "14978       John A                 Harris   John A Harris                 M         1\n",
       "14393       Jh                     Harris   Jh Harris                     M         1\n",
       "13914       Stanley W              Harris   Stanley W Harris              M         1\n",
       "13169       Charles R              Harris   Charles R Harris              M         1\n",
       "12354       Ellis                  Harris   Ellis Harris                  M         1\n",
       "12350       Peter                  Harris   Peter Harris                  M         1\n",
       "11319       Clint                  Harris   Clint Harris                  M         1\n",
       "9962        William                Harris   William Harris                M         1\n",
       "6287        Andrew                 Harris   Andrew Harris                 M         1\n",
       "3927        Chad                   Harris   Chad Harris                   M         1\n",
       "3540        Kevin                  Harris   Kevin Harris                  M         1\n",
       "51340       Daunte                 Harris   Daunte Harris                 M         1\n",
       "dtype: int64"
      ]
     },
     "execution_count": 120,
     "metadata": {},
     "output_type": "execute_result"
    }
   ],
   "source": [
    "df_male[df_male[\"surname\"] == \"Harris\"].value_counts()"
   ]
  },
  {
   "cell_type": "markdown",
   "id": "1475d91e-3c6c-467e-9d57-257a490573f6",
   "metadata": {},
   "source": [
    "the correct fullname is \"Lloyd George Muirhead  Harris\" but into the matches dataset there is only the first name"
   ]
  },
  {
   "cell_type": "code",
   "execution_count": 121,
   "id": "90afa2e0-b2ef-4dae-b04d-e78cf2ee28de",
   "metadata": {},
   "outputs": [],
   "source": [
    "replace_name(\"Lloyd Harris\",\"Lloyd George Muirhead Harris\",\"M\")"
   ]
  },
  {
   "cell_type": "code",
   "execution_count": 122,
   "id": "c187a5ef-b889-4246-9017-3936c6a76560",
   "metadata": {},
   "outputs": [
    {
     "data": {
      "text/plain": [
       "Series([], dtype: int64)"
      ]
     },
     "execution_count": 122,
     "metadata": {},
     "output_type": "execute_result"
    }
   ],
   "source": [
    "# Mackenzie McDonald \n",
    "df_male[df_male[\"surname\"] == \"McDonald\"].value_counts()"
   ]
  },
  {
   "cell_type": "code",
   "execution_count": 123,
   "id": "3b9fe956-a2a5-4db5-a9da-21d0caa7ad4d",
   "metadata": {},
   "outputs": [
    {
     "data": {
      "text/plain": [
       "Unnamed: 0  name       surname   fullname            gender\n",
       "11440       Mackenzie  Mcdonald  Mackenzie Mcdonald  M         1\n",
       "38027       Mackenzie  Stearns   Mackenzie Stearns   M         1\n",
       "dtype: int64"
      ]
     },
     "execution_count": 123,
     "metadata": {},
     "output_type": "execute_result"
    }
   ],
   "source": [
    "df_male[df_male[\"name\"] == \"Mackenzie\"].value_counts()"
   ]
  },
  {
   "cell_type": "markdown",
   "id": "d0fcdf5f-633d-45a4-8082-6f1c16ed6ada",
   "metadata": {},
   "source": [
    "Mcdonald into the male players dataset doesn't has a capital letter. Need to fix it"
   ]
  },
  {
   "cell_type": "code",
   "execution_count": 124,
   "id": "45fc7139-9461-480a-a04e-cbe81dccbe7a",
   "metadata": {
    "tags": []
   },
   "outputs": [],
   "source": [
    "replace_gender(\"Mackenzie McDonald\",\"M\")"
   ]
  },
  {
   "cell_type": "code",
   "execution_count": 125,
   "id": "9a2d1a74-3e7d-4494-8c03-98a377b43422",
   "metadata": {},
   "outputs": [
    {
     "name": "stdout",
     "output_type": "stream",
     "text": [
      "['Geoff' 'Mario' 'Gerardo' 'Ignacio' 'Bernardo' 'Oscar' 'Eduardo'\n",
      " 'Stephane' 'Pablo' 'Luis David' 'Mateo Nicolas' 'Angel' 'Borja' 'Jeff'\n",
      " 'Octavio' 'Sandor' 'Emilio' 'Ivan' 'Erick' 'Aurelio' 'Jacobo' 'Miguel'\n",
      " 'Rafael' 'Sergio' 'Carlos' 'Alvaro' 'Ricardo' 'Gilberto' 'Michael'\n",
      " 'Victor' 'Jose Luis' 'Ivan Feliipe' 'Hugo' 'Santiago' 'Raul' 'Arturo'\n",
      " 'Christian' 'Benjamin' 'Giovanni' 'Lucas Gabriel' 'Tomas Salvador'\n",
      " 'Cristobal' 'Mario Roman' 'Douglas' 'Mael' 'Rolando' 'Erik' 'Adrian'\n",
      " 'Juan' 'Fernando' 'Matias' 'Francisco' 'Nicolas' 'Mirko' 'Brian' 'Louroi'\n",
      " 'T' 'Cesar' 'Javier' 'Alejandro' 'Flavio' 'Alex' 'Denilson' 'Mikel'\n",
      " 'Antonio']\n"
     ]
    }
   ],
   "source": [
    "# Pedro Martinez\n",
    "print(df_male[df_male[\"surname\"] == \"Martinez\"][\"name\"].unique())"
   ]
  },
  {
   "cell_type": "code",
   "execution_count": 126,
   "id": "a2843a6d-d95f-4659-b499-4b7dd15f3df6",
   "metadata": {},
   "outputs": [
    {
     "name": "stdout",
     "output_type": "stream",
     "text": [
      "['Gonzalez' 'Rebolledo' 'Alatorre' 'Leon' 'Braga' 'Escudero' 'Nieto'\n",
      " 'Canovas' 'Rico' 'Leao' 'Clar Rossello' 'Graber Anguita' 'Sousa'\n",
      " 'Feitosa' 'Zerbini' 'Bernardi' 'Sakamoto' 'Dumont' 'Cachin' 'Cordeiro'\n",
      " 'Mari' 'Lopez' 'Zannoni' 'Guimaraes' 'Alves' 'Campos' 'Ast' 'Araujo'\n",
      " 'Rodrigues' 'Langre' 'Loewe' 'Garriga Nogues' 'Bueno Neto' 'Rosello'\n",
      " 'Castella' 'Vega' 'Villena Martinez' 'Navedo Garcia' 'Pereira' 'Caniza'\n",
      " 'Genovese' 'Gedda' 'Silva' 'Salas Lozano' 'Cacao' 'Zanotelli' 'Posselt'\n",
      " 'Villar Almiron' 'Scocuglia' 'Rogar' 'Davisson' 'Freitas' 'Dalfre'\n",
      " 'Verdugo' 'Ortega' 'De Paula' 'Bosio' 'Ecenarro Del Rio' 'Menna Barreto'\n",
      " 'Machado' 'Custodio' 'Fontanet' 'Escudero Araujo' 'Duarte' 'Mejia'\n",
      " 'Dominguez Alonso' 'Martinez Portero' 'Cots' 'Bardaji' 'Mugica'\n",
      " 'Iamachkine' 'Mol' 'Munafo' 'Pontes' 'Nolasco Giangrecco' 'Lima Wagner'\n",
      " 'Toccafondo' 'Almeida' 'Osete Montoro' 'Torralbo Munoz' 'Canavati'\n",
      " 'Manso' 'Alonso Lopez' 'Ribeiro' 'Carvalho' 'Estevao'\n",
      " 'Oranges De Figueiredo' 'Quijada' 'Lizondo Osset' 'Laureano'\n",
      " 'Fernandez Salvador Martinez' 'Amat Sanchez' 'Festugato Regalin' 'Lopes'\n",
      " 'Ludovico' 'Liberio' 'Saueressig Roese' 'Solis' 'Ferraz' 'Manfio'\n",
      " 'De Carli' 'Carle' 'Garcia' 'Uribe' 'Barbosa' 'Saviron' 'Vera' 'Luz'\n",
      " 'Jimenez' 'Sheridan' 'Romay Beltran' 'Rios Nalda' 'Carrillo Onieva'\n",
      " 'Severino' 'Magalhaes' 'Rodriguez' 'Lunardelli' 'Drummond' 'Frade' 'Pena'\n",
      " 'Cartaxo' 'Cunillera Wefers' 'Munoz Veras' 'Platzeck Cavalcante'\n",
      " 'Villena' 'Souja' 'Naveda' 'Borges' 'Palha' 'Coutinho' 'Arroyave'\n",
      " 'Raggio' 'Sanchez Perello' 'Lozano Beamund' 'Graber' 'Cerbino' 'Loureiro'\n",
      " 'Fernandez Del Valle' 'Barosa' 'Vives Marcos' 'Bernabe Franco' 'Aranda'\n",
      " 'Vide' 'Boscardin Dias' 'Graca' 'Ferrari Maciel' 'Barrios' 'Figar'\n",
      " 'Navedo']\n"
     ]
    }
   ],
   "source": [
    "print(df_male[df_male[\"name\"] == \"Pedro\"][\"surname\"].unique())"
   ]
  },
  {
   "cell_type": "markdown",
   "id": "a4035635-3a3c-41a7-9e3e-c3e437c80c7d",
   "metadata": {},
   "source": [
    "there is not a Pedro Martinez, but exists in reality, we could do data integration"
   ]
  },
  {
   "cell_type": "code",
   "execution_count": 127,
   "id": "7429c16a-2b4a-46e2-8db6-47847362598c",
   "metadata": {},
   "outputs": [],
   "source": [
    "replace_gender(\"Pedro Martinez\",\"M\")"
   ]
  },
  {
   "cell_type": "code",
   "execution_count": 128,
   "id": "e36930e2-adde-4cb0-8fba-74aed72c762f",
   "metadata": {},
   "outputs": [
    {
     "data": {
      "text/plain": [
       "Unnamed: 0  name    surname  fullname      gender\n",
       "5024        Samuel  Groth    Samuel Groth  M         1\n",
       "7929        Paul    Groth    Paul Groth    M         1\n",
       "44136       Dirk    Groth    Dirk Groth    M         1\n",
       "dtype: int64"
      ]
     },
     "execution_count": 128,
     "metadata": {},
     "output_type": "execute_result"
    }
   ],
   "source": [
    "# Sam Groth\n",
    "df_male[df_male[\"surname\"] == \"Groth\"].value_counts()"
   ]
  },
  {
   "cell_type": "markdown",
   "id": "c9a63c72-5285-4000-aab3-b78ed80224a6",
   "metadata": {},
   "source": [
    "the real and correct fullname is SAMUEL GROTH, need to fix the matches dataset"
   ]
  },
  {
   "cell_type": "code",
   "execution_count": 129,
   "id": "093f34b0-83bf-4cf2-af62-45060c0e7baa",
   "metadata": {},
   "outputs": [],
   "source": [
    "replace_name(\"Sam Groth\",\"Samuel Groth\",\"M\")"
   ]
  },
  {
   "cell_type": "code",
   "execution_count": 130,
   "id": "8d96acf6-3d41-451f-be22-c36e93df5b0a",
   "metadata": {},
   "outputs": [
    {
     "data": {
      "text/plain": [
       "Unnamed: 0  name       surname   fullname            gender\n",
       "4525        Stanislas  Wawrinka  Stanislas Wawrinka  M         1\n",
       "7393        Jonathan   Wawrinka  Jonathan Wawrinka   M         1\n",
       "dtype: int64"
      ]
     },
     "execution_count": 130,
     "metadata": {},
     "output_type": "execute_result"
    }
   ],
   "source": [
    "# Stan Wawrinka\n",
    "df_male[df_male[\"surname\"] == \"Wawrinka\"].value_counts()"
   ]
  },
  {
   "cell_type": "markdown",
   "id": "ba077913-4d36-4951-a44a-02c6181e4774",
   "metadata": {},
   "source": [
    "the correct fullname is Stan Wawrinka, need to fix the male players dataset"
   ]
  },
  {
   "cell_type": "code",
   "execution_count": 131,
   "id": "5f545026-2854-4221-81a4-289a8f5b8301",
   "metadata": {},
   "outputs": [],
   "source": [
    "replace_gender(\"Stan Wawrinka\",\"M\")"
   ]
  },
  {
   "cell_type": "code",
   "execution_count": 132,
   "id": "81e80292-3103-4179-8672-13d410351622",
   "metadata": {},
   "outputs": [
    {
     "data": {
      "text/plain": [
       "Unnamed: 0  name          surname  fullname            gender\n",
       "229         Welry         Fritz    Welry Fritz         M         1\n",
       "313         Bernard       Fritz    Bernard Fritz       M         1\n",
       "6207        Felipe        Fritz    Felipe Fritz        M         1\n",
       "7142        Guy           Fritz    Guy Fritz           M         1\n",
       "9856        Harry         Fritz    Harry Fritz         M         1\n",
       "26187       Taylor Harry  Fritz    Taylor Harry Fritz  M         1\n",
       "40189       Julien        Fritz    Julien Fritz        M         1\n",
       "50210       Thomas        Fritz    Thomas Fritz        M         1\n",
       "dtype: int64"
      ]
     },
     "execution_count": 132,
     "metadata": {},
     "output_type": "execute_result"
    }
   ],
   "source": [
    "# Taylor Fritz\n",
    "df_male[df_male[\"surname\"] == \"Fritz\"].value_counts()"
   ]
  },
  {
   "cell_type": "markdown",
   "id": "56dfefb9-0aeb-4b7e-b4a1-fa8534832e79",
   "metadata": {},
   "source": [
    "the complete fullname is \"Taylor Harry  Fritz\" but into the matches dataset there is only the first name"
   ]
  },
  {
   "cell_type": "code",
   "execution_count": 133,
   "id": "f76d9afa-77e5-43a0-ad42-e76d739f3a9f",
   "metadata": {},
   "outputs": [],
   "source": [
    "replace_name(\"Taylor Fritz\",\"Taylor Harry Fritz\",\"M\")"
   ]
  },
  {
   "cell_type": "code",
   "execution_count": 134,
   "id": "39764776-3590-408e-8208-c64c0df22bb8",
   "metadata": {},
   "outputs": [
    {
     "data": {
      "text/plain": [
       "fullname  gender\n",
       "Yi Liu    F         1\n",
       "dtype: int64"
      ]
     },
     "execution_count": 134,
     "metadata": {},
     "output_type": "execute_result"
    }
   ],
   "source": [
    "# Yi Liu\n",
    "df_players[df_players[\"fullname\"] == \"Yi Liu\"].value_counts()"
   ]
  },
  {
   "cell_type": "code",
   "execution_count": 135,
   "id": "fbd4eafe-aada-40c0-b3c3-9bae194a8364",
   "metadata": {},
   "outputs": [],
   "source": [
    "replace_gender(\"Yi Liu\",\"F\")"
   ]
  },
  {
   "cell_type": "code",
   "execution_count": 136,
   "id": "5032f5f5-f568-44b3-88af-2749902104c5",
   "metadata": {},
   "outputs": [
    {
     "data": {
      "text/plain": [
       "Unnamed: 0  name         surname    fullname               gender\n",
       "16570       Zeynep Sena  Sarioglan  Zeynep Sena Sarioglan  F         1\n",
       "dtype: int64"
      ]
     },
     "execution_count": 136,
     "metadata": {},
     "output_type": "execute_result"
    }
   ],
   "source": [
    "#'Zeynep  Sena Sarioglan'\n",
    "df_female[df_female[\"surname\"] == \"Sarioglan\"].value_counts()"
   ]
  },
  {
   "cell_type": "markdown",
   "id": "45a33b6e-a032-4b6b-a988-f724753e099a",
   "metadata": {},
   "source": [
    "the correct fullname is Zeynep Sena Sariglan, need to fix the matches dataset if we want to keep also the second name"
   ]
  },
  {
   "cell_type": "code",
   "execution_count": 137,
   "id": "e01d6b26-ec2c-4d0b-b4c1-976b57e7f375",
   "metadata": {},
   "outputs": [],
   "source": [
    "replace_name(\"Zeynep  Sena Sarioglan\",\"Zeynep Sena Sarioglan\",\"F\")"
   ]
  },
  {
   "cell_type": "code",
   "execution_count": 138,
   "id": "cd2aa518-9e69-4177-824e-9be445f839ce",
   "metadata": {},
   "outputs": [
    {
     "data": {
      "text/plain": [
       "fullname    gender\n",
       "Ziyu Zhang  F         1\n",
       "dtype: int64"
      ]
     },
     "execution_count": 138,
     "metadata": {},
     "output_type": "execute_result"
    }
   ],
   "source": [
    "# Ziyu Zhang\n",
    "df_players[df_players[\"fullname\"] == \"Ziyu Zhang\"].value_counts()"
   ]
  },
  {
   "cell_type": "code",
   "execution_count": 139,
   "id": "805c432a-02bf-4f4f-86ab-f12721e8891d",
   "metadata": {},
   "outputs": [],
   "source": [
    "replace_gender(\"Ziyu Zhang\",\"F\")"
   ]
  },
  {
   "cell_type": "code",
   "execution_count": 140,
   "id": "3653dd35-a06b-4417-8485-78c3adc8152b",
   "metadata": {},
   "outputs": [
    {
     "data": {
      "text/plain": [
       "Series([], dtype: int64)"
      ]
     },
     "execution_count": 140,
     "metadata": {},
     "output_type": "execute_result"
    }
   ],
   "source": [
    "# Jonathan Mridha\n",
    "df_male[df_male[\"surname\"] == \"Mridha\"].value_counts()"
   ]
  },
  {
   "cell_type": "code",
   "execution_count": 141,
   "id": "537c4078-c5d0-49d7-800b-d5476fa107cd",
   "metadata": {},
   "outputs": [
    {
     "name": "stdout",
     "output_type": "stream",
     "text": [
      "['Abadie', 'Andress', 'Arpin', 'Askey', 'Auer', 'Austin', 'Backman', 'Baker', 'Banos', 'Barrett', 'Beardsley', 'Beaskoetxea Etxabarr', 'Bejar', 'Bernay', 'Binding', 'Britt', 'Brooklyn', 'Calienes', 'Canter', 'Cardi', 'Chang', 'Chu', 'Clarke', 'Cornish', 'Dahan', 'Dasnieres De Veigy', 'David', 'Delaura', 'Delgado', 'Diomedi', 'Dipierro', 'Edmunds', 'Edwards', 'Engel', 'Erlich', 'Espinola', 'Eysseric', 'Florez Cohen', 'Ganger', 'Garcia Leo', 'Gasawneh', 'Glover', 'Goitia', 'Gomez', 'Gomont', 'Gonzalia', 'Gray', 'Greczula', 'Grolaux', 'Guatteri', 'Gutierrez', 'Hamilton', 'Hefetz', 'Hilaire', 'Ho', 'Hocking', 'Hooper', 'Howard', 'Howell', 'Hultkrantz Chesneau', 'Igbinovia', 'Jaklitsch', 'Janda', 'Jenkin', 'Jeuch', 'John', 'Kanar', 'Kaufman', 'Kazarian', 'Kessler', 'Kidane', 'Kinsella', 'Klein', 'Krimotat', 'Kuhn', 'Labella', 'Laubut', 'Leach', 'Lewis', 'Lim', 'Lints', 'Lynch', 'Magadan', 'Marray', 'Martinez Galvan', 'Maskens', 'Miller', 'Milsztajn', 'Molina Galvan', 'Morales', 'Morgan', 'Morr', 'Morris', 'Mr', 'Nguyen', 'Obrist', 'Orlop', 'Otero', 'Pankhurst', 'Parkes', 'Pastel', 'Pearlman', 'Phang', 'Poon', 'Prince', 'Printzlau', 'Ribaste', 'Richerand', 'Rioux', 'Rondon', 'Russo', 'Sanchez', 'Santos', 'Schneider', 'Shemper', 'Sheridan', 'Smith', 'Solanas Lafuente', 'Sorbo', 'Sotillo Navarro', 'Star', 'Stark', 'Stenberg', 'Stokke', 'Sucupira', 'Susmozas', 'Susmozas De Miguel', 'Taborcia Beitia', 'Tassell', 'Thompson', 'Tishler', 'Tragardh', 'Van Nieuwenhove', 'Vargas Sanchez', 'Vazquez', 'Vencatachellum', 'Venison', 'Vesely', 'Wawrinka', 'Wolff', 'Wynne', 'Yip', 'Zaouche', 'Zipris']\n"
     ]
    }
   ],
   "source": [
    "print(sorted(df_male[df_male[\"name\"] == \"Jonathan\"][\"surname\"].unique()))"
   ]
  },
  {
   "cell_type": "code",
   "execution_count": 142,
   "id": "6cdab663-1489-46f5-8331-d04c3e964a05",
   "metadata": {},
   "outputs": [],
   "source": [
    "replace_gender(\"Jonathan Mridha\",\"M\")"
   ]
  },
  {
   "cell_type": "code",
   "execution_count": 143,
   "id": "bae56ade-0b50-487d-a9c0-5e5acfb7e85d",
   "metadata": {},
   "outputs": [
    {
     "data": {
      "text/plain": [
       "{}"
      ]
     },
     "execution_count": 143,
     "metadata": {},
     "output_type": "execute_result"
    }
   ],
   "source": [
    "df[df[\"gender_w\"].isnull()][\"winner_name\"].value_counts().to_dict()"
   ]
  },
  {
   "cell_type": "markdown",
   "id": "21a59bf7-b1e0-4569-9a6e-814057d86bcf",
   "metadata": {},
   "source": [
    "DONE ✅"
   ]
  },
  {
   "cell_type": "markdown",
   "id": "58a07849-d8e8-40e7-8465-0e5a50300d12",
   "metadata": {},
   "source": [
    "## Profiles Dataset creation"
   ]
  },
  {
   "cell_type": "markdown",
   "id": "e02852d6-d428-4a0f-94dd-d65192b321ee",
   "metadata": {},
   "source": [
    "Creating a set of attributes for our profiles' dataset.\n",
    "\n",
    "In particular we are going to create the following attributes:\n",
    "- fullname\n",
    "- gender\n",
    "- birth: year of player's birth\n",
    "- hand: mode of the used hand in matches\n",
    "- height: last known height of the player\n",
    "- won_matches: number of matches won by the player\n",
    "- lost_matches: number of matches lost by the player\n",
    "- country: nationality of the player\n",
    "- minutes: average played minutes per match\n",
    "- rank: average rank position\n",
    "- year: last match's year\n",
    "- bp_save_ratio: avarage ratio of saved breakpoints (bp_saved / bp_faced)\n",
    "- svpt_won_perc: avarage number of served points won (1stWon + 2stWon) / svpt  \n",
    "- aces: average aces scored per match\n",
    "- df_perc: avarage double faults made df / svpt\n",
    "- matches: number of matches played\n",
    "- percent_won: won matches percentage\n",
    "- best_season: season (Summer/Winter) in which the player won more matches\n",
    "- best_year: year in which the player won more matches\n",
    "- best_surface: surface on which the player won more matches\n",
    "\n",
    "\n",
    "fullname\tgender\tage\thand\ttourney_spectators\twon_matches\tlost_matches\tcountry\tminutes\trank\tyear\tbp_save_ratio\tsvpt_won_perc\tace\tdf_perc \tmatches\tbest_season\tbest_year\tbest_surface"
   ]
  },
  {
   "cell_type": "markdown",
   "id": "7167e1b3-2b15-4a40-a48b-70ab60a269c8",
   "metadata": {},
   "source": [
    "Preparing a new dataset"
   ]
  },
  {
   "cell_type": "code",
   "execution_count": 144,
   "id": "e120fd31-8e42-4d91-b5b4-b4d42b34ec26",
   "metadata": {},
   "outputs": [
    {
     "name": "stdout",
     "output_type": "stream",
     "text": [
      "Done\n"
     ]
    }
   ],
   "source": [
    "# duplicating matches' rows to have just one player per row (one row for the winner, one row for the loser)\n",
    "to_keep = [\"fullname\", \"gender\", \"height\", \"minutes\",\"hand\",\"tourney_spectators\", \"tourney_date\", \"country\", \"rank\", \"bpFaced\", \"bpSaved\", \"surface\", \"season\", \"1stWon\", \"2ndWon\", \"svpt\", \"ace\", \"df\", \"age\"]\n",
    "df_matches = df.rename(columns={\"winner_name\":\"fullname\", \"gender_w\":\"gender\", \"winner_ht\":\"height\", \"winner_hand\":\"hand\", \"winner_ioc\":\"country\", \"winner_rank\":\"rank\", \"w_bpFaced\":\"bpFaced\", \"w_bpSaved\":\"bpSaved\", \"w_bpSaved\":\"bpSaved\", \"w_1stWon\": \"1stWon\", \"w_2ndWon\": \"2ndWon\", \"w_svpt\":\"svpt\", \"w_ace\": \"ace\", \"w_df\":\"df\", \"winner_age\":\"age\"})[to_keep]\n",
    "df_matches[\"won_matches\"] = 1\n",
    "df_matches[\"lost_matches\"] = 0\n",
    "\n",
    "\n",
    "\n",
    "df_matches2 = df.rename(columns={\"loser_name\":\"fullname\", \"gender_l\":\"gender\", \"loser_ht\":\"height\", \"loser_hand\":\"hand\", \"loser_ioc\":\"country\", \"loser_rank\":\"rank\", \"l_bpFaced\":\"bpFaced\", \"l_bpSaved\":\"bpSaved\", \"l_bpSaved\":\"bpSaved\", \"l_1stWon\": \"1stWon\", \"l_2ndWon\": \"2ndWon\", \"l_svpt\":\"svpt\", \"l_ace\":\"ace\", \"l_df\":\"df\", \"loser_age\":\"age\"})[to_keep]\n",
    "df_matches2[\"won_matches\"] = 0\n",
    "df_matches2[\"lost_matches\"] = 1\n",
    "\n",
    "df_matches = pd.concat([df_matches, df_matches2]).sort_values(['fullname','tourney_date'])\n",
    "\n",
    "#creating attributes\n",
    "df_matches[\"year\"] = (df_matches[\"tourney_date\"]/10000).round()\n",
    "df_matches[\"bp_save_ratio\"] = df_matches[\"bpSaved\"] / df_matches[\"bpFaced\"]\n",
    "df_matches[\"svpt_won_perc\"] = (df_matches[\"1stWon\"]+df_matches[\"2ndWon\"]) / df_matches[\"svpt\"]\n",
    "df_matches[\"df_perc\"] = df_matches[\"df\"]/df_matches[\"svpt\"]\n",
    "df_matches[\"birth\"] = df_matches[\"year\"]-(df_matches[\"age\"].round())\n",
    "df_matches.drop(columns=[\"tourney_date\", \"1stWon\", \"2ndWon\", \"svpt\", \"bpFaced\", \"bpSaved\"], inplace=True)\n",
    "\n",
    "del df_matches2\n",
    "print(\"Done\")"
   ]
  },
  {
   "cell_type": "code",
   "execution_count": 145,
   "id": "7c7095b9-06c6-4fdb-9882-8b36c7c3abe7",
   "metadata": {},
   "outputs": [
    {
     "data": {
      "text/plain": [
       "1    185799\n",
       "0    185799\n",
       "Name: lost_matches, dtype: int64"
      ]
     },
     "execution_count": 145,
     "metadata": {},
     "output_type": "execute_result"
    }
   ],
   "source": [
    "df_matches[\"lost_matches\"].value_counts()"
   ]
  },
  {
   "cell_type": "markdown",
   "id": "f1c58abf-b6c7-4cf0-b319-357eea8e13d4",
   "metadata": {},
   "source": [
    "Creating profiles with basic statistics"
   ]
  },
  {
   "cell_type": "code",
   "execution_count": 146,
   "id": "13a74b4c-3864-48c9-8c14-b0b22bc4d633",
   "metadata": {},
   "outputs": [
    {
     "name": "stdout",
     "output_type": "stream",
     "text": [
      "Created basic statistics!\n"
     ]
    }
   ],
   "source": [
    "#group by fullname to do statistics\n",
    "df_matches[\"matches\"] = 1\n",
    "group = df_matches.groupby([\"fullname\"])\n",
    "group = group.agg({\"gender\": pd.Series.mode,\n",
    "                   \"birth\": pd.Series.mean,\n",
    "                   \"hand\":pd.Series.mode,\n",
    "                   \"tourney_spectators\":pd.Series.mean,\n",
    "                   \"won_matches\": \"sum\",\n",
    "                   \"lost_matches\": \"sum\",\n",
    "                   \"country\": pd.Series.mode,\n",
    "                   \"minutes\": pd.Series.mean,\n",
    "                   \"rank\": pd.Series.mean,\n",
    "                   \"year\": \"last\",\n",
    "                   \"bp_save_ratio\": pd.Series.mean,\n",
    "                   \"svpt_won_perc\": pd.Series.mean,\n",
    "                   \"ace\": pd.Series.mean,\n",
    "                   \"df_perc\": pd.Series.mean,\n",
    "                   \"matches\": \"sum\"\n",
    "                  })\n",
    "\n",
    "group[\"birth\"] = group[\"birth\"].round()\n",
    "group = group.rename({\"year\":\"last_year\", \"rank\":\"avg_rank\", \"tourney_spectators\": \"avg_spectators\", \"minutes\": \"avg_minutes\", \"bp_save_ratio\":\"avg_bp_save_ratio\", \"svpt_won_perc\":\"avg_svpt_won_perc\", \"ace\":\"avg_ace\", \"df_perc\":\"avg_df_perc\"})\n",
    "print(\"Created basic statistics!\")\n"
   ]
  },
  {
   "cell_type": "markdown",
   "id": "626c0e01-cec6-41d0-b2a8-7facaafb136d",
   "metadata": {},
   "source": [
    "Creating \"best of\" statistics"
   ]
  },
  {
   "cell_type": "code",
   "execution_count": null,
   "id": "a755b647",
   "metadata": {},
   "outputs": [],
   "source": [
    "group.loc[group[\"hand\"].str.len() != 1, \"hand\"] = \"U\""
   ]
  },
  {
   "cell_type": "code",
   "execution_count": 147,
   "id": "a6f4bbdb-0b22-4f62-89d8-507ec08d37c8",
   "metadata": {},
   "outputs": [
    {
     "name": "stdout",
     "output_type": "stream",
     "text": [
      "Created best_season!\n",
      "Created best_year!\n",
      "Created best_surface!\n"
     ]
    },
    {
     "data": {
      "text/html": [
       "<div>\n",
       "<style scoped>\n",
       "    .dataframe tbody tr th:only-of-type {\n",
       "        vertical-align: middle;\n",
       "    }\n",
       "\n",
       "    .dataframe tbody tr th {\n",
       "        vertical-align: top;\n",
       "    }\n",
       "\n",
       "    .dataframe thead th {\n",
       "        text-align: right;\n",
       "    }\n",
       "</style>\n",
       "<table border=\"1\" class=\"dataframe\">\n",
       "  <thead>\n",
       "    <tr style=\"text-align: right;\">\n",
       "      <th></th>\n",
       "      <th>fullname</th>\n",
       "      <th>gender</th>\n",
       "      <th>age</th>\n",
       "      <th>hand</th>\n",
       "      <th>tourney_spectators</th>\n",
       "      <th>won_matches</th>\n",
       "      <th>lost_matches</th>\n",
       "      <th>country</th>\n",
       "      <th>minutes</th>\n",
       "      <th>rank</th>\n",
       "      <th>year</th>\n",
       "      <th>bp_save_ratio</th>\n",
       "      <th>svpt_won_perc</th>\n",
       "      <th>ace</th>\n",
       "      <th>df_perc</th>\n",
       "      <th>matches</th>\n",
       "      <th>best_season</th>\n",
       "      <th>best_year</th>\n",
       "      <th>best_surface</th>\n",
       "    </tr>\n",
       "  </thead>\n",
       "  <tbody>\n",
       "    <tr>\n",
       "      <th>0</th>\n",
       "      <td>Aada Inna</td>\n",
       "      <td>F</td>\n",
       "      <td>NaN</td>\n",
       "      <td>U</td>\n",
       "      <td>4059.000000</td>\n",
       "      <td>0</td>\n",
       "      <td>1</td>\n",
       "      <td>FIN</td>\n",
       "      <td>NaN</td>\n",
       "      <td>NaN</td>\n",
       "      <td>2021.0</td>\n",
       "      <td>NaN</td>\n",
       "      <td>NaN</td>\n",
       "      <td>NaN</td>\n",
       "      <td>NaN</td>\n",
       "      <td>1</td>\n",
       "      <td>NaN</td>\n",
       "      <td>NaN</td>\n",
       "      <td>NaN</td>\n",
       "    </tr>\n",
       "    <tr>\n",
       "      <th>1</th>\n",
       "      <td>Aalisha Alexis</td>\n",
       "      <td>F</td>\n",
       "      <td>NaN</td>\n",
       "      <td>U</td>\n",
       "      <td>3237.500000</td>\n",
       "      <td>0</td>\n",
       "      <td>2</td>\n",
       "      <td>TTO</td>\n",
       "      <td>NaN</td>\n",
       "      <td>NaN</td>\n",
       "      <td>2019.0</td>\n",
       "      <td>NaN</td>\n",
       "      <td>NaN</td>\n",
       "      <td>NaN</td>\n",
       "      <td>NaN</td>\n",
       "      <td>2</td>\n",
       "      <td>NaN</td>\n",
       "      <td>NaN</td>\n",
       "      <td>NaN</td>\n",
       "    </tr>\n",
       "    <tr>\n",
       "      <th>2</th>\n",
       "      <td>Aaliya Ebrahim</td>\n",
       "      <td>F</td>\n",
       "      <td>NaN</td>\n",
       "      <td>R</td>\n",
       "      <td>3632.666667</td>\n",
       "      <td>2</td>\n",
       "      <td>7</td>\n",
       "      <td>IND</td>\n",
       "      <td>NaN</td>\n",
       "      <td>NaN</td>\n",
       "      <td>2020.0</td>\n",
       "      <td>NaN</td>\n",
       "      <td>NaN</td>\n",
       "      <td>NaN</td>\n",
       "      <td>NaN</td>\n",
       "      <td>9</td>\n",
       "      <td>Summer</td>\n",
       "      <td>2019.0</td>\n",
       "      <td>Clay</td>\n",
       "    </tr>\n",
       "    <tr>\n",
       "      <th>3</th>\n",
       "      <td>Aaliyah Hohmann</td>\n",
       "      <td>F</td>\n",
       "      <td>NaN</td>\n",
       "      <td>U</td>\n",
       "      <td>2792.666667</td>\n",
       "      <td>1</td>\n",
       "      <td>2</td>\n",
       "      <td>DEU</td>\n",
       "      <td>NaN</td>\n",
       "      <td>NaN</td>\n",
       "      <td>2021.0</td>\n",
       "      <td>NaN</td>\n",
       "      <td>NaN</td>\n",
       "      <td>NaN</td>\n",
       "      <td>NaN</td>\n",
       "      <td>3</td>\n",
       "      <td>Summer</td>\n",
       "      <td>2021.0</td>\n",
       "      <td>Hard</td>\n",
       "    </tr>\n",
       "    <tr>\n",
       "      <th>4</th>\n",
       "      <td>Aalyka Ebrahim</td>\n",
       "      <td>F</td>\n",
       "      <td>NaN</td>\n",
       "      <td>U</td>\n",
       "      <td>3207.750000</td>\n",
       "      <td>0</td>\n",
       "      <td>4</td>\n",
       "      <td>IND</td>\n",
       "      <td>NaN</td>\n",
       "      <td>NaN</td>\n",
       "      <td>2019.0</td>\n",
       "      <td>NaN</td>\n",
       "      <td>NaN</td>\n",
       "      <td>NaN</td>\n",
       "      <td>NaN</td>\n",
       "      <td>4</td>\n",
       "      <td>NaN</td>\n",
       "      <td>NaN</td>\n",
       "      <td>NaN</td>\n",
       "    </tr>\n",
       "    <tr>\n",
       "      <th>...</th>\n",
       "      <td>...</td>\n",
       "      <td>...</td>\n",
       "      <td>...</td>\n",
       "      <td>...</td>\n",
       "      <td>...</td>\n",
       "      <td>...</td>\n",
       "      <td>...</td>\n",
       "      <td>...</td>\n",
       "      <td>...</td>\n",
       "      <td>...</td>\n",
       "      <td>...</td>\n",
       "      <td>...</td>\n",
       "      <td>...</td>\n",
       "      <td>...</td>\n",
       "      <td>...</td>\n",
       "      <td>...</td>\n",
       "      <td>...</td>\n",
       "      <td>...</td>\n",
       "      <td>...</td>\n",
       "    </tr>\n",
       "    <tr>\n",
       "      <th>10095</th>\n",
       "      <td>Zuzana Zalabska</td>\n",
       "      <td>F</td>\n",
       "      <td>1985.0</td>\n",
       "      <td>R</td>\n",
       "      <td>1303.000000</td>\n",
       "      <td>2</td>\n",
       "      <td>1</td>\n",
       "      <td>CZE</td>\n",
       "      <td>NaN</td>\n",
       "      <td>858.000000</td>\n",
       "      <td>2016.0</td>\n",
       "      <td>NaN</td>\n",
       "      <td>NaN</td>\n",
       "      <td>NaN</td>\n",
       "      <td>NaN</td>\n",
       "      <td>3</td>\n",
       "      <td>Summer</td>\n",
       "      <td>2016.0</td>\n",
       "      <td>Clay</td>\n",
       "    </tr>\n",
       "    <tr>\n",
       "      <th>10096</th>\n",
       "      <td>Zuzana Zlochova</td>\n",
       "      <td>F</td>\n",
       "      <td>1990.0</td>\n",
       "      <td>R</td>\n",
       "      <td>3236.458101</td>\n",
       "      <td>93</td>\n",
       "      <td>86</td>\n",
       "      <td>SVK</td>\n",
       "      <td>90.571429</td>\n",
       "      <td>460.664804</td>\n",
       "      <td>2021.0</td>\n",
       "      <td>0.411585</td>\n",
       "      <td>0.453745</td>\n",
       "      <td>0.571429</td>\n",
       "      <td>0.073615</td>\n",
       "      <td>179</td>\n",
       "      <td>Summer</td>\n",
       "      <td>2016.0</td>\n",
       "      <td>Hard</td>\n",
       "    </tr>\n",
       "    <tr>\n",
       "      <th>10097</th>\n",
       "      <td>Zuzanna Bednarz</td>\n",
       "      <td>F</td>\n",
       "      <td>NaN</td>\n",
       "      <td>U</td>\n",
       "      <td>2206.500000</td>\n",
       "      <td>0</td>\n",
       "      <td>2</td>\n",
       "      <td>POL</td>\n",
       "      <td>NaN</td>\n",
       "      <td>NaN</td>\n",
       "      <td>2021.0</td>\n",
       "      <td>NaN</td>\n",
       "      <td>NaN</td>\n",
       "      <td>NaN</td>\n",
       "      <td>NaN</td>\n",
       "      <td>2</td>\n",
       "      <td>NaN</td>\n",
       "      <td>NaN</td>\n",
       "      <td>NaN</td>\n",
       "    </tr>\n",
       "    <tr>\n",
       "      <th>10098</th>\n",
       "      <td>Zuzanna Szczepanska</td>\n",
       "      <td>F</td>\n",
       "      <td>NaN</td>\n",
       "      <td>R</td>\n",
       "      <td>2785.333333</td>\n",
       "      <td>0</td>\n",
       "      <td>3</td>\n",
       "      <td>POL</td>\n",
       "      <td>NaN</td>\n",
       "      <td>NaN</td>\n",
       "      <td>2021.0</td>\n",
       "      <td>NaN</td>\n",
       "      <td>NaN</td>\n",
       "      <td>NaN</td>\n",
       "      <td>NaN</td>\n",
       "      <td>3</td>\n",
       "      <td>NaN</td>\n",
       "      <td>NaN</td>\n",
       "      <td>NaN</td>\n",
       "    </tr>\n",
       "    <tr>\n",
       "      <th>10099</th>\n",
       "      <td>Zvonimir Oreskovic</td>\n",
       "      <td>M</td>\n",
       "      <td>1997.0</td>\n",
       "      <td>R</td>\n",
       "      <td>6768.000000</td>\n",
       "      <td>0</td>\n",
       "      <td>1</td>\n",
       "      <td>CRO</td>\n",
       "      <td>47.000000</td>\n",
       "      <td>NaN</td>\n",
       "      <td>2019.0</td>\n",
       "      <td>0.500000</td>\n",
       "      <td>0.352941</td>\n",
       "      <td>1.000000</td>\n",
       "      <td>0.058824</td>\n",
       "      <td>1</td>\n",
       "      <td>NaN</td>\n",
       "      <td>NaN</td>\n",
       "      <td>NaN</td>\n",
       "    </tr>\n",
       "  </tbody>\n",
       "</table>\n",
       "<p>10100 rows × 19 columns</p>\n",
       "</div>"
      ],
      "text/plain": [
       "                  fullname gender     age hand  tourney_spectators  \\\n",
       "0                Aada Inna      F     NaN    U         4059.000000   \n",
       "1           Aalisha Alexis      F     NaN    U         3237.500000   \n",
       "2           Aaliya Ebrahim      F     NaN    R         3632.666667   \n",
       "3          Aaliyah Hohmann      F     NaN    U         2792.666667   \n",
       "4           Aalyka Ebrahim      F     NaN    U         3207.750000   \n",
       "...                    ...    ...     ...  ...                 ...   \n",
       "10095      Zuzana Zalabska      F  1985.0    R         1303.000000   \n",
       "10096      Zuzana Zlochova      F  1990.0    R         3236.458101   \n",
       "10097      Zuzanna Bednarz      F     NaN    U         2206.500000   \n",
       "10098  Zuzanna Szczepanska      F     NaN    R         2785.333333   \n",
       "10099   Zvonimir Oreskovic      M  1997.0    R         6768.000000   \n",
       "\n",
       "       won_matches  lost_matches country    minutes        rank    year  \\\n",
       "0                0             1     FIN        NaN         NaN  2021.0   \n",
       "1                0             2     TTO        NaN         NaN  2019.0   \n",
       "2                2             7     IND        NaN         NaN  2020.0   \n",
       "3                1             2     DEU        NaN         NaN  2021.0   \n",
       "4                0             4     IND        NaN         NaN  2019.0   \n",
       "...            ...           ...     ...        ...         ...     ...   \n",
       "10095            2             1     CZE        NaN  858.000000  2016.0   \n",
       "10096           93            86     SVK  90.571429  460.664804  2021.0   \n",
       "10097            0             2     POL        NaN         NaN  2021.0   \n",
       "10098            0             3     POL        NaN         NaN  2021.0   \n",
       "10099            0             1     CRO  47.000000         NaN  2019.0   \n",
       "\n",
       "       bp_save_ratio  svpt_won_perc       ace   df_perc  matches best_season  \\\n",
       "0                NaN            NaN       NaN       NaN        1         NaN   \n",
       "1                NaN            NaN       NaN       NaN        2         NaN   \n",
       "2                NaN            NaN       NaN       NaN        9      Summer   \n",
       "3                NaN            NaN       NaN       NaN        3      Summer   \n",
       "4                NaN            NaN       NaN       NaN        4         NaN   \n",
       "...              ...            ...       ...       ...      ...         ...   \n",
       "10095            NaN            NaN       NaN       NaN        3      Summer   \n",
       "10096       0.411585       0.453745  0.571429  0.073615      179      Summer   \n",
       "10097            NaN            NaN       NaN       NaN        2         NaN   \n",
       "10098            NaN            NaN       NaN       NaN        3         NaN   \n",
       "10099       0.500000       0.352941  1.000000  0.058824        1         NaN   \n",
       "\n",
       "       best_year best_surface  \n",
       "0            NaN          NaN  \n",
       "1            NaN          NaN  \n",
       "2         2019.0         Clay  \n",
       "3         2021.0         Hard  \n",
       "4            NaN          NaN  \n",
       "...          ...          ...  \n",
       "10095     2016.0         Clay  \n",
       "10096     2016.0         Hard  \n",
       "10097        NaN          NaN  \n",
       "10098        NaN          NaN  \n",
       "10099        NaN          NaN  \n",
       "\n",
       "[10100 rows x 19 columns]"
      ]
     },
     "execution_count": 147,
     "metadata": {},
     "output_type": "execute_result"
    }
   ],
   "source": [
    "#function that given a column name create a \"best_<col_name>\" column\n",
    "#with the value that appears on most victories\n",
    "def best_of(attr):\n",
    "    group2 = df_matches.groupby([\"fullname\", attr]) #groupby fullname and attr\n",
    "    group2 = group2.agg({\"won_matches\": \"sum\"})\n",
    "    group2 = group2[group2[\"won_matches\"] != 0] #removing row with no victories\n",
    "    group2 = group2.loc[group2.groupby(level='fullname')['won_matches'].idxmax()].index.to_frame(index=False) #get the value of attr that has max hasWon\n",
    "    group2.rename(columns={attr:\"best_\"+attr}, inplace=True)\n",
    "    print(\"Created best_\"+attr+\"!\")\n",
    "    return group2\n",
    "\n",
    "#creating all best_of\n",
    "group = pd.merge(group, best_of(\"season\"), how=\"left\", on=\"fullname\")\n",
    "group = pd.merge(group, best_of(\"year\"), how=\"left\", on=\"fullname\")\n",
    "group = pd.merge(group, best_of(\"surface\"), how=\"left\", on=\"fullname\")\n",
    "group"
   ]
  },
  {
   "cell_type": "markdown",
   "id": "e889bdb7-2283-4b49-a7fe-316ceaf4824d",
   "metadata": {},
   "source": [
    "*the NaN in the best_** *field means that the player never won any match so it's not possible to compute a best of value* :"
   ]
  },
  {
   "cell_type": "code",
   "execution_count": 148,
   "id": "1bdda9a0-1d9f-4979-b817-4296945e8fa4",
   "metadata": {},
   "outputs": [
    {
     "data": {
      "text/html": [
       "<div>\n",
       "<style scoped>\n",
       "    .dataframe tbody tr th:only-of-type {\n",
       "        vertical-align: middle;\n",
       "    }\n",
       "\n",
       "    .dataframe tbody tr th {\n",
       "        vertical-align: top;\n",
       "    }\n",
       "\n",
       "    .dataframe thead th {\n",
       "        text-align: right;\n",
       "    }\n",
       "</style>\n",
       "<table border=\"1\" class=\"dataframe\">\n",
       "  <thead>\n",
       "    <tr style=\"text-align: right;\">\n",
       "      <th></th>\n",
       "      <th>fullname</th>\n",
       "      <th>gender</th>\n",
       "      <th>height</th>\n",
       "      <th>minutes</th>\n",
       "      <th>hand</th>\n",
       "      <th>tourney_spectators</th>\n",
       "      <th>country</th>\n",
       "      <th>rank</th>\n",
       "      <th>surface</th>\n",
       "      <th>season</th>\n",
       "      <th>ace</th>\n",
       "      <th>df</th>\n",
       "      <th>age</th>\n",
       "      <th>won_matches</th>\n",
       "      <th>lost_matches</th>\n",
       "      <th>year</th>\n",
       "      <th>bp_save_ratio</th>\n",
       "      <th>svpt_won_perc</th>\n",
       "      <th>df_perc</th>\n",
       "      <th>matches</th>\n",
       "    </tr>\n",
       "  </thead>\n",
       "  <tbody>\n",
       "    <tr>\n",
       "      <th>167054</th>\n",
       "      <td>Aada Inna</td>\n",
       "      <td>F</td>\n",
       "      <td>NaN</td>\n",
       "      <td>NaN</td>\n",
       "      <td>U</td>\n",
       "      <td>4059.0</td>\n",
       "      <td>FIN</td>\n",
       "      <td>NaN</td>\n",
       "      <td>Clay</td>\n",
       "      <td>Summer</td>\n",
       "      <td>NaN</td>\n",
       "      <td>NaN</td>\n",
       "      <td>NaN</td>\n",
       "      <td>0</td>\n",
       "      <td>1</td>\n",
       "      <td>2021.0</td>\n",
       "      <td>NaN</td>\n",
       "      <td>NaN</td>\n",
       "      <td>NaN</td>\n",
       "      <td>1</td>\n",
       "    </tr>\n",
       "  </tbody>\n",
       "</table>\n",
       "</div>"
      ],
      "text/plain": [
       "         fullname gender  height  minutes hand  tourney_spectators country  \\\n",
       "167054  Aada Inna      F     NaN      NaN    U              4059.0     FIN   \n",
       "\n",
       "        rank surface  season  ace  df  age  won_matches  lost_matches    year  \\\n",
       "167054   NaN    Clay  Summer  NaN NaN  NaN            0             1  2021.0   \n",
       "\n",
       "        bp_save_ratio  svpt_won_perc  df_perc  matches  \n",
       "167054            NaN            NaN      NaN        1  "
      ]
     },
     "execution_count": 148,
     "metadata": {},
     "output_type": "execute_result"
    }
   ],
   "source": [
    "df_matches[df_matches[\"fullname\"]==\"Aada Inna\"]"
   ]
  },
  {
   "cell_type": "code",
   "execution_count": 149,
   "id": "a02ee348-4d9c-4b1d-9e82-1d795d9f4bfd",
   "metadata": {},
   "outputs": [
    {
     "name": "stdout",
     "output_type": "stream",
     "text": [
      "<class 'pandas.core.frame.DataFrame'>\n",
      "Int64Index: 10100 entries, 0 to 10099\n",
      "Data columns (total 19 columns):\n",
      " #   Column              Non-Null Count  Dtype  \n",
      "---  ------              --------------  -----  \n",
      " 0   fullname            10100 non-null  object \n",
      " 1   gender              10100 non-null  object \n",
      " 2   age                 8009 non-null   float64\n",
      " 3   hand                10100 non-null  object \n",
      " 4   tourney_spectators  10100 non-null  float64\n",
      " 5   won_matches         10100 non-null  int64  \n",
      " 6   lost_matches        10100 non-null  int64  \n",
      " 7   country             10100 non-null  object \n",
      " 8   minutes             4236 non-null   float64\n",
      " 9   rank                4445 non-null   float64\n",
      " 10  year                10100 non-null  float64\n",
      " 11  bp_save_ratio       4245 non-null   float64\n",
      " 12  svpt_won_perc       4252 non-null   float64\n",
      " 13  ace                 4253 non-null   float64\n",
      " 14  df_perc             4252 non-null   float64\n",
      " 15  matches             10100 non-null  int64  \n",
      " 16  best_season         6177 non-null   object \n",
      " 17  best_year           6177 non-null   float64\n",
      " 18  best_surface        6151 non-null   object \n",
      "dtypes: float64(10), int64(3), object(6)\n",
      "memory usage: 1.5+ MB\n"
     ]
    }
   ],
   "source": [
    "group.info()"
   ]
  },
  {
   "cell_type": "markdown",
   "id": "2083229b-c487-4295-9112-bbf0b5bb4aa6",
   "metadata": {},
   "source": [
    "Percentage won attribute"
   ]
  },
  {
   "cell_type": "code",
   "execution_count": 150,
   "id": "323b71de-6927-40d0-8f8a-51bc6ede6ab8",
   "metadata": {},
   "outputs": [],
   "source": [
    "group[\"percent_won\"] = (group[\"won_matches\"] * 100)/(group[\"won_matches\"]+group[\"lost_matches\"])\n",
    "group[\"percent_won\"] = group[\"percent_won\"].astype(int)"
   ]
  },
  {
   "cell_type": "code",
   "execution_count": null,
   "id": "ba6f1648-c46d-4058-a065-fa4ecb311053",
   "metadata": {},
   "outputs": [],
   "source": [
    "group.head()\n",
    "group[\"hand\"].value_counts()"
   ]
  },
  {
   "cell_type": "code",
   "execution_count": null,
   "id": "7794563e-0af4-4b18-9cdc-a9ec228e1995",
   "metadata": {},
   "outputs": [],
   "source": [
    "group.to_csv(\"profiles.csv\")"
   ]
  },
  {
   "cell_type": "code",
   "execution_count": null,
   "id": "53349088-0ddf-4a44-8bc2-657c6f310ea1",
   "metadata": {},
   "outputs": [],
   "source": []
  }
 ],
 "metadata": {
  "kernelspec": {
   "display_name": "Python 3 (ipykernel)",
   "language": "python",
   "name": "python3"
  },
  "language_info": {
   "codemirror_mode": {
    "name": "ipython",
    "version": 3
   },
   "file_extension": ".py",
   "mimetype": "text/x-python",
   "name": "python",
   "nbconvert_exporter": "python",
   "pygments_lexer": "ipython3",
   "version": "3.9.7"
  }
 },
 "nbformat": 4,
 "nbformat_minor": 5
}
