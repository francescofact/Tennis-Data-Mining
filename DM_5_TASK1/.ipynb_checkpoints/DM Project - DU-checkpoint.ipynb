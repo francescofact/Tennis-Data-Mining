{
 "cells": [
  {
   "cell_type": "markdown",
   "metadata": {},
   "source": [
    "# Data Mining 2020/2021 Project"
   ]
  },
  {
   "cell_type": "markdown",
   "metadata": {},
   "source": [
    "## Importing datasets"
   ]
  },
  {
   "cell_type": "code",
   "execution_count": 521,
   "metadata": {},
   "outputs": [],
   "source": [
    "%matplotlib inline\n",
    "import math\n",
    "import numpy as np\n",
    "import pandas as pd\n",
    "import scipy.stats as stats\n",
    "import matplotlib.pyplot as plt\n",
    "\n",
    "from collections import defaultdict\n",
    "from scipy.stats.stats import pearsonr\n",
    "\n",
    "pd.options.display.max_columns = None\n",
    "\n",
    "df = pd.read_csv('../datasets/tennis_matches.csv', sep=',', index_col=0)\n",
    "df_female = pd.read_csv('../datasets/female_players.csv', sep=',', index_col=False)\n",
    "df_male = pd.read_csv('../datasets/male_players.csv', sep=',', index_col=False)"
   ]
  },
  {
   "cell_type": "markdown",
   "metadata": {},
   "source": [
    "# Data Understanding"
   ]
  },
  {
   "cell_type": "markdown",
   "metadata": {},
   "source": [
    "### Semantic meaning"
   ]
  },
  {
   "cell_type": "markdown",
   "metadata": {},
   "source": [
    "The dataset contains features that were not described in the text of the project, with the following semantic meaning:\n",
    "- score: match's final score\n",
    "- round: match round. QF (quarter of final), SF (semifinal), F(final), R16(Round 16) and some other possible values\n",
    "- tourney_spectators: total number of spectators of the tourney\n",
    "- tourney_revenue: total tourney's revenue"
   ]
  },
  {
   "cell_type": "markdown",
   "metadata": {},
   "source": [
    "Visualizing the attributes, their type and how many null values each have using info() method"
   ]
  },
  {
   "cell_type": "code",
   "execution_count": 522,
   "metadata": {},
   "outputs": [
    {
     "name": "stdout",
     "output_type": "stream",
     "text": [
      "<class 'pandas.core.frame.DataFrame'>\n",
      "Int64Index: 186128 entries, 0 to 186127\n",
      "Data columns (total 49 columns):\n",
      " #   Column              Non-Null Count   Dtype  \n",
      "---  ------              --------------   -----  \n",
      " 0   tourney_id          186073 non-null  object \n",
      " 1   tourney_name        186103 non-null  object \n",
      " 2   surface             185940 non-null  object \n",
      " 3   draw_size           186099 non-null  float64\n",
      " 4   tourney_level       186099 non-null  object \n",
      " 5   tourney_date        186100 non-null  float64\n",
      " 6   match_num           186101 non-null  float64\n",
      " 7   winner_id           186073 non-null  float64\n",
      " 8   winner_entry        25827 non-null   object \n",
      " 9   winner_name         186101 non-null  object \n",
      " 10  winner_hand         186082 non-null  object \n",
      " 11  winner_ht           49341 non-null   float64\n",
      " 12  winner_ioc          186099 non-null  object \n",
      " 13  winner_age          183275 non-null  float64\n",
      " 14  loser_id            186100 non-null  float64\n",
      " 15  loser_entry         44154 non-null   object \n",
      " 16  loser_name          186097 non-null  object \n",
      " 17  loser_hand          186030 non-null  object \n",
      " 18  loser_ht            38348 non-null   float64\n",
      " 19  loser_ioc           186102 non-null  object \n",
      " 20  loser_age           179590 non-null  float64\n",
      " 21  score               185929 non-null  object \n",
      " 22  best_of             186099 non-null  float64\n",
      " 23  round               186098 non-null  object \n",
      " 24  minutes             81660 non-null   float64\n",
      " 25  w_ace               82310 non-null   float64\n",
      " 26  w_df                82312 non-null   float64\n",
      " 27  w_svpt              82310 non-null   float64\n",
      " 28  w_1stIn             82310 non-null   float64\n",
      " 29  w_1stWon            82312 non-null   float64\n",
      " 30  w_2ndWon            82309 non-null   float64\n",
      " 31  w_SvGms             82311 non-null   float64\n",
      " 32  w_bpSaved           82315 non-null   float64\n",
      " 33  w_bpFaced           82312 non-null   float64\n",
      " 34  l_ace               82313 non-null   float64\n",
      " 35  l_df                82319 non-null   float64\n",
      " 36  l_svpt              82315 non-null   float64\n",
      " 37  l_1stIn             82304 non-null   float64\n",
      " 38  l_1stWon            82311 non-null   float64\n",
      " 39  l_2ndWon            82312 non-null   float64\n",
      " 40  l_SvGms             82318 non-null   float64\n",
      " 41  l_bpSaved           82311 non-null   float64\n",
      " 42  l_bpFaced           82306 non-null   float64\n",
      " 43  winner_rank         166719 non-null  float64\n",
      " 44  winner_rank_points  166701 non-null  float64\n",
      " 45  loser_rank          150845 non-null  float64\n",
      " 46  loser_rank_points   150828 non-null  float64\n",
      " 47  tourney_spectators  186101 non-null  float64\n",
      " 48  tourney_revenue     186102 non-null  float64\n",
      "dtypes: float64(35), object(14)\n",
      "memory usage: 71.0+ MB\n"
     ]
    }
   ],
   "source": [
    "df.info()"
   ]
  },
  {
   "cell_type": "markdown",
   "metadata": {},
   "source": [
    "We can easily observe that the dataset contains many null values. In particular in the game stats like the number of winner's aces and the number of winner's double fails etc. Some more important features also have many null values, like tourney_id and winner_name. We will try to replace these values in the data preparation phase. "
   ]
  },
  {
   "cell_type": "markdown",
   "metadata": {},
   "source": [
    "We also check for null values male ad female dataset."
   ]
  },
  {
   "cell_type": "code",
   "execution_count": 523,
   "metadata": {
    "tags": []
   },
   "outputs": [
    {
     "data": {
      "text/plain": [
       "name       3334\n",
       "surname       0\n",
       "dtype: int64"
      ]
     },
     "execution_count": 523,
     "metadata": {},
     "output_type": "execute_result"
    }
   ],
   "source": [
    "df_female.isnull().sum()"
   ]
  },
  {
   "cell_type": "code",
   "execution_count": 524,
   "metadata": {
    "tags": []
   },
   "outputs": [
    {
     "data": {
      "text/plain": [
       "name       354\n",
       "surname     84\n",
       "dtype: int64"
      ]
     },
     "execution_count": 524,
     "metadata": {},
     "output_type": "execute_result"
    }
   ],
   "source": [
    "df_male.isnull().sum()"
   ]
  },
  {
   "cell_type": "markdown",
   "metadata": {},
   "source": [
    "### Removing duplicates"
   ]
  },
  {
   "cell_type": "markdown",
   "metadata": {},
   "source": [
    "We start our data understanding process by removing duplicates which bring noise and mis-understanding. We apply *drop_duplicates* function to all the three dataset."
   ]
  },
  {
   "cell_type": "code",
   "execution_count": 525,
   "metadata": {},
   "outputs": [
    {
     "name": "stdout",
     "output_type": "stream",
     "text": [
      "Removed: 309\n"
     ]
    }
   ],
   "source": [
    "total = len(df)\n",
    "df.drop_duplicates(inplace=True)\n",
    "print(\"Removed: \" + str(total-len(df)))"
   ]
  },
  {
   "cell_type": "code",
   "execution_count": 526,
   "metadata": {},
   "outputs": [
    {
     "name": "stdout",
     "output_type": "stream",
     "text": [
      "Removed: 55732\n"
     ]
    }
   ],
   "source": [
    "total = len(df_male)\n",
    "df_male.drop_duplicates(inplace=True)\n",
    "print(\"Removed: \" + str(total-len(df_male)))"
   ]
  },
  {
   "cell_type": "markdown",
   "metadata": {},
   "source": [
    "A lot of duplicates discovered in df_male"
   ]
  },
  {
   "cell_type": "code",
   "execution_count": 527,
   "metadata": {},
   "outputs": [
    {
     "name": "stdout",
     "output_type": "stream",
     "text": [
      "Removed: 46683\n"
     ]
    }
   ],
   "source": [
    "total = len(df_female)\n",
    "df_female.drop_duplicates(inplace=True)\n",
    "print(\"Removed: \" + str(total-len(df_female)))"
   ]
  },
  {
   "cell_type": "markdown",
   "metadata": {},
   "source": [
    "### Detecting possible wrong values"
   ]
  },
  {
   "cell_type": "markdown",
   "metadata": {},
   "source": [
    "Detecting tourney_date wrong values by looking the number of digits"
   ]
  },
  {
   "cell_type": "markdown",
   "metadata": {},
   "source": [
    "Checking date format"
   ]
  },
  {
   "cell_type": "code",
   "execution_count": 528,
   "metadata": {},
   "outputs": [
    {
     "data": {
      "text/plain": [
       "10    185791\n",
       "3         28\n",
       "Name: tourney_date, dtype: int64"
      ]
     },
     "execution_count": 528,
     "metadata": {},
     "output_type": "execute_result"
    }
   ],
   "source": [
    "df['tourney_date'].astype(str).str.len().value_counts()"
   ]
  },
  {
   "cell_type": "markdown",
   "metadata": {},
   "source": [
    "There are 185791 string with length 10, and 28 with length 3"
   ]
  },
  {
   "cell_type": "code",
   "execution_count": 529,
   "metadata": {},
   "outputs": [
    {
     "data": {
      "text/plain": [
       "186075   NaN\n",
       "186077   NaN\n",
       "186079   NaN\n",
       "186082   NaN\n",
       "186086   NaN\n",
       "186087   NaN\n",
       "186088   NaN\n",
       "186089   NaN\n",
       "186092   NaN\n",
       "186093   NaN\n",
       "Name: tourney_date, dtype: float64"
      ]
     },
     "execution_count": 529,
     "metadata": {},
     "output_type": "execute_result"
    }
   ],
   "source": [
    "df[df['tourney_date'].astype(str).str.len() == 3]['tourney_date'][:10]"
   ]
  },
  {
   "cell_type": "markdown",
   "metadata": {},
   "source": [
    "Value with string length == 3 are NaN value. So tourney_dates are formatted correctly ✔"
   ]
  },
  {
   "cell_type": "markdown",
   "metadata": {},
   "source": [
    "Winner entry wrong values detection"
   ]
  },
  {
   "cell_type": "markdown",
   "metadata": {},
   "source": [
    "Checking winner_entry (and loser_entry) that should be in [WC, Q, LL, PR, ITF] and some other occasionally used."
   ]
  },
  {
   "cell_type": "code",
   "execution_count": 530,
   "metadata": {},
   "outputs": [
    {
     "data": {
      "text/plain": [
       "Q      13575\n",
       "WC      8306\n",
       "LL       962\n",
       "SE       746\n",
       "PR       455\n",
       "Alt      434\n",
       "ITF      305\n",
       "IR       253\n",
       "ALT      234\n",
       "SR       212\n",
       "JR       153\n",
       "JE       132\n",
       "P         24\n",
       "A         19\n",
       "I          1\n",
       "Name: winner_entry, dtype: int64"
      ]
     },
     "execution_count": 530,
     "metadata": {},
     "output_type": "execute_result"
    }
   ],
   "source": [
    "df['winner_entry'].value_counts()"
   ]
  },
  {
   "cell_type": "code",
   "execution_count": 531,
   "metadata": {},
   "outputs": [
    {
     "data": {
      "text/plain": [
       "Q      20346\n",
       "WC     17940\n",
       "LL      2170\n",
       "Alt      839\n",
       "SE       595\n",
       "PR       519\n",
       "ITF      424\n",
       "ALT      378\n",
       "IR       347\n",
       "SR       215\n",
       "JE       116\n",
       "JR       101\n",
       "A         65\n",
       "P         28\n",
       "4          1\n",
       "6          1\n",
       "3          1\n",
       "I          1\n",
       "J          1\n",
       "Name: loser_entry, dtype: int64"
      ]
     },
     "execution_count": 531,
     "metadata": {},
     "output_type": "execute_result"
    }
   ],
   "source": [
    "df['loser_entry'].value_counts()"
   ]
  },
  {
   "cell_type": "markdown",
   "metadata": {},
   "source": [
    "We noticed that probaly 'Alt' and 'ALT' refer to the same value. We decided to fix it."
   ]
  },
  {
   "cell_type": "code",
   "execution_count": 532,
   "metadata": {},
   "outputs": [],
   "source": [
    "df.loc[df['winner_entry'] == 'Alt', ['winner_entry']] = 'ALT'\n",
    "df.loc[df['loser_entry'] == 'Alt', ['loser_entry']] = 'ALT'"
   ]
  },
  {
   "cell_type": "markdown",
   "metadata": {},
   "source": [
    "Looking to the winner and loser hand, let's see the possible values by using value_counts(). They should be in [L, R, U]"
   ]
  },
  {
   "cell_type": "code",
   "execution_count": 533,
   "metadata": {},
   "outputs": [
    {
     "data": {
      "text/plain": [
       "R    120395\n",
       "U     49117\n",
       "L     16261\n",
       "Name: winner_hand, dtype: int64"
      ]
     },
     "execution_count": 533,
     "metadata": {},
     "output_type": "execute_result"
    }
   ],
   "source": [
    "df['winner_hand'].value_counts()"
   ]
  },
  {
   "cell_type": "code",
   "execution_count": 534,
   "metadata": {},
   "outputs": [
    {
     "data": {
      "text/plain": [
       "R    109087\n",
       "U     61870\n",
       "L     14764\n",
       "Name: loser_hand, dtype: int64"
      ]
     },
     "execution_count": 534,
     "metadata": {},
     "output_type": "execute_result"
    }
   ],
   "source": [
    "df['loser_hand'].value_counts()"
   ]
  },
  {
   "cell_type": "markdown",
   "metadata": {},
   "source": [
    "Checking winner_ioc, it must be of length 3"
   ]
  },
  {
   "cell_type": "code",
   "execution_count": 535,
   "metadata": {},
   "outputs": [
    {
     "data": {
      "text/plain": [
       "3.0    185790\n",
       "Name: winner_ioc, dtype: int64"
      ]
     },
     "execution_count": 535,
     "metadata": {},
     "output_type": "execute_result"
    }
   ],
   "source": [
    "df['winner_ioc'].str.len().value_counts()"
   ]
  },
  {
   "cell_type": "markdown",
   "metadata": {},
   "source": [
    "They are all 3 char long strings. They are well formatted. ✔"
   ]
  },
  {
   "cell_type": "markdown",
   "metadata": {},
   "source": [
    "We want to see which are the countries with lower number of won matches. If they are smaller country it's fine"
   ]
  },
  {
   "cell_type": "code",
   "execution_count": 536,
   "metadata": {},
   "outputs": [
    {
     "data": {
      "text/plain": [
       "Index(['CRC', 'CUB', 'SGP', 'UNK', 'DEU', 'IRI', 'HON', 'KEN', 'TJK', 'POC',\n",
       "       'GUM', 'PAN', 'NAM', 'MRI', 'GRC', 'MGL', 'CMR', 'MAD', 'NLD', 'REU',\n",
       "       'CAM', 'KUW', 'NGA'],\n",
       "      dtype='object')"
      ]
     },
     "execution_count": 536,
     "metadata": {},
     "output_type": "execute_result"
    }
   ],
   "source": [
    "df['winner_ioc'].value_counts().index[df['winner_ioc'].value_counts().values < 10]"
   ]
  },
  {
   "cell_type": "markdown",
   "metadata": {},
   "source": [
    "The countries with less won matches are: Nigeria, Kuwait and Cambogia, so it's fine."
   ]
  },
  {
   "cell_type": "markdown",
   "metadata": {},
   "source": [
    "Checking also for losers."
   ]
  },
  {
   "cell_type": "code",
   "execution_count": 537,
   "metadata": {},
   "outputs": [
    {
     "data": {
      "text/plain": [
       "3.0    185793\n",
       "Name: loser_ioc, dtype: int64"
      ]
     },
     "execution_count": 537,
     "metadata": {},
     "output_type": "execute_result"
    }
   ],
   "source": [
    "df['loser_ioc'].str.len().value_counts()"
   ]
  },
  {
   "cell_type": "markdown",
   "metadata": {},
   "source": [
    "Checking winner and loser age for some wrong values (i.e age = 0). This is a very basic check and we will analyze better outliers in the outliers detection section."
   ]
  },
  {
   "cell_type": "code",
   "execution_count": 538,
   "metadata": {},
   "outputs": [
    {
     "data": {
      "text/plain": [
       "Series([], dtype: int64)"
      ]
     },
     "execution_count": 538,
     "metadata": {},
     "output_type": "execute_result"
    }
   ],
   "source": [
    "df[df['winner_age'] < 14].value_counts()"
   ]
  },
  {
   "cell_type": "code",
   "execution_count": 539,
   "metadata": {},
   "outputs": [
    {
     "data": {
      "text/plain": [
       "Series([], dtype: int64)"
      ]
     },
     "execution_count": 539,
     "metadata": {},
     "output_type": "execute_result"
    }
   ],
   "source": [
    "df[df['loser_age'] < 14].value_counts()"
   ]
  },
  {
   "cell_type": "markdown",
   "metadata": {},
   "source": [
    "Checking for height values == 0. Also this is a very basic check. Outliers will be detected in next sections."
   ]
  },
  {
   "cell_type": "code",
   "execution_count": 540,
   "metadata": {},
   "outputs": [
    {
     "data": {
      "text/plain": [
       "Series([], dtype: int64)"
      ]
     },
     "execution_count": 540,
     "metadata": {},
     "output_type": "execute_result"
    }
   ],
   "source": [
    "df[df['winner_ht'] == 0].value_counts()"
   ]
  },
  {
   "cell_type": "code",
   "execution_count": 541,
   "metadata": {},
   "outputs": [
    {
     "data": {
      "text/plain": [
       "Series([], dtype: int64)"
      ]
     },
     "execution_count": 541,
     "metadata": {},
     "output_type": "execute_result"
    }
   ],
   "source": [
    "df[df['loser_ht'] == 0].value_counts()"
   ]
  },
  {
   "cell_type": "markdown",
   "metadata": {},
   "source": [
    "Checking round feature seraching for wrong values."
   ]
  },
  {
   "cell_type": "code",
   "execution_count": 542,
   "metadata": {},
   "outputs": [
    {
     "data": {
      "text/plain": [
       "R32     63069\n",
       "R16     32109\n",
       "Q1      27519\n",
       "Q2      16784\n",
       "QF      16002\n",
       "SF       8029\n",
       "R64      7710\n",
       "Q3       4479\n",
       "F        4005\n",
       "R128     3453\n",
       "RR       2625\n",
       "BR          5\n",
       "Name: round, dtype: int64"
      ]
     },
     "execution_count": 542,
     "metadata": {},
     "output_type": "execute_result"
    }
   ],
   "source": [
    "df['round'].value_counts()"
   ]
  },
  {
   "cell_type": "markdown",
   "metadata": {},
   "source": [
    "Checking best_of feature. Must be in [3,5]"
   ]
  },
  {
   "cell_type": "code",
   "execution_count": 543,
   "metadata": {},
   "outputs": [
    {
     "data": {
      "text/plain": [
       "3.0    182617\n",
       "5.0      3173\n",
       "Name: best_of, dtype: int64"
      ]
     },
     "execution_count": 543,
     "metadata": {},
     "output_type": "execute_result"
    }
   ],
   "source": [
    "df['best_of'].value_counts()"
   ]
  },
  {
   "cell_type": "markdown",
   "metadata": {},
   "source": [
    "Checking match minutes. The longest tennis match ever played lasted 11 hours. Let's check that we are below 12 hours and above 0 minutes."
   ]
  },
  {
   "cell_type": "code",
   "execution_count": 544,
   "metadata": {},
   "outputs": [
    {
     "data": {
      "text/plain": [
       "0.0       128\n",
       "1211.0      1\n",
       "1094.0      1\n",
       "814.0       1\n",
       "1146.0      1\n",
       "1531.0      1\n",
       "740.0       1\n",
       "1266.0      1\n",
       "1237.0      1\n",
       "1392.0      1\n",
       "987.0       1\n",
       "1507.0      1\n",
       "2475.0      1\n",
       "1241.0      1\n",
       "4756.0      1\n",
       "Name: minutes, dtype: int64"
      ]
     },
     "execution_count": 544,
     "metadata": {},
     "output_type": "execute_result"
    }
   ],
   "source": [
    "df[(df['minutes'] <= 0) | (df['minutes'] > 12 * 60)]['minutes'].value_counts()"
   ]
  },
  {
   "cell_type": "markdown",
   "metadata": {},
   "source": [
    "4756 minutes means around 80 hours. These data are probably wrong data that should not be considered when we will create data statistics.\n",
    "Let's start by analyzing the score of the matches that last 0 minutes."
   ]
  },
  {
   "cell_type": "code",
   "execution_count": 545,
   "metadata": {},
   "outputs": [
    {
     "data": {
      "text/plain": [
       "W/O            121\n",
       "3-6 6-3 6-4      1\n",
       "6-3 6-2          1\n",
       "7-5 6-1          1\n",
       "0-0 RET          1\n",
       "6-2 6-2          1\n",
       "7-5 2-0 RET      1\n",
       "Name: score, dtype: int64"
      ]
     },
     "execution_count": 545,
     "metadata": {},
     "output_type": "execute_result"
    }
   ],
   "source": [
    "df[df['minutes'] == 0]['score'].value_counts()"
   ]
  },
  {
   "cell_type": "markdown",
   "metadata": {},
   "source": [
    "If the match last 0 miutes and it has the score == W/O (walkaround) it is true that the match last 0 minutes. Also matches with score 0-0 and a retirement from one of the player (RET) it might be true that the match last 0 minutes.\n",
    "\n",
    "Matches which have a valid score (some sets were played) and played minutes equals to 0 must be fixed. We decided to replace their minutes value with the mean of the matches played minutes."
   ]
  },
  {
   "cell_type": "code",
   "execution_count": 546,
   "metadata": {},
   "outputs": [],
   "source": [
    "mean_value = df[~((df['minutes'] == 0.0) & ((df['score'] == 'W/O') | (df['score'] == '0-0 RET')))][['minutes', 'score']]['minutes'].mean()"
   ]
  },
  {
   "cell_type": "code",
   "execution_count": 547,
   "metadata": {},
   "outputs": [],
   "source": [
    "df.loc[(df['minutes'] == 0.0) & (df['score'] != 'W/O') & (df['score'] != '0-0 RET'), ['minutes']] = mean_value"
   ]
  },
  {
   "cell_type": "code",
   "execution_count": 548,
   "metadata": {},
   "outputs": [
    {
     "data": {
      "text/plain": [
       "W/O        121\n",
       "0-0 RET      1\n",
       "Name: score, dtype: int64"
      ]
     },
     "execution_count": 548,
     "metadata": {},
     "output_type": "execute_result"
    }
   ],
   "source": [
    "df[df['minutes'] == 0]['score'].value_counts()"
   ]
  },
  {
   "cell_type": "markdown",
   "metadata": {},
   "source": [
    "Let's continue by checking the score of matches which last more than 12 hours"
   ]
  },
  {
   "cell_type": "code",
   "execution_count": 549,
   "metadata": {},
   "outputs": [
    {
     "data": {
      "text/html": [
       "<div>\n",
       "<style scoped>\n",
       "    .dataframe tbody tr th:only-of-type {\n",
       "        vertical-align: middle;\n",
       "    }\n",
       "\n",
       "    .dataframe tbody tr th {\n",
       "        vertical-align: top;\n",
       "    }\n",
       "\n",
       "    .dataframe thead th {\n",
       "        text-align: right;\n",
       "    }\n",
       "</style>\n",
       "<table border=\"1\" class=\"dataframe\">\n",
       "  <thead>\n",
       "    <tr style=\"text-align: right;\">\n",
       "      <th></th>\n",
       "      <th>minutes</th>\n",
       "      <th>score</th>\n",
       "    </tr>\n",
       "  </thead>\n",
       "  <tbody>\n",
       "    <tr>\n",
       "      <th>30862</th>\n",
       "      <td>1211.0</td>\n",
       "      <td>6-1 3-6 6-3</td>\n",
       "    </tr>\n",
       "    <tr>\n",
       "      <th>35073</th>\n",
       "      <td>1094.0</td>\n",
       "      <td>6-3 4-6 6-0</td>\n",
       "    </tr>\n",
       "    <tr>\n",
       "      <th>54162</th>\n",
       "      <td>814.0</td>\n",
       "      <td>6-4 6-4</td>\n",
       "    </tr>\n",
       "    <tr>\n",
       "      <th>57206</th>\n",
       "      <td>1146.0</td>\n",
       "      <td>7-6(5) 6-3</td>\n",
       "    </tr>\n",
       "    <tr>\n",
       "      <th>57322</th>\n",
       "      <td>1531.0</td>\n",
       "      <td>7-5 6-1</td>\n",
       "    </tr>\n",
       "    <tr>\n",
       "      <th>62351</th>\n",
       "      <td>740.0</td>\n",
       "      <td>6-3 6-4</td>\n",
       "    </tr>\n",
       "    <tr>\n",
       "      <th>63007</th>\n",
       "      <td>1266.0</td>\n",
       "      <td>6-3 6-7(11) 6-2</td>\n",
       "    </tr>\n",
       "    <tr>\n",
       "      <th>67025</th>\n",
       "      <td>1237.0</td>\n",
       "      <td>6-2 6-3</td>\n",
       "    </tr>\n",
       "    <tr>\n",
       "      <th>73992</th>\n",
       "      <td>1392.0</td>\n",
       "      <td>6-2 6-1</td>\n",
       "    </tr>\n",
       "    <tr>\n",
       "      <th>76419</th>\n",
       "      <td>987.0</td>\n",
       "      <td>6-4 3-6 6-2</td>\n",
       "    </tr>\n",
       "    <tr>\n",
       "      <th>87330</th>\n",
       "      <td>1507.0</td>\n",
       "      <td>7-6(5) 6-3</td>\n",
       "    </tr>\n",
       "    <tr>\n",
       "      <th>88954</th>\n",
       "      <td>2475.0</td>\n",
       "      <td>6-4 6-2</td>\n",
       "    </tr>\n",
       "    <tr>\n",
       "      <th>112759</th>\n",
       "      <td>1241.0</td>\n",
       "      <td>6-4 6-7(6) 7-5</td>\n",
       "    </tr>\n",
       "    <tr>\n",
       "      <th>113704</th>\n",
       "      <td>4756.0</td>\n",
       "      <td>6-4 6-3</td>\n",
       "    </tr>\n",
       "  </tbody>\n",
       "</table>\n",
       "</div>"
      ],
      "text/plain": [
       "        minutes            score\n",
       "30862    1211.0      6-1 3-6 6-3\n",
       "35073    1094.0      6-3 4-6 6-0\n",
       "54162     814.0          6-4 6-4\n",
       "57206    1146.0       7-6(5) 6-3\n",
       "57322    1531.0          7-5 6-1\n",
       "62351     740.0          6-3 6-4\n",
       "63007    1266.0  6-3 6-7(11) 6-2\n",
       "67025    1237.0          6-2 6-3\n",
       "73992    1392.0          6-2 6-1\n",
       "76419     987.0      6-4 3-6 6-2\n",
       "87330    1507.0       7-6(5) 6-3\n",
       "88954    2475.0          6-4 6-2\n",
       "112759   1241.0   6-4 6-7(6) 7-5\n",
       "113704   4756.0          6-4 6-3"
      ]
     },
     "execution_count": 549,
     "metadata": {},
     "output_type": "execute_result"
    }
   ],
   "source": [
    "df[(df['minutes'] > 12 * 60)][['minutes', 'score']]"
   ]
  },
  {
   "cell_type": "markdown",
   "metadata": {},
   "source": [
    "Checking winner and loser rank are above 0"
   ]
  },
  {
   "cell_type": "code",
   "execution_count": 553,
   "metadata": {},
   "outputs": [
    {
     "data": {
      "text/plain": [
       "Series([], Name: winner_rank, dtype: float64)"
      ]
     },
     "execution_count": 553,
     "metadata": {},
     "output_type": "execute_result"
    }
   ],
   "source": [
    "df[df['winner_rank'] <= 0]['winner_rank']"
   ]
  },
  {
   "cell_type": "code",
   "execution_count": 554,
   "metadata": {},
   "outputs": [
    {
     "data": {
      "text/plain": [
       "Series([], Name: loser_rank, dtype: float64)"
      ]
     },
     "execution_count": 554,
     "metadata": {},
     "output_type": "execute_result"
    }
   ],
   "source": [
    "df[df['loser_rank'] <= 0]['loser_rank']"
   ]
  },
  {
   "cell_type": "markdown",
   "metadata": {},
   "source": [
    "### Wrong values on Male and Female datasets"
   ]
  },
  {
   "cell_type": "markdown",
   "metadata": {},
   "source": [
    "Checking male and female datasets for wrong values. We begin to do so by sorting the values by string length and look the shorter ones. Tipically wrong values are composed by one letter or symbol"
   ]
  },
  {
   "cell_type": "markdown",
   "metadata": {},
   "source": [
    "We can sort player's name based on surname (and name) length and see the first records. Typically wrong values have just one letter or a sigle wrong character for example."
   ]
  },
  {
   "cell_type": "code",
   "execution_count": 555,
   "metadata": {},
   "outputs": [
    {
     "data": {
      "text/html": [
       "<div>\n",
       "<style scoped>\n",
       "    .dataframe tbody tr th:only-of-type {\n",
       "        vertical-align: middle;\n",
       "    }\n",
       "\n",
       "    .dataframe tbody tr th {\n",
       "        vertical-align: top;\n",
       "    }\n",
       "\n",
       "    .dataframe thead th {\n",
       "        text-align: right;\n",
       "    }\n",
       "</style>\n",
       "<table border=\"1\" class=\"dataframe\">\n",
       "  <thead>\n",
       "    <tr style=\"text-align: right;\">\n",
       "      <th></th>\n",
       "      <th>name</th>\n",
       "      <th>surname</th>\n",
       "    </tr>\n",
       "  </thead>\n",
       "  <tbody>\n",
       "    <tr>\n",
       "      <th>1</th>\n",
       "      <td>X</td>\n",
       "      <td>X</td>\n",
       "    </tr>\n",
       "    <tr>\n",
       "      <th>27870</th>\n",
       "      <td>Joanne</td>\n",
       "      <td>C</td>\n",
       "    </tr>\n",
       "    <tr>\n",
       "      <th>15564</th>\n",
       "      <td>Sri Sai Shivani</td>\n",
       "      <td>K</td>\n",
       "    </tr>\n",
       "    <tr>\n",
       "      <th>14368</th>\n",
       "      <td>Arthi</td>\n",
       "      <td>M</td>\n",
       "    </tr>\n",
       "    <tr>\n",
       "      <th>22094</th>\n",
       "      <td>Zi Xin</td>\n",
       "      <td>Xu</td>\n",
       "    </tr>\n",
       "  </tbody>\n",
       "</table>\n",
       "</div>"
      ],
      "text/plain": [
       "                  name surname\n",
       "1                    X       X\n",
       "27870           Joanne       C\n",
       "15564  Sri Sai Shivani       K\n",
       "14368            Arthi       M\n",
       "22094           Zi Xin      Xu"
      ]
     },
     "execution_count": 555,
     "metadata": {},
     "output_type": "execute_result"
    }
   ],
   "source": [
    "df_female.sort_values(by=['surname'], key=lambda x: x.str.len())[:5]"
   ]
  },
  {
   "cell_type": "markdown",
   "metadata": {},
   "source": [
    "(X,X) is a missing value. Probably a default value used in some data source, we can drop that record. We have also some surname specified only by using initial letter."
   ]
  },
  {
   "cell_type": "code",
   "execution_count": 556,
   "metadata": {},
   "outputs": [],
   "source": [
    "df_female.drop(df_female[(df_female['name'] == 'X') & (df_female['surname'] == 'X')].index, inplace=True)"
   ]
  },
  {
   "cell_type": "code",
   "execution_count": 557,
   "metadata": {},
   "outputs": [
    {
     "data": {
      "text/html": [
       "<div>\n",
       "<style scoped>\n",
       "    .dataframe tbody tr th:only-of-type {\n",
       "        vertical-align: middle;\n",
       "    }\n",
       "\n",
       "    .dataframe tbody tr th {\n",
       "        vertical-align: top;\n",
       "    }\n",
       "\n",
       "    .dataframe thead th {\n",
       "        text-align: right;\n",
       "    }\n",
       "</style>\n",
       "<table border=\"1\" class=\"dataframe\">\n",
       "  <thead>\n",
       "    <tr style=\"text-align: right;\">\n",
       "      <th></th>\n",
       "      <th>name</th>\n",
       "      <th>surname</th>\n",
       "    </tr>\n",
       "  </thead>\n",
       "  <tbody>\n",
       "    <tr>\n",
       "      <th>31792</th>\n",
       "      <td>P</td>\n",
       "      <td>Joyce</td>\n",
       "    </tr>\n",
       "    <tr>\n",
       "      <th>25639</th>\n",
       "      <td>M</td>\n",
       "      <td>Freesmith</td>\n",
       "    </tr>\n",
       "    <tr>\n",
       "      <th>38376</th>\n",
       "      <td>J</td>\n",
       "      <td>Senior</td>\n",
       "    </tr>\n",
       "    <tr>\n",
       "      <th>38379</th>\n",
       "      <td>J</td>\n",
       "      <td>Pitcaithly</td>\n",
       "    </tr>\n",
       "    <tr>\n",
       "      <th>25636</th>\n",
       "      <td>S</td>\n",
       "      <td>Carter</td>\n",
       "    </tr>\n",
       "  </tbody>\n",
       "</table>\n",
       "</div>"
      ],
      "text/plain": [
       "      name     surname\n",
       "31792    P       Joyce\n",
       "25639    M   Freesmith\n",
       "38376    J      Senior\n",
       "38379    J  Pitcaithly\n",
       "25636    S      Carter"
      ]
     },
     "execution_count": 557,
     "metadata": {},
     "output_type": "execute_result"
    }
   ],
   "source": [
    "df_female.sort_values(by=['name'], key=lambda x: x.str.len())[:5]"
   ]
  },
  {
   "cell_type": "markdown",
   "metadata": {},
   "source": [
    "In same cases name are specified with the initial letter."
   ]
  },
  {
   "cell_type": "code",
   "execution_count": 558,
   "metadata": {},
   "outputs": [
    {
     "data": {
      "text/html": [
       "<div>\n",
       "<style scoped>\n",
       "    .dataframe tbody tr th:only-of-type {\n",
       "        vertical-align: middle;\n",
       "    }\n",
       "\n",
       "    .dataframe tbody tr th {\n",
       "        vertical-align: top;\n",
       "    }\n",
       "\n",
       "    .dataframe thead th {\n",
       "        text-align: right;\n",
       "    }\n",
       "</style>\n",
       "<table border=\"1\" class=\"dataframe\">\n",
       "  <thead>\n",
       "    <tr style=\"text-align: right;\">\n",
       "      <th></th>\n",
       "      <th>name</th>\n",
       "      <th>surname</th>\n",
       "    </tr>\n",
       "  </thead>\n",
       "  <tbody>\n",
       "    <tr>\n",
       "      <th>46172</th>\n",
       "      <td>name</td>\n",
       "      <td>surname</td>\n",
       "    </tr>\n",
       "  </tbody>\n",
       "</table>\n",
       "</div>"
      ],
      "text/plain": [
       "       name  surname\n",
       "46172  name  surname"
      ]
     },
     "execution_count": 558,
     "metadata": {},
     "output_type": "execute_result"
    }
   ],
   "source": [
    "df_female[df_female['name'] == 'name']"
   ]
  },
  {
   "cell_type": "markdown",
   "metadata": {},
   "source": [
    "Person named name, surname can be dropped."
   ]
  },
  {
   "cell_type": "code",
   "execution_count": 559,
   "metadata": {},
   "outputs": [],
   "source": [
    "df_female.drop(df_female[(df_female['name'] == 'name') & (df_female['surname'] == 'surname')].index, inplace=True)"
   ]
  },
  {
   "cell_type": "markdown",
   "metadata": {},
   "source": [
    "Checking the same things for male dataset."
   ]
  },
  {
   "cell_type": "code",
   "execution_count": 560,
   "metadata": {},
   "outputs": [
    {
     "data": {
      "text/html": [
       "<div>\n",
       "<style scoped>\n",
       "    .dataframe tbody tr th:only-of-type {\n",
       "        vertical-align: middle;\n",
       "    }\n",
       "\n",
       "    .dataframe tbody tr th {\n",
       "        vertical-align: top;\n",
       "    }\n",
       "\n",
       "    .dataframe thead th {\n",
       "        text-align: right;\n",
       "    }\n",
       "</style>\n",
       "<table border=\"1\" class=\"dataframe\">\n",
       "  <thead>\n",
       "    <tr style=\"text-align: right;\">\n",
       "      <th></th>\n",
       "      <th>name</th>\n",
       "      <th>surname</th>\n",
       "    </tr>\n",
       "  </thead>\n",
       "  <tbody>\n",
       "    <tr>\n",
       "      <th>33790</th>\n",
       "      <td>Jeevan</td>\n",
       "      <td>V</td>\n",
       "    </tr>\n",
       "    <tr>\n",
       "      <th>33780</th>\n",
       "      <td>Harsha</td>\n",
       "      <td>L</td>\n",
       "    </tr>\n",
       "    <tr>\n",
       "      <th>50201</th>\n",
       "      <td>Rafa Angel</td>\n",
       "      <td>1</td>\n",
       "    </tr>\n",
       "    <tr>\n",
       "      <th>42657</th>\n",
       "      <td>Zhen</td>\n",
       "      <td>Wu</td>\n",
       "    </tr>\n",
       "    <tr>\n",
       "      <th>53201</th>\n",
       "      <td>Yuchen</td>\n",
       "      <td>Wu</td>\n",
       "    </tr>\n",
       "  </tbody>\n",
       "</table>\n",
       "</div>"
      ],
      "text/plain": [
       "             name surname\n",
       "33790      Jeevan       V\n",
       "33780      Harsha       L\n",
       "50201  Rafa Angel       1\n",
       "42657        Zhen      Wu\n",
       "53201      Yuchen      Wu"
      ]
     },
     "execution_count": 560,
     "metadata": {},
     "output_type": "execute_result"
    }
   ],
   "source": [
    "df_male.sort_values(by=['surname'], key=lambda x: x.str.len())[:5]"
   ]
  },
  {
   "cell_type": "markdown",
   "metadata": {},
   "source": [
    "Checking wrong values also for men we discovered 1 as a wrong value and some surname specified only by using the first letter."
   ]
  },
  {
   "cell_type": "code",
   "execution_count": 561,
   "metadata": {},
   "outputs": [
    {
     "data": {
      "text/html": [
       "<div>\n",
       "<style scoped>\n",
       "    .dataframe tbody tr th:only-of-type {\n",
       "        vertical-align: middle;\n",
       "    }\n",
       "\n",
       "    .dataframe tbody tr th {\n",
       "        vertical-align: top;\n",
       "    }\n",
       "\n",
       "    .dataframe thead th {\n",
       "        text-align: right;\n",
       "    }\n",
       "</style>\n",
       "<table border=\"1\" class=\"dataframe\">\n",
       "  <thead>\n",
       "    <tr style=\"text-align: right;\">\n",
       "      <th></th>\n",
       "      <th>name</th>\n",
       "      <th>surname</th>\n",
       "    </tr>\n",
       "  </thead>\n",
       "  <tbody>\n",
       "    <tr>\n",
       "      <th>11888</th>\n",
       "      <td>T</td>\n",
       "      <td>Cummings</td>\n",
       "    </tr>\n",
       "    <tr>\n",
       "      <th>12126</th>\n",
       "      <td>G</td>\n",
       "      <td>Booth</td>\n",
       "    </tr>\n",
       "    <tr>\n",
       "      <th>12128</th>\n",
       "      <td>T</td>\n",
       "      <td>Carr</td>\n",
       "    </tr>\n",
       "    <tr>\n",
       "      <th>12717</th>\n",
       "      <td>X</td>\n",
       "      <td>Olivares</td>\n",
       "    </tr>\n",
       "    <tr>\n",
       "      <th>12714</th>\n",
       "      <td>R</td>\n",
       "      <td>Le Blant</td>\n",
       "    </tr>\n",
       "  </tbody>\n",
       "</table>\n",
       "</div>"
      ],
      "text/plain": [
       "      name   surname\n",
       "11888    T  Cummings\n",
       "12126    G     Booth\n",
       "12128    T      Carr\n",
       "12717    X  Olivares\n",
       "12714    R  Le Blant"
      ]
     },
     "execution_count": 561,
     "metadata": {},
     "output_type": "execute_result"
    }
   ],
   "source": [
    "df_male.sort_values(by=['name'], key=lambda x: x.str.len())[:5]"
   ]
  },
  {
   "cell_type": "markdown",
   "metadata": {},
   "source": [
    "Some name are specified with initial letter."
   ]
  },
  {
   "cell_type": "code",
   "execution_count": 562,
   "metadata": {},
   "outputs": [
    {
     "data": {
      "text/html": [
       "<div>\n",
       "<style scoped>\n",
       "    .dataframe tbody tr th:only-of-type {\n",
       "        vertical-align: middle;\n",
       "    }\n",
       "\n",
       "    .dataframe tbody tr th {\n",
       "        vertical-align: top;\n",
       "    }\n",
       "\n",
       "    .dataframe thead th {\n",
       "        text-align: right;\n",
       "    }\n",
       "</style>\n",
       "<table border=\"1\" class=\"dataframe\">\n",
       "  <thead>\n",
       "    <tr style=\"text-align: right;\">\n",
       "      <th></th>\n",
       "      <th>name</th>\n",
       "      <th>surname</th>\n",
       "    </tr>\n",
       "  </thead>\n",
       "  <tbody>\n",
       "    <tr>\n",
       "      <th>55208</th>\n",
       "      <td>name</td>\n",
       "      <td>surname</td>\n",
       "    </tr>\n",
       "  </tbody>\n",
       "</table>\n",
       "</div>"
      ],
      "text/plain": [
       "       name  surname\n",
       "55208  name  surname"
      ]
     },
     "execution_count": 562,
     "metadata": {},
     "output_type": "execute_result"
    }
   ],
   "source": [
    "df_male[df_male['name'] == 'name']"
   ]
  },
  {
   "cell_type": "markdown",
   "metadata": {},
   "source": [
    "Person named name, surname can be dropped."
   ]
  },
  {
   "cell_type": "code",
   "execution_count": 563,
   "metadata": {},
   "outputs": [],
   "source": [
    "df_male.drop(df_male[(df_male['name'] == 'name') & (df_male['surname'] == 'surname')].index, inplace=True)"
   ]
  },
  {
   "cell_type": "markdown",
   "metadata": {},
   "source": [
    "Checking for **non binary** people"
   ]
  },
  {
   "cell_type": "code",
   "execution_count": 564,
   "metadata": {},
   "outputs": [
    {
     "data": {
      "text/plain": [
       "74"
      ]
     },
     "execution_count": 564,
     "metadata": {},
     "output_type": "execute_result"
    }
   ],
   "source": [
    "non_binary_people = pd.merge(df_male, df_female, how='inner', on=['name', 'surname'])\n",
    "non_binary_people.shape[0]"
   ]
  },
  {
   "cell_type": "markdown",
   "metadata": {},
   "source": [
    "There are 75 people present both in male_dataset and female_dataset. We will try to fix them in the data prepartion phase, before creating new features."
   ]
  },
  {
   "cell_type": "markdown",
   "metadata": {},
   "source": [
    "### Variables Distribution and Stats"
   ]
  },
  {
   "cell_type": "markdown",
   "metadata": {},
   "source": [
    "During the data understanding process is important to explore the data distributions of our attributes. This allows to check if our data follows an expected behavior. For example, we report the players' age distribution that follows a skewed distribution centered around 20-30 years old."
   ]
  },
  {
   "cell_type": "code",
   "execution_count": 565,
   "metadata": {},
   "outputs": [
    {
     "data": {
      "image/png": "[encoded data removed]",
      "text/plain": [
       "<Figure size 864x360 with 2 Axes>"
      ]
     },
     "metadata": {
      "needs_background": "light"
     },
     "output_type": "display_data"
    }
   ],
   "source": [
    "fig = plt.figure(figsize=(12, 5)) \n",
    "fig_dims = (1, 2)\n",
    "fig.subplots_adjust(hspace=0.4, wspace=0.4)\n",
    "\n",
    "plt.subplot2grid(fig_dims, (0, 0))\n",
    "df['winner_age'].hist(bins= np.arange(0,60,2))\n",
    "plt.title('Winner age')\n",
    "plt.xlabel('Age')\n",
    "\n",
    "plt.subplot2grid(fig_dims, (0, 1))\n",
    "df['loser_age'].hist(bins= np.arange(0,60,2))\n",
    "plt.title('Loser age')\n",
    "plt.xlabel('Age')\n",
    "\n",
    "plt.show()"
   ]
  },
  {
   "cell_type": "markdown",
   "metadata": {},
   "source": [
    "Plotting winners and losers hands."
   ]
  },
  {
   "cell_type": "code",
   "execution_count": 566,
   "metadata": {},
   "outputs": [
    {
     "data": {
      "image/png": "[encoded data removed]",
      "text/plain": [
       "<Figure size 864x360 with 2 Axes>"
      ]
     },
     "metadata": {
      "needs_background": "light"
     },
     "output_type": "display_data"
    }
   ],
   "source": [
    "fig = plt.figure(figsize=(12, 5)) \n",
    "fig_dims = (1, 2)\n",
    "fig.subplots_adjust(hspace=0.4, wspace=0.4)\n",
    "\n",
    "plt.subplot2grid(fig_dims, (0, 0))\n",
    "df['winner_hand'].value_counts().plot(kind='bar',title='Winner Hand')\n",
    "plt.title('winner hand')\n",
    "\n",
    "plt.subplot2grid(fig_dims, (0, 1))\n",
    "df['loser_hand'].value_counts().plot(kind='bar',title='Loser Hand')\n",
    "plt.title('loser hand')\n",
    "\n",
    "plt.show()"
   ]
  },
  {
   "cell_type": "markdown",
   "metadata": {},
   "source": [
    "The preferred players' hand is the right one. A lot of matches does not report the player's hand, these cases fall in the U category. This is a signal of **bad quality data**. In particulare loser_hand has much more undefined records ('U') and as we discovered at the beggining loser_hand has some more NaN value than winner hand."
   ]
  },
  {
   "cell_type": "markdown",
   "metadata": {},
   "source": [
    "Plotting winners' nationality distribution. We expect a positive skewed distribution. For readability we decided to plot the nationality with at least 1000 match won."
   ]
  },
  {
   "cell_type": "code",
   "execution_count": 567,
   "metadata": {},
   "outputs": [
    {
     "data": {
      "text/plain": [
       "<AxesSubplot:>"
      ]
     },
     "execution_count": 567,
     "metadata": {},
     "output_type": "execute_result"
    },
    {
     "data": {
      "image/png": "[encoded data removed]",
      "text/plain": [
       "<Figure size 720x360 with 1 Axes>"
      ]
     },
     "metadata": {
      "needs_background": "light"
     },
     "output_type": "display_data"
    }
   ],
   "source": [
    "df_copy = df.copy()\n",
    "w_value_counts = df_copy['winner_ioc'].value_counts()\n",
    "w_to_remove = w_value_counts[w_value_counts <= 1000].index\n",
    "df_copy['winner_ioc'].replace(w_to_remove, np.nan, inplace=True)\n",
    "df_copy['winner_ioc'].value_counts().plot(kind='bar', figsize=(10,5))"
   ]
  },
  {
   "cell_type": "markdown",
   "metadata": {},
   "source": [
    "By using *describe()* method we can explore all about statistics in our data frame:"
   ]
  },
  {
   "cell_type": "code",
   "execution_count": 568,
   "metadata": {
    "tags": []
   },
   "outputs": [
    {
     "data": {
      "text/html": [
       "<div>\n",
       "<style scoped>\n",
       "    .dataframe tbody tr th:only-of-type {\n",
       "        vertical-align: middle;\n",
       "    }\n",
       "\n",
       "    .dataframe tbody tr th {\n",
       "        vertical-align: top;\n",
       "    }\n",
       "\n",
       "    .dataframe thead th {\n",
       "        text-align: right;\n",
       "    }\n",
       "</style>\n",
       "<table border=\"1\" class=\"dataframe\">\n",
       "  <thead>\n",
       "    <tr style=\"text-align: right;\">\n",
       "      <th></th>\n",
       "      <th>draw_size</th>\n",
       "      <th>tourney_date</th>\n",
       "      <th>match_num</th>\n",
       "      <th>winner_id</th>\n",
       "      <th>winner_ht</th>\n",
       "      <th>winner_age</th>\n",
       "      <th>loser_id</th>\n",
       "      <th>loser_ht</th>\n",
       "      <th>loser_age</th>\n",
       "      <th>best_of</th>\n",
       "      <th>minutes</th>\n",
       "      <th>w_ace</th>\n",
       "      <th>w_df</th>\n",
       "      <th>w_svpt</th>\n",
       "      <th>w_1stIn</th>\n",
       "      <th>w_1stWon</th>\n",
       "      <th>w_2ndWon</th>\n",
       "      <th>w_SvGms</th>\n",
       "      <th>w_bpSaved</th>\n",
       "      <th>w_bpFaced</th>\n",
       "      <th>l_ace</th>\n",
       "      <th>l_df</th>\n",
       "      <th>l_svpt</th>\n",
       "      <th>l_1stIn</th>\n",
       "      <th>l_1stWon</th>\n",
       "      <th>l_2ndWon</th>\n",
       "      <th>l_SvGms</th>\n",
       "      <th>l_bpSaved</th>\n",
       "      <th>l_bpFaced</th>\n",
       "      <th>winner_rank</th>\n",
       "      <th>winner_rank_points</th>\n",
       "      <th>loser_rank</th>\n",
       "      <th>loser_rank_points</th>\n",
       "      <th>tourney_spectators</th>\n",
       "      <th>tourney_revenue</th>\n",
       "    </tr>\n",
       "  </thead>\n",
       "  <tbody>\n",
       "    <tr>\n",
       "      <th>count</th>\n",
       "      <td>185790.000000</td>\n",
       "      <td>1.857910e+05</td>\n",
       "      <td>185792.000000</td>\n",
       "      <td>185764.000000</td>\n",
       "      <td>49303.000000</td>\n",
       "      <td>182966.000000</td>\n",
       "      <td>185791.000000</td>\n",
       "      <td>38330.000000</td>\n",
       "      <td>179282.000000</td>\n",
       "      <td>185790.000000</td>\n",
       "      <td>81358.000000</td>\n",
       "      <td>82008.000000</td>\n",
       "      <td>82010.000000</td>\n",
       "      <td>82008.000000</td>\n",
       "      <td>82008.000000</td>\n",
       "      <td>82010.000000</td>\n",
       "      <td>82007.000000</td>\n",
       "      <td>82009.000000</td>\n",
       "      <td>82013.000000</td>\n",
       "      <td>82010.000000</td>\n",
       "      <td>82011.000000</td>\n",
       "      <td>82017.000000</td>\n",
       "      <td>82013.000000</td>\n",
       "      <td>82002.000000</td>\n",
       "      <td>82009.000000</td>\n",
       "      <td>82010.000000</td>\n",
       "      <td>82016.000000</td>\n",
       "      <td>82009.000000</td>\n",
       "      <td>82004.000000</td>\n",
       "      <td>166417.000000</td>\n",
       "      <td>166399.000000</td>\n",
       "      <td>150560.000000</td>\n",
       "      <td>150543.000000</td>\n",
       "      <td>185792.000000</td>\n",
       "      <td>1.857930e+05</td>\n",
       "    </tr>\n",
       "    <tr>\n",
       "      <th>mean</th>\n",
       "      <td>41.049206</td>\n",
       "      <td>2.018286e+07</td>\n",
       "      <td>160.481038</td>\n",
       "      <td>180105.888068</td>\n",
       "      <td>181.413768</td>\n",
       "      <td>23.962916</td>\n",
       "      <td>181617.536258</td>\n",
       "      <td>181.566058</td>\n",
       "      <td>23.765154</td>\n",
       "      <td>3.034157</td>\n",
       "      <td>97.699809</td>\n",
       "      <td>4.823249</td>\n",
       "      <td>2.856310</td>\n",
       "      <td>71.298032</td>\n",
       "      <td>44.272522</td>\n",
       "      <td>32.142787</td>\n",
       "      <td>14.460131</td>\n",
       "      <td>11.117377</td>\n",
       "      <td>3.538719</td>\n",
       "      <td>5.404548</td>\n",
       "      <td>3.535428</td>\n",
       "      <td>3.609508</td>\n",
       "      <td>73.571726</td>\n",
       "      <td>44.565376</td>\n",
       "      <td>28.045300</td>\n",
       "      <td>12.715193</td>\n",
       "      <td>10.942597</td>\n",
       "      <td>4.658525</td>\n",
       "      <td>8.864665</td>\n",
       "      <td>383.929562</td>\n",
       "      <td>470.938113</td>\n",
       "      <td>434.280015</td>\n",
       "      <td>356.741157</td>\n",
       "      <td>4109.623466</td>\n",
       "      <td>8.228407e+05</td>\n",
       "    </tr>\n",
       "    <tr>\n",
       "      <th>std</th>\n",
       "      <td>25.366557</td>\n",
       "      <td>1.608354e+04</td>\n",
       "      <td>289.544275</td>\n",
       "      <td>46571.821798</td>\n",
       "      <td>11.630702</td>\n",
       "      <td>4.462881</td>\n",
       "      <td>46643.290091</td>\n",
       "      <td>10.816290</td>\n",
       "      <td>4.630679</td>\n",
       "      <td>0.259128</td>\n",
       "      <td>41.506087</td>\n",
       "      <td>4.389550</td>\n",
       "      <td>2.420703</td>\n",
       "      <td>25.529907</td>\n",
       "      <td>16.950519</td>\n",
       "      <td>11.413477</td>\n",
       "      <td>5.935509</td>\n",
       "      <td>3.514158</td>\n",
       "      <td>3.108314</td>\n",
       "      <td>4.203817</td>\n",
       "      <td>3.831450</td>\n",
       "      <td>2.606292</td>\n",
       "      <td>24.992883</td>\n",
       "      <td>16.777542</td>\n",
       "      <td>12.273636</td>\n",
       "      <td>6.322387</td>\n",
       "      <td>3.499202</td>\n",
       "      <td>3.147810</td>\n",
       "      <td>3.967632</td>\n",
       "      <td>314.189123</td>\n",
       "      <td>1041.876111</td>\n",
       "      <td>355.959761</td>\n",
       "      <td>703.211174</td>\n",
       "      <td>2708.911943</td>\n",
       "      <td>6.012727e+05</td>\n",
       "    </tr>\n",
       "    <tr>\n",
       "      <th>min</th>\n",
       "      <td>2.000000</td>\n",
       "      <td>2.016010e+07</td>\n",
       "      <td>1.000000</td>\n",
       "      <td>100644.000000</td>\n",
       "      <td>2.000000</td>\n",
       "      <td>14.042437</td>\n",
       "      <td>100644.000000</td>\n",
       "      <td>2.000000</td>\n",
       "      <td>14.006845</td>\n",
       "      <td>3.000000</td>\n",
       "      <td>0.000000</td>\n",
       "      <td>0.000000</td>\n",
       "      <td>0.000000</td>\n",
       "      <td>0.000000</td>\n",
       "      <td>0.000000</td>\n",
       "      <td>0.000000</td>\n",
       "      <td>0.000000</td>\n",
       "      <td>0.000000</td>\n",
       "      <td>0.000000</td>\n",
       "      <td>0.000000</td>\n",
       "      <td>0.000000</td>\n",
       "      <td>0.000000</td>\n",
       "      <td>0.000000</td>\n",
       "      <td>0.000000</td>\n",
       "      <td>0.000000</td>\n",
       "      <td>0.000000</td>\n",
       "      <td>0.000000</td>\n",
       "      <td>0.000000</td>\n",
       "      <td>0.000000</td>\n",
       "      <td>1.000000</td>\n",
       "      <td>1.000000</td>\n",
       "      <td>1.000000</td>\n",
       "      <td>1.000000</td>\n",
       "      <td>91.000000</td>\n",
       "      <td>1.786574e+04</td>\n",
       "    </tr>\n",
       "    <tr>\n",
       "      <th>25%</th>\n",
       "      <td>32.000000</td>\n",
       "      <td>2.017052e+07</td>\n",
       "      <td>17.000000</td>\n",
       "      <td>122330.000000</td>\n",
       "      <td>175.000000</td>\n",
       "      <td>20.490075</td>\n",
       "      <td>124079.000000</td>\n",
       "      <td>175.000000</td>\n",
       "      <td>20.128679</td>\n",
       "      <td>3.000000</td>\n",
       "      <td>72.000000</td>\n",
       "      <td>2.000000</td>\n",
       "      <td>1.000000</td>\n",
       "      <td>53.000000</td>\n",
       "      <td>33.000000</td>\n",
       "      <td>24.000000</td>\n",
       "      <td>10.000000</td>\n",
       "      <td>9.000000</td>\n",
       "      <td>1.000000</td>\n",
       "      <td>2.000000</td>\n",
       "      <td>1.000000</td>\n",
       "      <td>2.000000</td>\n",
       "      <td>56.000000</td>\n",
       "      <td>33.000000</td>\n",
       "      <td>19.000000</td>\n",
       "      <td>8.000000</td>\n",
       "      <td>9.000000</td>\n",
       "      <td>2.000000</td>\n",
       "      <td>6.000000</td>\n",
       "      <td>137.000000</td>\n",
       "      <td>49.000000</td>\n",
       "      <td>156.000000</td>\n",
       "      <td>35.000000</td>\n",
       "      <td>2836.000000</td>\n",
       "      <td>5.473662e+05</td>\n",
       "    </tr>\n",
       "    <tr>\n",
       "      <th>50%</th>\n",
       "      <td>32.000000</td>\n",
       "      <td>2.018083e+07</td>\n",
       "      <td>130.000000</td>\n",
       "      <td>203526.000000</td>\n",
       "      <td>183.000000</td>\n",
       "      <td>23.455168</td>\n",
       "      <td>205815.000000</td>\n",
       "      <td>183.000000</td>\n",
       "      <td>23.225188</td>\n",
       "      <td>3.000000</td>\n",
       "      <td>91.000000</td>\n",
       "      <td>4.000000</td>\n",
       "      <td>2.000000</td>\n",
       "      <td>67.000000</td>\n",
       "      <td>42.000000</td>\n",
       "      <td>30.000000</td>\n",
       "      <td>14.000000</td>\n",
       "      <td>10.000000</td>\n",
       "      <td>3.000000</td>\n",
       "      <td>5.000000</td>\n",
       "      <td>2.000000</td>\n",
       "      <td>3.000000</td>\n",
       "      <td>69.000000</td>\n",
       "      <td>42.000000</td>\n",
       "      <td>26.000000</td>\n",
       "      <td>12.000000</td>\n",
       "      <td>10.000000</td>\n",
       "      <td>4.000000</td>\n",
       "      <td>8.000000</td>\n",
       "      <td>298.000000</td>\n",
       "      <td>161.000000</td>\n",
       "      <td>325.000000</td>\n",
       "      <td>138.000000</td>\n",
       "      <td>3340.000000</td>\n",
       "      <td>6.632303e+05</td>\n",
       "    </tr>\n",
       "    <tr>\n",
       "      <th>75%</th>\n",
       "      <td>32.000000</td>\n",
       "      <td>2.019101e+07</td>\n",
       "      <td>272.000000</td>\n",
       "      <td>214152.000000</td>\n",
       "      <td>188.000000</td>\n",
       "      <td>26.869268</td>\n",
       "      <td>214818.000000</td>\n",
       "      <td>188.000000</td>\n",
       "      <td>26.767967</td>\n",
       "      <td>3.000000</td>\n",
       "      <td>119.000000</td>\n",
       "      <td>7.000000</td>\n",
       "      <td>4.000000</td>\n",
       "      <td>87.000000</td>\n",
       "      <td>54.000000</td>\n",
       "      <td>38.000000</td>\n",
       "      <td>18.000000</td>\n",
       "      <td>14.000000</td>\n",
       "      <td>5.000000</td>\n",
       "      <td>8.000000</td>\n",
       "      <td>5.000000</td>\n",
       "      <td>5.000000</td>\n",
       "      <td>88.000000</td>\n",
       "      <td>54.000000</td>\n",
       "      <td>35.000000</td>\n",
       "      <td>16.000000</td>\n",
       "      <td>13.000000</td>\n",
       "      <td>6.000000</td>\n",
       "      <td>11.000000</td>\n",
       "      <td>562.000000</td>\n",
       "      <td>439.000000</td>\n",
       "      <td>642.000000</td>\n",
       "      <td>378.000000</td>\n",
       "      <td>4008.000000</td>\n",
       "      <td>8.342778e+05</td>\n",
       "    </tr>\n",
       "    <tr>\n",
       "      <th>max</th>\n",
       "      <td>128.000000</td>\n",
       "      <td>2.021082e+07</td>\n",
       "      <td>8312.000000</td>\n",
       "      <td>245099.000000</td>\n",
       "      <td>211.000000</td>\n",
       "      <td>95.000000</td>\n",
       "      <td>245099.000000</td>\n",
       "      <td>211.000000</td>\n",
       "      <td>74.485969</td>\n",
       "      <td>5.000000</td>\n",
       "      <td>4756.000000</td>\n",
       "      <td>75.000000</td>\n",
       "      <td>114.000000</td>\n",
       "      <td>1957.000000</td>\n",
       "      <td>1330.000000</td>\n",
       "      <td>836.000000</td>\n",
       "      <td>304.000000</td>\n",
       "      <td>49.000000</td>\n",
       "      <td>209.000000</td>\n",
       "      <td>266.000000</td>\n",
       "      <td>67.000000</td>\n",
       "      <td>114.000000</td>\n",
       "      <td>1672.000000</td>\n",
       "      <td>893.000000</td>\n",
       "      <td>532.000000</td>\n",
       "      <td>399.000000</td>\n",
       "      <td>50.000000</td>\n",
       "      <td>120.000000</td>\n",
       "      <td>190.000000</td>\n",
       "      <td>2220.000000</td>\n",
       "      <td>16950.000000</td>\n",
       "      <td>2257.000000</td>\n",
       "      <td>16950.000000</td>\n",
       "      <td>18086.000000</td>\n",
       "      <td>5.002794e+06</td>\n",
       "    </tr>\n",
       "  </tbody>\n",
       "</table>\n",
       "</div>"
      ],
      "text/plain": [
       "           draw_size  tourney_date      match_num      winner_id  \\\n",
       "count  185790.000000  1.857910e+05  185792.000000  185764.000000   \n",
       "mean       41.049206  2.018286e+07     160.481038  180105.888068   \n",
       "std        25.366557  1.608354e+04     289.544275   46571.821798   \n",
       "min         2.000000  2.016010e+07       1.000000  100644.000000   \n",
       "25%        32.000000  2.017052e+07      17.000000  122330.000000   \n",
       "50%        32.000000  2.018083e+07     130.000000  203526.000000   \n",
       "75%        32.000000  2.019101e+07     272.000000  214152.000000   \n",
       "max       128.000000  2.021082e+07    8312.000000  245099.000000   \n",
       "\n",
       "          winner_ht     winner_age       loser_id      loser_ht  \\\n",
       "count  49303.000000  182966.000000  185791.000000  38330.000000   \n",
       "mean     181.413768      23.962916  181617.536258    181.566058   \n",
       "std       11.630702       4.462881   46643.290091     10.816290   \n",
       "min        2.000000      14.042437  100644.000000      2.000000   \n",
       "25%      175.000000      20.490075  124079.000000    175.000000   \n",
       "50%      183.000000      23.455168  205815.000000    183.000000   \n",
       "75%      188.000000      26.869268  214818.000000    188.000000   \n",
       "max      211.000000      95.000000  245099.000000    211.000000   \n",
       "\n",
       "           loser_age        best_of       minutes         w_ace          w_df  \\\n",
       "count  179282.000000  185790.000000  81358.000000  82008.000000  82010.000000   \n",
       "mean       23.765154       3.034157     97.699809      4.823249      2.856310   \n",
       "std         4.630679       0.259128     41.506087      4.389550      2.420703   \n",
       "min        14.006845       3.000000      0.000000      0.000000      0.000000   \n",
       "25%        20.128679       3.000000     72.000000      2.000000      1.000000   \n",
       "50%        23.225188       3.000000     91.000000      4.000000      2.000000   \n",
       "75%        26.767967       3.000000    119.000000      7.000000      4.000000   \n",
       "max        74.485969       5.000000   4756.000000     75.000000    114.000000   \n",
       "\n",
       "             w_svpt       w_1stIn      w_1stWon      w_2ndWon       w_SvGms  \\\n",
       "count  82008.000000  82008.000000  82010.000000  82007.000000  82009.000000   \n",
       "mean      71.298032     44.272522     32.142787     14.460131     11.117377   \n",
       "std       25.529907     16.950519     11.413477      5.935509      3.514158   \n",
       "min        0.000000      0.000000      0.000000      0.000000      0.000000   \n",
       "25%       53.000000     33.000000     24.000000     10.000000      9.000000   \n",
       "50%       67.000000     42.000000     30.000000     14.000000     10.000000   \n",
       "75%       87.000000     54.000000     38.000000     18.000000     14.000000   \n",
       "max     1957.000000   1330.000000    836.000000    304.000000     49.000000   \n",
       "\n",
       "          w_bpSaved     w_bpFaced         l_ace          l_df        l_svpt  \\\n",
       "count  82013.000000  82010.000000  82011.000000  82017.000000  82013.000000   \n",
       "mean       3.538719      5.404548      3.535428      3.609508     73.571726   \n",
       "std        3.108314      4.203817      3.831450      2.606292     24.992883   \n",
       "min        0.000000      0.000000      0.000000      0.000000      0.000000   \n",
       "25%        1.000000      2.000000      1.000000      2.000000     56.000000   \n",
       "50%        3.000000      5.000000      2.000000      3.000000     69.000000   \n",
       "75%        5.000000      8.000000      5.000000      5.000000     88.000000   \n",
       "max      209.000000    266.000000     67.000000    114.000000   1672.000000   \n",
       "\n",
       "            l_1stIn      l_1stWon      l_2ndWon       l_SvGms     l_bpSaved  \\\n",
       "count  82002.000000  82009.000000  82010.000000  82016.000000  82009.000000   \n",
       "mean      44.565376     28.045300     12.715193     10.942597      4.658525   \n",
       "std       16.777542     12.273636      6.322387      3.499202      3.147810   \n",
       "min        0.000000      0.000000      0.000000      0.000000      0.000000   \n",
       "25%       33.000000     19.000000      8.000000      9.000000      2.000000   \n",
       "50%       42.000000     26.000000     12.000000     10.000000      4.000000   \n",
       "75%       54.000000     35.000000     16.000000     13.000000      6.000000   \n",
       "max      893.000000    532.000000    399.000000     50.000000    120.000000   \n",
       "\n",
       "          l_bpFaced    winner_rank  winner_rank_points     loser_rank  \\\n",
       "count  82004.000000  166417.000000       166399.000000  150560.000000   \n",
       "mean       8.864665     383.929562          470.938113     434.280015   \n",
       "std        3.967632     314.189123         1041.876111     355.959761   \n",
       "min        0.000000       1.000000            1.000000       1.000000   \n",
       "25%        6.000000     137.000000           49.000000     156.000000   \n",
       "50%        8.000000     298.000000          161.000000     325.000000   \n",
       "75%       11.000000     562.000000          439.000000     642.000000   \n",
       "max      190.000000    2220.000000        16950.000000    2257.000000   \n",
       "\n",
       "       loser_rank_points  tourney_spectators  tourney_revenue  \n",
       "count      150543.000000       185792.000000     1.857930e+05  \n",
       "mean          356.741157         4109.623466     8.228407e+05  \n",
       "std           703.211174         2708.911943     6.012727e+05  \n",
       "min             1.000000           91.000000     1.786574e+04  \n",
       "25%            35.000000         2836.000000     5.473662e+05  \n",
       "50%           138.000000         3340.000000     6.632303e+05  \n",
       "75%           378.000000         4008.000000     8.342778e+05  \n",
       "max         16950.000000        18086.000000     5.002794e+06  "
      ]
     },
     "execution_count": 568,
     "metadata": {},
     "output_type": "execute_result"
    }
   ],
   "source": [
    "df.describe()"
   ]
  },
  {
   "cell_type": "code",
   "execution_count": 569,
   "metadata": {
    "tags": []
   },
   "outputs": [
    {
     "data": {
      "text/plain": [
       "count    81358.000000\n",
       "mean        97.699809\n",
       "std         41.506087\n",
       "min          0.000000\n",
       "25%         72.000000\n",
       "50%         91.000000\n",
       "75%        119.000000\n",
       "max       4756.000000\n",
       "Name: minutes, dtype: float64"
      ]
     },
     "execution_count": 569,
     "metadata": {},
     "output_type": "execute_result"
    }
   ],
   "source": [
    "df['minutes'].describe()"
   ]
  },
  {
   "cell_type": "markdown",
   "metadata": {},
   "source": [
    "Just by analyzing this statistics we can discover some outliers. For example, we can immediatly notice a minimum value of 2 in winner and loser heigths: these are definitely wrong values. We performed outliers detection in more details in the next section."
   ]
  },
  {
   "cell_type": "markdown",
   "metadata": {},
   "source": [
    "### Outliers detection (i.e. by exploiting barplots)"
   ]
  },
  {
   "cell_type": "markdown",
   "metadata": {},
   "source": [
    "During the data understanding process is important to find outliers.\n",
    "To detect them we examined numeric single dimension attributes, using the Interquartile range method.\n",
    "For each of these attributes, we defined a range with lower bound and upper bound, and we have considered as outliers all the attributes that are outside this range.\n",
    "This method can be applied also in a graphical way by exploting barplots."
   ]
  },
  {
   "cell_type": "code",
   "execution_count": 570,
   "metadata": {},
   "outputs": [
    {
     "data": {
      "text/html": [
       "<div>\n",
       "<style scoped>\n",
       "    .dataframe tbody tr th:only-of-type {\n",
       "        vertical-align: middle;\n",
       "    }\n",
       "\n",
       "    .dataframe tbody tr th {\n",
       "        vertical-align: top;\n",
       "    }\n",
       "\n",
       "    .dataframe thead th {\n",
       "        text-align: right;\n",
       "    }\n",
       "</style>\n",
       "<table border=\"1\" class=\"dataframe\">\n",
       "  <thead>\n",
       "    <tr style=\"text-align: right;\">\n",
       "      <th></th>\n",
       "      <th>draw_size</th>\n",
       "      <th>tourney_date</th>\n",
       "      <th>match_num</th>\n",
       "      <th>winner_id</th>\n",
       "      <th>winner_ht</th>\n",
       "      <th>winner_age</th>\n",
       "      <th>loser_id</th>\n",
       "      <th>loser_ht</th>\n",
       "      <th>loser_age</th>\n",
       "      <th>best_of</th>\n",
       "      <th>minutes</th>\n",
       "      <th>w_ace</th>\n",
       "      <th>w_df</th>\n",
       "      <th>w_svpt</th>\n",
       "      <th>w_1stIn</th>\n",
       "      <th>w_1stWon</th>\n",
       "      <th>w_2ndWon</th>\n",
       "      <th>w_SvGms</th>\n",
       "      <th>w_bpSaved</th>\n",
       "      <th>w_bpFaced</th>\n",
       "      <th>l_ace</th>\n",
       "      <th>l_df</th>\n",
       "      <th>l_svpt</th>\n",
       "      <th>l_1stIn</th>\n",
       "      <th>l_1stWon</th>\n",
       "      <th>l_2ndWon</th>\n",
       "      <th>l_SvGms</th>\n",
       "      <th>l_bpSaved</th>\n",
       "      <th>l_bpFaced</th>\n",
       "      <th>winner_rank</th>\n",
       "      <th>winner_rank_points</th>\n",
       "      <th>loser_rank</th>\n",
       "      <th>loser_rank_points</th>\n",
       "      <th>tourney_spectators</th>\n",
       "      <th>tourney_revenue</th>\n",
       "    </tr>\n",
       "  </thead>\n",
       "  <tbody>\n",
       "    <tr>\n",
       "      <th>0</th>\n",
       "      <td>185790</td>\n",
       "      <td>0</td>\n",
       "      <td>1798</td>\n",
       "      <td>0</td>\n",
       "      <td>476</td>\n",
       "      <td>1214</td>\n",
       "      <td>0</td>\n",
       "      <td>398</td>\n",
       "      <td>1225</td>\n",
       "      <td>185790</td>\n",
       "      <td>1136</td>\n",
       "      <td>2966</td>\n",
       "      <td>2308</td>\n",
       "      <td>963</td>\n",
       "      <td>1358</td>\n",
       "      <td>1804</td>\n",
       "      <td>1247</td>\n",
       "      <td>1736</td>\n",
       "      <td>2317</td>\n",
       "      <td>1191</td>\n",
       "      <td>4448</td>\n",
       "      <td>2371</td>\n",
       "      <td>1228</td>\n",
       "      <td>1396</td>\n",
       "      <td>1239</td>\n",
       "      <td>1702</td>\n",
       "      <td>2588</td>\n",
       "      <td>2464</td>\n",
       "      <td>1417</td>\n",
       "      <td>3098</td>\n",
       "      <td>16714</td>\n",
       "      <td>1556</td>\n",
       "      <td>14335</td>\n",
       "      <td>27781</td>\n",
       "      <td>23711</td>\n",
       "    </tr>\n",
       "  </tbody>\n",
       "</table>\n",
       "</div>"
      ],
      "text/plain": [
       "   draw_size  tourney_date  match_num  winner_id  winner_ht  winner_age  \\\n",
       "0     185790             0       1798          0        476        1214   \n",
       "\n",
       "   loser_id  loser_ht  loser_age  best_of  minutes  w_ace  w_df  w_svpt  \\\n",
       "0         0       398       1225   185790     1136   2966  2308     963   \n",
       "\n",
       "   w_1stIn  w_1stWon  w_2ndWon  w_SvGms  w_bpSaved  w_bpFaced  l_ace  l_df  \\\n",
       "0     1358      1804      1247     1736       2317       1191   4448  2371   \n",
       "\n",
       "   l_svpt  l_1stIn  l_1stWon  l_2ndWon  l_SvGms  l_bpSaved  l_bpFaced  \\\n",
       "0    1228     1396      1239      1702     2588       2464       1417   \n",
       "\n",
       "   winner_rank  winner_rank_points  loser_rank  loser_rank_points  \\\n",
       "0         3098               16714        1556              14335   \n",
       "\n",
       "   tourney_spectators  tourney_revenue  \n",
       "0               27781            23711  "
      ]
     },
     "execution_count": 570,
     "metadata": {},
     "output_type": "execute_result"
    }
   ],
   "source": [
    "#string_list = []\n",
    "output_dict = {}\n",
    "\n",
    "for x in range(len(df.columns)):\n",
    "    str_col = str(df.columns[x])\n",
    "    # just for numerical attributes\n",
    "    if df[str_col].dtype == \"float64\":\n",
    "        q1 = df[str_col].quantile(0.25)\n",
    "        q3 = df[str_col].quantile(0.75) \n",
    "        iqr = q3 - q1\n",
    "        filter = (df[str_col] >= q3 + (1.5 * iqr)) | (df[str_col] <= q1 - (1.5 * iqr))\n",
    "        data_f = df.loc[filter]\n",
    "        sum_ = filter.sum()\n",
    "        output_dict[str_col] = [sum_]\n",
    "        #if (sum_ != 185790 and sum_ != 0 ):\n",
    "        #    string_list.append(str_col) \n",
    "\n",
    "# this dataframe containsthe number of outliers for each attribute\n",
    "df_outliers = pd.DataFrame(output_dict)\n",
    "df_outliers"
   ]
  },
  {
   "cell_type": "markdown",
   "metadata": {},
   "source": [
    "A lot of outliers for every attribute were found, but we want to point out that some of them, although are numeric, they are actually treated as cateforical attributes (like *draw_size* or *best_of*). There also some attribute that outliers detection through interquantile range is not applicable like *match_num*, *winner_id* or *loser_rank*."
   ]
  },
  {
   "cell_type": "code",
   "execution_count": 571,
   "metadata": {},
   "outputs": [
    {
     "data": {
      "text/html": [
       "<div>\n",
       "<style scoped>\n",
       "    .dataframe tbody tr th:only-of-type {\n",
       "        vertical-align: middle;\n",
       "    }\n",
       "\n",
       "    .dataframe tbody tr th {\n",
       "        vertical-align: top;\n",
       "    }\n",
       "\n",
       "    .dataframe thead th {\n",
       "        text-align: right;\n",
       "    }\n",
       "</style>\n",
       "<table border=\"1\" class=\"dataframe\">\n",
       "  <thead>\n",
       "    <tr style=\"text-align: right;\">\n",
       "      <th></th>\n",
       "      <th>winner_ht</th>\n",
       "      <th>winner_age</th>\n",
       "      <th>loser_ht</th>\n",
       "      <th>loser_age</th>\n",
       "      <th>minutes</th>\n",
       "      <th>w_ace</th>\n",
       "      <th>w_df</th>\n",
       "      <th>w_svpt</th>\n",
       "      <th>w_1stIn</th>\n",
       "      <th>w_1stWon</th>\n",
       "      <th>w_2ndWon</th>\n",
       "      <th>w_SvGms</th>\n",
       "      <th>w_bpSaved</th>\n",
       "      <th>w_bpFaced</th>\n",
       "      <th>l_ace</th>\n",
       "      <th>l_df</th>\n",
       "      <th>l_svpt</th>\n",
       "      <th>l_1stIn</th>\n",
       "      <th>l_1stWon</th>\n",
       "      <th>l_2ndWon</th>\n",
       "      <th>l_SvGms</th>\n",
       "      <th>l_bpSaved</th>\n",
       "      <th>l_bpFaced</th>\n",
       "      <th>tourney_spectators</th>\n",
       "      <th>tourney_revenue</th>\n",
       "    </tr>\n",
       "  </thead>\n",
       "  <tbody>\n",
       "    <tr>\n",
       "      <th>0</th>\n",
       "      <td>476</td>\n",
       "      <td>1214</td>\n",
       "      <td>398</td>\n",
       "      <td>1225</td>\n",
       "      <td>1136</td>\n",
       "      <td>2966</td>\n",
       "      <td>2308</td>\n",
       "      <td>963</td>\n",
       "      <td>1358</td>\n",
       "      <td>1804</td>\n",
       "      <td>1247</td>\n",
       "      <td>1736</td>\n",
       "      <td>2317</td>\n",
       "      <td>1191</td>\n",
       "      <td>4448</td>\n",
       "      <td>2371</td>\n",
       "      <td>1228</td>\n",
       "      <td>1396</td>\n",
       "      <td>1239</td>\n",
       "      <td>1702</td>\n",
       "      <td>2588</td>\n",
       "      <td>2464</td>\n",
       "      <td>1417</td>\n",
       "      <td>27781</td>\n",
       "      <td>23711</td>\n",
       "    </tr>\n",
       "  </tbody>\n",
       "</table>\n",
       "</div>"
      ],
      "text/plain": [
       "   winner_ht  winner_age  loser_ht  loser_age  minutes  w_ace  w_df  w_svpt  \\\n",
       "0        476        1214       398       1225     1136   2966  2308     963   \n",
       "\n",
       "   w_1stIn  w_1stWon  w_2ndWon  w_SvGms  w_bpSaved  w_bpFaced  l_ace  l_df  \\\n",
       "0     1358      1804      1247     1736       2317       1191   4448  2371   \n",
       "\n",
       "   l_svpt  l_1stIn  l_1stWon  l_2ndWon  l_SvGms  l_bpSaved  l_bpFaced  \\\n",
       "0    1228     1396      1239      1702     2588       2464       1417   \n",
       "\n",
       "   tourney_spectators  tourney_revenue  \n",
       "0               27781            23711  "
      ]
     },
     "execution_count": 571,
     "metadata": {},
     "output_type": "execute_result"
    }
   ],
   "source": [
    "df_outliers.drop(columns=['draw_size', 'tourney_date', 'match_num', 'winner_id', 'loser_id', 'best_of', 'winner_rank', 'winner_rank_points', 'loser_rank', 'loser_rank_points'], inplace=True)\n",
    "df_outliers"
   ]
  },
  {
   "cell_type": "markdown",
   "metadata": {},
   "source": [
    "We then plot the boxplots of the remaining attributes in order to detect in a graphical way outliers."
   ]
  },
  {
   "cell_type": "code",
   "execution_count": 572,
   "metadata": {},
   "outputs": [
    {
     "data": {
      "image/png": "[encoded data removed]",
      "text/plain": [
       "<Figure size 1440x4320 with 25 Axes>"
      ]
     },
     "metadata": {
      "needs_background": "light"
     },
     "output_type": "display_data"
    }
   ],
   "source": [
    "# Set up a grid of plots:\n",
    "fig = plt.figure(figsize=(20, 60)) \n",
    "fig_dims = (8,4)\n",
    "fig.subplots_adjust(hspace=0.2, wspace=0.2)\n",
    "\n",
    "j = 0\n",
    "i = 0\n",
    "\n",
    "for x in df_outliers.columns:\n",
    "        \n",
    "    plt.subplot2grid(fig_dims, (i, j))\n",
    "    df.boxplot(column=x)\n",
    "    \n",
    "    j = j+1;\n",
    "    \n",
    "    if (j == 4):\n",
    "        j = 0;\n",
    "        i = i+1\n",
    "\n",
    "plt.show()   "
   ]
  },
  {
   "cell_type": "markdown",
   "metadata": {},
   "source": [
    "Let's crate a dictionary which contains as key the row number of a match and as value an array of tuples: (columns in which I have outlier value, value)"
   ]
  },
  {
   "cell_type": "markdown",
   "metadata": {},
   "source": [
    "There are definitely some outliers, in some attributes is simpler to understand them.\n",
    "For example we can analyze the winner and losers' heights in which we can see some values outside the boxplot's branches but in our opinion they can be interpreted as true values. Surely we can not intepreter in the same way the value near 0 (it should be 2 cm), this is clearly a wrong value and we have to fix them. We will fix them in the data preparation phase where we will try to derive the heigth of that winner/loser by other matches played by him/her.\n",
    "\n",
    "Winner/Loser age also contains a really high value. In our opinion data around 50 years old can be considered as true values and so we do not want to replace them. The really high values (95 for winner and about 75 for loser) seem to be wrong values and as for the heights we will fix them in data preparation phase where we will try to derive the real age of the player.\n",
    "\n",
    "Minutes is a feature which contains some outliers (total of 1136), we think that matches below 300 minutes per match could still be real values. We decided tho check for data integration in matches which last more than 300 minutes.\n"
   ]
  },
  {
   "cell_type": "code",
   "execution_count": 573,
   "metadata": {
    "tags": []
   },
   "outputs": [
    {
     "data": {
      "text/html": [
       "<div>\n",
       "<style scoped>\n",
       "    .dataframe tbody tr th:only-of-type {\n",
       "        vertical-align: middle;\n",
       "    }\n",
       "\n",
       "    .dataframe tbody tr th {\n",
       "        vertical-align: top;\n",
       "    }\n",
       "\n",
       "    .dataframe thead th {\n",
       "        text-align: right;\n",
       "    }\n",
       "</style>\n",
       "<table border=\"1\" class=\"dataframe\">\n",
       "  <thead>\n",
       "    <tr style=\"text-align: right;\">\n",
       "      <th></th>\n",
       "      <th>loser_name</th>\n",
       "      <th>winner_name</th>\n",
       "      <th>tourney_date</th>\n",
       "      <th>tourney_name</th>\n",
       "      <th>minutes</th>\n",
       "    </tr>\n",
       "  </thead>\n",
       "  <tbody>\n",
       "    <tr>\n",
       "      <th>324</th>\n",
       "      <td>Pablo Carreno Busta</td>\n",
       "      <td>Kei Nishikori</td>\n",
       "      <td>20190114.0</td>\n",
       "      <td>Australian Open</td>\n",
       "      <td>305.0</td>\n",
       "    </tr>\n",
       "    <tr>\n",
       "      <th>1990</th>\n",
       "      <td>Leonardo Mayer</td>\n",
       "      <td>Alexei Popyrin</td>\n",
       "      <td>20190415.0</td>\n",
       "      <td>Monte Carlo Masters</td>\n",
       "      <td>510.0</td>\n",
       "    </tr>\n",
       "    <tr>\n",
       "      <th>2692</th>\n",
       "      <td>Stefanos Tsitsipas</td>\n",
       "      <td>Stan Wawrinka</td>\n",
       "      <td>20190527.0</td>\n",
       "      <td>Roland Garros</td>\n",
       "      <td>309.0</td>\n",
       "    </tr>\n",
       "    <tr>\n",
       "      <th>7918</th>\n",
       "      <td>Aisam Ul Haq Qureshi</td>\n",
       "      <td>Denis Istomin</td>\n",
       "      <td>20180406.0</td>\n",
       "      <td>Davis Cup G1 R2: PAK vs UZB</td>\n",
       "      <td>356.0</td>\n",
       "    </tr>\n",
       "    <tr>\n",
       "      <th>9679</th>\n",
       "      <td>John Isner</td>\n",
       "      <td>Kevin Anderson</td>\n",
       "      <td>20180702.0</td>\n",
       "      <td>Wimbledon</td>\n",
       "      <td>396.0</td>\n",
       "    </tr>\n",
       "    <tr>\n",
       "      <th>9680</th>\n",
       "      <td>Rafael Nadal</td>\n",
       "      <td>Novak Djokovic</td>\n",
       "      <td>20180702.0</td>\n",
       "      <td>Wimbledon</td>\n",
       "      <td>315.0</td>\n",
       "    </tr>\n",
       "    <tr>\n",
       "      <th>30862</th>\n",
       "      <td>Nicole Gibbs</td>\n",
       "      <td>Christina Mchale</td>\n",
       "      <td>20170925.0</td>\n",
       "      <td>Wuhan</td>\n",
       "      <td>1211.0</td>\n",
       "    </tr>\n",
       "    <tr>\n",
       "      <th>33343</th>\n",
       "      <td>Horacio Zeballos</td>\n",
       "      <td>Ivo Karlovic</td>\n",
       "      <td>20170116.0</td>\n",
       "      <td>Australian Open</td>\n",
       "      <td>314.0</td>\n",
       "    </tr>\n",
       "    <tr>\n",
       "      <th>35073</th>\n",
       "      <td>Camila Giorgi</td>\n",
       "      <td>Karolina Pliskova</td>\n",
       "      <td>20170814.0</td>\n",
       "      <td>Cincinnati</td>\n",
       "      <td>1094.0</td>\n",
       "    </tr>\n",
       "    <tr>\n",
       "      <th>54162</th>\n",
       "      <td>Rebecca Peterson</td>\n",
       "      <td>Kiki Bertens</td>\n",
       "      <td>20160104.0</td>\n",
       "      <td>Auckland</td>\n",
       "      <td>814.0</td>\n",
       "    </tr>\n",
       "    <tr>\n",
       "      <th>57206</th>\n",
       "      <td>Jeremy Chardy</td>\n",
       "      <td>Gilles Muller</td>\n",
       "      <td>20160111.0</td>\n",
       "      <td>Sydney</td>\n",
       "      <td>1146.0</td>\n",
       "    </tr>\n",
       "    <tr>\n",
       "      <th>57322</th>\n",
       "      <td>Su Wei Hsieh</td>\n",
       "      <td>Xinyun Han</td>\n",
       "      <td>20160307.0</td>\n",
       "      <td>Indian Wells</td>\n",
       "      <td>1531.0</td>\n",
       "    </tr>\n",
       "    <tr>\n",
       "      <th>60873</th>\n",
       "      <td>Corentin Moutet</td>\n",
       "      <td>Lorenzo Giustino</td>\n",
       "      <td>20200928.0</td>\n",
       "      <td>Roland Garros</td>\n",
       "      <td>365.0</td>\n",
       "    </tr>\n",
       "    <tr>\n",
       "      <th>60957</th>\n",
       "      <td>Dominic Thiem</td>\n",
       "      <td>Diego Schwartzman</td>\n",
       "      <td>20200928.0</td>\n",
       "      <td>Roland Garros</td>\n",
       "      <td>308.0</td>\n",
       "    </tr>\n",
       "    <tr>\n",
       "      <th>62351</th>\n",
       "      <td>Yasutaka Uchiyama</td>\n",
       "      <td>Soon Woo Kwon</td>\n",
       "      <td>20210222.0</td>\n",
       "      <td>Singapore</td>\n",
       "      <td>740.0</td>\n",
       "    </tr>\n",
       "    <tr>\n",
       "      <th>63007</th>\n",
       "      <td>Dusan Lajovic</td>\n",
       "      <td>Daniel Evans</td>\n",
       "      <td>20210412.0</td>\n",
       "      <td>Monte Carlo Masters</td>\n",
       "      <td>1266.0</td>\n",
       "    </tr>\n",
       "    <tr>\n",
       "      <th>64253</th>\n",
       "      <td>Pierre Hugues Herbert</td>\n",
       "      <td>Pablo Andujar</td>\n",
       "      <td>20210628.0</td>\n",
       "      <td>Wimbledon</td>\n",
       "      <td>302.0</td>\n",
       "    </tr>\n",
       "    <tr>\n",
       "      <th>67025</th>\n",
       "      <td>Aleksandre Metreveli</td>\n",
       "      <td>Dmitry Popko</td>\n",
       "      <td>20160509.0</td>\n",
       "      <td>Samarkand CH</td>\n",
       "      <td>1237.0</td>\n",
       "    </tr>\n",
       "    <tr>\n",
       "      <th>69975</th>\n",
       "      <td>Yuichi Ito</td>\n",
       "      <td>Hiroki Kondo</td>\n",
       "      <td>20161114.0</td>\n",
       "      <td>Toyota CH</td>\n",
       "      <td>306.0</td>\n",
       "    </tr>\n",
       "    <tr>\n",
       "      <th>73490</th>\n",
       "      <td>Pere Riba</td>\n",
       "      <td>Aleksandr Nedovyesov</td>\n",
       "      <td>20160606.0</td>\n",
       "      <td>Moscow CH</td>\n",
       "      <td>301.0</td>\n",
       "    </tr>\n",
       "    <tr>\n",
       "      <th>73992</th>\n",
       "      <td>Cristopher Kohl</td>\n",
       "      <td>Juan Pablo Paz</td>\n",
       "      <td>20161017.0</td>\n",
       "      <td>Santiago CH</td>\n",
       "      <td>1392.0</td>\n",
       "    </tr>\n",
       "    <tr>\n",
       "      <th>76419</th>\n",
       "      <td>Martin Klizan</td>\n",
       "      <td>Hyeon Chung</td>\n",
       "      <td>20170501.0</td>\n",
       "      <td>Munich</td>\n",
       "      <td>987.0</td>\n",
       "    </tr>\n",
       "    <tr>\n",
       "      <th>78997</th>\n",
       "      <td>Carlos Ramirez Utermann</td>\n",
       "      <td>Ivan Endara</td>\n",
       "      <td>20170327.0</td>\n",
       "      <td>Leon CH</td>\n",
       "      <td>416.0</td>\n",
       "    </tr>\n",
       "    <tr>\n",
       "      <th>79773</th>\n",
       "      <td>Andrea Collarini</td>\n",
       "      <td>Juan Ignacio Londero</td>\n",
       "      <td>20170626.0</td>\n",
       "      <td>Milan CH</td>\n",
       "      <td>337.0</td>\n",
       "    </tr>\n",
       "    <tr>\n",
       "      <th>84208</th>\n",
       "      <td>Changwei Peng</td>\n",
       "      <td>Chengze Lu</td>\n",
       "      <td>20170306.0</td>\n",
       "      <td>Zhuhai CH</td>\n",
       "      <td>563.0</td>\n",
       "    </tr>\n",
       "    <tr>\n",
       "      <th>86178</th>\n",
       "      <td>Kelly Williford</td>\n",
       "      <td>Kirsten Andrea Weedon</td>\n",
       "      <td>20170721.0</td>\n",
       "      <td>Fed Cup G2 RR: GUA vs DOM</td>\n",
       "      <td>356.0</td>\n",
       "    </tr>\n",
       "    <tr>\n",
       "      <th>87330</th>\n",
       "      <td>Anastasija Sevastova</td>\n",
       "      <td>Julia Goerges</td>\n",
       "      <td>20180402.0</td>\n",
       "      <td>Charleston</td>\n",
       "      <td>1507.0</td>\n",
       "    </tr>\n",
       "    <tr>\n",
       "      <th>88954</th>\n",
       "      <td>Oceane Dodin</td>\n",
       "      <td>Alison Van Uytvanck</td>\n",
       "      <td>20180409.0</td>\n",
       "      <td>Lugano</td>\n",
       "      <td>2475.0</td>\n",
       "    </tr>\n",
       "    <tr>\n",
       "      <th>89181</th>\n",
       "      <td>Yolande Leacock</td>\n",
       "      <td>Kerrie Cartwright</td>\n",
       "      <td>20180719.0</td>\n",
       "      <td>Fed Cup G2 RR: TTO vs BAH</td>\n",
       "      <td>361.0</td>\n",
       "    </tr>\n",
       "    <tr>\n",
       "      <th>95695</th>\n",
       "      <td>Evan Furness</td>\n",
       "      <td>Jozef Kovalik</td>\n",
       "      <td>20210823.0</td>\n",
       "      <td>Warsaw CH</td>\n",
       "      <td>309.0</td>\n",
       "    </tr>\n",
       "    <tr>\n",
       "      <th>96157</th>\n",
       "      <td>Abigail Spears</td>\n",
       "      <td>Destanee Aiava</td>\n",
       "      <td>20190401.0</td>\n",
       "      <td>Charleston</td>\n",
       "      <td>389.0</td>\n",
       "    </tr>\n",
       "    <tr>\n",
       "      <th>112759</th>\n",
       "      <td>Joris De Loore</td>\n",
       "      <td>Federico Gaio</td>\n",
       "      <td>20180528.0</td>\n",
       "      <td>Vicenza CH</td>\n",
       "      <td>1241.0</td>\n",
       "    </tr>\n",
       "    <tr>\n",
       "      <th>113704</th>\n",
       "      <td>Tomas Lipovsek Puches</td>\n",
       "      <td>Federico Coria</td>\n",
       "      <td>20181029.0</td>\n",
       "      <td>Guayaquil CH</td>\n",
       "      <td>4756.0</td>\n",
       "    </tr>\n",
       "    <tr>\n",
       "      <th>162664</th>\n",
       "      <td>Francisco Yim Kim</td>\n",
       "      <td>Ricardo Rodriguez</td>\n",
       "      <td>20160304.0</td>\n",
       "      <td>Davis Cup G2 R1: PAR vs VEN</td>\n",
       "      <td>344.0</td>\n",
       "    </tr>\n",
       "    <tr>\n",
       "      <th>162848</th>\n",
       "      <td>Andy Murray</td>\n",
       "      <td>Juan Martin del Potro</td>\n",
       "      <td>20160916.0</td>\n",
       "      <td>Davis Cup WG SF: GBR vs ARG</td>\n",
       "      <td>307.0</td>\n",
       "    </tr>\n",
       "  </tbody>\n",
       "</table>\n",
       "</div>"
      ],
      "text/plain": [
       "                     loser_name            winner_name  tourney_date  \\\n",
       "324         Pablo Carreno Busta          Kei Nishikori    20190114.0   \n",
       "1990             Leonardo Mayer         Alexei Popyrin    20190415.0   \n",
       "2692         Stefanos Tsitsipas          Stan Wawrinka    20190527.0   \n",
       "7918       Aisam Ul Haq Qureshi          Denis Istomin    20180406.0   \n",
       "9679                 John Isner         Kevin Anderson    20180702.0   \n",
       "9680               Rafael Nadal         Novak Djokovic    20180702.0   \n",
       "30862              Nicole Gibbs       Christina Mchale    20170925.0   \n",
       "33343          Horacio Zeballos           Ivo Karlovic    20170116.0   \n",
       "35073             Camila Giorgi      Karolina Pliskova    20170814.0   \n",
       "54162          Rebecca Peterson           Kiki Bertens    20160104.0   \n",
       "57206             Jeremy Chardy          Gilles Muller    20160111.0   \n",
       "57322              Su Wei Hsieh             Xinyun Han    20160307.0   \n",
       "60873           Corentin Moutet       Lorenzo Giustino    20200928.0   \n",
       "60957             Dominic Thiem      Diego Schwartzman    20200928.0   \n",
       "62351         Yasutaka Uchiyama          Soon Woo Kwon    20210222.0   \n",
       "63007             Dusan Lajovic           Daniel Evans    20210412.0   \n",
       "64253     Pierre Hugues Herbert          Pablo Andujar    20210628.0   \n",
       "67025      Aleksandre Metreveli           Dmitry Popko    20160509.0   \n",
       "69975                Yuichi Ito           Hiroki Kondo    20161114.0   \n",
       "73490                 Pere Riba   Aleksandr Nedovyesov    20160606.0   \n",
       "73992           Cristopher Kohl         Juan Pablo Paz    20161017.0   \n",
       "76419             Martin Klizan            Hyeon Chung    20170501.0   \n",
       "78997   Carlos Ramirez Utermann            Ivan Endara    20170327.0   \n",
       "79773          Andrea Collarini   Juan Ignacio Londero    20170626.0   \n",
       "84208             Changwei Peng             Chengze Lu    20170306.0   \n",
       "86178           Kelly Williford  Kirsten Andrea Weedon    20170721.0   \n",
       "87330      Anastasija Sevastova          Julia Goerges    20180402.0   \n",
       "88954              Oceane Dodin    Alison Van Uytvanck    20180409.0   \n",
       "89181           Yolande Leacock      Kerrie Cartwright    20180719.0   \n",
       "95695              Evan Furness          Jozef Kovalik    20210823.0   \n",
       "96157            Abigail Spears         Destanee Aiava    20190401.0   \n",
       "112759           Joris De Loore          Federico Gaio    20180528.0   \n",
       "113704    Tomas Lipovsek Puches         Federico Coria    20181029.0   \n",
       "162664        Francisco Yim Kim      Ricardo Rodriguez    20160304.0   \n",
       "162848              Andy Murray  Juan Martin del Potro    20160916.0   \n",
       "\n",
       "                       tourney_name  minutes  \n",
       "324                 Australian Open    305.0  \n",
       "1990            Monte Carlo Masters    510.0  \n",
       "2692                  Roland Garros    309.0  \n",
       "7918    Davis Cup G1 R2: PAK vs UZB    356.0  \n",
       "9679                      Wimbledon    396.0  \n",
       "9680                      Wimbledon    315.0  \n",
       "30862                         Wuhan   1211.0  \n",
       "33343               Australian Open    314.0  \n",
       "35073                    Cincinnati   1094.0  \n",
       "54162                      Auckland    814.0  \n",
       "57206                        Sydney   1146.0  \n",
       "57322                  Indian Wells   1531.0  \n",
       "60873                 Roland Garros    365.0  \n",
       "60957                 Roland Garros    308.0  \n",
       "62351                     Singapore    740.0  \n",
       "63007           Monte Carlo Masters   1266.0  \n",
       "64253                     Wimbledon    302.0  \n",
       "67025                  Samarkand CH   1237.0  \n",
       "69975                     Toyota CH    306.0  \n",
       "73490                     Moscow CH    301.0  \n",
       "73992                   Santiago CH   1392.0  \n",
       "76419                        Munich    987.0  \n",
       "78997                       Leon CH    416.0  \n",
       "79773                      Milan CH    337.0  \n",
       "84208                     Zhuhai CH    563.0  \n",
       "86178     Fed Cup G2 RR: GUA vs DOM    356.0  \n",
       "87330                    Charleston   1507.0  \n",
       "88954                        Lugano   2475.0  \n",
       "89181     Fed Cup G2 RR: TTO vs BAH    361.0  \n",
       "95695                     Warsaw CH    309.0  \n",
       "96157                    Charleston    389.0  \n",
       "112759                   Vicenza CH   1241.0  \n",
       "113704                 Guayaquil CH   4756.0  \n",
       "162664  Davis Cup G2 R1: PAR vs VEN    344.0  \n",
       "162848  Davis Cup WG SF: GBR vs ARG    307.0  "
      ]
     },
     "execution_count": 573,
     "metadata": {},
     "output_type": "execute_result"
    }
   ],
   "source": [
    "df[df['minutes'] > 300][['loser_name', 'winner_name', 'tourney_date', 'tourney_name', 'minutes']]"
   ]
  },
  {
   "cell_type": "markdown",
   "metadata": {},
   "source": [
    "By applying data integration we were able to find real minutes played in these matches. We decided to replace them."
   ]
  },
  {
   "cell_type": "code",
   "execution_count": 574,
   "metadata": {},
   "outputs": [],
   "source": [
    "df.loc[1990, 'minutes'] = 152.0\n",
    "df.loc[7918, 'minutes'] = 99.0\n",
    "df.loc[30862, 'minutes'] = 116.0\n",
    "df.loc[35073, 'minutes'] = 130.0\n",
    "df.loc[54162, 'minutes'] = 92.0\n",
    "df.loc[57206, 'minutes'] = 90.0\n",
    "df.loc[57322, 'minutes'] = 83.0\n",
    "df.loc[62351, 'minutes'] = 80.0\n",
    "df.loc[63007, 'minutes'] = 173.0\n",
    "df.loc[67025, 'minutes'] = 55.0\n",
    "df.loc[69975, 'minutes'] = 60.0\n",
    "df.loc[73490, 'minutes'] = 122.0\n",
    "df.loc[73992, 'minutes'] = 81.0\n",
    "df.loc[76419, 'minutes'] = 125.0\n",
    "df.loc[78997, 'minutes'] = 66.0\n",
    "df.loc[79773, 'minutes'] = 218.0\n",
    "df.loc[84208, 'minutes'] = 88.0\n",
    "df.loc[86178, 'minutes'] = 149.0\n",
    "df.loc[87330, 'minutes'] = 131.0\n",
    "df.loc[88954, 'minutes'] = 92.0\n",
    "df.loc[89181, 'minutes'] = 106.0\n",
    "df.loc[95695, 'minutes'] = 110.0\n",
    "df.loc[96157, 'minutes'] = 86.0\n",
    "df.loc[112759, 'minutes'] = 176.0\n",
    "df.loc[113704, 'minutes'] = 78.0\n",
    "df.loc[113704, 'minutes'] = 78.0"
   ]
  },
  {
   "cell_type": "markdown",
   "metadata": {},
   "source": [
    "Analyzing match statistics is more complicated since we do not know in which range these values tipically reside and it is not possible to derive the real values from other matches. We will try now to analyze each attribute by applying data integration and understand which values are surely wrong values.\n",
    "\n",
    "l_ace and w_ace: all the values seems alright, the world record is 113 and our values are lower.\n",
    "\n",
    "w_df and l_df have a little portion of values that are very far away from the mean value. The maximum number of double faults in a match should registered in 1999 from Anna Kournikova and they were 31 double faults."
   ]
  },
  {
   "cell_type": "code",
   "execution_count": 575,
   "metadata": {},
   "outputs": [
    {
     "data": {
      "text/html": [
       "<div>\n",
       "<style scoped>\n",
       "    .dataframe tbody tr th:only-of-type {\n",
       "        vertical-align: middle;\n",
       "    }\n",
       "\n",
       "    .dataframe tbody tr th {\n",
       "        vertical-align: top;\n",
       "    }\n",
       "\n",
       "    .dataframe thead th {\n",
       "        text-align: right;\n",
       "    }\n",
       "</style>\n",
       "<table border=\"1\" class=\"dataframe\">\n",
       "  <thead>\n",
       "    <tr style=\"text-align: right;\">\n",
       "      <th></th>\n",
       "      <th>winner_name</th>\n",
       "      <th>loser_name</th>\n",
       "      <th>tourney_name</th>\n",
       "      <th>tourney_date</th>\n",
       "      <th>w_df</th>\n",
       "    </tr>\n",
       "  </thead>\n",
       "  <tbody>\n",
       "    <tr>\n",
       "      <th>99364</th>\n",
       "      <td>Su Wei Hsieh</td>\n",
       "      <td>Jaqueline Adina Cristian</td>\n",
       "      <td>Madrid</td>\n",
       "      <td>20210429.0</td>\n",
       "      <td>114.0</td>\n",
       "    </tr>\n",
       "    <tr>\n",
       "      <th>99567</th>\n",
       "      <td>Jule Niemeier</td>\n",
       "      <td>Shelby Rogers</td>\n",
       "      <td>Strasbourg</td>\n",
       "      <td>20210524.0</td>\n",
       "      <td>72.0</td>\n",
       "    </tr>\n",
       "    <tr>\n",
       "      <th>99994</th>\n",
       "      <td>Kateryna Kozlova</td>\n",
       "      <td>Katarzyna Kawa</td>\n",
       "      <td>Gdynia</td>\n",
       "      <td>20210719.0</td>\n",
       "      <td>45.0</td>\n",
       "    </tr>\n",
       "  </tbody>\n",
       "</table>\n",
       "</div>"
      ],
      "text/plain": [
       "            winner_name                loser_name tourney_name  tourney_date  \\\n",
       "99364      Su Wei Hsieh  Jaqueline Adina Cristian       Madrid    20210429.0   \n",
       "99567     Jule Niemeier             Shelby Rogers   Strasbourg    20210524.0   \n",
       "99994  Kateryna Kozlova            Katarzyna Kawa       Gdynia    20210719.0   \n",
       "\n",
       "        w_df  \n",
       "99364  114.0  \n",
       "99567   72.0  \n",
       "99994   45.0  "
      ]
     },
     "execution_count": 575,
     "metadata": {},
     "output_type": "execute_result"
    }
   ],
   "source": [
    "df[df['w_df'] > 30][['winner_name', 'loser_name', 'tourney_name', 'tourney_date', 'w_df']]"
   ]
  },
  {
   "cell_type": "markdown",
   "metadata": {},
   "source": [
    "Match 99364 has number of faults = 7 (https://it.tennistemple.com/madrid-2021-t4709/hsieh-cristian-m5480837)\n",
    "\n",
    "Match 99567 has number of faults = 7 (https://www.sofascore.com/rogers-niemeier/jZqsbqNb)\n",
    "\n",
    "Match 99994 has number of faults = 5 (https://www.sofascore.com/kozlova-kawa/RZqsIwu)\n"
   ]
  },
  {
   "cell_type": "code",
   "execution_count": 576,
   "metadata": {},
   "outputs": [],
   "source": [
    "df.loc[99364, 'w_df'] = 7\n",
    "df.loc[99567, 'w_df'] = 7\n",
    "df.loc[99994, 'w_df'] = 5"
   ]
  },
  {
   "cell_type": "markdown",
   "metadata": {},
   "source": [
    "Same thing for loser double faults"
   ]
  },
  {
   "cell_type": "code",
   "execution_count": 577,
   "metadata": {},
   "outputs": [
    {
     "data": {
      "text/html": [
       "<div>\n",
       "<style scoped>\n",
       "    .dataframe tbody tr th:only-of-type {\n",
       "        vertical-align: middle;\n",
       "    }\n",
       "\n",
       "    .dataframe tbody tr th {\n",
       "        vertical-align: top;\n",
       "    }\n",
       "\n",
       "    .dataframe thead th {\n",
       "        text-align: right;\n",
       "    }\n",
       "</style>\n",
       "<table border=\"1\" class=\"dataframe\">\n",
       "  <thead>\n",
       "    <tr style=\"text-align: right;\">\n",
       "      <th></th>\n",
       "      <th>winner_name</th>\n",
       "      <th>loser_name</th>\n",
       "      <th>tourney_name</th>\n",
       "      <th>tourney_date</th>\n",
       "      <th>l_df</th>\n",
       "    </tr>\n",
       "  </thead>\n",
       "  <tbody>\n",
       "    <tr>\n",
       "      <th>86238</th>\n",
       "      <td>Anastasiya Tursunova</td>\n",
       "      <td>Nethmi Himashi Waduge</td>\n",
       "      <td>Fed Cup G2 RR: SRI vs TJK</td>\n",
       "      <td>20170720.0</td>\n",
       "      <td>31.0</td>\n",
       "    </tr>\n",
       "    <tr>\n",
       "      <th>99364</th>\n",
       "      <td>Su Wei Hsieh</td>\n",
       "      <td>Jaqueline Adina Cristian</td>\n",
       "      <td>Madrid</td>\n",
       "      <td>20210429.0</td>\n",
       "      <td>114.0</td>\n",
       "    </tr>\n",
       "    <tr>\n",
       "      <th>99384</th>\n",
       "      <td>Petra Martic</td>\n",
       "      <td>Jessica Pegula</td>\n",
       "      <td>Rome</td>\n",
       "      <td>20210510.0</td>\n",
       "      <td>40.0</td>\n",
       "    </tr>\n",
       "    <tr>\n",
       "      <th>99994</th>\n",
       "      <td>Kateryna Kozlova</td>\n",
       "      <td>Katarzyna Kawa</td>\n",
       "      <td>Gdynia</td>\n",
       "      <td>20210719.0</td>\n",
       "      <td>36.0</td>\n",
       "    </tr>\n",
       "  </tbody>\n",
       "</table>\n",
       "</div>"
      ],
      "text/plain": [
       "                winner_name                loser_name  \\\n",
       "86238  Anastasiya Tursunova     Nethmi Himashi Waduge   \n",
       "99364          Su Wei Hsieh  Jaqueline Adina Cristian   \n",
       "99384          Petra Martic            Jessica Pegula   \n",
       "99994      Kateryna Kozlova            Katarzyna Kawa   \n",
       "\n",
       "                    tourney_name  tourney_date   l_df  \n",
       "86238  Fed Cup G2 RR: SRI vs TJK    20170720.0   31.0  \n",
       "99364                     Madrid    20210429.0  114.0  \n",
       "99384                       Rome    20210510.0   40.0  \n",
       "99994                     Gdynia    20210719.0   36.0  "
      ]
     },
     "execution_count": 577,
     "metadata": {},
     "output_type": "execute_result"
    }
   ],
   "source": [
    "df[df['l_df'] > 30][['winner_name', 'loser_name', 'tourney_name', 'tourney_date', 'l_df']]"
   ]
  },
  {
   "cell_type": "markdown",
   "metadata": {},
   "source": [
    "Match 99364 has loser number of faults = 6 (https://www.sofascore.com/cristian-hsieh/LDhsifE)\n",
    "\n",
    "Match 99384 has loser number of faults = 4 (https://www.sofascore.com/pegula-martic/eUhsJWr)\n",
    "\n",
    "Match 99994 has loser number of faults = 4 (https://www.sofascore.com/kozlova-kawa/RZqsIwu)\n"
   ]
  },
  {
   "cell_type": "code",
   "execution_count": 578,
   "metadata": {
    "tags": []
   },
   "outputs": [],
   "source": [
    "df.loc[99364, 'l_df'] = 6\n",
    "df.loc[99384, 'l_df'] = 4\n",
    "df.loc[99994, 'l_df'] = 4"
   ]
  },
  {
   "cell_type": "markdown",
   "metadata": {},
   "source": [
    "Cheking **w_1stIn**: we decided to check values above 200."
   ]
  },
  {
   "cell_type": "code",
   "execution_count": 579,
   "metadata": {},
   "outputs": [
    {
     "data": {
      "text/html": [
       "<div>\n",
       "<style scoped>\n",
       "    .dataframe tbody tr th:only-of-type {\n",
       "        vertical-align: middle;\n",
       "    }\n",
       "\n",
       "    .dataframe tbody tr th {\n",
       "        vertical-align: top;\n",
       "    }\n",
       "\n",
       "    .dataframe thead th {\n",
       "        text-align: right;\n",
       "    }\n",
       "</style>\n",
       "<table border=\"1\" class=\"dataframe\">\n",
       "  <thead>\n",
       "    <tr style=\"text-align: right;\">\n",
       "      <th></th>\n",
       "      <th>winner_name</th>\n",
       "      <th>loser_name</th>\n",
       "      <th>tourney_name</th>\n",
       "      <th>tourney_date</th>\n",
       "      <th>w_1stIn</th>\n",
       "    </tr>\n",
       "  </thead>\n",
       "  <tbody>\n",
       "    <tr>\n",
       "      <th>99364</th>\n",
       "      <td>Su Wei Hsieh</td>\n",
       "      <td>Jaqueline Adina Cristian</td>\n",
       "      <td>Madrid</td>\n",
       "      <td>20210429.0</td>\n",
       "      <td>1330.0</td>\n",
       "    </tr>\n",
       "    <tr>\n",
       "      <th>99384</th>\n",
       "      <td>Petra Martic</td>\n",
       "      <td>Jessica Pegula</td>\n",
       "      <td>Rome</td>\n",
       "      <td>20210510.0</td>\n",
       "      <td>320.0</td>\n",
       "    </tr>\n",
       "    <tr>\n",
       "      <th>99567</th>\n",
       "      <td>Jule Niemeier</td>\n",
       "      <td>Shelby Rogers</td>\n",
       "      <td>Strasbourg</td>\n",
       "      <td>20210524.0</td>\n",
       "      <td>384.0</td>\n",
       "    </tr>\n",
       "    <tr>\n",
       "      <th>99631</th>\n",
       "      <td>Alison Riske</td>\n",
       "      <td>Xiyu Wang</td>\n",
       "      <td>Nottingham</td>\n",
       "      <td>20210607.0</td>\n",
       "      <td>276.0</td>\n",
       "    </tr>\n",
       "    <tr>\n",
       "      <th>99994</th>\n",
       "      <td>Kateryna Kozlova</td>\n",
       "      <td>Katarzyna Kawa</td>\n",
       "      <td>Gdynia</td>\n",
       "      <td>20210719.0</td>\n",
       "      <td>702.0</td>\n",
       "    </tr>\n",
       "  </tbody>\n",
       "</table>\n",
       "</div>"
      ],
      "text/plain": [
       "            winner_name                loser_name tourney_name  tourney_date  \\\n",
       "99364      Su Wei Hsieh  Jaqueline Adina Cristian       Madrid    20210429.0   \n",
       "99384      Petra Martic            Jessica Pegula         Rome    20210510.0   \n",
       "99567     Jule Niemeier             Shelby Rogers   Strasbourg    20210524.0   \n",
       "99631      Alison Riske                 Xiyu Wang   Nottingham    20210607.0   \n",
       "99994  Kateryna Kozlova            Katarzyna Kawa       Gdynia    20210719.0   \n",
       "\n",
       "       w_1stIn  \n",
       "99364   1330.0  \n",
       "99384    320.0  \n",
       "99567    384.0  \n",
       "99631    276.0  \n",
       "99994    702.0  "
      ]
     },
     "execution_count": 579,
     "metadata": {},
     "output_type": "execute_result"
    }
   ],
   "source": [
    "df[df['w_1stIn'] > 200][['winner_name', 'loser_name', 'tourney_name', 'tourney_date', 'w_1stIn']]"
   ]
  },
  {
   "cell_type": "markdown",
   "metadata": {},
   "source": [
    "We cannot integrate Match 99364 winner first in: we replace it with the mean."
   ]
  },
  {
   "cell_type": "code",
   "execution_count": 580,
   "metadata": {},
   "outputs": [],
   "source": [
    "mean_w_1stIn = int(df[df['w_1stIn'] != 1330]['w_1stIn'].mean())\n",
    "df.loc[99364, 'w_1stIn'] = mean_w_1stIn"
   ]
  },
  {
   "cell_type": "markdown",
   "metadata": {},
   "source": [
    "Match 99384 has 33 winner first in (https://www.sofascore.com/pegula-martic/eUhsJWr)\n",
    "\n",
    "Match 99567 has 50 winner first in (https://www.sofascore.com/rogers-niemeier/jZqsbqNb)\n",
    "\n",
    "Match 99631 has 69 winner first in (https://www.sofascore.com/wang-xiy-riske/JYhsYmOb)\n",
    "\n",
    "Match 99994 has 78 winner first in (https://www.sofascore.com/kozlova-kawa/RZqsIwu)"
   ]
  },
  {
   "cell_type": "code",
   "execution_count": 581,
   "metadata": {},
   "outputs": [],
   "source": [
    "df.loc[99384, 'w_1stIn'] = 33\n",
    "df.loc[99567, 'w_1stIn'] = 50\n",
    "df.loc[99631, 'w_1stIn'] = 69\n",
    "df.loc[99994, 'w_1stIn'] = 78"
   ]
  },
  {
   "cell_type": "markdown",
   "metadata": {},
   "source": [
    "Cheking **l_1stIn**: we decided to check values above 200."
   ]
  },
  {
   "cell_type": "code",
   "execution_count": 582,
   "metadata": {},
   "outputs": [
    {
     "data": {
      "text/html": [
       "<div>\n",
       "<style scoped>\n",
       "    .dataframe tbody tr th:only-of-type {\n",
       "        vertical-align: middle;\n",
       "    }\n",
       "\n",
       "    .dataframe tbody tr th {\n",
       "        vertical-align: top;\n",
       "    }\n",
       "\n",
       "    .dataframe thead th {\n",
       "        text-align: right;\n",
       "    }\n",
       "</style>\n",
       "<table border=\"1\" class=\"dataframe\">\n",
       "  <thead>\n",
       "    <tr style=\"text-align: right;\">\n",
       "      <th></th>\n",
       "      <th>winner_name</th>\n",
       "      <th>loser_name</th>\n",
       "      <th>tourney_name</th>\n",
       "      <th>tourney_date</th>\n",
       "      <th>l_1stIn</th>\n",
       "    </tr>\n",
       "  </thead>\n",
       "  <tbody>\n",
       "    <tr>\n",
       "      <th>9679</th>\n",
       "      <td>Kevin Anderson</td>\n",
       "      <td>John Isner</td>\n",
       "      <td>Wimbledon</td>\n",
       "      <td>20180702.0</td>\n",
       "      <td>218.0</td>\n",
       "    </tr>\n",
       "    <tr>\n",
       "      <th>99364</th>\n",
       "      <td>Su Wei Hsieh</td>\n",
       "      <td>Jaqueline Adina Cristian</td>\n",
       "      <td>Madrid</td>\n",
       "      <td>20210429.0</td>\n",
       "      <td>893.0</td>\n",
       "    </tr>\n",
       "    <tr>\n",
       "      <th>99384</th>\n",
       "      <td>Petra Martic</td>\n",
       "      <td>Jessica Pegula</td>\n",
       "      <td>Rome</td>\n",
       "      <td>20210510.0</td>\n",
       "      <td>420.0</td>\n",
       "    </tr>\n",
       "    <tr>\n",
       "      <th>99567</th>\n",
       "      <td>Jule Niemeier</td>\n",
       "      <td>Shelby Rogers</td>\n",
       "      <td>Strasbourg</td>\n",
       "      <td>20210524.0</td>\n",
       "      <td>504.0</td>\n",
       "    </tr>\n",
       "    <tr>\n",
       "      <th>99631</th>\n",
       "      <td>Alison Riske</td>\n",
       "      <td>Xiyu Wang</td>\n",
       "      <td>Nottingham</td>\n",
       "      <td>20210607.0</td>\n",
       "      <td>320.0</td>\n",
       "    </tr>\n",
       "    <tr>\n",
       "      <th>99994</th>\n",
       "      <td>Kateryna Kozlova</td>\n",
       "      <td>Katarzyna Kawa</td>\n",
       "      <td>Gdynia</td>\n",
       "      <td>20210719.0</td>\n",
       "      <td>774.0</td>\n",
       "    </tr>\n",
       "  </tbody>\n",
       "</table>\n",
       "</div>"
      ],
      "text/plain": [
       "            winner_name                loser_name tourney_name  tourney_date  \\\n",
       "9679     Kevin Anderson                John Isner    Wimbledon    20180702.0   \n",
       "99364      Su Wei Hsieh  Jaqueline Adina Cristian       Madrid    20210429.0   \n",
       "99384      Petra Martic            Jessica Pegula         Rome    20210510.0   \n",
       "99567     Jule Niemeier             Shelby Rogers   Strasbourg    20210524.0   \n",
       "99631      Alison Riske                 Xiyu Wang   Nottingham    20210607.0   \n",
       "99994  Kateryna Kozlova            Katarzyna Kawa       Gdynia    20210719.0   \n",
       "\n",
       "       l_1stIn  \n",
       "9679     218.0  \n",
       "99364    893.0  \n",
       "99384    420.0  \n",
       "99567    504.0  \n",
       "99631    320.0  \n",
       "99994    774.0  "
      ]
     },
     "execution_count": 582,
     "metadata": {},
     "output_type": "execute_result"
    }
   ],
   "source": [
    "df[df['l_1stIn'] > 200][['winner_name', 'loser_name', 'tourney_name', 'tourney_date', 'l_1stIn']]"
   ]
  },
  {
   "cell_type": "markdown",
   "metadata": {},
   "source": [
    "Match 9679 has 218 loser first in so t is correct."
   ]
  },
  {
   "cell_type": "markdown",
   "metadata": {},
   "source": [
    "We cannot integrate Match 99364 loser first in: we replace it with the mean."
   ]
  },
  {
   "cell_type": "code",
   "execution_count": 583,
   "metadata": {
    "tags": []
   },
   "outputs": [],
   "source": [
    "mean_l_1stIn = int(df[df['l_1stIn'] != 1330]['l_1stIn'].mean())\n",
    "df.loc[99364, 'l_1stIn'] = mean_l_1stIn"
   ]
  },
  {
   "cell_type": "markdown",
   "metadata": {},
   "source": [
    "Match 99384 has 44 loser first in (https://www.sofascore.com/pegula-martic/eUhsJWr)\n",
    "\n",
    "Match 99567 has 60 loser first in (https://www.sofascore.com/rogers-niemeier/jZqsbqNb)\n",
    "\n",
    "Match 99631 has 85 loser first in (https://www.sofascore.com/wang-xiy-riske/JYhsYmOb)\n",
    "\n",
    "Match 99994 has 87 loser first in (https://www.sofascore.com/kozlova-kawa/RZqsIwu)"
   ]
  },
  {
   "cell_type": "code",
   "execution_count": 584,
   "metadata": {},
   "outputs": [],
   "source": [
    "df.loc[99384, 'w_1stIn'] = 44\n",
    "df.loc[99567, 'w_1stIn'] = 60\n",
    "df.loc[99631, 'w_1stIn'] = 85\n",
    "df.loc[99994, 'w_1stIn'] = 87"
   ]
  },
  {
   "cell_type": "markdown",
   "metadata": {},
   "source": [
    " Checking **w_svpt**: threshold 250."
   ]
  },
  {
   "cell_type": "code",
   "execution_count": 585,
   "metadata": {},
   "outputs": [
    {
     "data": {
      "text/html": [
       "<div>\n",
       "<style scoped>\n",
       "    .dataframe tbody tr th:only-of-type {\n",
       "        vertical-align: middle;\n",
       "    }\n",
       "\n",
       "    .dataframe tbody tr th {\n",
       "        vertical-align: top;\n",
       "    }\n",
       "\n",
       "    .dataframe thead th {\n",
       "        text-align: right;\n",
       "    }\n",
       "</style>\n",
       "<table border=\"1\" class=\"dataframe\">\n",
       "  <thead>\n",
       "    <tr style=\"text-align: right;\">\n",
       "      <th></th>\n",
       "      <th>winner_name</th>\n",
       "      <th>loser_name</th>\n",
       "      <th>tourney_name</th>\n",
       "      <th>tourney_date</th>\n",
       "      <th>w_svpt</th>\n",
       "    </tr>\n",
       "  </thead>\n",
       "  <tbody>\n",
       "    <tr>\n",
       "      <th>9679</th>\n",
       "      <td>Kevin Anderson</td>\n",
       "      <td>John Isner</td>\n",
       "      <td>Wimbledon</td>\n",
       "      <td>20180702.0</td>\n",
       "      <td>278.0</td>\n",
       "    </tr>\n",
       "    <tr>\n",
       "      <th>99364</th>\n",
       "      <td>Su Wei Hsieh</td>\n",
       "      <td>Jaqueline Adina Cristian</td>\n",
       "      <td>Madrid</td>\n",
       "      <td>20210429.0</td>\n",
       "      <td>1957.0</td>\n",
       "    </tr>\n",
       "    <tr>\n",
       "      <th>99384</th>\n",
       "      <td>Petra Martic</td>\n",
       "      <td>Jessica Pegula</td>\n",
       "      <td>Rome</td>\n",
       "      <td>20210510.0</td>\n",
       "      <td>600.0</td>\n",
       "    </tr>\n",
       "    <tr>\n",
       "      <th>99567</th>\n",
       "      <td>Jule Niemeier</td>\n",
       "      <td>Shelby Rogers</td>\n",
       "      <td>Strasbourg</td>\n",
       "      <td>20210524.0</td>\n",
       "      <td>640.0</td>\n",
       "    </tr>\n",
       "    <tr>\n",
       "      <th>99631</th>\n",
       "      <td>Alison Riske</td>\n",
       "      <td>Xiyu Wang</td>\n",
       "      <td>Nottingham</td>\n",
       "      <td>20210607.0</td>\n",
       "      <td>400.0</td>\n",
       "    </tr>\n",
       "    <tr>\n",
       "      <th>99994</th>\n",
       "      <td>Kateryna Kozlova</td>\n",
       "      <td>Katarzyna Kawa</td>\n",
       "      <td>Gdynia</td>\n",
       "      <td>20210719.0</td>\n",
       "      <td>918.0</td>\n",
       "    </tr>\n",
       "  </tbody>\n",
       "</table>\n",
       "</div>"
      ],
      "text/plain": [
       "            winner_name                loser_name tourney_name  tourney_date  \\\n",
       "9679     Kevin Anderson                John Isner    Wimbledon    20180702.0   \n",
       "99364      Su Wei Hsieh  Jaqueline Adina Cristian       Madrid    20210429.0   \n",
       "99384      Petra Martic            Jessica Pegula         Rome    20210510.0   \n",
       "99567     Jule Niemeier             Shelby Rogers   Strasbourg    20210524.0   \n",
       "99631      Alison Riske                 Xiyu Wang   Nottingham    20210607.0   \n",
       "99994  Kateryna Kozlova            Katarzyna Kawa       Gdynia    20210719.0   \n",
       "\n",
       "       w_svpt  \n",
       "9679    278.0  \n",
       "99364  1957.0  \n",
       "99384   600.0  \n",
       "99567   640.0  \n",
       "99631   400.0  \n",
       "99994   918.0  "
      ]
     },
     "execution_count": 585,
     "metadata": {},
     "output_type": "execute_result"
    }
   ],
   "source": [
    "df[df['w_svpt'] > 250][['winner_name', 'loser_name', 'tourney_name', 'tourney_date', 'w_svpt']]"
   ]
  },
  {
   "cell_type": "markdown",
   "metadata": {},
   "source": [
    "Match 9679 is correctly identified with 278 winner service points. The other matches are always the same wrong matches. (https://www.sofascore.com/it/isner-anderson/llgsvxg)"
   ]
  },
  {
   "cell_type": "markdown",
   "metadata": {},
   "source": [
    "We cannot integrate Match 99364 loser first in: we replace it with the mean."
   ]
  },
  {
   "cell_type": "code",
   "execution_count": 586,
   "metadata": {
    "tags": []
   },
   "outputs": [],
   "source": [
    "mean_l_1stIn = int(df[df['w_svpt'] != 1330]['l_1stIn'].mean())\n",
    "df.loc[99364, 'w_svpt'] = mean_l_1stIn"
   ]
  },
  {
   "cell_type": "markdown",
   "metadata": {},
   "source": [
    "Match 99384 has 44 loser first in (https://www.sofascore.com/pegula-martic/eUhsJWr)\n",
    "\n",
    "Match 99567 has 60 loser first in (https://www.sofascore.com/rogers-niemeier/jZqsbqNb)\n",
    "\n",
    "Match 99631 has 85 loser first in (https://www.sofascore.com/wang-xiy-riske/JYhsYmOb)\n",
    "\n",
    "Match 99994 has 87 loser first in (https://www.sofascore.com/kozlova-kawa/RZqsIwu)"
   ]
  },
  {
   "cell_type": "code",
   "execution_count": 587,
   "metadata": {},
   "outputs": [],
   "source": [
    "df.loc[99384, 'w_svpt'] = 44\n",
    "df.loc[99567, 'w_svpt'] = 60\n",
    "df.loc[99631, 'w_svpt'] = 85\n",
    "df.loc[99994, 'w_svpt'] = 87"
   ]
  },
  {
   "cell_type": "markdown",
   "metadata": {},
   "source": [
    "**Since these matches have a lot og outliers it would be be great if we decided to delete the matches rows.**"
   ]
  },
  {
   "cell_type": "code",
   "execution_count": 588,
   "metadata": {},
   "outputs": [
    {
     "data": {
      "text/plain": [
       "185819"
      ]
     },
     "execution_count": 588,
     "metadata": {},
     "output_type": "execute_result"
    }
   ],
   "source": [
    "df.shape[0]"
   ]
  },
  {
   "cell_type": "code",
   "execution_count": 589,
   "metadata": {},
   "outputs": [],
   "source": [
    "df.drop(df[(df['winner_name'] == 'Su Wei Hsieh') & (df['loser_name'] == 'Jaqueline Adina Cristian') & (df['tourney_name'] == 'Madrid') & (df['tourney_date'] == 20210429.0)].index, inplace=True)\n",
    "df.drop(df[(df['winner_name'] == 'Petra Martic') & (df['loser_name'] == 'Jessica Pegula') & (df['tourney_name'] == 'Rome') & (df['tourney_date'] == 20210510.0)].index, inplace=True)\n",
    "df.drop(df[(df['winner_name'] == 'Jule Niemeier') & (df['loser_name'] == 'Shelby Rogers') & (df['tourney_name'] == 'Strasbourg') & (df['tourney_date'] == 20210524.0)].index, inplace=True)\n",
    "df.drop(df[(df['winner_name'] == 'Alison Riske') & (df['loser_name'] == 'Xiyu Wang') & (df['tourney_name'] == 'Nottingham') & (df['tourney_date'] == 20210607.0)].index, inplace=True)\n",
    "df.drop(df[(df['winner_name'] == 'Kateryna Kozlova') & (df['loser_name'] == 'Katarzyna Kawa') & (df['tourney_name'] == 'Gdynia') & (df['tourney_date'] == 20210719.0)].index, inplace=True)"
   ]
  },
  {
   "cell_type": "code",
   "execution_count": 590,
   "metadata": {},
   "outputs": [
    {
     "data": {
      "text/plain": [
       "185814"
      ]
     },
     "execution_count": 590,
     "metadata": {},
     "output_type": "execute_result"
    }
   ],
   "source": [
    "df.shape[0]"
   ]
  },
  {
   "cell_type": "markdown",
   "metadata": {},
   "source": [
    "Let's print again boxplots to see if there are still some very far away values for some attribute."
   ]
  },
  {
   "cell_type": "code",
   "execution_count": 591,
   "metadata": {
    "tags": []
   },
   "outputs": [
    {
     "data": {
      "image/png": "[encoded data removed]",
      "text/plain": [
       "<Figure size 1440x4320 with 25 Axes>"
      ]
     },
     "metadata": {
      "needs_background": "light"
     },
     "output_type": "display_data"
    }
   ],
   "source": [
    "# Set up a grid of plots:\n",
    "fig = plt.figure(figsize=(20, 60)) \n",
    "fig_dims = (8,4)\n",
    "fig.subplots_adjust(hspace=0.2, wspace=0.2)\n",
    "\n",
    "j = 0\n",
    "i = 0\n",
    "\n",
    "for x in df_outliers.columns:\n",
    "        \n",
    "    plt.subplot2grid(fig_dims, (i, j))\n",
    "    df.boxplot(column=x)\n",
    "    \n",
    "    j = j+1;\n",
    "    \n",
    "    if (j == 4):\n",
    "        j = 0;\n",
    "        i = i+1\n",
    "\n",
    "plt.show()   "
   ]
  },
  {
   "cell_type": "markdown",
   "metadata": {},
   "source": [
    "Let's check last strange values that can be easily idetinfied in the boxplot"
   ]
  },
  {
   "cell_type": "markdown",
   "metadata": {},
   "source": [
    "**w_ace**"
   ]
  },
  {
   "cell_type": "code",
   "execution_count": 592,
   "metadata": {},
   "outputs": [
    {
     "data": {
      "text/html": [
       "<div>\n",
       "<style scoped>\n",
       "    .dataframe tbody tr th:only-of-type {\n",
       "        vertical-align: middle;\n",
       "    }\n",
       "\n",
       "    .dataframe tbody tr th {\n",
       "        vertical-align: top;\n",
       "    }\n",
       "\n",
       "    .dataframe thead th {\n",
       "        text-align: right;\n",
       "    }\n",
       "</style>\n",
       "<table border=\"1\" class=\"dataframe\">\n",
       "  <thead>\n",
       "    <tr style=\"text-align: right;\">\n",
       "      <th></th>\n",
       "      <th>winner_name</th>\n",
       "      <th>loser_name</th>\n",
       "      <th>tourney_name</th>\n",
       "      <th>tourney_date</th>\n",
       "      <th>w_ace</th>\n",
       "    </tr>\n",
       "  </thead>\n",
       "  <tbody>\n",
       "    <tr>\n",
       "      <th>33343</th>\n",
       "      <td>Ivo Karlovic</td>\n",
       "      <td>Horacio Zeballos</td>\n",
       "      <td>Australian Open</td>\n",
       "      <td>20170116.0</td>\n",
       "      <td>75.0</td>\n",
       "    </tr>\n",
       "  </tbody>\n",
       "</table>\n",
       "</div>"
      ],
      "text/plain": [
       "        winner_name        loser_name     tourney_name  tourney_date  w_ace\n",
       "33343  Ivo Karlovic  Horacio Zeballos  Australian Open    20170116.0   75.0"
      ]
     },
     "execution_count": 592,
     "metadata": {},
     "output_type": "execute_result"
    }
   ],
   "source": [
    "df[df['w_ace']>70][['winner_name', 'loser_name', 'tourney_name', 'tourney_date', 'w_ace']]"
   ]
  },
  {
   "cell_type": "markdown",
   "metadata": {},
   "source": [
    "It's a correct values (https://www.sofascore.com/it/squadra/tennis/zeballos-horacio/16160)"
   ]
  },
  {
   "cell_type": "markdown",
   "metadata": {
    "tags": []
   },
   "source": [
    "**w_df**"
   ]
  },
  {
   "cell_type": "code",
   "execution_count": 593,
   "metadata": {
    "tags": []
   },
   "outputs": [
    {
     "data": {
      "text/html": [
       "<div>\n",
       "<style scoped>\n",
       "    .dataframe tbody tr th:only-of-type {\n",
       "        vertical-align: middle;\n",
       "    }\n",
       "\n",
       "    .dataframe tbody tr th {\n",
       "        vertical-align: top;\n",
       "    }\n",
       "\n",
       "    .dataframe thead th {\n",
       "        text-align: right;\n",
       "    }\n",
       "</style>\n",
       "<table border=\"1\" class=\"dataframe\">\n",
       "  <thead>\n",
       "    <tr style=\"text-align: right;\">\n",
       "      <th></th>\n",
       "      <th>winner_name</th>\n",
       "      <th>loser_name</th>\n",
       "      <th>tourney_name</th>\n",
       "      <th>tourney_date</th>\n",
       "      <th>w_df</th>\n",
       "    </tr>\n",
       "  </thead>\n",
       "  <tbody>\n",
       "    <tr>\n",
       "      <th>4659</th>\n",
       "      <td>Alexander Bublik</td>\n",
       "      <td>Thomas Fabbiano</td>\n",
       "      <td>US Open</td>\n",
       "      <td>20190826.0</td>\n",
       "      <td>26.0</td>\n",
       "    </tr>\n",
       "  </tbody>\n",
       "</table>\n",
       "</div>"
      ],
      "text/plain": [
       "           winner_name       loser_name tourney_name  tourney_date  w_df\n",
       "4659  Alexander Bublik  Thomas Fabbiano      US Open    20190826.0  26.0"
      ]
     },
     "execution_count": 593,
     "metadata": {},
     "output_type": "execute_result"
    }
   ],
   "source": [
    "df[df['w_df']>25][['winner_name', 'loser_name', 'tourney_name', 'tourney_date', 'w_df']]"
   ]
  },
  {
   "cell_type": "markdown",
   "metadata": {},
   "source": [
    "Correct value ✔ (https://www.sofascore.com/it/fabbiano-bublik/pFgsFupb)"
   ]
  },
  {
   "cell_type": "markdown",
   "metadata": {
    "tags": []
   },
   "source": [
    "**w_1stWon**"
   ]
  },
  {
   "cell_type": "code",
   "execution_count": 594,
   "metadata": {
    "tags": []
   },
   "outputs": [
    {
     "data": {
      "text/html": [
       "<div>\n",
       "<style scoped>\n",
       "    .dataframe tbody tr th:only-of-type {\n",
       "        vertical-align: middle;\n",
       "    }\n",
       "\n",
       "    .dataframe tbody tr th {\n",
       "        vertical-align: top;\n",
       "    }\n",
       "\n",
       "    .dataframe thead th {\n",
       "        text-align: right;\n",
       "    }\n",
       "</style>\n",
       "<table border=\"1\" class=\"dataframe\">\n",
       "  <thead>\n",
       "    <tr style=\"text-align: right;\">\n",
       "      <th></th>\n",
       "      <th>winner_name</th>\n",
       "      <th>loser_name</th>\n",
       "      <th>tourney_name</th>\n",
       "      <th>tourney_date</th>\n",
       "      <th>w_1stWon</th>\n",
       "    </tr>\n",
       "  </thead>\n",
       "  <tbody>\n",
       "    <tr>\n",
       "      <th>9679</th>\n",
       "      <td>Kevin Anderson</td>\n",
       "      <td>John Isner</td>\n",
       "      <td>Wimbledon</td>\n",
       "      <td>20180702.0</td>\n",
       "      <td>166.0</td>\n",
       "    </tr>\n",
       "  </tbody>\n",
       "</table>\n",
       "</div>"
      ],
      "text/plain": [
       "         winner_name  loser_name tourney_name  tourney_date  w_1stWon\n",
       "9679  Kevin Anderson  John Isner    Wimbledon    20180702.0     166.0"
      ]
     },
     "execution_count": 594,
     "metadata": {},
     "output_type": "execute_result"
    }
   ],
   "source": [
    "df[df['w_1stWon']>150][['winner_name', 'loser_name', 'tourney_name', 'tourney_date', 'w_1stWon']]"
   ]
  },
  {
   "cell_type": "markdown",
   "metadata": {},
   "source": [
    "Correct value ✔ (https://www.sofascore.com/isner-anderson/llgsvxg)"
   ]
  },
  {
   "cell_type": "markdown",
   "metadata": {
    "tags": []
   },
   "source": [
    "### Variables Pairwise Correlation"
   ]
  },
  {
   "cell_type": "code",
   "execution_count": 595,
   "metadata": {},
   "outputs": [],
   "source": [
    "# compute correlation matrix\n",
    "corr_matrix = df.corr()"
   ]
  },
  {
   "cell_type": "markdown",
   "metadata": {},
   "source": [
    "Let's print the most correlated attributes:"
   ]
  },
  {
   "cell_type": "code",
   "execution_count": 596,
   "metadata": {},
   "outputs": [
    {
     "name": "stdout",
     "output_type": "stream",
     "text": [
      "draw_size tourney_spectators\n",
      "minutes w_svpt\n",
      "minutes l_svpt\n",
      "w_svpt w_1stIn\n",
      "w_1stIn w_1stWon\n",
      "w_SvGms l_SvGms\n",
      "w_bpSaved w_bpFaced\n",
      "l_svpt l_1stIn\n",
      "l_svpt l_1stWon\n",
      "l_1stIn l_1stWon\n",
      "l_bpSaved l_bpFaced\n",
      "tourney_spectators tourney_revenue\n"
     ]
    }
   ],
   "source": [
    "checked = []\n",
    "# for each element in the correlation_matrix\n",
    "for x in range(len(corr_matrix.columns)):\n",
    "    for y in range(len(corr_matrix.columns)):\n",
    "        #if its abs value is greater than 0.9 and the two attributes are not equal (elem on the diagonal)\n",
    "        if abs(corr_matrix.iloc[x,y]) >= 0.9 and x != y:\n",
    "            # since we check the entire matrix, we'll go trough the same pair twice.\n",
    "            # this if avoid to print the same correlation twice\n",
    "            if (corr_matrix.columns[y],corr_matrix.columns[x]) not in checked:\n",
    "                print(corr_matrix.columns[x],corr_matrix.columns[y])\n",
    "                checked.append((corr_matrix.columns[x],corr_matrix.columns[y]))"
   ]
  },
  {
   "cell_type": "markdown",
   "metadata": {},
   "source": [
    "Printing correlaton matrix:"
   ]
  },
  {
   "cell_type": "code",
   "execution_count": 597,
   "metadata": {},
   "outputs": [
    {
     "data": {
      "image/png": "[encoded data removed]",
      "text/plain": [
       "<Figure size 720x720 with 2 Axes>"
      ]
     },
     "metadata": {
      "needs_background": "light"
     },
     "output_type": "display_data"
    }
   ],
   "source": [
    "f = plt.figure(figsize=(10, 10))\n",
    "plt.matshow(corr_matrix, fignum=f.number)\n",
    "plt.xticks(range(df.select_dtypes(['number']).shape[1]), df.select_dtypes(['number']).columns, fontsize=14, rotation=90)\n",
    "plt.yticks(range(df.select_dtypes(['number']).shape[1]), df.select_dtypes(['number']).columns, fontsize=14)\n",
    "cb = plt.colorbar(shrink=0.8)\n",
    "cb.ax.tick_params(labelsize=14)\n",
    "plt.title('Correlation Matrix', fontsize=16);"
   ]
  },
  {
   "cell_type": "markdown",
   "metadata": {},
   "source": [
    "We noticed the high levels are focused between the match stats like the number of serve point, the number of aces etc..\n",
    "\n",
    "There are high correlation between tourney_spectators, tourney revenue and draw_size. This is resonable since many players tipically means bigger tourney and therefore more spectators and revenue."
   ]
  },
  {
   "cell_type": "code",
   "execution_count": 598,
   "metadata": {},
   "outputs": [
    {
     "data": {
      "image/png": "[encoded data removed]",
      "text/plain": [
       "<Figure size 1080x576 with 1 Axes>"
      ]
     },
     "metadata": {
      "needs_background": "light"
     },
     "output_type": "display_data"
    }
   ],
   "source": [
    "import random\n",
    "f = plt.figure(figsize=(15,8))\n",
    "\n",
    "for item in df[df['draw_size'].notnull()]['draw_size'].unique():\n",
    "    plt.scatter(df[df['draw_size'] == item]['tourney_spectators'], \n",
    "                df[df['draw_size'] == item]['tourney_revenue'], color=[random.random(), random.random(), random.random()], marker='*', label=item)\n",
    "\n",
    "plt.xlabel('tourney_spectators')\n",
    "plt.ylabel('tourney_revenue')\n",
    "plt.legend()\n",
    "plt.show()"
   ]
  },
  {
   "cell_type": "markdown",
   "metadata": {},
   "source": [
    "This plot is simply a test to see the correlation between *touney_spectators* and *tourney revenue*. It is to observe, especially with low values, the linear relationships between these two values. \n",
    "\n",
    "We colored the points based on the *draw_size* and as we see the points with highr draw_size resides in the upper section of the plot."
   ]
  },
  {
   "cell_type": "markdown",
   "metadata": {},
   "source": [
    "Printing the correlarion matrix values"
   ]
  },
  {
   "cell_type": "code",
   "execution_count": 599,
   "metadata": {},
   "outputs": [
    {
     "data": {
      "text/html": [
       "<div>\n",
       "<style scoped>\n",
       "    .dataframe tbody tr th:only-of-type {\n",
       "        vertical-align: middle;\n",
       "    }\n",
       "\n",
       "    .dataframe tbody tr th {\n",
       "        vertical-align: top;\n",
       "    }\n",
       "\n",
       "    .dataframe thead th {\n",
       "        text-align: right;\n",
       "    }\n",
       "</style>\n",
       "<table border=\"1\" class=\"dataframe\">\n",
       "  <thead>\n",
       "    <tr style=\"text-align: right;\">\n",
       "      <th></th>\n",
       "      <th>draw_size</th>\n",
       "      <th>tourney_date</th>\n",
       "      <th>match_num</th>\n",
       "      <th>best_of</th>\n",
       "      <th>minutes</th>\n",
       "      <th>w_ace</th>\n",
       "      <th>w_df</th>\n",
       "      <th>w_svpt</th>\n",
       "      <th>w_1stIn</th>\n",
       "      <th>w_1stWon</th>\n",
       "      <th>w_2ndWon</th>\n",
       "      <th>w_SvGms</th>\n",
       "      <th>w_bpSaved</th>\n",
       "      <th>w_bpFaced</th>\n",
       "      <th>l_ace</th>\n",
       "      <th>l_df</th>\n",
       "      <th>l_svpt</th>\n",
       "      <th>l_1stIn</th>\n",
       "      <th>l_1stWon</th>\n",
       "      <th>l_2ndWon</th>\n",
       "      <th>l_SvGms</th>\n",
       "      <th>l_bpSaved</th>\n",
       "      <th>l_bpFaced</th>\n",
       "      <th>winner_rank</th>\n",
       "      <th>winner_rank_points</th>\n",
       "      <th>loser_rank</th>\n",
       "      <th>loser_rank_points</th>\n",
       "      <th>tourney_spectators</th>\n",
       "      <th>tourney_revenue</th>\n",
       "    </tr>\n",
       "  </thead>\n",
       "  <tbody>\n",
       "    <tr>\n",
       "      <th>draw_size</th>\n",
       "      <td>1.000000</td>\n",
       "      <td>0.050836</td>\n",
       "      <td>0.270424</td>\n",
       "      <td>0.378015</td>\n",
       "      <td>0.150435</td>\n",
       "      <td>0.072137</td>\n",
       "      <td>0.045929</td>\n",
       "      <td>0.147775</td>\n",
       "      <td>0.147701</td>\n",
       "      <td>0.153558</td>\n",
       "      <td>0.101810</td>\n",
       "      <td>0.088473</td>\n",
       "      <td>0.063147</td>\n",
       "      <td>0.075690</td>\n",
       "      <td>0.064456</td>\n",
       "      <td>0.035016</td>\n",
       "      <td>0.151515</td>\n",
       "      <td>0.146934</td>\n",
       "      <td>0.129342</td>\n",
       "      <td>0.097319</td>\n",
       "      <td>0.079498</td>\n",
       "      <td>0.069122</td>\n",
       "      <td>0.097622</td>\n",
       "      <td>-0.317772</td>\n",
       "      <td>0.329694</td>\n",
       "      <td>-0.317045</td>\n",
       "      <td>0.284809</td>\n",
       "      <td>0.929383</td>\n",
       "      <td>0.842197</td>\n",
       "    </tr>\n",
       "    <tr>\n",
       "      <th>tourney_date</th>\n",
       "      <td>0.050836</td>\n",
       "      <td>1.000000</td>\n",
       "      <td>0.085262</td>\n",
       "      <td>-0.006757</td>\n",
       "      <td>0.080141</td>\n",
       "      <td>-0.013134</td>\n",
       "      <td>-0.009538</td>\n",
       "      <td>0.027596</td>\n",
       "      <td>0.041808</td>\n",
       "      <td>0.030417</td>\n",
       "      <td>-0.011364</td>\n",
       "      <td>0.027869</td>\n",
       "      <td>0.024303</td>\n",
       "      <td>0.032566</td>\n",
       "      <td>-0.010090</td>\n",
       "      <td>-0.027845</td>\n",
       "      <td>0.024716</td>\n",
       "      <td>0.044287</td>\n",
       "      <td>0.031882</td>\n",
       "      <td>-0.005897</td>\n",
       "      <td>0.025973</td>\n",
       "      <td>0.016492</td>\n",
       "      <td>0.017991</td>\n",
       "      <td>0.048722</td>\n",
       "      <td>0.021909</td>\n",
       "      <td>-0.016651</td>\n",
       "      <td>0.039806</td>\n",
       "      <td>0.066496</td>\n",
       "      <td>0.070424</td>\n",
       "    </tr>\n",
       "    <tr>\n",
       "      <th>match_num</th>\n",
       "      <td>0.270424</td>\n",
       "      <td>0.085262</td>\n",
       "      <td>1.000000</td>\n",
       "      <td>0.032237</td>\n",
       "      <td>0.004142</td>\n",
       "      <td>-0.024881</td>\n",
       "      <td>-0.020852</td>\n",
       "      <td>0.004329</td>\n",
       "      <td>0.011735</td>\n",
       "      <td>-0.000623</td>\n",
       "      <td>-0.009457</td>\n",
       "      <td>0.002464</td>\n",
       "      <td>0.010843</td>\n",
       "      <td>0.015999</td>\n",
       "      <td>-0.015003</td>\n",
       "      <td>-0.026009</td>\n",
       "      <td>0.000927</td>\n",
       "      <td>0.006192</td>\n",
       "      <td>-0.001328</td>\n",
       "      <td>-0.003250</td>\n",
       "      <td>-0.000317</td>\n",
       "      <td>0.002424</td>\n",
       "      <td>0.005043</td>\n",
       "      <td>-0.206547</td>\n",
       "      <td>0.127295</td>\n",
       "      <td>-0.193487</td>\n",
       "      <td>0.130011</td>\n",
       "      <td>0.271548</td>\n",
       "      <td>0.183383</td>\n",
       "    </tr>\n",
       "    <tr>\n",
       "      <th>best_of</th>\n",
       "      <td>0.378015</td>\n",
       "      <td>-0.006757</td>\n",
       "      <td>0.032237</td>\n",
       "      <td>1.000000</td>\n",
       "      <td>0.320517</td>\n",
       "      <td>0.247392</td>\n",
       "      <td>0.079774</td>\n",
       "      <td>0.320213</td>\n",
       "      <td>0.305965</td>\n",
       "      <td>0.368531</td>\n",
       "      <td>0.286138</td>\n",
       "      <td>0.390889</td>\n",
       "      <td>0.085219</td>\n",
       "      <td>0.082736</td>\n",
       "      <td>0.210316</td>\n",
       "      <td>0.079296</td>\n",
       "      <td>0.350441</td>\n",
       "      <td>0.321860</td>\n",
       "      <td>0.319923</td>\n",
       "      <td>0.264218</td>\n",
       "      <td>0.376745</td>\n",
       "      <td>0.139419</td>\n",
       "      <td>0.169801</td>\n",
       "      <td>-0.140255</td>\n",
       "      <td>0.253426</td>\n",
       "      <td>-0.128546</td>\n",
       "      <td>0.156866</td>\n",
       "      <td>0.344600</td>\n",
       "      <td>0.325279</td>\n",
       "    </tr>\n",
       "    <tr>\n",
       "      <th>minutes</th>\n",
       "      <td>0.150435</td>\n",
       "      <td>0.080141</td>\n",
       "      <td>0.004142</td>\n",
       "      <td>0.320517</td>\n",
       "      <td>1.000000</td>\n",
       "      <td>0.217306</td>\n",
       "      <td>0.379790</td>\n",
       "      <td>0.916289</td>\n",
       "      <td>0.855755</td>\n",
       "      <td>0.802967</td>\n",
       "      <td>0.658917</td>\n",
       "      <td>0.846104</td>\n",
       "      <td>0.509238</td>\n",
       "      <td>0.630445</td>\n",
       "      <td>0.355842</td>\n",
       "      <td>0.242459</td>\n",
       "      <td>0.908490</td>\n",
       "      <td>0.845986</td>\n",
       "      <td>0.827109</td>\n",
       "      <td>0.723949</td>\n",
       "      <td>0.851566</td>\n",
       "      <td>0.403955</td>\n",
       "      <td>0.393504</td>\n",
       "      <td>-0.090374</td>\n",
       "      <td>0.074284</td>\n",
       "      <td>-0.160539</td>\n",
       "      <td>0.125861</td>\n",
       "      <td>0.140078</td>\n",
       "      <td>0.128415</td>\n",
       "    </tr>\n",
       "    <tr>\n",
       "      <th>w_ace</th>\n",
       "      <td>0.072137</td>\n",
       "      <td>-0.013134</td>\n",
       "      <td>-0.024881</td>\n",
       "      <td>0.247392</td>\n",
       "      <td>0.217306</td>\n",
       "      <td>1.000000</td>\n",
       "      <td>0.133125</td>\n",
       "      <td>0.294978</td>\n",
       "      <td>0.250277</td>\n",
       "      <td>0.429027</td>\n",
       "      <td>0.298279</td>\n",
       "      <td>0.358300</td>\n",
       "      <td>0.008606</td>\n",
       "      <td>-0.050467</td>\n",
       "      <td>0.355373</td>\n",
       "      <td>0.023640</td>\n",
       "      <td>0.304987</td>\n",
       "      <td>0.289060</td>\n",
       "      <td>0.401018</td>\n",
       "      <td>0.335434</td>\n",
       "      <td>0.342977</td>\n",
       "      <td>0.011733</td>\n",
       "      <td>-0.123570</td>\n",
       "      <td>-0.051151</td>\n",
       "      <td>0.069598</td>\n",
       "      <td>-0.053295</td>\n",
       "      <td>0.044143</td>\n",
       "      <td>0.060612</td>\n",
       "      <td>0.065482</td>\n",
       "    </tr>\n",
       "    <tr>\n",
       "      <th>w_df</th>\n",
       "      <td>0.045929</td>\n",
       "      <td>-0.009538</td>\n",
       "      <td>-0.020852</td>\n",
       "      <td>0.079774</td>\n",
       "      <td>0.379790</td>\n",
       "      <td>0.133125</td>\n",
       "      <td>1.000000</td>\n",
       "      <td>0.443149</td>\n",
       "      <td>0.305670</td>\n",
       "      <td>0.292725</td>\n",
       "      <td>0.326948</td>\n",
       "      <td>0.346569</td>\n",
       "      <td>0.332066</td>\n",
       "      <td>0.412400</td>\n",
       "      <td>0.105872</td>\n",
       "      <td>0.232127</td>\n",
       "      <td>0.357635</td>\n",
       "      <td>0.308066</td>\n",
       "      <td>0.284939</td>\n",
       "      <td>0.285267</td>\n",
       "      <td>0.345923</td>\n",
       "      <td>0.154024</td>\n",
       "      <td>0.205524</td>\n",
       "      <td>0.008390</td>\n",
       "      <td>-0.005958</td>\n",
       "      <td>-0.026700</td>\n",
       "      <td>0.022687</td>\n",
       "      <td>0.044372</td>\n",
       "      <td>0.043908</td>\n",
       "    </tr>\n",
       "    <tr>\n",
       "      <th>w_svpt</th>\n",
       "      <td>0.147775</td>\n",
       "      <td>0.027596</td>\n",
       "      <td>0.004329</td>\n",
       "      <td>0.320213</td>\n",
       "      <td>0.916289</td>\n",
       "      <td>0.294978</td>\n",
       "      <td>0.443149</td>\n",
       "      <td>1.000000</td>\n",
       "      <td>0.932704</td>\n",
       "      <td>0.886323</td>\n",
       "      <td>0.710450</td>\n",
       "      <td>0.870812</td>\n",
       "      <td>0.616072</td>\n",
       "      <td>0.697392</td>\n",
       "      <td>0.417008</td>\n",
       "      <td>0.238736</td>\n",
       "      <td>0.855041</td>\n",
       "      <td>0.798739</td>\n",
       "      <td>0.818343</td>\n",
       "      <td>0.703992</td>\n",
       "      <td>0.859179</td>\n",
       "      <td>0.285074</td>\n",
       "      <td>0.269758</td>\n",
       "      <td>-0.056814</td>\n",
       "      <td>0.033144</td>\n",
       "      <td>-0.139509</td>\n",
       "      <td>0.099467</td>\n",
       "      <td>0.134537</td>\n",
       "      <td>0.126622</td>\n",
       "    </tr>\n",
       "    <tr>\n",
       "      <th>w_1stIn</th>\n",
       "      <td>0.147701</td>\n",
       "      <td>0.041808</td>\n",
       "      <td>0.011735</td>\n",
       "      <td>0.305965</td>\n",
       "      <td>0.855755</td>\n",
       "      <td>0.250277</td>\n",
       "      <td>0.305670</td>\n",
       "      <td>0.932704</td>\n",
       "      <td>1.000000</td>\n",
       "      <td>0.938260</td>\n",
       "      <td>0.469194</td>\n",
       "      <td>0.816900</td>\n",
       "      <td>0.569389</td>\n",
       "      <td>0.643599</td>\n",
       "      <td>0.397084</td>\n",
       "      <td>0.193655</td>\n",
       "      <td>0.801444</td>\n",
       "      <td>0.765639</td>\n",
       "      <td>0.780169</td>\n",
       "      <td>0.640072</td>\n",
       "      <td>0.805802</td>\n",
       "      <td>0.262362</td>\n",
       "      <td>0.246389</td>\n",
       "      <td>-0.067827</td>\n",
       "      <td>0.043807</td>\n",
       "      <td>-0.143686</td>\n",
       "      <td>0.107682</td>\n",
       "      <td>0.133169</td>\n",
       "      <td>0.125429</td>\n",
       "    </tr>\n",
       "    <tr>\n",
       "      <th>w_1stWon</th>\n",
       "      <td>0.153558</td>\n",
       "      <td>0.030417</td>\n",
       "      <td>-0.000623</td>\n",
       "      <td>0.368531</td>\n",
       "      <td>0.802967</td>\n",
       "      <td>0.429027</td>\n",
       "      <td>0.292725</td>\n",
       "      <td>0.886323</td>\n",
       "      <td>0.938260</td>\n",
       "      <td>1.000000</td>\n",
       "      <td>0.472248</td>\n",
       "      <td>0.828230</td>\n",
       "      <td>0.450363</td>\n",
       "      <td>0.465870</td>\n",
       "      <td>0.500671</td>\n",
       "      <td>0.157217</td>\n",
       "      <td>0.792862</td>\n",
       "      <td>0.754731</td>\n",
       "      <td>0.826043</td>\n",
       "      <td>0.682362</td>\n",
       "      <td>0.811560</td>\n",
       "      <td>0.217887</td>\n",
       "      <td>0.128744</td>\n",
       "      <td>-0.067720</td>\n",
       "      <td>0.062452</td>\n",
       "      <td>-0.128334</td>\n",
       "      <td>0.100170</td>\n",
       "      <td>0.136636</td>\n",
       "      <td>0.132703</td>\n",
       "    </tr>\n",
       "    <tr>\n",
       "      <th>w_2ndWon</th>\n",
       "      <td>0.101810</td>\n",
       "      <td>-0.011364</td>\n",
       "      <td>-0.009457</td>\n",
       "      <td>0.286138</td>\n",
       "      <td>0.658917</td>\n",
       "      <td>0.298279</td>\n",
       "      <td>0.326948</td>\n",
       "      <td>0.710450</td>\n",
       "      <td>0.469194</td>\n",
       "      <td>0.472248</td>\n",
       "      <td>1.000000</td>\n",
       "      <td>0.662944</td>\n",
       "      <td>0.361784</td>\n",
       "      <td>0.370534</td>\n",
       "      <td>0.394559</td>\n",
       "      <td>0.179939</td>\n",
       "      <td>0.635712</td>\n",
       "      <td>0.568727</td>\n",
       "      <td>0.636798</td>\n",
       "      <td>0.595059</td>\n",
       "      <td>0.648889</td>\n",
       "      <td>0.183458</td>\n",
       "      <td>0.108305</td>\n",
       "      <td>-0.015343</td>\n",
       "      <td>0.010695</td>\n",
       "      <td>-0.067630</td>\n",
       "      <td>0.039113</td>\n",
       "      <td>0.093565</td>\n",
       "      <td>0.090567</td>\n",
       "    </tr>\n",
       "    <tr>\n",
       "      <th>w_SvGms</th>\n",
       "      <td>0.088473</td>\n",
       "      <td>0.027869</td>\n",
       "      <td>0.002464</td>\n",
       "      <td>0.390889</td>\n",
       "      <td>0.846104</td>\n",
       "      <td>0.358300</td>\n",
       "      <td>0.346569</td>\n",
       "      <td>0.870812</td>\n",
       "      <td>0.816900</td>\n",
       "      <td>0.828230</td>\n",
       "      <td>0.662944</td>\n",
       "      <td>1.000000</td>\n",
       "      <td>0.377373</td>\n",
       "      <td>0.487560</td>\n",
       "      <td>0.460705</td>\n",
       "      <td>0.218005</td>\n",
       "      <td>0.851427</td>\n",
       "      <td>0.795577</td>\n",
       "      <td>0.831415</td>\n",
       "      <td>0.710336</td>\n",
       "      <td>0.981297</td>\n",
       "      <td>0.282826</td>\n",
       "      <td>0.252128</td>\n",
       "      <td>-0.049822</td>\n",
       "      <td>0.047812</td>\n",
       "      <td>-0.109093</td>\n",
       "      <td>0.082005</td>\n",
       "      <td>0.068996</td>\n",
       "      <td>0.039450</td>\n",
       "    </tr>\n",
       "    <tr>\n",
       "      <th>w_bpSaved</th>\n",
       "      <td>0.063147</td>\n",
       "      <td>0.024303</td>\n",
       "      <td>0.010843</td>\n",
       "      <td>0.085219</td>\n",
       "      <td>0.509238</td>\n",
       "      <td>0.008606</td>\n",
       "      <td>0.332066</td>\n",
       "      <td>0.616072</td>\n",
       "      <td>0.569389</td>\n",
       "      <td>0.450363</td>\n",
       "      <td>0.361784</td>\n",
       "      <td>0.377373</td>\n",
       "      <td>1.000000</td>\n",
       "      <td>0.928074</td>\n",
       "      <td>0.078923</td>\n",
       "      <td>0.147310</td>\n",
       "      <td>0.383294</td>\n",
       "      <td>0.356346</td>\n",
       "      <td>0.316620</td>\n",
       "      <td>0.279919</td>\n",
       "      <td>0.377306</td>\n",
       "      <td>0.168360</td>\n",
       "      <td>0.226725</td>\n",
       "      <td>-0.024633</td>\n",
       "      <td>-0.008736</td>\n",
       "      <td>-0.087192</td>\n",
       "      <td>0.062645</td>\n",
       "      <td>0.059932</td>\n",
       "      <td>0.052920</td>\n",
       "    </tr>\n",
       "    <tr>\n",
       "      <th>w_bpFaced</th>\n",
       "      <td>0.075690</td>\n",
       "      <td>0.032566</td>\n",
       "      <td>0.015999</td>\n",
       "      <td>0.082736</td>\n",
       "      <td>0.630445</td>\n",
       "      <td>-0.050467</td>\n",
       "      <td>0.412400</td>\n",
       "      <td>0.697392</td>\n",
       "      <td>0.643599</td>\n",
       "      <td>0.465870</td>\n",
       "      <td>0.370534</td>\n",
       "      <td>0.487560</td>\n",
       "      <td>0.928074</td>\n",
       "      <td>1.000000</td>\n",
       "      <td>0.052916</td>\n",
       "      <td>0.219595</td>\n",
       "      <td>0.509112</td>\n",
       "      <td>0.474943</td>\n",
       "      <td>0.385841</td>\n",
       "      <td>0.334723</td>\n",
       "      <td>0.491951</td>\n",
       "      <td>0.250499</td>\n",
       "      <td>0.378120</td>\n",
       "      <td>-0.033850</td>\n",
       "      <td>-0.009390</td>\n",
       "      <td>-0.107121</td>\n",
       "      <td>0.074721</td>\n",
       "      <td>0.072866</td>\n",
       "      <td>0.062540</td>\n",
       "    </tr>\n",
       "    <tr>\n",
       "      <th>l_ace</th>\n",
       "      <td>0.064456</td>\n",
       "      <td>-0.010090</td>\n",
       "      <td>-0.015003</td>\n",
       "      <td>0.210316</td>\n",
       "      <td>0.355842</td>\n",
       "      <td>0.355373</td>\n",
       "      <td>0.105872</td>\n",
       "      <td>0.417008</td>\n",
       "      <td>0.397084</td>\n",
       "      <td>0.500671</td>\n",
       "      <td>0.394559</td>\n",
       "      <td>0.460705</td>\n",
       "      <td>0.078923</td>\n",
       "      <td>0.052916</td>\n",
       "      <td>1.000000</td>\n",
       "      <td>0.150286</td>\n",
       "      <td>0.434541</td>\n",
       "      <td>0.370559</td>\n",
       "      <td>0.543530</td>\n",
       "      <td>0.424696</td>\n",
       "      <td>0.461935</td>\n",
       "      <td>0.070237</td>\n",
       "      <td>-0.080569</td>\n",
       "      <td>-0.031472</td>\n",
       "      <td>0.027241</td>\n",
       "      <td>-0.078388</td>\n",
       "      <td>0.077019</td>\n",
       "      <td>0.052570</td>\n",
       "      <td>0.055657</td>\n",
       "    </tr>\n",
       "    <tr>\n",
       "      <th>l_df</th>\n",
       "      <td>0.035016</td>\n",
       "      <td>-0.027845</td>\n",
       "      <td>-0.026009</td>\n",
       "      <td>0.079296</td>\n",
       "      <td>0.242459</td>\n",
       "      <td>0.023640</td>\n",
       "      <td>0.232127</td>\n",
       "      <td>0.238736</td>\n",
       "      <td>0.193655</td>\n",
       "      <td>0.157217</td>\n",
       "      <td>0.179939</td>\n",
       "      <td>0.218005</td>\n",
       "      <td>0.147310</td>\n",
       "      <td>0.219595</td>\n",
       "      <td>0.150286</td>\n",
       "      <td>1.000000</td>\n",
       "      <td>0.302878</td>\n",
       "      <td>0.151932</td>\n",
       "      <td>0.183368</td>\n",
       "      <td>0.243683</td>\n",
       "      <td>0.230991</td>\n",
       "      <td>0.218977</td>\n",
       "      <td>0.269819</td>\n",
       "      <td>0.045544</td>\n",
       "      <td>-0.021991</td>\n",
       "      <td>0.017229</td>\n",
       "      <td>0.008364</td>\n",
       "      <td>0.030764</td>\n",
       "      <td>0.029449</td>\n",
       "    </tr>\n",
       "    <tr>\n",
       "      <th>l_svpt</th>\n",
       "      <td>0.151515</td>\n",
       "      <td>0.024716</td>\n",
       "      <td>0.000927</td>\n",
       "      <td>0.350441</td>\n",
       "      <td>0.908490</td>\n",
       "      <td>0.304987</td>\n",
       "      <td>0.357635</td>\n",
       "      <td>0.855041</td>\n",
       "      <td>0.801444</td>\n",
       "      <td>0.792862</td>\n",
       "      <td>0.635712</td>\n",
       "      <td>0.851427</td>\n",
       "      <td>0.383294</td>\n",
       "      <td>0.509112</td>\n",
       "      <td>0.434541</td>\n",
       "      <td>0.302878</td>\n",
       "      <td>1.000000</td>\n",
       "      <td>0.928193</td>\n",
       "      <td>0.909511</td>\n",
       "      <td>0.779787</td>\n",
       "      <td>0.870747</td>\n",
       "      <td>0.532345</td>\n",
       "      <td>0.480821</td>\n",
       "      <td>-0.062252</td>\n",
       "      <td>0.052531</td>\n",
       "      <td>-0.114035</td>\n",
       "      <td>0.083282</td>\n",
       "      <td>0.138421</td>\n",
       "      <td>0.130908</td>\n",
       "    </tr>\n",
       "    <tr>\n",
       "      <th>l_1stIn</th>\n",
       "      <td>0.146934</td>\n",
       "      <td>0.044287</td>\n",
       "      <td>0.006192</td>\n",
       "      <td>0.321860</td>\n",
       "      <td>0.845986</td>\n",
       "      <td>0.289060</td>\n",
       "      <td>0.308066</td>\n",
       "      <td>0.798739</td>\n",
       "      <td>0.765639</td>\n",
       "      <td>0.754731</td>\n",
       "      <td>0.568727</td>\n",
       "      <td>0.795577</td>\n",
       "      <td>0.356346</td>\n",
       "      <td>0.474943</td>\n",
       "      <td>0.370559</td>\n",
       "      <td>0.151932</td>\n",
       "      <td>0.928193</td>\n",
       "      <td>1.000000</td>\n",
       "      <td>0.934517</td>\n",
       "      <td>0.562716</td>\n",
       "      <td>0.812719</td>\n",
       "      <td>0.488112</td>\n",
       "      <td>0.437313</td>\n",
       "      <td>-0.075155</td>\n",
       "      <td>0.062395</td>\n",
       "      <td>-0.123897</td>\n",
       "      <td>0.093271</td>\n",
       "      <td>0.134138</td>\n",
       "      <td>0.126774</td>\n",
       "    </tr>\n",
       "    <tr>\n",
       "      <th>l_1stWon</th>\n",
       "      <td>0.129342</td>\n",
       "      <td>0.031882</td>\n",
       "      <td>-0.001328</td>\n",
       "      <td>0.319923</td>\n",
       "      <td>0.827109</td>\n",
       "      <td>0.401018</td>\n",
       "      <td>0.284939</td>\n",
       "      <td>0.818343</td>\n",
       "      <td>0.780169</td>\n",
       "      <td>0.826043</td>\n",
       "      <td>0.636798</td>\n",
       "      <td>0.831415</td>\n",
       "      <td>0.316620</td>\n",
       "      <td>0.385841</td>\n",
       "      <td>0.543530</td>\n",
       "      <td>0.183368</td>\n",
       "      <td>0.909511</td>\n",
       "      <td>0.934517</td>\n",
       "      <td>1.000000</td>\n",
       "      <td>0.615513</td>\n",
       "      <td>0.841963</td>\n",
       "      <td>0.384768</td>\n",
       "      <td>0.250560</td>\n",
       "      <td>-0.060912</td>\n",
       "      <td>0.049064</td>\n",
       "      <td>-0.126419</td>\n",
       "      <td>0.096842</td>\n",
       "      <td>0.116280</td>\n",
       "      <td>0.113458</td>\n",
       "    </tr>\n",
       "    <tr>\n",
       "      <th>l_2ndWon</th>\n",
       "      <td>0.097319</td>\n",
       "      <td>-0.005897</td>\n",
       "      <td>-0.003250</td>\n",
       "      <td>0.264218</td>\n",
       "      <td>0.723949</td>\n",
       "      <td>0.335434</td>\n",
       "      <td>0.285267</td>\n",
       "      <td>0.703992</td>\n",
       "      <td>0.640072</td>\n",
       "      <td>0.682362</td>\n",
       "      <td>0.595059</td>\n",
       "      <td>0.710336</td>\n",
       "      <td>0.279919</td>\n",
       "      <td>0.334723</td>\n",
       "      <td>0.424696</td>\n",
       "      <td>0.243683</td>\n",
       "      <td>0.779787</td>\n",
       "      <td>0.562716</td>\n",
       "      <td>0.615513</td>\n",
       "      <td>1.000000</td>\n",
       "      <td>0.719463</td>\n",
       "      <td>0.332483</td>\n",
       "      <td>0.213465</td>\n",
       "      <td>-0.019200</td>\n",
       "      <td>0.009318</td>\n",
       "      <td>-0.073517</td>\n",
       "      <td>0.039346</td>\n",
       "      <td>0.088548</td>\n",
       "      <td>0.086141</td>\n",
       "    </tr>\n",
       "    <tr>\n",
       "      <th>l_SvGms</th>\n",
       "      <td>0.079498</td>\n",
       "      <td>0.025973</td>\n",
       "      <td>-0.000317</td>\n",
       "      <td>0.376745</td>\n",
       "      <td>0.851566</td>\n",
       "      <td>0.342977</td>\n",
       "      <td>0.345923</td>\n",
       "      <td>0.859179</td>\n",
       "      <td>0.805802</td>\n",
       "      <td>0.811560</td>\n",
       "      <td>0.648889</td>\n",
       "      <td>0.981297</td>\n",
       "      <td>0.377306</td>\n",
       "      <td>0.491951</td>\n",
       "      <td>0.461935</td>\n",
       "      <td>0.230991</td>\n",
       "      <td>0.870747</td>\n",
       "      <td>0.812719</td>\n",
       "      <td>0.841963</td>\n",
       "      <td>0.719463</td>\n",
       "      <td>1.000000</td>\n",
       "      <td>0.295065</td>\n",
       "      <td>0.274926</td>\n",
       "      <td>-0.047290</td>\n",
       "      <td>0.040343</td>\n",
       "      <td>-0.106423</td>\n",
       "      <td>0.081196</td>\n",
       "      <td>0.061067</td>\n",
       "      <td>0.034056</td>\n",
       "    </tr>\n",
       "    <tr>\n",
       "      <th>l_bpSaved</th>\n",
       "      <td>0.069122</td>\n",
       "      <td>0.016492</td>\n",
       "      <td>0.002424</td>\n",
       "      <td>0.139419</td>\n",
       "      <td>0.403955</td>\n",
       "      <td>0.011733</td>\n",
       "      <td>0.154024</td>\n",
       "      <td>0.285074</td>\n",
       "      <td>0.262362</td>\n",
       "      <td>0.217887</td>\n",
       "      <td>0.183458</td>\n",
       "      <td>0.282826</td>\n",
       "      <td>0.168360</td>\n",
       "      <td>0.250499</td>\n",
       "      <td>0.070237</td>\n",
       "      <td>0.218977</td>\n",
       "      <td>0.532345</td>\n",
       "      <td>0.488112</td>\n",
       "      <td>0.384768</td>\n",
       "      <td>0.332483</td>\n",
       "      <td>0.295065</td>\n",
       "      <td>1.000000</td>\n",
       "      <td>0.910524</td>\n",
       "      <td>-0.033861</td>\n",
       "      <td>0.033576</td>\n",
       "      <td>-0.031961</td>\n",
       "      <td>0.023439</td>\n",
       "      <td>0.065924</td>\n",
       "      <td>0.057880</td>\n",
       "    </tr>\n",
       "    <tr>\n",
       "      <th>l_bpFaced</th>\n",
       "      <td>0.097622</td>\n",
       "      <td>0.017991</td>\n",
       "      <td>0.005043</td>\n",
       "      <td>0.169801</td>\n",
       "      <td>0.393504</td>\n",
       "      <td>-0.123570</td>\n",
       "      <td>0.205524</td>\n",
       "      <td>0.269758</td>\n",
       "      <td>0.246389</td>\n",
       "      <td>0.128744</td>\n",
       "      <td>0.108305</td>\n",
       "      <td>0.252128</td>\n",
       "      <td>0.226725</td>\n",
       "      <td>0.378120</td>\n",
       "      <td>-0.080569</td>\n",
       "      <td>0.269819</td>\n",
       "      <td>0.480821</td>\n",
       "      <td>0.437313</td>\n",
       "      <td>0.250560</td>\n",
       "      <td>0.213465</td>\n",
       "      <td>0.274926</td>\n",
       "      <td>0.910524</td>\n",
       "      <td>1.000000</td>\n",
       "      <td>-0.045750</td>\n",
       "      <td>0.046741</td>\n",
       "      <td>-0.029166</td>\n",
       "      <td>0.026136</td>\n",
       "      <td>0.093098</td>\n",
       "      <td>0.080187</td>\n",
       "    </tr>\n",
       "    <tr>\n",
       "      <th>winner_rank</th>\n",
       "      <td>-0.317772</td>\n",
       "      <td>0.048722</td>\n",
       "      <td>-0.206547</td>\n",
       "      <td>-0.140255</td>\n",
       "      <td>-0.090374</td>\n",
       "      <td>-0.051151</td>\n",
       "      <td>0.008390</td>\n",
       "      <td>-0.056814</td>\n",
       "      <td>-0.067827</td>\n",
       "      <td>-0.067720</td>\n",
       "      <td>-0.015343</td>\n",
       "      <td>-0.049822</td>\n",
       "      <td>-0.024633</td>\n",
       "      <td>-0.033850</td>\n",
       "      <td>-0.031472</td>\n",
       "      <td>0.045544</td>\n",
       "      <td>-0.062252</td>\n",
       "      <td>-0.075155</td>\n",
       "      <td>-0.060912</td>\n",
       "      <td>-0.019200</td>\n",
       "      <td>-0.047290</td>\n",
       "      <td>-0.033861</td>\n",
       "      <td>-0.045750</td>\n",
       "      <td>1.000000</td>\n",
       "      <td>-0.428053</td>\n",
       "      <td>0.632731</td>\n",
       "      <td>-0.380221</td>\n",
       "      <td>-0.299726</td>\n",
       "      <td>-0.269946</td>\n",
       "    </tr>\n",
       "    <tr>\n",
       "      <th>winner_rank_points</th>\n",
       "      <td>0.329694</td>\n",
       "      <td>0.021909</td>\n",
       "      <td>0.127295</td>\n",
       "      <td>0.253426</td>\n",
       "      <td>0.074284</td>\n",
       "      <td>0.069598</td>\n",
       "      <td>-0.005958</td>\n",
       "      <td>0.033144</td>\n",
       "      <td>0.043807</td>\n",
       "      <td>0.062452</td>\n",
       "      <td>0.010695</td>\n",
       "      <td>0.047812</td>\n",
       "      <td>-0.008736</td>\n",
       "      <td>-0.009390</td>\n",
       "      <td>0.027241</td>\n",
       "      <td>-0.021991</td>\n",
       "      <td>0.052531</td>\n",
       "      <td>0.062395</td>\n",
       "      <td>0.049064</td>\n",
       "      <td>0.009318</td>\n",
       "      <td>0.040343</td>\n",
       "      <td>0.033576</td>\n",
       "      <td>0.046741</td>\n",
       "      <td>-0.428053</td>\n",
       "      <td>1.000000</td>\n",
       "      <td>-0.356612</td>\n",
       "      <td>0.487424</td>\n",
       "      <td>0.309962</td>\n",
       "      <td>0.278189</td>\n",
       "    </tr>\n",
       "    <tr>\n",
       "      <th>loser_rank</th>\n",
       "      <td>-0.317045</td>\n",
       "      <td>-0.016651</td>\n",
       "      <td>-0.193487</td>\n",
       "      <td>-0.128546</td>\n",
       "      <td>-0.160539</td>\n",
       "      <td>-0.053295</td>\n",
       "      <td>-0.026700</td>\n",
       "      <td>-0.139509</td>\n",
       "      <td>-0.143686</td>\n",
       "      <td>-0.128334</td>\n",
       "      <td>-0.067630</td>\n",
       "      <td>-0.109093</td>\n",
       "      <td>-0.087192</td>\n",
       "      <td>-0.107121</td>\n",
       "      <td>-0.078388</td>\n",
       "      <td>0.017229</td>\n",
       "      <td>-0.114035</td>\n",
       "      <td>-0.123897</td>\n",
       "      <td>-0.126419</td>\n",
       "      <td>-0.073517</td>\n",
       "      <td>-0.106423</td>\n",
       "      <td>-0.031961</td>\n",
       "      <td>-0.029166</td>\n",
       "      <td>0.632731</td>\n",
       "      <td>-0.356612</td>\n",
       "      <td>1.000000</td>\n",
       "      <td>-0.463106</td>\n",
       "      <td>-0.299278</td>\n",
       "      <td>-0.270161</td>\n",
       "    </tr>\n",
       "    <tr>\n",
       "      <th>loser_rank_points</th>\n",
       "      <td>0.284809</td>\n",
       "      <td>0.039806</td>\n",
       "      <td>0.130011</td>\n",
       "      <td>0.156866</td>\n",
       "      <td>0.125861</td>\n",
       "      <td>0.044143</td>\n",
       "      <td>0.022687</td>\n",
       "      <td>0.099467</td>\n",
       "      <td>0.107682</td>\n",
       "      <td>0.100170</td>\n",
       "      <td>0.039113</td>\n",
       "      <td>0.082005</td>\n",
       "      <td>0.062645</td>\n",
       "      <td>0.074721</td>\n",
       "      <td>0.077019</td>\n",
       "      <td>0.008364</td>\n",
       "      <td>0.083282</td>\n",
       "      <td>0.093271</td>\n",
       "      <td>0.096842</td>\n",
       "      <td>0.039346</td>\n",
       "      <td>0.081196</td>\n",
       "      <td>0.023439</td>\n",
       "      <td>0.026136</td>\n",
       "      <td>-0.380221</td>\n",
       "      <td>0.487424</td>\n",
       "      <td>-0.463106</td>\n",
       "      <td>1.000000</td>\n",
       "      <td>0.272032</td>\n",
       "      <td>0.244706</td>\n",
       "    </tr>\n",
       "    <tr>\n",
       "      <th>tourney_spectators</th>\n",
       "      <td>0.929383</td>\n",
       "      <td>0.066496</td>\n",
       "      <td>0.271548</td>\n",
       "      <td>0.344600</td>\n",
       "      <td>0.140078</td>\n",
       "      <td>0.060612</td>\n",
       "      <td>0.044372</td>\n",
       "      <td>0.134537</td>\n",
       "      <td>0.133169</td>\n",
       "      <td>0.136636</td>\n",
       "      <td>0.093565</td>\n",
       "      <td>0.068996</td>\n",
       "      <td>0.059932</td>\n",
       "      <td>0.072866</td>\n",
       "      <td>0.052570</td>\n",
       "      <td>0.030764</td>\n",
       "      <td>0.138421</td>\n",
       "      <td>0.134138</td>\n",
       "      <td>0.116280</td>\n",
       "      <td>0.088548</td>\n",
       "      <td>0.061067</td>\n",
       "      <td>0.065924</td>\n",
       "      <td>0.093098</td>\n",
       "      <td>-0.299726</td>\n",
       "      <td>0.309962</td>\n",
       "      <td>-0.299278</td>\n",
       "      <td>0.272032</td>\n",
       "      <td>1.000000</td>\n",
       "      <td>0.903196</td>\n",
       "    </tr>\n",
       "    <tr>\n",
       "      <th>tourney_revenue</th>\n",
       "      <td>0.842197</td>\n",
       "      <td>0.070424</td>\n",
       "      <td>0.183383</td>\n",
       "      <td>0.325279</td>\n",
       "      <td>0.128415</td>\n",
       "      <td>0.065482</td>\n",
       "      <td>0.043908</td>\n",
       "      <td>0.126622</td>\n",
       "      <td>0.125429</td>\n",
       "      <td>0.132703</td>\n",
       "      <td>0.090567</td>\n",
       "      <td>0.039450</td>\n",
       "      <td>0.052920</td>\n",
       "      <td>0.062540</td>\n",
       "      <td>0.055657</td>\n",
       "      <td>0.029449</td>\n",
       "      <td>0.130908</td>\n",
       "      <td>0.126774</td>\n",
       "      <td>0.113458</td>\n",
       "      <td>0.086141</td>\n",
       "      <td>0.034056</td>\n",
       "      <td>0.057880</td>\n",
       "      <td>0.080187</td>\n",
       "      <td>-0.269946</td>\n",
       "      <td>0.278189</td>\n",
       "      <td>-0.270161</td>\n",
       "      <td>0.244706</td>\n",
       "      <td>0.903196</td>\n",
       "      <td>1.000000</td>\n",
       "    </tr>\n",
       "  </tbody>\n",
       "</table>\n",
       "</div>"
      ],
      "text/plain": [
       "                    draw_size  tourney_date  match_num   best_of   minutes  \\\n",
       "draw_size            1.000000      0.050836   0.270424  0.378015  0.150435   \n",
       "tourney_date         0.050836      1.000000   0.085262 -0.006757  0.080141   \n",
       "match_num            0.270424      0.085262   1.000000  0.032237  0.004142   \n",
       "best_of              0.378015     -0.006757   0.032237  1.000000  0.320517   \n",
       "minutes              0.150435      0.080141   0.004142  0.320517  1.000000   \n",
       "w_ace                0.072137     -0.013134  -0.024881  0.247392  0.217306   \n",
       "w_df                 0.045929     -0.009538  -0.020852  0.079774  0.379790   \n",
       "w_svpt               0.147775      0.027596   0.004329  0.320213  0.916289   \n",
       "w_1stIn              0.147701      0.041808   0.011735  0.305965  0.855755   \n",
       "w_1stWon             0.153558      0.030417  -0.000623  0.368531  0.802967   \n",
       "w_2ndWon             0.101810     -0.011364  -0.009457  0.286138  0.658917   \n",
       "w_SvGms              0.088473      0.027869   0.002464  0.390889  0.846104   \n",
       "w_bpSaved            0.063147      0.024303   0.010843  0.085219  0.509238   \n",
       "w_bpFaced            0.075690      0.032566   0.015999  0.082736  0.630445   \n",
       "l_ace                0.064456     -0.010090  -0.015003  0.210316  0.355842   \n",
       "l_df                 0.035016     -0.027845  -0.026009  0.079296  0.242459   \n",
       "l_svpt               0.151515      0.024716   0.000927  0.350441  0.908490   \n",
       "l_1stIn              0.146934      0.044287   0.006192  0.321860  0.845986   \n",
       "l_1stWon             0.129342      0.031882  -0.001328  0.319923  0.827109   \n",
       "l_2ndWon             0.097319     -0.005897  -0.003250  0.264218  0.723949   \n",
       "l_SvGms              0.079498      0.025973  -0.000317  0.376745  0.851566   \n",
       "l_bpSaved            0.069122      0.016492   0.002424  0.139419  0.403955   \n",
       "l_bpFaced            0.097622      0.017991   0.005043  0.169801  0.393504   \n",
       "winner_rank         -0.317772      0.048722  -0.206547 -0.140255 -0.090374   \n",
       "winner_rank_points   0.329694      0.021909   0.127295  0.253426  0.074284   \n",
       "loser_rank          -0.317045     -0.016651  -0.193487 -0.128546 -0.160539   \n",
       "loser_rank_points    0.284809      0.039806   0.130011  0.156866  0.125861   \n",
       "tourney_spectators   0.929383      0.066496   0.271548  0.344600  0.140078   \n",
       "tourney_revenue      0.842197      0.070424   0.183383  0.325279  0.128415   \n",
       "\n",
       "                       w_ace      w_df    w_svpt   w_1stIn  w_1stWon  \\\n",
       "draw_size           0.072137  0.045929  0.147775  0.147701  0.153558   \n",
       "tourney_date       -0.013134 -0.009538  0.027596  0.041808  0.030417   \n",
       "match_num          -0.024881 -0.020852  0.004329  0.011735 -0.000623   \n",
       "best_of             0.247392  0.079774  0.320213  0.305965  0.368531   \n",
       "minutes             0.217306  0.379790  0.916289  0.855755  0.802967   \n",
       "w_ace               1.000000  0.133125  0.294978  0.250277  0.429027   \n",
       "w_df                0.133125  1.000000  0.443149  0.305670  0.292725   \n",
       "w_svpt              0.294978  0.443149  1.000000  0.932704  0.886323   \n",
       "w_1stIn             0.250277  0.305670  0.932704  1.000000  0.938260   \n",
       "w_1stWon            0.429027  0.292725  0.886323  0.938260  1.000000   \n",
       "w_2ndWon            0.298279  0.326948  0.710450  0.469194  0.472248   \n",
       "w_SvGms             0.358300  0.346569  0.870812  0.816900  0.828230   \n",
       "w_bpSaved           0.008606  0.332066  0.616072  0.569389  0.450363   \n",
       "w_bpFaced          -0.050467  0.412400  0.697392  0.643599  0.465870   \n",
       "l_ace               0.355373  0.105872  0.417008  0.397084  0.500671   \n",
       "l_df                0.023640  0.232127  0.238736  0.193655  0.157217   \n",
       "l_svpt              0.304987  0.357635  0.855041  0.801444  0.792862   \n",
       "l_1stIn             0.289060  0.308066  0.798739  0.765639  0.754731   \n",
       "l_1stWon            0.401018  0.284939  0.818343  0.780169  0.826043   \n",
       "l_2ndWon            0.335434  0.285267  0.703992  0.640072  0.682362   \n",
       "l_SvGms             0.342977  0.345923  0.859179  0.805802  0.811560   \n",
       "l_bpSaved           0.011733  0.154024  0.285074  0.262362  0.217887   \n",
       "l_bpFaced          -0.123570  0.205524  0.269758  0.246389  0.128744   \n",
       "winner_rank        -0.051151  0.008390 -0.056814 -0.067827 -0.067720   \n",
       "winner_rank_points  0.069598 -0.005958  0.033144  0.043807  0.062452   \n",
       "loser_rank         -0.053295 -0.026700 -0.139509 -0.143686 -0.128334   \n",
       "loser_rank_points   0.044143  0.022687  0.099467  0.107682  0.100170   \n",
       "tourney_spectators  0.060612  0.044372  0.134537  0.133169  0.136636   \n",
       "tourney_revenue     0.065482  0.043908  0.126622  0.125429  0.132703   \n",
       "\n",
       "                    w_2ndWon   w_SvGms  w_bpSaved  w_bpFaced     l_ace  \\\n",
       "draw_size           0.101810  0.088473   0.063147   0.075690  0.064456   \n",
       "tourney_date       -0.011364  0.027869   0.024303   0.032566 -0.010090   \n",
       "match_num          -0.009457  0.002464   0.010843   0.015999 -0.015003   \n",
       "best_of             0.286138  0.390889   0.085219   0.082736  0.210316   \n",
       "minutes             0.658917  0.846104   0.509238   0.630445  0.355842   \n",
       "w_ace               0.298279  0.358300   0.008606  -0.050467  0.355373   \n",
       "w_df                0.326948  0.346569   0.332066   0.412400  0.105872   \n",
       "w_svpt              0.710450  0.870812   0.616072   0.697392  0.417008   \n",
       "w_1stIn             0.469194  0.816900   0.569389   0.643599  0.397084   \n",
       "w_1stWon            0.472248  0.828230   0.450363   0.465870  0.500671   \n",
       "w_2ndWon            1.000000  0.662944   0.361784   0.370534  0.394559   \n",
       "w_SvGms             0.662944  1.000000   0.377373   0.487560  0.460705   \n",
       "w_bpSaved           0.361784  0.377373   1.000000   0.928074  0.078923   \n",
       "w_bpFaced           0.370534  0.487560   0.928074   1.000000  0.052916   \n",
       "l_ace               0.394559  0.460705   0.078923   0.052916  1.000000   \n",
       "l_df                0.179939  0.218005   0.147310   0.219595  0.150286   \n",
       "l_svpt              0.635712  0.851427   0.383294   0.509112  0.434541   \n",
       "l_1stIn             0.568727  0.795577   0.356346   0.474943  0.370559   \n",
       "l_1stWon            0.636798  0.831415   0.316620   0.385841  0.543530   \n",
       "l_2ndWon            0.595059  0.710336   0.279919   0.334723  0.424696   \n",
       "l_SvGms             0.648889  0.981297   0.377306   0.491951  0.461935   \n",
       "l_bpSaved           0.183458  0.282826   0.168360   0.250499  0.070237   \n",
       "l_bpFaced           0.108305  0.252128   0.226725   0.378120 -0.080569   \n",
       "winner_rank        -0.015343 -0.049822  -0.024633  -0.033850 -0.031472   \n",
       "winner_rank_points  0.010695  0.047812  -0.008736  -0.009390  0.027241   \n",
       "loser_rank         -0.067630 -0.109093  -0.087192  -0.107121 -0.078388   \n",
       "loser_rank_points   0.039113  0.082005   0.062645   0.074721  0.077019   \n",
       "tourney_spectators  0.093565  0.068996   0.059932   0.072866  0.052570   \n",
       "tourney_revenue     0.090567  0.039450   0.052920   0.062540  0.055657   \n",
       "\n",
       "                        l_df    l_svpt   l_1stIn  l_1stWon  l_2ndWon  \\\n",
       "draw_size           0.035016  0.151515  0.146934  0.129342  0.097319   \n",
       "tourney_date       -0.027845  0.024716  0.044287  0.031882 -0.005897   \n",
       "match_num          -0.026009  0.000927  0.006192 -0.001328 -0.003250   \n",
       "best_of             0.079296  0.350441  0.321860  0.319923  0.264218   \n",
       "minutes             0.242459  0.908490  0.845986  0.827109  0.723949   \n",
       "w_ace               0.023640  0.304987  0.289060  0.401018  0.335434   \n",
       "w_df                0.232127  0.357635  0.308066  0.284939  0.285267   \n",
       "w_svpt              0.238736  0.855041  0.798739  0.818343  0.703992   \n",
       "w_1stIn             0.193655  0.801444  0.765639  0.780169  0.640072   \n",
       "w_1stWon            0.157217  0.792862  0.754731  0.826043  0.682362   \n",
       "w_2ndWon            0.179939  0.635712  0.568727  0.636798  0.595059   \n",
       "w_SvGms             0.218005  0.851427  0.795577  0.831415  0.710336   \n",
       "w_bpSaved           0.147310  0.383294  0.356346  0.316620  0.279919   \n",
       "w_bpFaced           0.219595  0.509112  0.474943  0.385841  0.334723   \n",
       "l_ace               0.150286  0.434541  0.370559  0.543530  0.424696   \n",
       "l_df                1.000000  0.302878  0.151932  0.183368  0.243683   \n",
       "l_svpt              0.302878  1.000000  0.928193  0.909511  0.779787   \n",
       "l_1stIn             0.151932  0.928193  1.000000  0.934517  0.562716   \n",
       "l_1stWon            0.183368  0.909511  0.934517  1.000000  0.615513   \n",
       "l_2ndWon            0.243683  0.779787  0.562716  0.615513  1.000000   \n",
       "l_SvGms             0.230991  0.870747  0.812719  0.841963  0.719463   \n",
       "l_bpSaved           0.218977  0.532345  0.488112  0.384768  0.332483   \n",
       "l_bpFaced           0.269819  0.480821  0.437313  0.250560  0.213465   \n",
       "winner_rank         0.045544 -0.062252 -0.075155 -0.060912 -0.019200   \n",
       "winner_rank_points -0.021991  0.052531  0.062395  0.049064  0.009318   \n",
       "loser_rank          0.017229 -0.114035 -0.123897 -0.126419 -0.073517   \n",
       "loser_rank_points   0.008364  0.083282  0.093271  0.096842  0.039346   \n",
       "tourney_spectators  0.030764  0.138421  0.134138  0.116280  0.088548   \n",
       "tourney_revenue     0.029449  0.130908  0.126774  0.113458  0.086141   \n",
       "\n",
       "                     l_SvGms  l_bpSaved  l_bpFaced  winner_rank  \\\n",
       "draw_size           0.079498   0.069122   0.097622    -0.317772   \n",
       "tourney_date        0.025973   0.016492   0.017991     0.048722   \n",
       "match_num          -0.000317   0.002424   0.005043    -0.206547   \n",
       "best_of             0.376745   0.139419   0.169801    -0.140255   \n",
       "minutes             0.851566   0.403955   0.393504    -0.090374   \n",
       "w_ace               0.342977   0.011733  -0.123570    -0.051151   \n",
       "w_df                0.345923   0.154024   0.205524     0.008390   \n",
       "w_svpt              0.859179   0.285074   0.269758    -0.056814   \n",
       "w_1stIn             0.805802   0.262362   0.246389    -0.067827   \n",
       "w_1stWon            0.811560   0.217887   0.128744    -0.067720   \n",
       "w_2ndWon            0.648889   0.183458   0.108305    -0.015343   \n",
       "w_SvGms             0.981297   0.282826   0.252128    -0.049822   \n",
       "w_bpSaved           0.377306   0.168360   0.226725    -0.024633   \n",
       "w_bpFaced           0.491951   0.250499   0.378120    -0.033850   \n",
       "l_ace               0.461935   0.070237  -0.080569    -0.031472   \n",
       "l_df                0.230991   0.218977   0.269819     0.045544   \n",
       "l_svpt              0.870747   0.532345   0.480821    -0.062252   \n",
       "l_1stIn             0.812719   0.488112   0.437313    -0.075155   \n",
       "l_1stWon            0.841963   0.384768   0.250560    -0.060912   \n",
       "l_2ndWon            0.719463   0.332483   0.213465    -0.019200   \n",
       "l_SvGms             1.000000   0.295065   0.274926    -0.047290   \n",
       "l_bpSaved           0.295065   1.000000   0.910524    -0.033861   \n",
       "l_bpFaced           0.274926   0.910524   1.000000    -0.045750   \n",
       "winner_rank        -0.047290  -0.033861  -0.045750     1.000000   \n",
       "winner_rank_points  0.040343   0.033576   0.046741    -0.428053   \n",
       "loser_rank         -0.106423  -0.031961  -0.029166     0.632731   \n",
       "loser_rank_points   0.081196   0.023439   0.026136    -0.380221   \n",
       "tourney_spectators  0.061067   0.065924   0.093098    -0.299726   \n",
       "tourney_revenue     0.034056   0.057880   0.080187    -0.269946   \n",
       "\n",
       "                    winner_rank_points  loser_rank  loser_rank_points  \\\n",
       "draw_size                     0.329694   -0.317045           0.284809   \n",
       "tourney_date                  0.021909   -0.016651           0.039806   \n",
       "match_num                     0.127295   -0.193487           0.130011   \n",
       "best_of                       0.253426   -0.128546           0.156866   \n",
       "minutes                       0.074284   -0.160539           0.125861   \n",
       "w_ace                         0.069598   -0.053295           0.044143   \n",
       "w_df                         -0.005958   -0.026700           0.022687   \n",
       "w_svpt                        0.033144   -0.139509           0.099467   \n",
       "w_1stIn                       0.043807   -0.143686           0.107682   \n",
       "w_1stWon                      0.062452   -0.128334           0.100170   \n",
       "w_2ndWon                      0.010695   -0.067630           0.039113   \n",
       "w_SvGms                       0.047812   -0.109093           0.082005   \n",
       "w_bpSaved                    -0.008736   -0.087192           0.062645   \n",
       "w_bpFaced                    -0.009390   -0.107121           0.074721   \n",
       "l_ace                         0.027241   -0.078388           0.077019   \n",
       "l_df                         -0.021991    0.017229           0.008364   \n",
       "l_svpt                        0.052531   -0.114035           0.083282   \n",
       "l_1stIn                       0.062395   -0.123897           0.093271   \n",
       "l_1stWon                      0.049064   -0.126419           0.096842   \n",
       "l_2ndWon                      0.009318   -0.073517           0.039346   \n",
       "l_SvGms                       0.040343   -0.106423           0.081196   \n",
       "l_bpSaved                     0.033576   -0.031961           0.023439   \n",
       "l_bpFaced                     0.046741   -0.029166           0.026136   \n",
       "winner_rank                  -0.428053    0.632731          -0.380221   \n",
       "winner_rank_points            1.000000   -0.356612           0.487424   \n",
       "loser_rank                   -0.356612    1.000000          -0.463106   \n",
       "loser_rank_points             0.487424   -0.463106           1.000000   \n",
       "tourney_spectators            0.309962   -0.299278           0.272032   \n",
       "tourney_revenue               0.278189   -0.270161           0.244706   \n",
       "\n",
       "                    tourney_spectators  tourney_revenue  \n",
       "draw_size                     0.929383         0.842197  \n",
       "tourney_date                  0.066496         0.070424  \n",
       "match_num                     0.271548         0.183383  \n",
       "best_of                       0.344600         0.325279  \n",
       "minutes                       0.140078         0.128415  \n",
       "w_ace                         0.060612         0.065482  \n",
       "w_df                          0.044372         0.043908  \n",
       "w_svpt                        0.134537         0.126622  \n",
       "w_1stIn                       0.133169         0.125429  \n",
       "w_1stWon                      0.136636         0.132703  \n",
       "w_2ndWon                      0.093565         0.090567  \n",
       "w_SvGms                       0.068996         0.039450  \n",
       "w_bpSaved                     0.059932         0.052920  \n",
       "w_bpFaced                     0.072866         0.062540  \n",
       "l_ace                         0.052570         0.055657  \n",
       "l_df                          0.030764         0.029449  \n",
       "l_svpt                        0.138421         0.130908  \n",
       "l_1stIn                       0.134138         0.126774  \n",
       "l_1stWon                      0.116280         0.113458  \n",
       "l_2ndWon                      0.088548         0.086141  \n",
       "l_SvGms                       0.061067         0.034056  \n",
       "l_bpSaved                     0.065924         0.057880  \n",
       "l_bpFaced                     0.093098         0.080187  \n",
       "winner_rank                  -0.299726        -0.269946  \n",
       "winner_rank_points            0.309962         0.278189  \n",
       "loser_rank                   -0.299278        -0.270161  \n",
       "loser_rank_points             0.272032         0.244706  \n",
       "tourney_spectators            1.000000         0.903196  \n",
       "tourney_revenue               0.903196         1.000000  "
      ]
     },
     "execution_count": 599,
     "metadata": {},
     "output_type": "execute_result"
    }
   ],
   "source": [
    "df_corr = df.drop(columns=['winner_id', 'loser_id', 'winner_age', 'loser_age', 'winner_ht', 'loser_ht'])\n",
    "corr_matrix = df_corr.corr()\n",
    "corr_matrix"
   ]
  },
  {
   "cell_type": "markdown",
   "metadata": {},
   "source": [
    "### Saving the result in CSV file"
   ]
  },
  {
   "cell_type": "markdown",
   "metadata": {},
   "source": [
    "Data understanding phase is completed. We had our first look to the dataset, we understood the number of null values and data distributions. We have applied some quick fixes in order to start cleaning wrong values that we discovered during the data understangin process. \n",
    "\n",
    "We decided to save the result to a file, and load the file in the Data Preparation notebook"
   ]
  },
  {
   "cell_type": "code",
   "execution_count": 600,
   "metadata": {},
   "outputs": [],
   "source": [
    "df.to_csv(\"../datasets/DU_matches.csv\")\n",
    "df_male.to_csv(\"../datasets/DU_male_players.csv\")\n",
    "df_female.to_csv(\"../datasets/DU_female_players.csv\")"
   ]
  }
 ],
 "metadata": {
  "kernelspec": {
   "display_name": "Python 3 (ipykernel)",
   "language": "python",
   "name": "python3"
  },
  "language_info": {
   "codemirror_mode": {
    "name": "ipython",
    "version": 3
   },
   "file_extension": ".py",
   "mimetype": "text/x-python",
   "name": "python",
   "nbconvert_exporter": "python",
   "pygments_lexer": "ipython3",
   "version": "3.9.7"
  }
 },
 "nbformat": 4,
 "nbformat_minor": 4
}
